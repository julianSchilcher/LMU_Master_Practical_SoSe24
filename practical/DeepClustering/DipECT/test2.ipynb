{
 "cells": [
  {
   "cell_type": "code",
   "execution_count": 1,
   "metadata": {},
   "outputs": [
    {
     "name": "stdout",
     "output_type": "stream",
     "text": [
      "/home/schilcherj/master/deepClustering/LMU_Master_Practical_SoSe24\n"
     ]
    },
    {
     "name": "stderr",
     "output_type": "stream",
     "text": [
      "/home/schilcherj/master/deepClustering/deepClustEnv/lib/python3.10/site-packages/IPython/core/magics/osm.py:417: UserWarning: This is now an optional IPython functionality, setting dhist requires you to install the `pickleshare` library.\n",
      "  self.shell.db['dhist'] = compress_dhist(dhist)[-100:]\n"
     ]
    }
   ],
   "source": [
    "%cd /home/schilcherj/master/deepClustering/LMU_Master_Practical_SoSe24/\n"
   ]
  },
  {
   "cell_type": "code",
   "execution_count": 2,
   "metadata": {},
   "outputs": [
    {
     "name": "stderr",
     "output_type": "stream",
     "text": [
      "/home/schilcherj/master/deepClustering/deepClustEnv/lib/python3.10/site-packages/tqdm/auto.py:21: TqdmWarning: IProgress not found. Please update jupyter and ipywidgets. See https://ipywidgets.readthedocs.io/en/stable/user_install.html\n",
      "  from .autonotebook import tqdm as notebook_tqdm\n"
     ]
    }
   ],
   "source": [
    "%load_ext autoreload\n",
    "%autoreload 2\n",
    "from practical.DeepClustering.DipECT.dipect import Cluster_Tree, DipECT\n",
    "from clustpy.deep._data_utils import get_dataloader\n",
    "from clustpy.data.real_torchvision_data import load_mnist\n",
    "from clustpy.deep.dipencoder import _Dip_Gradient, dip_test\n",
    "from clustpy.deep.autoencoders import FeedforwardAutoencoder\n",
    "import numpy as np\n",
    "from sklearn.cluster import KMeans\n",
    "import torch\n",
    "import matplotlib.pyplot as plt\n",
    "from sklearn.datasets import make_blobs\n",
    "from clustpy.metrics import unsupervised_clustering_accuracy\n",
    "import random\n",
    "import umap\n",
    "from sklearn.decomposition import PCA\n",
    "from practical.DeepClustering.DeepECT.evaluation_pipeline import get_custom_dataloader_augmentations, DatasetType"
   ]
  },
  {
   "cell_type": "code",
   "execution_count": 30,
   "metadata": {},
   "outputs": [
    {
     "name": "stdout",
     "output_type": "stream",
     "text": [
      "cpu\n"
     ]
    },
    {
     "name": "stderr",
     "output_type": "stream",
     "text": [
      "Epoch 1/45:   9%|▉         | 26/274 [00:01<00:17, 13.95batch/s]"
     ]
    },
    {
     "name": "stdout",
     "output_type": "stream",
     "text": [
      "split node with #assignments:  38839\n"
     ]
    },
    {
     "name": "stderr",
     "output_type": "stream",
     "text": [
      "Epoch 1/45:  10%|█         | 28/274 [00:13<07:13,  1.76s/batch]"
     ]
    },
    {
     "name": "stdout",
     "output_type": "stream",
     "text": [
      "split node with #assignments:  31161\n"
     ]
    },
    {
     "name": "stderr",
     "output_type": "stream",
     "text": [
      "Epoch 1/45:  20%|█▉        | 54/274 [00:25<00:38,  5.71batch/s]"
     ]
    },
    {
     "name": "stdout",
     "output_type": "stream",
     "text": [
      "split node with #assignments:  18565\n"
     ]
    },
    {
     "name": "stderr",
     "output_type": "stream",
     "text": [
      "Epoch 1/45:  91%|█████████ | 248/274 [00:49<00:05,  5.00batch/s]\n"
     ]
    },
    {
     "ename": "KeyboardInterrupt",
     "evalue": "",
     "output_type": "error",
     "traceback": [
      "\u001b[0;31m---------------------------------------------------------------------------\u001b[0m",
      "\u001b[0;31mKeyboardInterrupt\u001b[0m                         Traceback (most recent call last)",
      "Cell \u001b[0;32mIn[30], line 6\u001b[0m\n\u001b[1;32m      4\u001b[0m autoencoder\u001b[38;5;241m.\u001b[39mfitted \u001b[38;5;241m=\u001b[39m \u001b[38;5;28;01mTrue\u001b[39;00m\n\u001b[1;32m      5\u001b[0m dipect_test_s7 \u001b[38;5;241m=\u001b[39m DipECT(autoencoder\u001b[38;5;241m=\u001b[39mautoencoder, use_pvalue\u001b[38;5;241m=\u001b[39m\u001b[38;5;28;01mFalse\u001b[39;00m, grow_interval\u001b[38;5;241m=\u001b[39m\u001b[38;5;241m0.1\u001b[39m, number_of_grow_steps\u001b[38;5;241m=\u001b[39m\u001b[38;5;241m2\u001b[39m, unimodality_treshhold\u001b[38;5;241m=\u001b[39m\u001b[38;5;241m0.10\u001b[39m, max_leaf_nodes\u001b[38;5;241m=\u001b[39m\u001b[38;5;241m5\u001b[39m, max_epochs\u001b[38;5;241m=\u001b[39m\u001b[38;5;241m45\u001b[39m, random_state\u001b[38;5;241m=\u001b[39mnp\u001b[38;5;241m.\u001b[39mrandom\u001b[38;5;241m.\u001b[39mRandomState(\u001b[38;5;241m15\u001b[39m), reconstruction_loss_weight\u001b[38;5;241m=\u001b[39m\u001b[38;5;241m150\u001b[39m)\n\u001b[0;32m----> 6\u001b[0m dipect_test_s7 \u001b[38;5;241m=\u001b[39m \u001b[43mdipect_test_s7\u001b[49m\u001b[38;5;241;43m.\u001b[39;49m\u001b[43mfit_predict\u001b[49m\u001b[43m(\u001b[49m\u001b[43mdataset\u001b[49m\u001b[38;5;241;43m/\u001b[39;49m\u001b[38;5;241;43m255\u001b[39;49m\u001b[43m)\u001b[49m\n",
      "File \u001b[0;32m~/master/deepClustering/LMU_Master_Practical_SoSe24/practical/DeepClustering/DipECT/dipect.py:1183\u001b[0m, in \u001b[0;36mDipECT.fit_predict\u001b[0;34m(self, X)\u001b[0m\n\u001b[1;32m   1166\u001b[0m \u001b[38;5;250m\u001b[39m\u001b[38;5;124;03m\"\"\"\u001b[39;00m\n\u001b[1;32m   1167\u001b[0m \u001b[38;5;124;03mInitiate the actual clustering process on the input data set.\u001b[39;00m\n\u001b[1;32m   1168\u001b[0m \u001b[38;5;124;03mThe resulting cluster labels will be stored in the labels_ attribute.\u001b[39;00m\n\u001b[0;32m   (...)\u001b[0m\n\u001b[1;32m   1178\u001b[0m \u001b[38;5;124;03m    This instance of the DeepECT algorithm\u001b[39;00m\n\u001b[1;32m   1179\u001b[0m \u001b[38;5;124;03m\"\"\"\u001b[39;00m\n\u001b[1;32m   1180\u001b[0m augmentation_invariance_check(\n\u001b[1;32m   1181\u001b[0m     \u001b[38;5;28mself\u001b[39m\u001b[38;5;241m.\u001b[39maugmentation_invariance, \u001b[38;5;28mself\u001b[39m\u001b[38;5;241m.\u001b[39mcustom_dataloaders\n\u001b[1;32m   1182\u001b[0m )\n\u001b[0;32m-> 1183\u001b[0m tree, autoencoder \u001b[38;5;241m=\u001b[39m \u001b[43m_dipect\u001b[49m\u001b[43m(\u001b[49m\n\u001b[1;32m   1184\u001b[0m \u001b[43m    \u001b[49m\u001b[43mX\u001b[49m\u001b[43m,\u001b[49m\n\u001b[1;32m   1185\u001b[0m \u001b[43m    \u001b[49m\u001b[38;5;28;43mself\u001b[39;49m\u001b[38;5;241;43m.\u001b[39;49m\u001b[43mbatch_size\u001b[49m\u001b[43m,\u001b[49m\n\u001b[1;32m   1186\u001b[0m \u001b[43m    \u001b[49m\u001b[38;5;28;43mself\u001b[39;49m\u001b[38;5;241;43m.\u001b[39;49m\u001b[43mpretrain_optimizer_params\u001b[49m\u001b[43m,\u001b[49m\n\u001b[1;32m   1187\u001b[0m \u001b[43m    \u001b[49m\u001b[38;5;28;43mself\u001b[39;49m\u001b[38;5;241;43m.\u001b[39;49m\u001b[43mclustering_optimizer_params\u001b[49m\u001b[43m,\u001b[49m\n\u001b[1;32m   1188\u001b[0m \u001b[43m    \u001b[49m\u001b[38;5;28;43mself\u001b[39;49m\u001b[38;5;241;43m.\u001b[39;49m\u001b[43mprojection_axis_optimizer_params\u001b[49m\u001b[43m,\u001b[49m\n\u001b[1;32m   1189\u001b[0m \u001b[43m    \u001b[49m\u001b[38;5;28;43mself\u001b[39;49m\u001b[38;5;241;43m.\u001b[39;49m\u001b[43mpretrain_epochs\u001b[49m\u001b[43m,\u001b[49m\n\u001b[1;32m   1190\u001b[0m \u001b[43m    \u001b[49m\u001b[38;5;28;43mself\u001b[39;49m\u001b[38;5;241;43m.\u001b[39;49m\u001b[43mmax_epochs\u001b[49m\u001b[43m,\u001b[49m\n\u001b[1;32m   1191\u001b[0m \u001b[43m    \u001b[49m\u001b[38;5;28;43mself\u001b[39;49m\u001b[38;5;241;43m.\u001b[39;49m\u001b[43mpruning_threshold\u001b[49m\u001b[43m,\u001b[49m\n\u001b[1;32m   1192\u001b[0m \u001b[43m    \u001b[49m\u001b[38;5;28;43mself\u001b[39;49m\u001b[38;5;241;43m.\u001b[39;49m\u001b[43mgrow_interval\u001b[49m\u001b[43m,\u001b[49m\n\u001b[1;32m   1193\u001b[0m \u001b[43m    \u001b[49m\u001b[38;5;28;43mself\u001b[39;49m\u001b[38;5;241;43m.\u001b[39;49m\u001b[43muse_pvalue\u001b[49m\u001b[43m,\u001b[49m\n\u001b[1;32m   1194\u001b[0m \u001b[43m    \u001b[49m\u001b[38;5;28;43mself\u001b[39;49m\u001b[38;5;241;43m.\u001b[39;49m\u001b[43moptimizer_class\u001b[49m\u001b[43m,\u001b[49m\n\u001b[1;32m   1195\u001b[0m \u001b[43m    \u001b[49m\u001b[38;5;28;43mself\u001b[39;49m\u001b[38;5;241;43m.\u001b[39;49m\u001b[43mrec_loss_fn\u001b[49m\u001b[43m,\u001b[49m\n\u001b[1;32m   1196\u001b[0m \u001b[43m    \u001b[49m\u001b[38;5;28;43mself\u001b[39;49m\u001b[38;5;241;43m.\u001b[39;49m\u001b[43mautoencoder\u001b[49m\u001b[43m,\u001b[49m\n\u001b[1;32m   1197\u001b[0m \u001b[43m    \u001b[49m\u001b[38;5;28;43mself\u001b[39;49m\u001b[38;5;241;43m.\u001b[39;49m\u001b[43membedding_size\u001b[49m\u001b[43m,\u001b[49m\n\u001b[1;32m   1198\u001b[0m \u001b[43m    \u001b[49m\u001b[38;5;28;43mself\u001b[39;49m\u001b[38;5;241;43m.\u001b[39;49m\u001b[43munimodal_loss_increase_method\u001b[49m\u001b[43m,\u001b[49m\n\u001b[1;32m   1199\u001b[0m \u001b[43m    \u001b[49m\u001b[38;5;28;43mself\u001b[39;49m\u001b[38;5;241;43m.\u001b[39;49m\u001b[43mmax_leaf_nodes\u001b[49m\u001b[43m,\u001b[49m\n\u001b[1;32m   1200\u001b[0m \u001b[43m    \u001b[49m\u001b[38;5;28;43mself\u001b[39;49m\u001b[38;5;241;43m.\u001b[39;49m\u001b[43mreconstruction_loss_weight\u001b[49m\u001b[43m,\u001b[49m\n\u001b[1;32m   1201\u001b[0m \u001b[43m    \u001b[49m\u001b[38;5;28;43mself\u001b[39;49m\u001b[38;5;241;43m.\u001b[39;49m\u001b[43munimodality_treshhold\u001b[49m\u001b[43m,\u001b[49m\n\u001b[1;32m   1202\u001b[0m \u001b[43m    \u001b[49m\u001b[38;5;28;43mself\u001b[39;49m\u001b[38;5;241;43m.\u001b[39;49m\u001b[43mnumber_of_grow_steps\u001b[49m\u001b[43m,\u001b[49m\n\u001b[1;32m   1203\u001b[0m \u001b[43m    \u001b[49m\u001b[38;5;28;43mself\u001b[39;49m\u001b[38;5;241;43m.\u001b[39;49m\u001b[43mearly_stopping\u001b[49m\u001b[43m,\u001b[49m\n\u001b[1;32m   1204\u001b[0m \u001b[43m    \u001b[49m\u001b[38;5;28;43mself\u001b[39;49m\u001b[38;5;241;43m.\u001b[39;49m\u001b[43mrefinement_epochs\u001b[49m\u001b[43m,\u001b[49m\n\u001b[1;32m   1205\u001b[0m \u001b[43m    \u001b[49m\u001b[38;5;28;43mself\u001b[39;49m\u001b[38;5;241;43m.\u001b[39;49m\u001b[43mcustom_dataloaders\u001b[49m\u001b[43m,\u001b[49m\n\u001b[1;32m   1206\u001b[0m \u001b[43m    \u001b[49m\u001b[38;5;28;43mself\u001b[39;49m\u001b[38;5;241;43m.\u001b[39;49m\u001b[43maugmentation_invariance\u001b[49m\u001b[43m,\u001b[49m\n\u001b[1;32m   1207\u001b[0m \u001b[43m    \u001b[49m\u001b[38;5;28;43mself\u001b[39;49m\u001b[38;5;241;43m.\u001b[39;49m\u001b[43mrandom_state\u001b[49m\u001b[43m,\u001b[49m\n\u001b[1;32m   1208\u001b[0m \u001b[43m    \u001b[49m\u001b[38;5;28;43mself\u001b[39;49m\u001b[38;5;241;43m.\u001b[39;49m\u001b[43mlogging_active\u001b[49m\u001b[43m,\u001b[49m\n\u001b[1;32m   1209\u001b[0m \u001b[43m    \u001b[49m\u001b[38;5;28;43mself\u001b[39;49m\u001b[38;5;241;43m.\u001b[39;49m\u001b[43mautoencoder_param_path\u001b[49m\u001b[43m,\u001b[49m\n\u001b[1;32m   1210\u001b[0m \u001b[43m\u001b[49m\u001b[43m)\u001b[49m\n\u001b[1;32m   1211\u001b[0m \u001b[38;5;28mself\u001b[39m\u001b[38;5;241m.\u001b[39mtree_ \u001b[38;5;241m=\u001b[39m tree\n\u001b[1;32m   1212\u001b[0m \u001b[38;5;28mself\u001b[39m\u001b[38;5;241m.\u001b[39mautoencoder \u001b[38;5;241m=\u001b[39m autoencoder\n",
      "File \u001b[0;32m~/master/deepClustering/LMU_Master_Practical_SoSe24/practical/DeepClustering/DipECT/dipect.py:1021\u001b[0m, in \u001b[0;36m_dipect\u001b[0;34m(X, batch_size, pretrain_optimizer_params, clustering_optimizer_params, projection_axis_optimizer_params, pretrain_epochs, max_epochs, pruning_threshold, grow_interval, use_pvalue, optimizer_class, rec_loss_fn, autoencoder, embedding_size, unimodal_loss_increase_method, max_leaf_nodes, reconstruction_loss_weight, unimodality_treshhold, number_of_grow_steps, early_stopping, refinement_epochs, custom_dataloaders, augmentation_invariance, random_state, logging_active, autoencoder_save_param_path)\u001b[0m\n\u001b[1;32m   1010\u001b[0m dipect_module \u001b[38;5;241m=\u001b[39m _DipECT_Module(\n\u001b[1;32m   1011\u001b[0m     trainloader,\n\u001b[1;32m   1012\u001b[0m     autoencoder,\n\u001b[0;32m   (...)\u001b[0m\n\u001b[1;32m   1017\u001b[0m     augmentation_invariance,\n\u001b[1;32m   1018\u001b[0m )\u001b[38;5;241m.\u001b[39mto(device)\n\u001b[1;32m   1020\u001b[0m \u001b[38;5;66;03m# DeepECT Training loop\u001b[39;00m\n\u001b[0;32m-> 1021\u001b[0m \u001b[43mdipect_module\u001b[49m\u001b[38;5;241;43m.\u001b[39;49m\u001b[43mfit\u001b[49m\u001b[43m(\u001b[49m\n\u001b[1;32m   1022\u001b[0m \u001b[43m    \u001b[49m\u001b[43mautoencoder\u001b[49m\u001b[38;5;241;43m.\u001b[39;49m\u001b[43mto\u001b[49m\u001b[43m(\u001b[49m\u001b[43mdevice\u001b[49m\u001b[43m)\u001b[49m\u001b[43m,\u001b[49m\n\u001b[1;32m   1023\u001b[0m \u001b[43m    \u001b[49m\u001b[43mtrainloader\u001b[49m\u001b[43m,\u001b[49m\n\u001b[1;32m   1024\u001b[0m \u001b[43m    \u001b[49m\u001b[43mtestloader\u001b[49m\u001b[43m,\u001b[49m\n\u001b[1;32m   1025\u001b[0m \u001b[43m    \u001b[49m\u001b[43mmax_epochs\u001b[49m\u001b[43m,\u001b[49m\n\u001b[1;32m   1026\u001b[0m \u001b[43m    \u001b[49m\u001b[43mpruning_threshold\u001b[49m\u001b[43m,\u001b[49m\n\u001b[1;32m   1027\u001b[0m \u001b[43m    \u001b[49m\u001b[43mgrow_interval\u001b[49m\u001b[43m,\u001b[49m\n\u001b[1;32m   1028\u001b[0m \u001b[43m    \u001b[49m\u001b[43muse_pvalue\u001b[49m\u001b[43m,\u001b[49m\n\u001b[1;32m   1029\u001b[0m \u001b[43m    \u001b[49m\u001b[43munimodal_loss_increase_method\u001b[49m\u001b[43m,\u001b[49m\u001b[43m \u001b[49m\n\u001b[1;32m   1030\u001b[0m \u001b[43m    \u001b[49m\u001b[43mmax_leaf_nodes\u001b[49m\u001b[43m,\u001b[49m\n\u001b[1;32m   1031\u001b[0m \u001b[43m    \u001b[49m\u001b[43mreconstruction_loss_weight\u001b[49m\u001b[43m,\u001b[49m\n\u001b[1;32m   1032\u001b[0m \u001b[43m    \u001b[49m\u001b[43munimodality_treshhold\u001b[49m\u001b[43m,\u001b[49m\n\u001b[1;32m   1033\u001b[0m \u001b[43m    \u001b[49m\u001b[43mnumber_of_grow_steps\u001b[49m\u001b[43m,\u001b[49m\n\u001b[1;32m   1034\u001b[0m \u001b[43m    \u001b[49m\u001b[43mearly_stopping\u001b[49m\u001b[43m,\u001b[49m\n\u001b[1;32m   1035\u001b[0m \u001b[43m    \u001b[49m\u001b[43mrefinement_epochs\u001b[49m\u001b[43m,\u001b[49m\n\u001b[1;32m   1036\u001b[0m \u001b[43m    \u001b[49m\u001b[43moptimizer\u001b[49m\u001b[43m,\u001b[49m\n\u001b[1;32m   1037\u001b[0m \u001b[43m    \u001b[49m\u001b[43mprojection_axis_optimizer\u001b[49m\u001b[43m,\u001b[49m\n\u001b[1;32m   1038\u001b[0m \u001b[43m    \u001b[49m\u001b[43mrec_loss_fn\u001b[49m\u001b[43m,\u001b[49m\n\u001b[1;32m   1039\u001b[0m \u001b[43m    \u001b[49m\u001b[43mdevice\u001b[49m\u001b[43m,\u001b[49m\n\u001b[1;32m   1040\u001b[0m \u001b[43m    \u001b[49m\u001b[43mlogging_active\u001b[49m\n\u001b[1;32m   1041\u001b[0m \u001b[43m\u001b[49m\u001b[43m)\u001b[49m\n\u001b[1;32m   1042\u001b[0m \u001b[38;5;66;03m# Get labels\u001b[39;00m\n\u001b[1;32m   1043\u001b[0m deepect_tree: PredictionClusterTree \u001b[38;5;241m=\u001b[39m dipect_module\u001b[38;5;241m.\u001b[39mpredict(\n\u001b[1;32m   1044\u001b[0m     testloader, autoencoder\n\u001b[1;32m   1045\u001b[0m )\n",
      "File \u001b[0;32m~/master/deepClustering/LMU_Master_Practical_SoSe24/practical/DeepClustering/DipECT/dipect.py:847\u001b[0m, in \u001b[0;36m_DipECT_Module.fit\u001b[0;34m(self, autoencoder, trainloader, testloader, max_epochs, pruning_threshold, grow_interval, use_pvalue, unimodal_loss_increase_method, max_leaf_nodes, reconstruction_loss_weight, unimodality_treshhold, number_of_grow_steps, early_stopping, refinement_epochs, optimizer, projection_axis_optimizer, rec_loss_fn, device, logging_active)\u001b[0m\n\u001b[1;32m    844\u001b[0m mov_rec_loss \u001b[38;5;241m+\u001b[39m\u001b[38;5;241m=\u001b[39m rec_loss\u001b[38;5;241m.\u001b[39mitem()\n\u001b[1;32m    845\u001b[0m mov_loss \u001b[38;5;241m+\u001b[39m\u001b[38;5;241m=\u001b[39m loss\u001b[38;5;241m.\u001b[39mitem()\n\u001b[0;32m--> 847\u001b[0m \u001b[43mloss\u001b[49m\u001b[38;5;241;43m.\u001b[39;49m\u001b[43mbackward\u001b[49m\u001b[43m(\u001b[49m\u001b[43m)\u001b[49m\n\u001b[1;32m    848\u001b[0m optimizer\u001b[38;5;241m.\u001b[39mstep()\n\u001b[1;32m    849\u001b[0m iteration \u001b[38;5;241m+\u001b[39m\u001b[38;5;241m=\u001b[39m \u001b[38;5;241m1\u001b[39m\n",
      "File \u001b[0;32m~/master/deepClustering/deepClustEnv/lib/python3.10/site-packages/torch/_tensor.py:522\u001b[0m, in \u001b[0;36mTensor.backward\u001b[0;34m(self, gradient, retain_graph, create_graph, inputs)\u001b[0m\n\u001b[1;32m    512\u001b[0m \u001b[38;5;28;01mif\u001b[39;00m has_torch_function_unary(\u001b[38;5;28mself\u001b[39m):\n\u001b[1;32m    513\u001b[0m     \u001b[38;5;28;01mreturn\u001b[39;00m handle_torch_function(\n\u001b[1;32m    514\u001b[0m         Tensor\u001b[38;5;241m.\u001b[39mbackward,\n\u001b[1;32m    515\u001b[0m         (\u001b[38;5;28mself\u001b[39m,),\n\u001b[0;32m   (...)\u001b[0m\n\u001b[1;32m    520\u001b[0m         inputs\u001b[38;5;241m=\u001b[39minputs,\n\u001b[1;32m    521\u001b[0m     )\n\u001b[0;32m--> 522\u001b[0m \u001b[43mtorch\u001b[49m\u001b[38;5;241;43m.\u001b[39;49m\u001b[43mautograd\u001b[49m\u001b[38;5;241;43m.\u001b[39;49m\u001b[43mbackward\u001b[49m\u001b[43m(\u001b[49m\n\u001b[1;32m    523\u001b[0m \u001b[43m    \u001b[49m\u001b[38;5;28;43mself\u001b[39;49m\u001b[43m,\u001b[49m\u001b[43m \u001b[49m\u001b[43mgradient\u001b[49m\u001b[43m,\u001b[49m\u001b[43m \u001b[49m\u001b[43mretain_graph\u001b[49m\u001b[43m,\u001b[49m\u001b[43m \u001b[49m\u001b[43mcreate_graph\u001b[49m\u001b[43m,\u001b[49m\u001b[43m \u001b[49m\u001b[43minputs\u001b[49m\u001b[38;5;241;43m=\u001b[39;49m\u001b[43minputs\u001b[49m\n\u001b[1;32m    524\u001b[0m \u001b[43m\u001b[49m\u001b[43m)\u001b[49m\n",
      "File \u001b[0;32m~/master/deepClustering/deepClustEnv/lib/python3.10/site-packages/torch/autograd/__init__.py:266\u001b[0m, in \u001b[0;36mbackward\u001b[0;34m(tensors, grad_tensors, retain_graph, create_graph, grad_variables, inputs)\u001b[0m\n\u001b[1;32m    261\u001b[0m     retain_graph \u001b[38;5;241m=\u001b[39m create_graph\n\u001b[1;32m    263\u001b[0m \u001b[38;5;66;03m# The reason we repeat the same comment below is that\u001b[39;00m\n\u001b[1;32m    264\u001b[0m \u001b[38;5;66;03m# some Python versions print out the first line of a multi-line function\u001b[39;00m\n\u001b[1;32m    265\u001b[0m \u001b[38;5;66;03m# calls in the traceback and some print out the last line\u001b[39;00m\n\u001b[0;32m--> 266\u001b[0m \u001b[43mVariable\u001b[49m\u001b[38;5;241;43m.\u001b[39;49m\u001b[43m_execution_engine\u001b[49m\u001b[38;5;241;43m.\u001b[39;49m\u001b[43mrun_backward\u001b[49m\u001b[43m(\u001b[49m\u001b[43m  \u001b[49m\u001b[38;5;66;43;03m# Calls into the C++ engine to run the backward pass\u001b[39;49;00m\n\u001b[1;32m    267\u001b[0m \u001b[43m    \u001b[49m\u001b[43mtensors\u001b[49m\u001b[43m,\u001b[49m\n\u001b[1;32m    268\u001b[0m \u001b[43m    \u001b[49m\u001b[43mgrad_tensors_\u001b[49m\u001b[43m,\u001b[49m\n\u001b[1;32m    269\u001b[0m \u001b[43m    \u001b[49m\u001b[43mretain_graph\u001b[49m\u001b[43m,\u001b[49m\n\u001b[1;32m    270\u001b[0m \u001b[43m    \u001b[49m\u001b[43mcreate_graph\u001b[49m\u001b[43m,\u001b[49m\n\u001b[1;32m    271\u001b[0m \u001b[43m    \u001b[49m\u001b[43minputs\u001b[49m\u001b[43m,\u001b[49m\n\u001b[1;32m    272\u001b[0m \u001b[43m    \u001b[49m\u001b[43mallow_unreachable\u001b[49m\u001b[38;5;241;43m=\u001b[39;49m\u001b[38;5;28;43;01mTrue\u001b[39;49;00m\u001b[43m,\u001b[49m\n\u001b[1;32m    273\u001b[0m \u001b[43m    \u001b[49m\u001b[43maccumulate_grad\u001b[49m\u001b[38;5;241;43m=\u001b[39;49m\u001b[38;5;28;43;01mTrue\u001b[39;49;00m\u001b[43m,\u001b[49m\n\u001b[1;32m    274\u001b[0m \u001b[43m\u001b[49m\u001b[43m)\u001b[49m\n",
      "File \u001b[0;32m~/master/deepClustering/deepClustEnv/lib/python3.10/site-packages/torch/autograd/function.py:289\u001b[0m, in \u001b[0;36mBackwardCFunction.apply\u001b[0;34m(self, *args)\u001b[0m\n\u001b[1;32m    283\u001b[0m     \u001b[38;5;28;01mraise\u001b[39;00m \u001b[38;5;167;01mRuntimeError\u001b[39;00m(\n\u001b[1;32m    284\u001b[0m         \u001b[38;5;124m\"\u001b[39m\u001b[38;5;124mImplementing both \u001b[39m\u001b[38;5;124m'\u001b[39m\u001b[38;5;124mbackward\u001b[39m\u001b[38;5;124m'\u001b[39m\u001b[38;5;124m and \u001b[39m\u001b[38;5;124m'\u001b[39m\u001b[38;5;124mvjp\u001b[39m\u001b[38;5;124m'\u001b[39m\u001b[38;5;124m for a custom \u001b[39m\u001b[38;5;124m\"\u001b[39m\n\u001b[1;32m    285\u001b[0m         \u001b[38;5;124m\"\u001b[39m\u001b[38;5;124mFunction is not allowed. You should only implement one \u001b[39m\u001b[38;5;124m\"\u001b[39m\n\u001b[1;32m    286\u001b[0m         \u001b[38;5;124m\"\u001b[39m\u001b[38;5;124mof them.\u001b[39m\u001b[38;5;124m\"\u001b[39m\n\u001b[1;32m    287\u001b[0m     )\n\u001b[1;32m    288\u001b[0m user_fn \u001b[38;5;241m=\u001b[39m vjp_fn \u001b[38;5;28;01mif\u001b[39;00m vjp_fn \u001b[38;5;129;01mis\u001b[39;00m \u001b[38;5;129;01mnot\u001b[39;00m Function\u001b[38;5;241m.\u001b[39mvjp \u001b[38;5;28;01melse\u001b[39;00m backward_fn\n\u001b[0;32m--> 289\u001b[0m \u001b[38;5;28;01mreturn\u001b[39;00m \u001b[43muser_fn\u001b[49m\u001b[43m(\u001b[49m\u001b[38;5;28;43mself\u001b[39;49m\u001b[43m,\u001b[49m\u001b[43m \u001b[49m\u001b[38;5;241;43m*\u001b[39;49m\u001b[43margs\u001b[49m\u001b[43m)\u001b[49m\n",
      "File \u001b[0;32m~/master/deepClustering/deepClustEnv/lib/python3.10/site-packages/clustpy/deep/dipencoder.py:128\u001b[0m, in \u001b[0;36m_Dip_Gradient.backward\u001b[0;34m(ctx, grad_output)\u001b[0m\n\u001b[1;32m    126\u001b[0m \u001b[38;5;66;03m# Load parameters from forward\u001b[39;00m\n\u001b[1;32m    127\u001b[0m X, X_proj, sorted_indices, projection_vector, modal_triangle, dip_value \u001b[38;5;241m=\u001b[39m ctx\u001b[38;5;241m.\u001b[39msaved_tensors\n\u001b[0;32m--> 128\u001b[0m \u001b[38;5;28;01mif\u001b[39;00m \u001b[38;5;241;43m-\u001b[39;49m\u001b[38;5;241;43m1\u001b[39;49m\u001b[43m \u001b[49m\u001b[38;5;129;43;01min\u001b[39;49;00m\u001b[43m \u001b[49m\u001b[43mmodal_triangle\u001b[49m:\n\u001b[1;32m    129\u001b[0m     \u001b[38;5;28;01mreturn\u001b[39;00m torch\u001b[38;5;241m.\u001b[39mzeros((X_proj\u001b[38;5;241m.\u001b[39mshape[\u001b[38;5;241m0\u001b[39m], projection_vector\u001b[38;5;241m.\u001b[39mshape[\u001b[38;5;241m0\u001b[39m]))\u001b[38;5;241m.\u001b[39mto(device), torch\u001b[38;5;241m.\u001b[39mzeros(\n\u001b[1;32m    130\u001b[0m         projection_vector\u001b[38;5;241m.\u001b[39mshape)\u001b[38;5;241m.\u001b[39mto(device)\n\u001b[1;32m    131\u001b[0m \u001b[38;5;66;03m# Grad_output equals gradient of outer operations. Update grad_output to consider dip\u001b[39;00m\n",
      "File \u001b[0;32m~/master/deepClustering/deepClustEnv/lib/python3.10/site-packages/torch/_tensor.py:1078\u001b[0m, in \u001b[0;36mTensor.__contains__\u001b[0;34m(self, element)\u001b[0m\n\u001b[1;32m   1075\u001b[0m         array \u001b[38;5;241m=\u001b[39m array\u001b[38;5;241m.\u001b[39mastype(\u001b[38;5;124m\"\u001b[39m\u001b[38;5;124muint8\u001b[39m\u001b[38;5;124m\"\u001b[39m)\n\u001b[1;32m   1076\u001b[0m     \u001b[38;5;28;01mreturn\u001b[39;00m torch\u001b[38;5;241m.\u001b[39mfrom_numpy(array)\n\u001b[0;32m-> 1078\u001b[0m \u001b[38;5;28;01mdef\u001b[39;00m \u001b[38;5;21m__contains__\u001b[39m(\u001b[38;5;28mself\u001b[39m, element):\n\u001b[1;32m   1079\u001b[0m \u001b[38;5;250m    \u001b[39m\u001b[38;5;124mr\u001b[39m\u001b[38;5;124;03m\"\"\"Check if `element` is present in tensor\u001b[39;00m\n\u001b[1;32m   1080\u001b[0m \n\u001b[1;32m   1081\u001b[0m \u001b[38;5;124;03m    Args:\u001b[39;00m\n\u001b[1;32m   1082\u001b[0m \u001b[38;5;124;03m        element (Tensor or scalar): element to be checked\u001b[39;00m\n\u001b[1;32m   1083\u001b[0m \u001b[38;5;124;03m            for presence in current tensor\"\u001b[39;00m\n\u001b[1;32m   1084\u001b[0m \u001b[38;5;124;03m    \"\"\"\u001b[39;00m\n\u001b[1;32m   1085\u001b[0m     \u001b[38;5;28;01mif\u001b[39;00m has_torch_function_unary(\u001b[38;5;28mself\u001b[39m):\n",
      "\u001b[0;31mKeyboardInterrupt\u001b[0m: "
     ]
    }
   ],
   "source": [
    "dataset, labels = load_mnist(return_X_y=True)\n",
    "autoencoder = FeedforwardAutoencoder([dataset.shape[1], 500, 500, 2000, 10])\n",
    "autoencoder.load_state_dict(torch.load(\"practical/DeepClustering/DipECT/pretrained_AE_MNIST_seed15.pth\"))\n",
    "autoencoder.fitted = True\n",
    "dipect_test_s7 = DipECT(autoencoder=autoencoder, use_pvalue=False, grow_interval=0.1, number_of_grow_steps=2, unimodality_treshhold=0.10, max_leaf_nodes=5, max_epochs=45, random_state=np.random.RandomState(15), reconstruction_loss_weight=150)\n",
    "dipect_test_s7 = dipect_test_s7.fit_predict(dataset/255)"
   ]
  },
  {
   "cell_type": "code",
   "execution_count": 25,
   "metadata": {},
   "outputs": [
    {
     "name": "stdout",
     "output_type": "stream",
     "text": [
      "0.8303714285714285\n",
      "0.8364580607377883\n"
     ]
    }
   ],
   "source": [
    "print(dipect_test_s7.tree_.flat_accuracy(labels, 10))\n",
    "print(dipect_test_s7.tree_.flat_nmi(labels, 10))"
   ]
  },
  {
   "cell_type": "code",
   "execution_count": null,
   "metadata": {},
   "outputs": [
    {
     "name": "stdout",
     "output_type": "stream",
     "text": [
      "cpu\n",
      "new loss\n"
     ]
    },
    {
     "name": "stderr",
     "output_type": "stream",
     "text": [
      "Epoch 0/45: 100%|██████████| 274/274 [00:18<00:00, 14.58batch/s]\n",
      "Epoch 1/45: 100%|██████████| 274/274 [00:18<00:00, 14.69batch/s]\n",
      "  0%|          | 0/274 [00:00<?, ?batch/s]"
     ]
    },
    {
     "name": "stdout",
     "output_type": "stream",
     "text": [
      "#assignments:  40595\n",
      "#assignments:  29405\n"
     ]
    },
    {
     "name": "stderr",
     "output_type": "stream",
     "text": [
      "Epoch 2/45:   0%|          | 1/274 [00:05<23:23,  5.14s/batch]"
     ]
    },
    {
     "name": "stdout",
     "output_type": "stream",
     "text": [
      "#assignments best node:  40595\n"
     ]
    },
    {
     "name": "stderr",
     "output_type": "stream",
     "text": [
      "Epoch 2/45: 100%|██████████| 274/274 [00:27<00:00,  9.96batch/s]\n",
      "Epoch 3/45: 100%|██████████| 274/274 [00:21<00:00, 12.88batch/s]\n",
      "  0%|          | 0/274 [00:00<?, ?batch/s]"
     ]
    },
    {
     "name": "stdout",
     "output_type": "stream",
     "text": [
      "#assignments:  19163\n",
      "#assignments:  21710\n",
      "#assignments:  29127\n"
     ]
    },
    {
     "name": "stderr",
     "output_type": "stream",
     "text": [
      "Epoch 4/45:   0%|          | 1/274 [00:05<26:01,  5.72s/batch]"
     ]
    },
    {
     "name": "stdout",
     "output_type": "stream",
     "text": [
      "#assignments best node:  29127\n"
     ]
    },
    {
     "name": "stderr",
     "output_type": "stream",
     "text": [
      "Epoch 4/45: 100%|██████████| 274/274 [00:25<00:00, 10.83batch/s]\n",
      "Epoch 5/45: 100%|██████████| 274/274 [00:19<00:00, 13.89batch/s]\n",
      "  0%|          | 0/274 [00:00<?, ?batch/s]"
     ]
    },
    {
     "name": "stdout",
     "output_type": "stream",
     "text": [
      "#assignments:  19081\n",
      "#assignments:  21594\n",
      "#assignments:  20994\n",
      "#assignments:  8331\n"
     ]
    },
    {
     "name": "stderr",
     "output_type": "stream",
     "text": [
      "Epoch 6/45:   0%|          | 0/274 [00:06<?, ?batch/s]"
     ]
    },
    {
     "name": "stdout",
     "output_type": "stream",
     "text": [
      "#assignments best node:  19081\n"
     ]
    },
    {
     "name": "stderr",
     "output_type": "stream",
     "text": [
      "Epoch 6/45: 100%|██████████| 274/274 [00:27<00:00,  9.87batch/s]\n",
      "Epoch 7/45: 100%|██████████| 274/274 [00:20<00:00, 13.58batch/s]\n",
      "  0%|          | 0/274 [00:00<?, ?batch/s]"
     ]
    },
    {
     "name": "stdout",
     "output_type": "stream",
     "text": [
      "#assignments:  11666\n",
      "#assignments:  7556\n",
      "#assignments:  21492\n",
      "#assignments:  20889\n",
      "#assignments:  8397\n"
     ]
    },
    {
     "name": "stderr",
     "output_type": "stream",
     "text": [
      "Epoch 8/45:   0%|          | 0/274 [00:06<?, ?batch/s]"
     ]
    },
    {
     "name": "stdout",
     "output_type": "stream",
     "text": [
      "#assignments best node:  11666\n"
     ]
    },
    {
     "name": "stderr",
     "output_type": "stream",
     "text": [
      "Epoch 8/45: 100%|██████████| 274/274 [00:28<00:00,  9.72batch/s]\n",
      "Epoch 9/45: 100%|██████████| 274/274 [00:21<00:00, 12.69batch/s]\n",
      "  0%|          | 0/274 [00:00<?, ?batch/s]"
     ]
    },
    {
     "name": "stdout",
     "output_type": "stream",
     "text": [
      "#assignments:  6618\n",
      "#assignments:  5250\n",
      "#assignments:  7315\n",
      "#assignments:  21635\n",
      "#assignments:  20780\n",
      "#assignments:  8402\n"
     ]
    },
    {
     "name": "stderr",
     "output_type": "stream",
     "text": [
      "Epoch 10/45:   0%|          | 1/274 [00:07<35:34,  7.82s/batch]"
     ]
    },
    {
     "name": "stdout",
     "output_type": "stream",
     "text": [
      "#assignments best node:  21635\n"
     ]
    },
    {
     "name": "stderr",
     "output_type": "stream",
     "text": [
      "Epoch 10/45: 100%|██████████| 274/274 [00:29<00:00,  9.19batch/s]\n",
      "Epoch 11/45: 100%|██████████| 274/274 [00:22<00:00, 12.24batch/s]\n",
      "  0%|          | 0/274 [00:00<?, ?batch/s]"
     ]
    },
    {
     "name": "stdout",
     "output_type": "stream",
     "text": [
      "#assignments:  6713\n",
      "#assignments:  5271\n",
      "#assignments:  7296\n",
      "#assignments:  14277\n",
      "#assignments:  7187\n",
      "#assignments:  20806\n",
      "#assignments:  8450\n"
     ]
    },
    {
     "name": "stderr",
     "output_type": "stream",
     "text": [
      "Epoch 12/45:   0%|          | 0/274 [00:09<?, ?batch/s]"
     ]
    },
    {
     "name": "stdout",
     "output_type": "stream",
     "text": [
      "#assignments best node:  14277\n"
     ]
    },
    {
     "name": "stderr",
     "output_type": "stream",
     "text": [
      "Epoch 12/45: 100%|██████████| 274/274 [00:34<00:00,  7.98batch/s]\n",
      "Epoch 13/45: 100%|██████████| 274/274 [00:24<00:00, 11.40batch/s]\n",
      "  0%|          | 0/274 [00:00<?, ?batch/s]"
     ]
    },
    {
     "name": "stdout",
     "output_type": "stream",
     "text": [
      "#assignments:  6649\n",
      "#assignments:  5317\n",
      "#assignments:  7314\n",
      "#assignments:  7918\n",
      "#assignments:  6168\n",
      "#assignments:  7476\n",
      "#assignments:  20777\n",
      "#assignments:  8381\n"
     ]
    },
    {
     "name": "stderr",
     "output_type": "stream",
     "text": [
      "Epoch 14/45:   0%|          | 0/274 [00:11<?, ?batch/s]"
     ]
    },
    {
     "name": "stdout",
     "output_type": "stream",
     "text": [
      "#assignments best node:  20777\n"
     ]
    },
    {
     "name": "stderr",
     "output_type": "stream",
     "text": [
      "Epoch 14/45: 100%|██████████| 274/274 [00:35<00:00,  7.77batch/s]\n",
      "Epoch 15/45: 100%|██████████| 274/274 [00:26<00:00, 10.20batch/s]\n",
      "  0%|          | 0/274 [00:00<?, ?batch/s]"
     ]
    },
    {
     "name": "stdout",
     "output_type": "stream",
     "text": [
      "#assignments:  6694\n",
      "#assignments:  5294\n",
      "#assignments:  7300\n",
      "#assignments:  8038\n",
      "#assignments:  6155\n",
      "#assignments:  7405\n",
      "#assignments:  9055\n",
      "#assignments:  11716\n",
      "#assignments:  8343\n"
     ]
    },
    {
     "name": "stderr",
     "output_type": "stream",
     "text": [
      "Epoch 16/45:   0%|          | 0/274 [00:12<?, ?batch/s]"
     ]
    },
    {
     "name": "stdout",
     "output_type": "stream",
     "text": [
      "#assignments best node:  11716\n"
     ]
    },
    {
     "name": "stderr",
     "output_type": "stream",
     "text": [
      "Epoch 16/45: 100%|██████████| 274/274 [00:37<00:00,  7.21batch/s]\n",
      "Epoch 17/45: 100%|██████████| 274/274 [00:24<00:00, 11.11batch/s]\n",
      "  0%|          | 0/274 [00:00<?, ?batch/s]"
     ]
    },
    {
     "name": "stdout",
     "output_type": "stream",
     "text": [
      "#assignments:  6608\n",
      "#assignments:  5160\n",
      "#assignments:  7375\n",
      "#assignments:  7966\n",
      "#assignments:  5860\n",
      "#assignments:  7852\n",
      "#assignments:  9006\n",
      "#assignments:  5560\n",
      "#assignments:  6276\n",
      "#assignments:  8337\n"
     ]
    },
    {
     "name": "stderr",
     "output_type": "stream",
     "text": [
      "Epoch 18/45:   0%|          | 0/274 [00:12<?, ?batch/s]"
     ]
    },
    {
     "name": "stdout",
     "output_type": "stream",
     "text": [
      "#assignments best node:  9006\n"
     ]
    },
    {
     "name": "stderr",
     "output_type": "stream",
     "text": [
      "Epoch 18/45: 100%|██████████| 274/274 [00:38<00:00,  7.10batch/s]\n",
      "Epoch 19/45: 100%|██████████| 274/274 [00:25<00:00, 10.65batch/s]\n",
      "  0%|          | 0/274 [00:00<?, ?batch/s]"
     ]
    },
    {
     "name": "stdout",
     "output_type": "stream",
     "text": [
      "#assignments:  6598\n",
      "#assignments:  5064\n",
      "#assignments:  7383\n",
      "#assignments:  8094\n",
      "#assignments:  6137\n",
      "#assignments:  7588\n",
      "#assignments:  3408\n",
      "#assignments:  6049\n",
      "#assignments:  6502\n",
      "#assignments:  5049\n",
      "#assignments:  8128\n"
     ]
    },
    {
     "name": "stderr",
     "output_type": "stream",
     "text": [
      "Epoch 20/45:   0%|          | 0/274 [00:12<?, ?batch/s]"
     ]
    },
    {
     "name": "stdout",
     "output_type": "stream",
     "text": [
      "#assignments best node:  3408\n"
     ]
    },
    {
     "name": "stderr",
     "output_type": "stream",
     "text": [
      "Epoch 20/45: 100%|██████████| 274/274 [00:39<00:00,  6.93batch/s]\n",
      "Epoch 21/45: 100%|██████████| 274/274 [00:26<00:00, 10.49batch/s]\n",
      "  0%|          | 0/274 [00:00<?, ?batch/s]"
     ]
    },
    {
     "name": "stdout",
     "output_type": "stream",
     "text": [
      "#assignments:  6632\n",
      "#assignments:  5095\n",
      "#assignments:  7315\n",
      "#assignments:  7856\n",
      "#assignments:  6077\n",
      "#assignments:  7768\n",
      "#assignments:  1196\n",
      "#assignments:  3577\n",
      "#assignments:  4958\n",
      "#assignments:  5915\n",
      "#assignments:  5374\n",
      "#assignments:  8237\n"
     ]
    },
    {
     "name": "stderr",
     "output_type": "stream",
     "text": [
      "Epoch 22/45:   0%|          | 0/274 [00:16<?, ?batch/s]"
     ]
    },
    {
     "name": "stdout",
     "output_type": "stream",
     "text": [
      "#assignments best node:  4958\n"
     ]
    },
    {
     "name": "stderr",
     "output_type": "stream",
     "text": [
      "Epoch 22/45: 100%|██████████| 274/274 [00:43<00:00,  6.24batch/s]\n",
      "Epoch 23/45: 100%|██████████| 274/274 [00:27<00:00, 10.02batch/s]\n",
      "  0%|          | 0/274 [00:00<?, ?batch/s]"
     ]
    },
    {
     "name": "stdout",
     "output_type": "stream",
     "text": [
      "#assignments:  6683\n",
      "#assignments:  5196\n",
      "#assignments:  7289\n",
      "#assignments:  7768\n",
      "#assignments:  6093\n",
      "#assignments:  7555\n",
      "#assignments:  2554\n",
      "#assignments:  3663\n",
      "#assignments:  2822\n",
      "#assignments:  1080\n",
      "#assignments:  4464\n",
      "#assignments:  6753\n",
      "#assignments:  8080\n"
     ]
    },
    {
     "name": "stderr",
     "output_type": "stream",
     "text": [
      "Epoch 24/45:   0%|          | 0/274 [00:16<?, ?batch/s]"
     ]
    },
    {
     "name": "stdout",
     "output_type": "stream",
     "text": [
      "#assignments best node:  7289\n"
     ]
    },
    {
     "name": "stderr",
     "output_type": "stream",
     "text": [
      "Epoch 24/45: 100%|██████████| 274/274 [00:45<00:00,  6.08batch/s]\n",
      "Epoch 25/45: 100%|██████████| 274/274 [00:31<00:00,  8.72batch/s]\n",
      "  0%|          | 0/274 [00:00<?, ?batch/s]"
     ]
    },
    {
     "name": "stdout",
     "output_type": "stream",
     "text": [
      "#assignments:  6658\n",
      "#assignments:  5094\n",
      "#assignments:  3726\n",
      "#assignments:  3542\n",
      "#assignments:  7918\n",
      "#assignments:  6157\n",
      "#assignments:  7549\n",
      "#assignments:  2914\n",
      "#assignments:  3571\n",
      "#assignments:  2786\n",
      "#assignments:  925\n",
      "#assignments:  6880\n",
      "#assignments:  4299\n",
      "#assignments:  7981\n"
     ]
    },
    {
     "name": "stderr",
     "output_type": "stream",
     "text": [
      "Epoch 26/45:   0%|          | 0/274 [00:17<?, ?batch/s]"
     ]
    },
    {
     "name": "stdout",
     "output_type": "stream",
     "text": [
      "#assignments best node:  7981\n"
     ]
    },
    {
     "name": "stderr",
     "output_type": "stream",
     "text": [
      "Epoch 26/45: 100%|██████████| 274/274 [00:47<00:00,  5.74batch/s]\n",
      "Epoch 27/45: 100%|██████████| 274/274 [00:29<00:00,  9.42batch/s]\n",
      "  0%|          | 0/274 [00:00<?, ?batch/s]"
     ]
    },
    {
     "name": "stdout",
     "output_type": "stream",
     "text": [
      "#assignments:  6657\n",
      "#assignments:  5028\n",
      "#assignments:  3923\n",
      "#assignments:  3355\n",
      "#assignments:  7920\n",
      "#assignments:  5705\n",
      "#assignments:  8061\n",
      "#assignments:  2763\n",
      "#assignments:  3149\n",
      "#assignments:  3075\n",
      "#assignments:  951\n",
      "#assignments:  4350\n",
      "#assignments:  7063\n",
      "#assignments:  4244\n",
      "#assignments:  3756\n"
     ]
    },
    {
     "name": "stderr",
     "output_type": "stream",
     "text": [
      "Epoch 28/45:   0%|          | 0/274 [00:17<?, ?batch/s]"
     ]
    },
    {
     "name": "stdout",
     "output_type": "stream",
     "text": [
      "#assignments best node:  7920\n"
     ]
    },
    {
     "name": "stderr",
     "output_type": "stream",
     "text": [
      "Epoch 28/45: 100%|██████████| 274/274 [00:48<00:00,  5.71batch/s]\n",
      "Epoch 29/45: 100%|██████████| 274/274 [00:30<00:00,  9.04batch/s]\n",
      "  0%|          | 0/274 [00:00<?, ?batch/s]"
     ]
    },
    {
     "name": "stdout",
     "output_type": "stream",
     "text": [
      "#assignments:  6617\n",
      "#assignments:  4856\n",
      "#assignments:  4004\n",
      "#assignments:  3353\n",
      "#assignments:  3962\n",
      "#assignments:  4158\n",
      "#assignments:  5856\n",
      "#assignments:  7750\n",
      "#assignments:  2595\n",
      "#assignments:  3105\n",
      "#assignments:  3119\n",
      "#assignments:  971\n",
      "#assignments:  4240\n",
      "#assignments:  7367\n",
      "#assignments:  4205\n"
     ]
    },
    {
     "name": "stderr",
     "output_type": "stream",
     "text": [
      "Epoch 30/45:   0%|          | 0/274 [00:15<?, ?batch/s]"
     ]
    },
    {
     "name": "stdout",
     "output_type": "stream",
     "text": [
      "#assignments:  3842\n",
      "#assignments best node:  7750\n"
     ]
    },
    {
     "name": "stderr",
     "output_type": "stream",
     "text": [
      "Epoch 30/45: 100%|██████████| 274/274 [00:47<00:00,  5.79batch/s]\n",
      "Epoch 31/45: 100%|██████████| 274/274 [00:30<00:00,  8.95batch/s]\n",
      "  0%|          | 0/274 [00:00<?, ?batch/s]"
     ]
    },
    {
     "name": "stdout",
     "output_type": "stream",
     "text": [
      "#assignments:  6619\n",
      "#assignments:  5083\n",
      "#assignments:  3625\n",
      "#assignments:  3708\n",
      "#assignments:  1630\n",
      "#assignments:  6196\n",
      "#assignments:  5707\n",
      "#assignments:  4325\n",
      "#assignments:  3681\n",
      "#assignments:  2657\n",
      "#assignments:  3178\n",
      "#assignments:  3215\n",
      "#assignments:  908\n",
      "#assignments:  3925\n",
      "#assignments:  7447\n",
      "#assignments:  4159\n",
      "#assignments:  3937\n"
     ]
    },
    {
     "name": "stderr",
     "output_type": "stream",
     "text": [
      "Epoch 32/45:   0%|          | 0/274 [00:17<?, ?batch/s]"
     ]
    },
    {
     "name": "stdout",
     "output_type": "stream",
     "text": [
      "#assignments best node:  7447\n"
     ]
    },
    {
     "name": "stderr",
     "output_type": "stream",
     "text": [
      "Epoch 32/45: 100%|██████████| 274/274 [00:49<00:00,  5.53batch/s]\n",
      "Epoch 33/45: 100%|██████████| 274/274 [00:31<00:00,  8.67batch/s]\n",
      "  0%|          | 0/274 [00:00<?, ?batch/s]"
     ]
    },
    {
     "name": "stdout",
     "output_type": "stream",
     "text": [
      "#assignments:  6634\n",
      "#assignments:  4874\n",
      "#assignments:  3757\n",
      "#assignments:  3520\n",
      "#assignments:  2009\n",
      "#assignments:  6020\n",
      "#assignments:  5848\n",
      "#assignments:  2935\n",
      "#assignments:  4699\n",
      "#assignments:  2540\n",
      "#assignments:  3048\n",
      "#assignments:  3348\n",
      "#assignments:  856\n",
      "#assignments:  4722\n",
      "#assignments:  3908\n",
      "#assignments:  3086\n",
      "#assignments:  4270\n",
      "#assignments:  3926\n"
     ]
    },
    {
     "name": "stderr",
     "output_type": "stream",
     "text": [
      "Epoch 34/45:   0%|          | 0/274 [00:22<?, ?batch/s]"
     ]
    },
    {
     "name": "stdout",
     "output_type": "stream",
     "text": [
      "#assignments best node:  6634\n"
     ]
    },
    {
     "name": "stderr",
     "output_type": "stream",
     "text": [
      "Epoch 34/45: 100%|██████████| 274/274 [00:57<00:00,  4.80batch/s]\n",
      "Epoch 35/45: 100%|██████████| 274/274 [00:32<00:00,  8.30batch/s]\n",
      "  0%|          | 0/274 [00:00<?, ?batch/s]"
     ]
    },
    {
     "name": "stdout",
     "output_type": "stream",
     "text": [
      "#assignments:  2526\n",
      "#assignments:  4049\n",
      "#assignments:  4956\n",
      "#assignments:  3813\n",
      "#assignments:  3476\n",
      "#assignments:  2602\n",
      "#assignments:  5352\n",
      "#assignments:  5441\n",
      "#assignments:  3431\n",
      "#assignments:  4842\n",
      "#assignments:  2488\n",
      "#assignments:  2976\n",
      "#assignments:  3291\n",
      "#assignments:  770\n",
      "#assignments:  4611\n",
      "#assignments:  2194\n",
      "#assignments:  5034\n",
      "#assignments:  4361\n",
      "#assignments:  3787\n"
     ]
    },
    {
     "name": "stderr",
     "output_type": "stream",
     "text": [
      "Epoch 36/45:   0%|          | 0/274 [00:17<?, ?batch/s]"
     ]
    },
    {
     "name": "stdout",
     "output_type": "stream",
     "text": [
      "#assignments best node:  5034\n"
     ]
    },
    {
     "name": "stderr",
     "output_type": "stream",
     "text": [
      "Epoch 36/45: 100%|██████████| 274/274 [00:52<00:00,  5.22batch/s]\n",
      "Epoch 37/45: 100%|██████████| 274/274 [00:33<00:00,  8.24batch/s]\n",
      "Epoch 38/45: 100%|██████████| 274/274 [00:33<00:00,  8.17batch/s]\n",
      "Epoch 39/45: 100%|██████████| 274/274 [00:35<00:00,  7.75batch/s]\n",
      "Epoch 40/45: 100%|██████████| 274/274 [00:33<00:00,  8.16batch/s]\n",
      "Epoch 41/45: 100%|██████████| 274/274 [00:33<00:00,  8.16batch/s]\n",
      "Epoch 42/45: 100%|██████████| 274/274 [00:32<00:00,  8.37batch/s]\n",
      "Epoch 43/45: 100%|██████████| 274/274 [00:41<00:00,  6.56batch/s]\n",
      "Epoch 44/45: 100%|██████████| 274/274 [00:30<00:00,  8.91batch/s]\n",
      "Predict: 100%|██████████| 274/274 [00:03<00:00, 80.45it/s]\n"
     ]
    }
   ],
   "source": [
    "dataset, labels = load_mnist(return_X_y=True)\n",
    "autoencoder = FeedforwardAutoencoder([dataset.shape[1], 500, 500, 2000, 10])\n",
    "autoencoder.load_state_dict(torch.load(\"practical/DeepClustering/DipECT/pretrained_AE_MNIST_seed15.pth\"))\n",
    "autoencoder.fitted = True\n",
    "dipect_test_s9 = DipECT(autoencoder=autoencoder, use_pvalue=False, grow_interval=2, max_epochs=45, unimodal_treshhold=1.0, random_state=np.random.RandomState(15), reconstruction_loss_weight=20)\n",
    "dipect_test_s9 = dipect_test_s9.fit_predict(dataset/255)"
   ]
  },
  {
   "cell_type": "code",
   "execution_count": 19,
   "metadata": {},
   "outputs": [
    {
     "ename": "NameError",
     "evalue": "name 'dipect_test_s9' is not defined",
     "output_type": "error",
     "traceback": [
      "\u001b[0;31m---------------------------------------------------------------------------\u001b[0m",
      "\u001b[0;31mNameError\u001b[0m                                 Traceback (most recent call last)",
      "Cell \u001b[0;32mIn[19], line 1\u001b[0m\n\u001b[0;32m----> 1\u001b[0m \u001b[38;5;28mprint\u001b[39m(\u001b[43mdipect_test_s9\u001b[49m\u001b[38;5;241m.\u001b[39mtree_\u001b[38;5;241m.\u001b[39mflat_accuracy(labels, \u001b[38;5;241m10\u001b[39m))\n\u001b[1;32m      2\u001b[0m \u001b[38;5;28mprint\u001b[39m(dipect_test_s9\u001b[38;5;241m.\u001b[39mtree_\u001b[38;5;241m.\u001b[39mflat_nmi(labels, \u001b[38;5;241m10\u001b[39m))\n",
      "\u001b[0;31mNameError\u001b[0m: name 'dipect_test_s9' is not defined"
     ]
    }
   ],
   "source": [
    "print(dipect_test_s9.tree_.flat_accuracy(labels, 10))\n",
    "print(dipect_test_s9.tree_.flat_nmi(labels, 10))"
   ]
  },
  {
   "cell_type": "code",
   "execution_count": 13,
   "metadata": {},
   "outputs": [
    {
     "name": "stdout",
     "output_type": "stream",
     "text": [
      "cpu\n"
     ]
    },
    {
     "name": "stderr",
     "output_type": "stream",
     "text": [
      "Epoch 1/45: 100%|██████████| 274/274 [00:19<00:00, 13.78batch/s]\n",
      "Epoch 2/45: 100%|██████████| 274/274 [00:21<00:00, 12.52batch/s]\n",
      "  0%|          | 0/274 [00:00<?, ?batch/s]"
     ]
    },
    {
     "name": "stdout",
     "output_type": "stream",
     "text": [
      "#assignments:  40757\n",
      "#assignments:  29243\n"
     ]
    },
    {
     "name": "stderr",
     "output_type": "stream",
     "text": [
      "Epoch 3/45:   0%|          | 1/274 [00:05<25:45,  5.66s/batch]"
     ]
    },
    {
     "name": "stdout",
     "output_type": "stream",
     "text": [
      "#assignments best node:  40757\n"
     ]
    },
    {
     "name": "stderr",
     "output_type": "stream",
     "text": [
      "Epoch 3/45: 100%|██████████| 274/274 [00:28<00:00,  9.51batch/s]\n",
      "Epoch 4/45: 100%|██████████| 274/274 [00:20<00:00, 13.22batch/s]\n",
      "  0%|          | 0/274 [00:00<?, ?batch/s]"
     ]
    },
    {
     "name": "stdout",
     "output_type": "stream",
     "text": [
      "#assignments:  21890\n",
      "#assignments:  18977\n",
      "#assignments:  29133\n"
     ]
    },
    {
     "name": "stderr",
     "output_type": "stream",
     "text": [
      "Epoch 5/45:   0%|          | 1/274 [00:06<31:21,  6.89s/batch]"
     ]
    },
    {
     "name": "stdout",
     "output_type": "stream",
     "text": [
      "#assignments best node:  29133\n"
     ]
    },
    {
     "name": "stderr",
     "output_type": "stream",
     "text": [
      "Epoch 5/45: 100%|██████████| 274/274 [00:26<00:00, 10.23batch/s]\n",
      "Epoch 6/45: 100%|██████████| 274/274 [00:19<00:00, 13.74batch/s]\n",
      "  0%|          | 0/274 [00:00<?, ?batch/s]"
     ]
    },
    {
     "name": "stdout",
     "output_type": "stream",
     "text": [
      "#assignments:  22017\n",
      "#assignments:  18850\n",
      "#assignments:  21087\n",
      "#assignments:  8046\n"
     ]
    },
    {
     "name": "stderr",
     "output_type": "stream",
     "text": [
      "Epoch 7/45:   0%|          | 1/274 [00:06<28:52,  6.35s/batch]"
     ]
    },
    {
     "name": "stdout",
     "output_type": "stream",
     "text": [
      "#assignments best node:  22017\n"
     ]
    },
    {
     "name": "stderr",
     "output_type": "stream",
     "text": [
      "Epoch 7/45: 100%|██████████| 274/274 [00:26<00:00, 10.17batch/s]\n",
      "Epoch 8/45: 100%|██████████| 274/274 [00:20<00:00, 13.10batch/s]\n",
      "  0%|          | 0/274 [00:00<?, ?batch/s]"
     ]
    },
    {
     "name": "stdout",
     "output_type": "stream",
     "text": [
      "#assignments:  12455\n",
      "#assignments:  9594\n",
      "#assignments:  18856\n",
      "#assignments:  21108\n",
      "#assignments:  7987\n"
     ]
    },
    {
     "name": "stderr",
     "output_type": "stream",
     "text": [
      "Epoch 9/45:   0%|          | 0/274 [00:06<?, ?batch/s]"
     ]
    },
    {
     "name": "stdout",
     "output_type": "stream",
     "text": [
      "#assignments best node:  12455\n"
     ]
    },
    {
     "name": "stderr",
     "output_type": "stream",
     "text": [
      "Epoch 9/45: 100%|██████████| 274/274 [00:28<00:00,  9.72batch/s]\n",
      "Epoch 10/45: 100%|██████████| 274/274 [00:21<00:00, 12.83batch/s]\n",
      "  0%|          | 0/274 [00:00<?, ?batch/s]"
     ]
    },
    {
     "name": "stdout",
     "output_type": "stream",
     "text": [
      "#assignments:  6260\n",
      "#assignments:  6266\n",
      "#assignments:  9579\n",
      "#assignments:  18851\n",
      "#assignments:  21070\n",
      "#assignments:  7974\n"
     ]
    },
    {
     "name": "stderr",
     "output_type": "stream",
     "text": [
      "Epoch 11/45:   0%|          | 0/274 [00:08<?, ?batch/s]"
     ]
    },
    {
     "name": "stdout",
     "output_type": "stream",
     "text": [
      "#assignments best node:  18851\n"
     ]
    },
    {
     "name": "stderr",
     "output_type": "stream",
     "text": [
      "Epoch 11/45: 100%|██████████| 274/274 [00:31<00:00,  8.66batch/s]\n",
      "Epoch 12/45: 100%|██████████| 274/274 [00:22<00:00, 12.31batch/s]\n",
      "  0%|          | 0/274 [00:00<?, ?batch/s]"
     ]
    },
    {
     "name": "stdout",
     "output_type": "stream",
     "text": [
      "#assignments:  6244\n",
      "#assignments:  6308\n",
      "#assignments:  9518\n",
      "#assignments:  14052\n",
      "#assignments:  4846\n",
      "#assignments:  21078\n",
      "#assignments:  7954\n"
     ]
    },
    {
     "name": "stderr",
     "output_type": "stream",
     "text": [
      "Epoch 13/45:   0%|          | 0/274 [00:10<?, ?batch/s]"
     ]
    },
    {
     "name": "stdout",
     "output_type": "stream",
     "text": [
      "#assignments best node:  14052\n"
     ]
    },
    {
     "name": "stderr",
     "output_type": "stream",
     "text": [
      "Epoch 13/45: 100%|██████████| 274/274 [00:34<00:00,  7.88batch/s]\n",
      "Epoch 14/45: 100%|██████████| 274/274 [00:23<00:00, 11.60batch/s]\n",
      "  0%|          | 0/274 [00:00<?, ?batch/s]"
     ]
    },
    {
     "name": "stdout",
     "output_type": "stream",
     "text": [
      "#assignments:  6252\n",
      "#assignments:  6352\n",
      "#assignments:  9573\n",
      "#assignments:  6882\n",
      "#assignments:  7133\n",
      "#assignments:  4863\n",
      "#assignments:  21015\n",
      "#assignments:  7930\n"
     ]
    },
    {
     "name": "stderr",
     "output_type": "stream",
     "text": [
      "Epoch 15/45:   0%|          | 0/274 [00:11<?, ?batch/s]"
     ]
    },
    {
     "name": "stdout",
     "output_type": "stream",
     "text": [
      "#assignments best node:  9573\n"
     ]
    },
    {
     "name": "stderr",
     "output_type": "stream",
     "text": [
      "Epoch 15/45: 100%|██████████| 274/274 [00:35<00:00,  7.78batch/s]\n",
      "Epoch 16/45: 100%|██████████| 274/274 [00:26<00:00, 10.18batch/s]\n",
      "  0%|          | 0/274 [00:00<?, ?batch/s]"
     ]
    },
    {
     "name": "stdout",
     "output_type": "stream",
     "text": [
      "#assignments:  6243\n",
      "#assignments:  6378\n",
      "#assignments:  7293\n",
      "#assignments:  2204\n",
      "#assignments:  6899\n",
      "#assignments:  7118\n",
      "#assignments:  4883\n",
      "#assignments:  21062\n",
      "#assignments:  7920\n"
     ]
    },
    {
     "name": "stderr",
     "output_type": "stream",
     "text": [
      "Epoch 17/45:   0%|          | 0/274 [00:13<?, ?batch/s]"
     ]
    },
    {
     "name": "stdout",
     "output_type": "stream",
     "text": [
      "#assignments best node:  21062\n"
     ]
    },
    {
     "name": "stderr",
     "output_type": "stream",
     "text": [
      "Epoch 17/45: 100%|██████████| 274/274 [00:38<00:00,  7.03batch/s]\n",
      "Epoch 18/45: 100%|██████████| 274/274 [00:24<00:00, 11.06batch/s]\n",
      "  0%|          | 0/274 [00:00<?, ?batch/s]"
     ]
    },
    {
     "name": "stdout",
     "output_type": "stream",
     "text": [
      "#assignments:  6264\n",
      "#assignments:  6358\n",
      "#assignments:  7311\n",
      "#assignments:  2193\n",
      "#assignments:  6903\n",
      "#assignments:  7093\n",
      "#assignments:  4873\n",
      "#assignments:  9216\n",
      "#assignments:  11858\n",
      "#assignments:  7931\n"
     ]
    },
    {
     "name": "stderr",
     "output_type": "stream",
     "text": [
      "Epoch 19/45:   0%|          | 1/274 [00:14<1:05:19, 14.36s/batch]"
     ]
    },
    {
     "name": "stdout",
     "output_type": "stream",
     "text": [
      "#assignments best node:  9216\n"
     ]
    },
    {
     "name": "stderr",
     "output_type": "stream",
     "text": [
      "Epoch 19/45: 100%|██████████| 274/274 [00:40<00:00,  6.82batch/s]\n",
      "Epoch 20/45: 100%|██████████| 274/274 [00:25<00:00, 10.67batch/s]\n",
      "  0%|          | 0/274 [00:00<?, ?batch/s]"
     ]
    },
    {
     "name": "stdout",
     "output_type": "stream",
     "text": [
      "#assignments:  6252\n",
      "#assignments:  6461\n",
      "#assignments:  7258\n",
      "#assignments:  2221\n",
      "#assignments:  6902\n",
      "#assignments:  7087\n",
      "#assignments:  4893\n",
      "#assignments:  5008\n",
      "#assignments:  4112\n",
      "#assignments:  11915\n",
      "#assignments:  7891\n"
     ]
    },
    {
     "name": "stderr",
     "output_type": "stream",
     "text": [
      "Epoch 21/45:   0%|          | 1/274 [00:13<1:00:12, 13.23s/batch]"
     ]
    },
    {
     "name": "stdout",
     "output_type": "stream",
     "text": [
      "#assignments best node:  11915\n"
     ]
    },
    {
     "name": "stderr",
     "output_type": "stream",
     "text": [
      "Epoch 21/45: 100%|██████████| 274/274 [00:39<00:00,  6.95batch/s]\n",
      "Epoch 22/45: 100%|██████████| 274/274 [00:26<00:00, 10.17batch/s]\n",
      "  0%|          | 0/274 [00:00<?, ?batch/s]"
     ]
    },
    {
     "name": "stdout",
     "output_type": "stream",
     "text": [
      "#assignments:  6265\n",
      "#assignments:  6361\n",
      "#assignments:  7369\n",
      "#assignments:  2178\n",
      "#assignments:  6884\n",
      "#assignments:  7081\n",
      "#assignments:  4921\n",
      "#assignments:  4188\n",
      "#assignments:  4847\n",
      "#assignments:  6576\n",
      "#assignments:  5440\n",
      "#assignments:  7890\n"
     ]
    },
    {
     "name": "stderr",
     "output_type": "stream",
     "text": [
      "Epoch 23/45:   0%|          | 0/274 [00:15<?, ?batch/s]"
     ]
    },
    {
     "name": "stdout",
     "output_type": "stream",
     "text": [
      "#assignments best node:  7890\n"
     ]
    },
    {
     "name": "stderr",
     "output_type": "stream",
     "text": [
      "Epoch 23/45: 100%|██████████| 274/274 [00:42<00:00,  6.43batch/s]\n",
      "Epoch 24/45: 100%|██████████| 274/274 [00:27<00:00, 10.00batch/s]\n",
      "  0%|          | 0/274 [00:00<?, ?batch/s]"
     ]
    },
    {
     "name": "stdout",
     "output_type": "stream",
     "text": [
      "#assignments:  6240\n",
      "#assignments:  6390\n",
      "#assignments:  7349\n",
      "#assignments:  2163\n",
      "#assignments:  6880\n",
      "#assignments:  7068\n",
      "#assignments:  4933\n",
      "#assignments:  4196\n",
      "#assignments:  4677\n",
      "#assignments:  3752\n",
      "#assignments:  8429\n",
      "#assignments:  3885\n",
      "#assignments:  4038\n"
     ]
    },
    {
     "name": "stderr",
     "output_type": "stream",
     "text": [
      "Epoch 25/45:   0%|          | 0/274 [00:15<?, ?batch/s]"
     ]
    },
    {
     "name": "stdout",
     "output_type": "stream",
     "text": [
      "#assignments best node:  8429\n"
     ]
    },
    {
     "name": "stderr",
     "output_type": "stream",
     "text": [
      "Epoch 25/45: 100%|██████████| 274/274 [00:44<00:00,  6.23batch/s]\n",
      "Epoch 26/45: 100%|██████████| 274/274 [00:31<00:00,  8.81batch/s]\n",
      "  0%|          | 0/274 [00:00<?, ?batch/s]"
     ]
    },
    {
     "name": "stdout",
     "output_type": "stream",
     "text": [
      "#assignments:  6273\n",
      "#assignments:  6431\n",
      "#assignments:  7300\n",
      "#assignments:  2192\n",
      "#assignments:  6878\n",
      "#assignments:  7057\n",
      "#assignments:  4921\n",
      "#assignments:  4119\n",
      "#assignments:  4679\n",
      "#assignments:  5920\n",
      "#assignments:  1606\n",
      "#assignments:  4706\n",
      "#assignments:  3972\n",
      "#assignments:  3946\n"
     ]
    },
    {
     "name": "stderr",
     "output_type": "stream",
     "text": [
      "Epoch 27/45:   0%|          | 0/274 [00:19<?, ?batch/s]"
     ]
    },
    {
     "name": "stdout",
     "output_type": "stream",
     "text": [
      "#assignments best node:  7300\n"
     ]
    },
    {
     "name": "stderr",
     "output_type": "stream",
     "text": [
      "Epoch 27/45: 100%|██████████| 274/274 [00:48<00:00,  5.60batch/s]\n",
      "Epoch 28/45: 100%|██████████| 274/274 [00:28<00:00,  9.48batch/s]\n",
      "  0%|          | 0/274 [00:00<?, ?batch/s]"
     ]
    },
    {
     "name": "stdout",
     "output_type": "stream",
     "text": [
      "#assignments:  6276\n",
      "#assignments:  6448\n",
      "#assignments:  4186\n",
      "#assignments:  3102\n",
      "#assignments:  2236\n",
      "#assignments:  6862\n",
      "#assignments:  7058\n",
      "#assignments:  4890\n",
      "#assignments:  4063\n",
      "#assignments:  4708\n",
      "#assignments:  8238\n",
      "#assignments:  721\n",
      "#assignments:  3307\n",
      "#assignments:  4013\n",
      "#assignments:  3892\n"
     ]
    },
    {
     "name": "stderr",
     "output_type": "stream",
     "text": [
      "Epoch 29/45:   0%|          | 0/274 [00:15<?, ?batch/s]"
     ]
    },
    {
     "name": "stdout",
     "output_type": "stream",
     "text": [
      "#assignments best node:  8238\n"
     ]
    },
    {
     "name": "stderr",
     "output_type": "stream",
     "text": [
      "Epoch 29/45: 100%|██████████| 274/274 [00:45<00:00,  6.05batch/s]\n",
      "Epoch 30/45: 100%|██████████| 274/274 [00:29<00:00,  9.29batch/s]\n",
      "  0%|          | 0/274 [00:00<?, ?batch/s]"
     ]
    },
    {
     "name": "stdout",
     "output_type": "stream",
     "text": [
      "#assignments:  6279\n",
      "#assignments:  6442\n",
      "#assignments:  3153\n",
      "#assignments:  4141\n",
      "#assignments:  2206\n",
      "#assignments:  6894\n",
      "#assignments:  7053\n",
      "#assignments:  4917\n",
      "#assignments:  4256\n",
      "#assignments:  4528\n",
      "#assignments:  3016\n",
      "#assignments:  1087\n",
      "#assignments:  2743\n",
      "#assignments:  5396\n",
      "#assignments:  3988\n",
      "#assignments:  3901\n"
     ]
    },
    {
     "name": "stderr",
     "output_type": "stream",
     "text": [
      "Epoch 31/45:   0%|          | 0/274 [00:19<?, ?batch/s]"
     ]
    },
    {
     "name": "stdout",
     "output_type": "stream",
     "text": [
      "#assignments best node:  7053\n"
     ]
    },
    {
     "name": "stderr",
     "output_type": "stream",
     "text": [
      "Epoch 31/45: 100%|██████████| 274/274 [00:50<00:00,  5.44batch/s]\n",
      "Epoch 32/45: 100%|██████████| 274/274 [00:30<00:00,  8.97batch/s]\n",
      "  0%|          | 0/274 [00:00<?, ?batch/s]"
     ]
    },
    {
     "name": "stdout",
     "output_type": "stream",
     "text": [
      "#assignments:  6284\n",
      "#assignments:  6437\n",
      "#assignments:  3197\n",
      "#assignments:  4128\n",
      "#assignments:  2241\n",
      "#assignments:  6857\n",
      "#assignments:  3155\n",
      "#assignments:  3903\n",
      "#assignments:  4860\n",
      "#assignments:  4213\n",
      "#assignments:  4542\n",
      "#assignments:  5262\n",
      "#assignments:  2795\n",
      "#assignments:  775\n",
      "#assignments:  3445\n",
      "#assignments:  3988\n"
     ]
    },
    {
     "name": "stderr",
     "output_type": "stream",
     "text": [
      "Epoch 33/45:   0%|          | 0/274 [00:17<?, ?batch/s]"
     ]
    },
    {
     "name": "stdout",
     "output_type": "stream",
     "text": [
      "#assignments:  3918\n",
      "#assignments best node:  4213\n"
     ]
    },
    {
     "name": "stderr",
     "output_type": "stream",
     "text": [
      "Epoch 33/45: 100%|██████████| 274/274 [00:49<00:00,  5.57batch/s]\n",
      "Epoch 34/45: 100%|██████████| 274/274 [00:31<00:00,  8.73batch/s]\n",
      "  0%|          | 0/274 [00:00<?, ?batch/s]"
     ]
    },
    {
     "name": "stdout",
     "output_type": "stream",
     "text": [
      "#assignments:  6273\n",
      "#assignments:  6458\n",
      "#assignments:  3268\n",
      "#assignments:  4052\n",
      "#assignments:  2248\n",
      "#assignments:  6868\n",
      "#assignments:  3655\n",
      "#assignments:  3411\n",
      "#assignments:  4877\n",
      "#assignments:  2689\n",
      "#assignments:  1588\n",
      "#assignments:  4476\n",
      "#assignments:  2419\n",
      "#assignments:  2708\n",
      "#assignments:  1941\n",
      "#assignments:  5153\n",
      "#assignments:  4020\n",
      "#assignments:  3896\n"
     ]
    },
    {
     "name": "stderr",
     "output_type": "stream",
     "text": [
      "Epoch 35/45:   0%|          | 0/274 [00:25<?, ?batch/s]"
     ]
    },
    {
     "name": "stdout",
     "output_type": "stream",
     "text": [
      "#assignments best node:  6458\n"
     ]
    },
    {
     "name": "stderr",
     "output_type": "stream",
     "text": [
      "Epoch 35/45: 100%|██████████| 274/274 [00:59<00:00,  4.58batch/s]\n",
      "Epoch 36/45: 100%|██████████| 274/274 [00:32<00:00,  8.46batch/s]\n",
      "  0%|          | 0/274 [00:00<?, ?batch/s]"
     ]
    },
    {
     "name": "stdout",
     "output_type": "stream",
     "text": [
      "#assignments:  6259\n",
      "#assignments:  2836\n",
      "#assignments:  3638\n",
      "#assignments:  2619\n",
      "#assignments:  4729\n",
      "#assignments:  2255\n",
      "#assignments:  6884\n",
      "#assignments:  3343\n",
      "#assignments:  3705\n",
      "#assignments:  4863\n",
      "#assignments:  2827\n",
      "#assignments:  1420\n",
      "#assignments:  4527\n",
      "#assignments:  4753\n",
      "#assignments:  1510\n",
      "#assignments:  1293\n",
      "#assignments:  4654\n",
      "#assignments:  3985\n",
      "#assignments:  3900\n"
     ]
    },
    {
     "name": "stderr",
     "output_type": "stream",
     "text": [
      "Epoch 37/45:   0%|          | 0/274 [00:20<?, ?batch/s]"
     ]
    },
    {
     "name": "stdout",
     "output_type": "stream",
     "text": [
      "#assignments best node:  6884\n"
     ]
    },
    {
     "name": "stderr",
     "output_type": "stream",
     "text": [
      "Epoch 37/45: 100%|██████████| 274/274 [00:53<00:00,  5.11batch/s]\n",
      "Epoch 38/45: 100%|██████████| 274/274 [00:34<00:00,  8.03batch/s]\n",
      "Epoch 39/45: 100%|██████████| 274/274 [00:33<00:00,  8.30batch/s]\n",
      "Epoch 40/45: 100%|██████████| 274/274 [00:33<00:00,  8.26batch/s]\n",
      "Epoch 41/45: 100%|██████████| 274/274 [00:33<00:00,  8.26batch/s]\n",
      "Epoch 42/45: 100%|██████████| 274/274 [00:33<00:00,  8.22batch/s]\n",
      "Epoch 43/45: 100%|██████████| 274/274 [00:33<00:00,  8.29batch/s]\n",
      "Epoch 44/45: 100%|██████████| 274/274 [00:37<00:00,  7.28batch/s]\n",
      "Epoch 45/45: 100%|██████████| 274/274 [00:33<00:00,  8.27batch/s]\n",
      "Predict: 100%|██████████| 274/274 [00:04<00:00, 65.62it/s]\n"
     ]
    }
   ],
   "source": [
    "dataset, labels = load_mnist(return_X_y=True)\n",
    "autoencoder = FeedforwardAutoencoder([dataset.shape[1], 500, 500, 2000, 10])\n",
    "autoencoder.load_state_dict(torch.load(\"practical/DeepClustering/DipECT/pretrained_AE_MNIST_seed15.pth\"))\n",
    "autoencoder.fitted = True\n",
    "dipect_test_s10 = DipECT(autoencoder=autoencoder, use_pvalue=False, grow_interval=2, max_epochs=45, unimodal_treshhold=1.0, random_state=np.random.RandomState(15), reconstruction_loss_weight=30)\n",
    "dipect_test_s10 = dipect_test_s10.fit_predict(dataset/255)"
   ]
  },
  {
   "cell_type": "code",
   "execution_count": 18,
   "metadata": {},
   "outputs": [
    {
     "name": "stdout",
     "output_type": "stream",
     "text": [
      "0.8360571428571428\n",
      "0.8453257479757086\n"
     ]
    }
   ],
   "source": [
    "print(dipect_test_s10.tree_.flat_accuracy(labels, 10))\n",
    "print(dipect_test_s10.tree_.flat_nmi(labels, 10))"
   ]
  },
  {
   "cell_type": "code",
   "execution_count": 23,
   "metadata": {},
   "outputs": [
    {
     "name": "stdout",
     "output_type": "stream",
     "text": [
      "cpu\n"
     ]
    },
    {
     "name": "stderr",
     "output_type": "stream",
     "text": [
      "Epoch 1/45: 100%|██████████| 274/274 [00:22<00:00, 12.22batch/s]\n",
      "Epoch 2/45: 100%|██████████| 274/274 [00:21<00:00, 12.72batch/s]\n",
      "  0%|          | 0/274 [00:00<?, ?batch/s]"
     ]
    },
    {
     "name": "stdout",
     "output_type": "stream",
     "text": [
      "#assignments:  40404\n",
      "#assignments:  29596\n"
     ]
    },
    {
     "name": "stderr",
     "output_type": "stream",
     "text": [
      "Epoch 3/45:   0%|          | 1/274 [00:06<28:12,  6.20s/batch]"
     ]
    },
    {
     "name": "stdout",
     "output_type": "stream",
     "text": [
      "#assignments best node:  40404\n"
     ]
    },
    {
     "name": "stderr",
     "output_type": "stream",
     "text": [
      "Epoch 3/45: 100%|██████████| 274/274 [00:29<00:00,  9.39batch/s]\n",
      "Epoch 4/45: 100%|██████████| 274/274 [00:22<00:00, 11.98batch/s]\n",
      "  0%|          | 0/274 [00:00<?, ?batch/s]"
     ]
    },
    {
     "name": "stdout",
     "output_type": "stream",
     "text": [
      "#assignments:  21891\n",
      "#assignments:  18821\n",
      "#assignments:  29288\n"
     ]
    },
    {
     "name": "stderr",
     "output_type": "stream",
     "text": [
      "Epoch 5/45:   0%|          | 1/274 [00:05<26:09,  5.75s/batch]"
     ]
    },
    {
     "name": "stdout",
     "output_type": "stream",
     "text": [
      "#assignments best node:  29288\n"
     ]
    },
    {
     "name": "stderr",
     "output_type": "stream",
     "text": [
      "Epoch 5/45: 100%|██████████| 274/274 [00:30<00:00,  9.02batch/s]\n",
      "Epoch 6/45: 100%|██████████| 274/274 [00:24<00:00, 11.20batch/s]\n",
      "  0%|          | 0/274 [00:00<?, ?batch/s]"
     ]
    },
    {
     "name": "stdout",
     "output_type": "stream",
     "text": [
      "#assignments:  22033\n",
      "#assignments:  18723\n",
      "#assignments:  21189\n",
      "#assignments:  8055\n"
     ]
    },
    {
     "name": "stderr",
     "output_type": "stream",
     "text": [
      "Epoch 7/45:   0%|          | 0/274 [00:06<?, ?batch/s]"
     ]
    },
    {
     "name": "stdout",
     "output_type": "stream",
     "text": [
      "#assignments best node:  22033\n"
     ]
    },
    {
     "name": "stderr",
     "output_type": "stream",
     "text": [
      "Epoch 7/45: 100%|██████████| 274/274 [00:32<00:00,  8.52batch/s]\n",
      "Epoch 8/45: 100%|██████████| 274/274 [00:30<00:00,  8.87batch/s]\n",
      "  0%|          | 0/274 [00:00<?, ?batch/s]"
     ]
    },
    {
     "name": "stdout",
     "output_type": "stream",
     "text": [
      "#assignments:  9719\n",
      "#assignments:  12342\n",
      "#assignments:  18806\n",
      "#assignments:  21163\n",
      "#assignments:  7970\n"
     ]
    },
    {
     "name": "stderr",
     "output_type": "stream",
     "text": [
      "Epoch 9/45:   0%|          | 0/274 [00:10<?, ?batch/s]"
     ]
    },
    {
     "name": "stdout",
     "output_type": "stream",
     "text": [
      "#assignments best node:  12342\n"
     ]
    },
    {
     "name": "stderr",
     "output_type": "stream",
     "text": [
      "Epoch 9/45: 100%|██████████| 274/274 [00:45<00:00,  5.99batch/s]\n",
      "Epoch 10/45: 100%|██████████| 274/274 [00:37<00:00,  7.25batch/s]\n",
      "  0%|          | 0/274 [00:00<?, ?batch/s]"
     ]
    },
    {
     "name": "stdout",
     "output_type": "stream",
     "text": [
      "#assignments:  9631\n",
      "#assignments:  6228\n",
      "#assignments:  6196\n",
      "#assignments:  18851\n",
      "#assignments:  21120\n",
      "#assignments:  7974\n"
     ]
    },
    {
     "name": "stderr",
     "output_type": "stream",
     "text": [
      "Epoch 11/45:   0%|          | 0/274 [00:09<?, ?batch/s]"
     ]
    },
    {
     "name": "stdout",
     "output_type": "stream",
     "text": [
      "#assignments best node:  18851\n"
     ]
    },
    {
     "name": "stderr",
     "output_type": "stream",
     "text": [
      "Epoch 11/45: 100%|██████████| 274/274 [00:45<00:00,  5.98batch/s]\n",
      "Epoch 12/45: 100%|██████████| 274/274 [00:33<00:00,  8.12batch/s]\n",
      "  0%|          | 0/274 [00:00<?, ?batch/s]"
     ]
    },
    {
     "name": "stdout",
     "output_type": "stream",
     "text": [
      "#assignments:  9620\n",
      "#assignments:  6224\n",
      "#assignments:  6270\n",
      "#assignments:  14054\n",
      "#assignments:  4770\n",
      "#assignments:  21113\n",
      "#assignments:  7949\n"
     ]
    },
    {
     "name": "stderr",
     "output_type": "stream",
     "text": [
      "Epoch 13/45:   0%|          | 0/274 [00:10<?, ?batch/s]"
     ]
    },
    {
     "name": "stdout",
     "output_type": "stream",
     "text": [
      "#assignments best node:  14054\n"
     ]
    },
    {
     "name": "stderr",
     "output_type": "stream",
     "text": [
      "Epoch 13/45: 100%|██████████| 274/274 [00:48<00:00,  5.61batch/s]\n",
      "Epoch 14/45: 100%|██████████| 274/274 [00:38<00:00,  7.09batch/s]\n",
      "  0%|          | 0/274 [00:00<?, ?batch/s]"
     ]
    },
    {
     "name": "stdout",
     "output_type": "stream",
     "text": [
      "#assignments:  9550\n",
      "#assignments:  6265\n",
      "#assignments:  6341\n",
      "#assignments:  7125\n",
      "#assignments:  6895\n",
      "#assignments:  4804\n",
      "#assignments:  21111\n",
      "#assignments:  7909\n"
     ]
    },
    {
     "name": "stderr",
     "output_type": "stream",
     "text": [
      "Epoch 15/45:   0%|          | 1/274 [00:12<55:11, 12.13s/batch]"
     ]
    },
    {
     "name": "stdout",
     "output_type": "stream",
     "text": [
      "#assignments best node:  9550\n"
     ]
    },
    {
     "name": "stderr",
     "output_type": "stream",
     "text": [
      "Epoch 15/45: 100%|██████████| 274/274 [00:49<00:00,  5.49batch/s]\n",
      "Epoch 16/45: 100%|██████████| 274/274 [00:39<00:00,  7.00batch/s]\n",
      "  0%|          | 0/274 [00:00<?, ?batch/s]"
     ]
    },
    {
     "name": "stdout",
     "output_type": "stream",
     "text": [
      "#assignments:  2270\n",
      "#assignments:  7268\n",
      "#assignments:  6243\n",
      "#assignments:  6407\n",
      "#assignments:  7115\n",
      "#assignments:  6877\n",
      "#assignments:  4784\n",
      "#assignments:  21136\n",
      "#assignments:  7900\n"
     ]
    },
    {
     "name": "stderr",
     "output_type": "stream",
     "text": [
      "Epoch 17/45:   0%|          | 0/274 [00:13<?, ?batch/s]"
     ]
    },
    {
     "name": "stdout",
     "output_type": "stream",
     "text": [
      "#assignments best node:  21136\n"
     ]
    },
    {
     "name": "stderr",
     "output_type": "stream",
     "text": [
      "Epoch 17/45: 100%|██████████| 274/274 [00:55<00:00,  4.94batch/s]\n",
      "Epoch 18/45: 100%|██████████| 274/274 [00:41<00:00,  6.54batch/s]\n",
      "  0%|          | 0/274 [00:00<?, ?batch/s]"
     ]
    },
    {
     "name": "stdout",
     "output_type": "stream",
     "text": [
      "#assignments:  2251\n",
      "#assignments:  7282\n",
      "#assignments:  6274\n",
      "#assignments:  6377\n",
      "#assignments:  7107\n",
      "#assignments:  6882\n",
      "#assignments:  4833\n",
      "#assignments:  11498\n",
      "#assignments:  9580\n",
      "#assignments:  7916\n"
     ]
    },
    {
     "name": "stderr",
     "output_type": "stream",
     "text": [
      "Epoch 19/45:   0%|          | 0/274 [00:14<?, ?batch/s]"
     ]
    },
    {
     "name": "stdout",
     "output_type": "stream",
     "text": [
      "#assignments best node:  11498\n"
     ]
    },
    {
     "name": "stderr",
     "output_type": "stream",
     "text": [
      "Epoch 19/45: 100%|██████████| 274/274 [00:57<00:00,  4.73batch/s]\n",
      "Epoch 20/45: 100%|██████████| 274/274 [00:45<00:00,  6.08batch/s]\n",
      "  0%|          | 0/274 [00:00<?, ?batch/s]"
     ]
    },
    {
     "name": "stdout",
     "output_type": "stream",
     "text": [
      "#assignments:  2286\n",
      "#assignments:  7308\n",
      "#assignments:  6248\n",
      "#assignments:  6390\n",
      "#assignments:  7077\n",
      "#assignments:  6886\n",
      "#assignments:  4794\n",
      "#assignments:  3136\n",
      "#assignments:  8785\n",
      "#assignments:  9202\n",
      "#assignments:  7888\n"
     ]
    },
    {
     "name": "stderr",
     "output_type": "stream",
     "text": [
      "Epoch 21/45:   0%|          | 0/274 [00:15<?, ?batch/s]"
     ]
    },
    {
     "name": "stdout",
     "output_type": "stream",
     "text": [
      "#assignments best node:  9202\n"
     ]
    },
    {
     "name": "stderr",
     "output_type": "stream",
     "text": [
      "Epoch 21/45: 100%|██████████| 274/274 [00:57<00:00,  4.79batch/s]\n",
      "Epoch 22/45: 100%|██████████| 274/274 [00:37<00:00,  7.39batch/s]\n",
      "  0%|          | 0/274 [00:00<?, ?batch/s]"
     ]
    },
    {
     "name": "stdout",
     "output_type": "stream",
     "text": [
      "#assignments:  2298\n",
      "#assignments:  7340\n",
      "#assignments:  6229\n",
      "#assignments:  6358\n",
      "#assignments:  7078\n",
      "#assignments:  6886\n",
      "#assignments:  4791\n",
      "#assignments:  7468\n",
      "#assignments:  4636\n",
      "#assignments:  4612\n",
      "#assignments:  4408\n",
      "#assignments:  7896\n"
     ]
    },
    {
     "name": "stderr",
     "output_type": "stream",
     "text": [
      "Epoch 23/45:   0%|          | 0/274 [00:19<?, ?batch/s]"
     ]
    },
    {
     "name": "stdout",
     "output_type": "stream",
     "text": [
      "#assignments best node:  7468\n"
     ]
    },
    {
     "name": "stderr",
     "output_type": "stream",
     "text": [
      "Epoch 23/45: 100%|██████████| 274/274 [01:05<00:00,  4.20batch/s]\n",
      "Epoch 24/45: 100%|██████████| 274/274 [00:48<00:00,  5.71batch/s]\n",
      "  0%|          | 0/274 [00:00<?, ?batch/s]"
     ]
    },
    {
     "name": "stdout",
     "output_type": "stream",
     "text": [
      "#assignments:  2303\n",
      "#assignments:  7290\n",
      "#assignments:  6263\n",
      "#assignments:  6371\n",
      "#assignments:  7081\n",
      "#assignments:  6923\n",
      "#assignments:  4812\n",
      "#assignments:  4219\n",
      "#assignments:  2336\n",
      "#assignments:  5774\n",
      "#assignments:  4731\n",
      "#assignments:  4009\n",
      "#assignments:  7888\n"
     ]
    },
    {
     "name": "stderr",
     "output_type": "stream",
     "text": [
      "Epoch 25/45:   0%|          | 0/274 [00:18<?, ?batch/s]"
     ]
    },
    {
     "name": "stdout",
     "output_type": "stream",
     "text": [
      "#assignments best node:  4009\n"
     ]
    },
    {
     "name": "stderr",
     "output_type": "stream",
     "text": [
      "Epoch 25/45: 100%|██████████| 274/274 [01:07<00:00,  4.07batch/s]\n",
      "Epoch 26/45: 100%|██████████| 274/274 [00:49<00:00,  5.54batch/s]\n",
      "  0%|          | 0/274 [00:00<?, ?batch/s]"
     ]
    },
    {
     "name": "stdout",
     "output_type": "stream",
     "text": [
      "#assignments:  2326\n",
      "#assignments:  7292\n",
      "#assignments:  6257\n",
      "#assignments:  6390\n",
      "#assignments:  7069\n",
      "#assignments:  6899\n",
      "#assignments:  4795\n",
      "#assignments:  4787\n",
      "#assignments:  3051\n",
      "#assignments:  4600\n",
      "#assignments:  4698\n",
      "#assignments:  2733\n",
      "#assignments:  1202\n",
      "#assignments:  7901\n"
     ]
    },
    {
     "name": "stderr",
     "output_type": "stream",
     "text": [
      "Epoch 27/45:   0%|          | 0/274 [00:19<?, ?batch/s]"
     ]
    },
    {
     "name": "stdout",
     "output_type": "stream",
     "text": [
      "#assignments best node:  7901\n"
     ]
    },
    {
     "name": "stderr",
     "output_type": "stream",
     "text": [
      "Epoch 27/45: 100%|██████████| 274/274 [01:10<00:00,  3.88batch/s]\n",
      "Epoch 28/45: 100%|██████████| 274/274 [00:51<00:00,  5.33batch/s]\n",
      "  0%|          | 0/274 [00:00<?, ?batch/s]"
     ]
    },
    {
     "name": "stdout",
     "output_type": "stream",
     "text": [
      "#assignments:  2300\n",
      "#assignments:  7302\n",
      "#assignments:  6254\n",
      "#assignments:  6394\n",
      "#assignments:  7061\n",
      "#assignments:  6905\n",
      "#assignments:  4802\n",
      "#assignments:  4536\n",
      "#assignments:  2190\n",
      "#assignments:  5732\n",
      "#assignments:  4707\n",
      "#assignments:  2672\n",
      "#assignments:  1271\n",
      "#assignments:  3853\n",
      "#assignments:  4021\n"
     ]
    },
    {
     "name": "stderr",
     "output_type": "stream",
     "text": [
      "Epoch 29/45:   0%|          | 0/274 [00:21<?, ?batch/s]"
     ]
    },
    {
     "name": "stdout",
     "output_type": "stream",
     "text": [
      "#assignments best node:  5732\n"
     ]
    },
    {
     "name": "stderr",
     "output_type": "stream",
     "text": [
      "Epoch 29/45: 100%|██████████| 274/274 [01:14<00:00,  3.70batch/s]\n",
      "Epoch 30/45: 100%|██████████| 274/274 [00:52<00:00,  5.25batch/s]\n",
      "  0%|          | 0/274 [00:00<?, ?batch/s]"
     ]
    },
    {
     "name": "stdout",
     "output_type": "stream",
     "text": [
      "#assignments:  2309\n",
      "#assignments:  7297\n",
      "#assignments:  6249\n",
      "#assignments:  6409\n",
      "#assignments:  7071\n",
      "#assignments:  6897\n",
      "#assignments:  4814\n",
      "#assignments:  4513\n",
      "#assignments:  2307\n",
      "#assignments:  3210\n",
      "#assignments:  2288\n",
      "#assignments:  4512\n",
      "#assignments:  2834\n",
      "#assignments:  1399\n",
      "#assignments:  3833\n",
      "#assignments:  4058\n"
     ]
    },
    {
     "name": "stderr",
     "output_type": "stream",
     "text": [
      "Epoch 31/45:   0%|          | 0/274 [00:21<?, ?batch/s]"
     ]
    },
    {
     "name": "stdout",
     "output_type": "stream",
     "text": [
      "#assignments best node:  7297\n"
     ]
    },
    {
     "name": "stderr",
     "output_type": "stream",
     "text": [
      "Epoch 31/45: 100%|██████████| 274/274 [01:15<00:00,  3.62batch/s]\n",
      "Epoch 32/45: 100%|██████████| 274/274 [00:51<00:00,  5.28batch/s]\n",
      "  0%|          | 0/274 [00:00<?, ?batch/s]"
     ]
    },
    {
     "name": "stdout",
     "output_type": "stream",
     "text": [
      "#assignments:  2298\n",
      "#assignments:  3388\n",
      "#assignments:  3916\n",
      "#assignments:  6235\n",
      "#assignments:  6377\n",
      "#assignments:  7066\n",
      "#assignments:  6885\n",
      "#assignments:  4811\n",
      "#assignments:  5008\n",
      "#assignments:  2498\n",
      "#assignments:  3223\n",
      "#assignments:  1669\n",
      "#assignments:  4486\n",
      "#assignments:  2917\n",
      "#assignments:  1288\n",
      "#assignments:  3840\n",
      "#assignments:  4095\n"
     ]
    },
    {
     "name": "stderr",
     "output_type": "stream",
     "text": [
      "Epoch 33/45:   0%|          | 0/274 [00:22<?, ?batch/s]"
     ]
    },
    {
     "name": "stdout",
     "output_type": "stream",
     "text": [
      "#assignments best node:  6885\n"
     ]
    },
    {
     "name": "stderr",
     "output_type": "stream",
     "text": [
      "Epoch 33/45: 100%|██████████| 274/274 [01:18<00:00,  3.49batch/s]\n",
      "Epoch 34/45: 100%|██████████| 274/274 [00:55<00:00,  4.98batch/s]\n",
      "  0%|          | 0/274 [00:00<?, ?batch/s]"
     ]
    },
    {
     "name": "stdout",
     "output_type": "stream",
     "text": [
      "#assignments:  2329\n",
      "#assignments:  4223\n",
      "#assignments:  3065\n",
      "#assignments:  6293\n",
      "#assignments:  6455\n",
      "#assignments:  7055\n",
      "#assignments:  3766\n",
      "#assignments:  3100\n",
      "#assignments:  4779\n",
      "#assignments:  4766\n",
      "#assignments:  2103\n",
      "#assignments:  3546\n",
      "#assignments:  1851\n",
      "#assignments:  4408\n",
      "#assignments:  2967\n",
      "#assignments:  1397\n",
      "#assignments:  3833\n",
      "#assignments:  4064\n"
     ]
    },
    {
     "name": "stderr",
     "output_type": "stream",
     "text": [
      "Epoch 35/45:   0%|          | 0/274 [00:23<?, ?batch/s]"
     ]
    },
    {
     "name": "stdout",
     "output_type": "stream",
     "text": [
      "#assignments best node:  7055\n"
     ]
    },
    {
     "name": "stderr",
     "output_type": "stream",
     "text": [
      "Epoch 35/45: 100%|██████████| 274/274 [01:20<00:00,  3.42batch/s]\n",
      "Epoch 36/45: 100%|██████████| 274/274 [00:58<00:00,  4.70batch/s]\n",
      "  0%|          | 0/274 [00:00<?, ?batch/s]"
     ]
    },
    {
     "name": "stdout",
     "output_type": "stream",
     "text": [
      "#assignments:  2285\n",
      "#assignments:  3659\n",
      "#assignments:  3649\n",
      "#assignments:  6249\n",
      "#assignments:  6424\n",
      "#assignments:  3566\n",
      "#assignments:  3483\n",
      "#assignments:  2859\n",
      "#assignments:  4016\n",
      "#assignments:  4817\n",
      "#assignments:  5013\n",
      "#assignments:  2237\n",
      "#assignments:  3481\n",
      "#assignments:  1639\n",
      "#assignments:  4493\n",
      "#assignments:  2878\n",
      "#assignments:  1364\n",
      "#assignments:  3874\n",
      "#assignments:  4014\n"
     ]
    },
    {
     "name": "stderr",
     "output_type": "stream",
     "text": [
      "Epoch 37/45:   0%|          | 0/274 [00:24<?, ?batch/s]"
     ]
    },
    {
     "name": "stdout",
     "output_type": "stream",
     "text": [
      "#assignments best node:  6424\n"
     ]
    },
    {
     "name": "stderr",
     "output_type": "stream",
     "text": [
      "Epoch 37/45: 100%|██████████| 274/274 [01:21<00:00,  3.34batch/s]\n",
      "Epoch 38/45: 100%|██████████| 274/274 [00:53<00:00,  5.11batch/s]\n",
      "Epoch 39/45: 100%|██████████| 274/274 [00:47<00:00,  5.79batch/s]\n",
      "Epoch 40/45: 100%|██████████| 274/274 [08:07<00:00,  1.78s/batch]  \n",
      "Epoch 41/45: 100%|██████████| 274/274 [01:01<00:00,  4.44batch/s]\n",
      "Epoch 42/45: 100%|██████████| 274/274 [01:00<00:00,  4.56batch/s]\n",
      "Epoch 43/45: 100%|██████████| 274/274 [01:01<00:00,  4.45batch/s]\n",
      "Epoch 44/45: 100%|██████████| 274/274 [01:00<00:00,  4.50batch/s]\n",
      "Epoch 45/45: 100%|██████████| 274/274 [01:03<00:00,  4.34batch/s]\n",
      "Predict: 100%|██████████| 274/274 [00:07<00:00, 36.59it/s]\n"
     ]
    }
   ],
   "source": [
    "dataset, labels = load_mnist(return_X_y=True)\n",
    "autoencoder = FeedforwardAutoencoder([dataset.shape[1], 500, 500, 2000, 10])\n",
    "autoencoder.load_state_dict(torch.load(\"practical/DeepClustering/DipECT/pretrained_AE_MNIST_seed15.pth\"))\n",
    "autoencoder.fitted = True\n",
    "dipect_test_s12 = DipECT(autoencoder=autoencoder, use_pvalue=False, grow_interval=2, max_epochs=45, unimodal_treshhold=1.0, random_state=np.random.RandomState(15), reconstruction_loss_weight=35)\n",
    "dipect_test_s12 = dipect_test_s12.fit_predict(dataset/255)"
   ]
  },
  {
   "cell_type": "code",
   "execution_count": 26,
   "metadata": {},
   "outputs": [
    {
     "name": "stdout",
     "output_type": "stream",
     "text": [
      "0.8341428571428572\n",
      "0.8440907355130716\n"
     ]
    }
   ],
   "source": [
    "print(dipect_test_s12.tree_.flat_accuracy(labels, 10))\n",
    "print(dipect_test_s12.tree_.flat_nmi(labels, 10))"
   ]
  },
  {
   "cell_type": "code",
   "execution_count": 24,
   "metadata": {},
   "outputs": [
    {
     "name": "stdout",
     "output_type": "stream",
     "text": [
      "cpu\n"
     ]
    },
    {
     "name": "stderr",
     "output_type": "stream",
     "text": [
      "Epoch 1/45: 100%|██████████| 274/274 [00:27<00:00, 10.01batch/s]\n",
      "Epoch 2/45: 100%|██████████| 274/274 [00:25<00:00, 10.76batch/s]\n",
      "  0%|          | 0/274 [00:00<?, ?batch/s]"
     ]
    },
    {
     "name": "stdout",
     "output_type": "stream",
     "text": [
      "#assignments:  40669\n",
      "#assignments:  29331\n"
     ]
    },
    {
     "name": "stderr",
     "output_type": "stream",
     "text": [
      "Epoch 3/45:   0%|          | 0/274 [00:06<?, ?batch/s]"
     ]
    },
    {
     "name": "stdout",
     "output_type": "stream",
     "text": [
      "#assignments best node:  40669\n"
     ]
    },
    {
     "name": "stderr",
     "output_type": "stream",
     "text": [
      "Epoch 3/45: 100%|██████████| 274/274 [00:34<00:00,  7.88batch/s]\n",
      "Epoch 4/45: 100%|██████████| 274/274 [00:27<00:00,  9.99batch/s]\n",
      "  0%|          | 0/274 [00:00<?, ?batch/s]"
     ]
    },
    {
     "name": "stdout",
     "output_type": "stream",
     "text": [
      "#assignments:  18783\n",
      "#assignments:  21995\n",
      "#assignments:  29222\n"
     ]
    },
    {
     "name": "stderr",
     "output_type": "stream",
     "text": [
      "Epoch 5/45:   0%|          | 0/274 [00:08<?, ?batch/s]"
     ]
    },
    {
     "name": "stdout",
     "output_type": "stream",
     "text": [
      "#assignments best node:  29222\n"
     ]
    },
    {
     "name": "stderr",
     "output_type": "stream",
     "text": [
      "Epoch 5/45: 100%|██████████| 274/274 [00:38<00:00,  7.19batch/s]\n",
      "Epoch 6/45: 100%|██████████| 274/274 [00:28<00:00,  9.48batch/s]\n",
      "  0%|          | 0/274 [00:00<?, ?batch/s]"
     ]
    },
    {
     "name": "stdout",
     "output_type": "stream",
     "text": [
      "#assignments:  18839\n",
      "#assignments:  21989\n",
      "#assignments:  21186\n",
      "#assignments:  7986\n"
     ]
    },
    {
     "name": "stderr",
     "output_type": "stream",
     "text": [
      "Epoch 7/45:   0%|          | 0/274 [00:07<?, ?batch/s]"
     ]
    },
    {
     "name": "stdout",
     "output_type": "stream",
     "text": [
      "#assignments best node:  21989\n"
     ]
    },
    {
     "name": "stderr",
     "output_type": "stream",
     "text": [
      "Epoch 7/45: 100%|██████████| 274/274 [00:39<00:00,  6.88batch/s]\n",
      "Epoch 8/45: 100%|██████████| 274/274 [00:30<00:00,  8.85batch/s]\n",
      "  0%|          | 0/274 [00:00<?, ?batch/s]"
     ]
    },
    {
     "name": "stdout",
     "output_type": "stream",
     "text": [
      "#assignments:  18746\n",
      "#assignments:  12443\n",
      "#assignments:  9669\n",
      "#assignments:  21175\n",
      "#assignments:  7967\n"
     ]
    },
    {
     "name": "stderr",
     "output_type": "stream",
     "text": [
      "Epoch 9/45:   0%|          | 1/274 [00:07<34:23,  7.56s/batch]"
     ]
    },
    {
     "name": "stdout",
     "output_type": "stream",
     "text": [
      "#assignments best node:  12443\n"
     ]
    },
    {
     "name": "stderr",
     "output_type": "stream",
     "text": [
      "Epoch 9/45: 100%|██████████| 274/274 [00:37<00:00,  7.33batch/s]\n",
      "Epoch 10/45: 100%|██████████| 274/274 [00:29<00:00,  9.20batch/s]\n",
      "  0%|          | 0/274 [00:00<?, ?batch/s]"
     ]
    },
    {
     "name": "stdout",
     "output_type": "stream",
     "text": [
      "#assignments:  18822\n",
      "#assignments:  6247\n",
      "#assignments:  6302\n",
      "#assignments:  9639\n",
      "#assignments:  21047\n",
      "#assignments:  7943\n"
     ]
    },
    {
     "name": "stderr",
     "output_type": "stream",
     "text": [
      "Epoch 11/45:   0%|          | 0/274 [00:12<?, ?batch/s]"
     ]
    },
    {
     "name": "stdout",
     "output_type": "stream",
     "text": [
      "#assignments best node:  18822\n"
     ]
    },
    {
     "name": "stderr",
     "output_type": "stream",
     "text": [
      "Epoch 11/45: 100%|██████████| 274/274 [00:45<00:00,  6.00batch/s]\n",
      "Epoch 12/45: 100%|██████████| 274/274 [00:30<00:00,  8.91batch/s]\n",
      "  0%|          | 0/274 [00:00<?, ?batch/s]"
     ]
    },
    {
     "name": "stdout",
     "output_type": "stream",
     "text": [
      "#assignments:  14014\n",
      "#assignments:  4791\n",
      "#assignments:  6244\n",
      "#assignments:  6350\n",
      "#assignments:  9562\n",
      "#assignments:  21096\n",
      "#assignments:  7943\n"
     ]
    },
    {
     "name": "stderr",
     "output_type": "stream",
     "text": [
      "Epoch 13/45:   0%|          | 0/274 [00:08<?, ?batch/s]"
     ]
    },
    {
     "name": "stdout",
     "output_type": "stream",
     "text": [
      "#assignments best node:  14014\n"
     ]
    },
    {
     "name": "stderr",
     "output_type": "stream",
     "text": [
      "Epoch 13/45: 100%|██████████| 274/274 [00:42<00:00,  6.52batch/s]\n",
      "Epoch 14/45: 100%|██████████| 274/274 [00:35<00:00,  7.79batch/s]\n",
      "  0%|          | 0/274 [00:00<?, ?batch/s]"
     ]
    },
    {
     "name": "stdout",
     "output_type": "stream",
     "text": [
      "#assignments:  6904\n",
      "#assignments:  7077\n",
      "#assignments:  4783\n",
      "#assignments:  6241\n",
      "#assignments:  6355\n",
      "#assignments:  9603\n",
      "#assignments:  21084\n",
      "#assignments:  7953\n"
     ]
    },
    {
     "name": "stderr",
     "output_type": "stream",
     "text": [
      "Epoch 15/45:   0%|          | 0/274 [00:12<?, ?batch/s]"
     ]
    },
    {
     "name": "stdout",
     "output_type": "stream",
     "text": [
      "#assignments best node:  9603\n"
     ]
    },
    {
     "name": "stderr",
     "output_type": "stream",
     "text": [
      "Epoch 15/45: 100%|██████████| 274/274 [00:51<00:00,  5.35batch/s]\n",
      "Epoch 16/45: 100%|██████████| 274/274 [00:40<00:00,  6.78batch/s]\n",
      "  0%|          | 0/274 [00:00<?, ?batch/s]"
     ]
    },
    {
     "name": "stdout",
     "output_type": "stream",
     "text": [
      "#assignments:  6870\n",
      "#assignments:  7107\n",
      "#assignments:  4802\n",
      "#assignments:  6242\n",
      "#assignments:  6419\n",
      "#assignments:  7244\n",
      "#assignments:  2301\n",
      "#assignments:  21068\n",
      "#assignments:  7947\n"
     ]
    },
    {
     "name": "stderr",
     "output_type": "stream",
     "text": [
      "Epoch 17/45:   0%|          | 0/274 [00:13<?, ?batch/s]"
     ]
    },
    {
     "name": "stdout",
     "output_type": "stream",
     "text": [
      "#assignments best node:  21068\n"
     ]
    },
    {
     "name": "stderr",
     "output_type": "stream",
     "text": [
      "Epoch 17/45: 100%|██████████| 274/274 [00:57<00:00,  4.77batch/s]\n",
      "Epoch 18/45: 100%|██████████| 274/274 [00:42<00:00,  6.49batch/s]\n",
      "  0%|          | 0/274 [00:00<?, ?batch/s]"
     ]
    },
    {
     "name": "stdout",
     "output_type": "stream",
     "text": [
      "#assignments:  6885\n",
      "#assignments:  7057\n",
      "#assignments:  4850\n",
      "#assignments:  6250\n",
      "#assignments:  6479\n",
      "#assignments:  7253\n",
      "#assignments:  2281\n",
      "#assignments:  11349\n",
      "#assignments:  9696\n",
      "#assignments:  7900\n"
     ]
    },
    {
     "name": "stderr",
     "output_type": "stream",
     "text": [
      "Epoch 19/45:   0%|          | 0/274 [00:19<?, ?batch/s]"
     ]
    },
    {
     "name": "stdout",
     "output_type": "stream",
     "text": [
      "#assignments best node:  11349\n"
     ]
    },
    {
     "name": "stderr",
     "output_type": "stream",
     "text": [
      "Epoch 19/45: 100%|██████████| 274/274 [01:03<00:00,  4.30batch/s]\n",
      "Epoch 20/45: 100%|██████████| 274/274 [00:44<00:00,  6.16batch/s]\n",
      "  0%|          | 0/274 [00:00<?, ?batch/s]"
     ]
    },
    {
     "name": "stdout",
     "output_type": "stream",
     "text": [
      "#assignments:  6879\n",
      "#assignments:  7064\n",
      "#assignments:  4850\n",
      "#assignments:  6249\n",
      "#assignments:  6436\n",
      "#assignments:  7299\n",
      "#assignments:  2277\n",
      "#assignments:  3610\n",
      "#assignments:  7378\n",
      "#assignments:  10048\n",
      "#assignments:  7910\n"
     ]
    },
    {
     "name": "stderr",
     "output_type": "stream",
     "text": [
      "Epoch 21/45:   0%|          | 0/274 [00:16<?, ?batch/s]"
     ]
    },
    {
     "name": "stdout",
     "output_type": "stream",
     "text": [
      "#assignments best node:  7378\n"
     ]
    },
    {
     "name": "stderr",
     "output_type": "stream",
     "text": [
      "Epoch 21/45: 100%|██████████| 274/274 [01:01<00:00,  4.43batch/s]\n",
      "Epoch 22/45: 100%|██████████| 274/274 [00:43<00:00,  6.27batch/s]\n",
      "  0%|          | 0/274 [00:00<?, ?batch/s]"
     ]
    },
    {
     "name": "stdout",
     "output_type": "stream",
     "text": [
      "#assignments:  6869\n",
      "#assignments:  7051\n",
      "#assignments:  4888\n",
      "#assignments:  6262\n",
      "#assignments:  6453\n",
      "#assignments:  7324\n",
      "#assignments:  2235\n",
      "#assignments:  2801\n",
      "#assignments:  4252\n",
      "#assignments:  3766\n",
      "#assignments:  10240\n",
      "#assignments:  7859\n"
     ]
    },
    {
     "name": "stderr",
     "output_type": "stream",
     "text": [
      "Epoch 23/45:   0%|          | 0/274 [00:16<?, ?batch/s]"
     ]
    },
    {
     "name": "stdout",
     "output_type": "stream",
     "text": [
      "#assignments best node:  7859\n"
     ]
    },
    {
     "name": "stderr",
     "output_type": "stream",
     "text": [
      "Epoch 23/45: 100%|██████████| 274/274 [01:04<00:00,  4.26batch/s]\n",
      "Epoch 24/45: 100%|██████████| 274/274 [00:46<00:00,  5.87batch/s]\n",
      "  0%|          | 0/274 [00:00<?, ?batch/s]"
     ]
    },
    {
     "name": "stdout",
     "output_type": "stream",
     "text": [
      "#assignments:  6876\n",
      "#assignments:  7054\n",
      "#assignments:  4852\n",
      "#assignments:  6240\n",
      "#assignments:  6493\n",
      "#assignments:  7302\n",
      "#assignments:  2249\n",
      "#assignments:  2774\n",
      "#assignments:  4217\n",
      "#assignments:  3879\n",
      "#assignments:  10172\n",
      "#assignments:  3930\n",
      "#assignments:  3962\n"
     ]
    },
    {
     "name": "stderr",
     "output_type": "stream",
     "text": [
      "Epoch 25/45:   0%|          | 0/274 [00:18<?, ?batch/s]"
     ]
    },
    {
     "name": "stdout",
     "output_type": "stream",
     "text": [
      "#assignments best node:  10172\n"
     ]
    },
    {
     "name": "stderr",
     "output_type": "stream",
     "text": [
      "Epoch 25/45: 100%|██████████| 274/274 [01:15<00:00,  3.65batch/s]\n",
      "Epoch 26/45: 100%|██████████| 274/274 [00:39<00:00,  6.86batch/s]\n",
      "  0%|          | 0/274 [00:00<?, ?batch/s]"
     ]
    },
    {
     "name": "stdout",
     "output_type": "stream",
     "text": [
      "#assignments:  6859\n",
      "#assignments:  7040\n",
      "#assignments:  4858\n",
      "#assignments:  6239\n",
      "#assignments:  6485\n",
      "#assignments:  7306\n",
      "#assignments:  2253\n",
      "#assignments:  3496\n",
      "#assignments:  4275\n",
      "#assignments:  3055\n",
      "#assignments:  3107\n",
      "#assignments:  7151\n",
      "#assignments:  3912\n",
      "#assignments:  3964\n"
     ]
    },
    {
     "name": "stderr",
     "output_type": "stream",
     "text": [
      "Epoch 27/45:   0%|          | 0/274 [00:18<?, ?batch/s]"
     ]
    },
    {
     "name": "stdout",
     "output_type": "stream",
     "text": [
      "#assignments best node:  7151\n"
     ]
    },
    {
     "name": "stderr",
     "output_type": "stream",
     "text": [
      "Epoch 27/45: 100%|██████████| 274/274 [01:01<00:00,  4.49batch/s]\n",
      "Epoch 28/45: 100%|██████████| 274/274 [00:41<00:00,  6.60batch/s]\n",
      "  0%|          | 0/274 [00:00<?, ?batch/s]"
     ]
    },
    {
     "name": "stdout",
     "output_type": "stream",
     "text": [
      "#assignments:  6877\n",
      "#assignments:  7023\n",
      "#assignments:  4836\n",
      "#assignments:  6251\n",
      "#assignments:  6500\n",
      "#assignments:  7268\n",
      "#assignments:  2275\n",
      "#assignments:  3259\n",
      "#assignments:  4449\n",
      "#assignments:  3242\n",
      "#assignments:  2869\n",
      "#assignments:  2866\n",
      "#assignments:  4375\n",
      "#assignments:  3864\n",
      "#assignments:  4046\n"
     ]
    },
    {
     "name": "stderr",
     "output_type": "stream",
     "text": [
      "Epoch 29/45:   0%|          | 0/274 [00:16<?, ?batch/s]"
     ]
    },
    {
     "name": "stdout",
     "output_type": "stream",
     "text": [
      "#assignments best node:  7268\n"
     ]
    },
    {
     "name": "stderr",
     "output_type": "stream",
     "text": [
      "Epoch 29/45: 100%|██████████| 274/274 [01:00<00:00,  4.56batch/s]\n",
      "Epoch 30/45: 100%|██████████| 274/274 [01:07<00:00,  4.03batch/s]\n",
      "  0%|          | 0/274 [00:00<?, ?batch/s]"
     ]
    },
    {
     "name": "stdout",
     "output_type": "stream",
     "text": [
      "#assignments:  6885\n",
      "#assignments:  7027\n",
      "#assignments:  4885\n",
      "#assignments:  6256\n",
      "#assignments:  6490\n",
      "#assignments:  2952\n",
      "#assignments:  4359\n",
      "#assignments:  2226\n",
      "#assignments:  4764\n",
      "#assignments:  4180\n",
      "#assignments:  1877\n",
      "#assignments:  2948\n",
      "#assignments:  4185\n",
      "#assignments:  3085\n",
      "#assignments:  3855\n",
      "#assignments:  4026\n"
     ]
    },
    {
     "name": "stderr",
     "output_type": "stream",
     "text": [
      "Epoch 31/45:   0%|          | 0/274 [00:22<?, ?batch/s]"
     ]
    },
    {
     "name": "stdout",
     "output_type": "stream",
     "text": [
      "#assignments best node:  7027\n"
     ]
    },
    {
     "name": "stderr",
     "output_type": "stream",
     "text": [
      "Epoch 31/45: 100%|██████████| 274/274 [01:31<00:00,  3.00batch/s]\n",
      "Epoch 32/45: 100%|██████████| 274/274 [01:08<00:00,  3.98batch/s]\n",
      "  0%|          | 0/274 [00:00<?, ?batch/s]"
     ]
    },
    {
     "name": "stdout",
     "output_type": "stream",
     "text": [
      "#assignments:  6870\n",
      "#assignments:  3384\n",
      "#assignments:  3646\n",
      "#assignments:  4861\n",
      "#assignments:  6250\n",
      "#assignments:  6485\n",
      "#assignments:  2825\n",
      "#assignments:  4501\n",
      "#assignments:  2254\n",
      "#assignments:  5228\n",
      "#assignments:  4127\n",
      "#assignments:  1429\n",
      "#assignments:  2977\n",
      "#assignments:  4185\n",
      "#assignments:  3090\n",
      "#assignments:  3830\n",
      "#assignments:  4058\n"
     ]
    },
    {
     "name": "stderr",
     "output_type": "stream",
     "text": [
      "Epoch 33/45:   0%|          | 0/274 [00:27<?, ?batch/s]"
     ]
    },
    {
     "name": "stdout",
     "output_type": "stream",
     "text": [
      "#assignments best node:  6870\n"
     ]
    },
    {
     "name": "stderr",
     "output_type": "stream",
     "text": [
      "Epoch 33/45: 100%|██████████| 274/274 [01:47<00:00,  2.56batch/s]\n",
      "Epoch 34/45: 100%|██████████| 274/274 [01:02<00:00,  4.39batch/s]\n",
      "  0%|          | 0/274 [00:00<?, ?batch/s]"
     ]
    },
    {
     "name": "stdout",
     "output_type": "stream",
     "text": [
      "#assignments:  3684\n",
      "#assignments:  3170\n",
      "#assignments:  3071\n",
      "#assignments:  3968\n",
      "#assignments:  4852\n",
      "#assignments:  6300\n",
      "#assignments:  6510\n",
      "#assignments:  4002\n",
      "#assignments:  3313\n",
      "#assignments:  2274\n",
      "#assignments:  5687\n",
      "#assignments:  4007\n",
      "#assignments:  1219\n",
      "#assignments:  2787\n",
      "#assignments:  4383\n",
      "#assignments:  2887\n",
      "#assignments:  3849\n",
      "#assignments:  4037\n"
     ]
    },
    {
     "name": "stderr",
     "output_type": "stream",
     "text": [
      "Epoch 35/45:   0%|          | 0/274 [00:24<?, ?batch/s]"
     ]
    },
    {
     "name": "stdout",
     "output_type": "stream",
     "text": [
      "#assignments best node:  6510\n"
     ]
    },
    {
     "name": "stderr",
     "output_type": "stream",
     "text": [
      "Epoch 35/45: 100%|██████████| 274/274 [00:54<00:00,  4.98batch/s]\n",
      "Epoch 36/45: 100%|██████████| 274/274 [00:36<00:00,  7.49batch/s]\n",
      "  0%|          | 0/274 [00:00<?, ?batch/s]"
     ]
    },
    {
     "name": "stdout",
     "output_type": "stream",
     "text": [
      "#assignments:  4812\n",
      "#assignments:  2049\n",
      "#assignments:  2901\n",
      "#assignments:  4134\n",
      "#assignments:  4866\n",
      "#assignments:  6256\n",
      "#assignments:  2118\n",
      "#assignments:  4405\n",
      "#assignments:  3519\n",
      "#assignments:  3782\n",
      "#assignments:  2271\n",
      "#assignments:  5337\n",
      "#assignments:  4163\n",
      "#assignments:  1329\n",
      "#assignments:  2913\n",
      "#assignments:  4228\n",
      "#assignments:  3041\n",
      "#assignments:  3828\n",
      "#assignments:  4048\n"
     ]
    },
    {
     "name": "stderr",
     "output_type": "stream",
     "text": [
      "Epoch 37/45:   0%|          | 0/274 [00:26<?, ?batch/s]"
     ]
    },
    {
     "name": "stdout",
     "output_type": "stream",
     "text": [
      "#assignments best node:  3828\n"
     ]
    },
    {
     "name": "stderr",
     "output_type": "stream",
     "text": [
      "Epoch 37/45: 100%|██████████| 274/274 [00:58<00:00,  4.68batch/s]\n",
      "Epoch 38/45: 100%|██████████| 274/274 [00:31<00:00,  8.67batch/s]\n",
      "Epoch 39/45: 100%|██████████| 274/274 [00:32<00:00,  8.49batch/s]\n",
      "Epoch 40/45: 100%|██████████| 274/274 [00:32<00:00,  8.31batch/s]\n",
      "Epoch 41/45: 100%|██████████| 274/274 [00:32<00:00,  8.39batch/s]\n",
      "Epoch 42/45: 100%|██████████| 274/274 [00:33<00:00,  8.29batch/s]\n",
      "Epoch 43/45: 100%|██████████| 274/274 [00:33<00:00,  8.24batch/s]\n",
      "Epoch 44/45: 100%|██████████| 274/274 [00:40<00:00,  6.72batch/s]\n",
      "Epoch 45/45: 100%|██████████| 274/274 [00:38<00:00,  7.18batch/s]\n",
      "Predict: 100%|██████████| 274/274 [00:04<00:00, 66.53it/s]\n"
     ]
    }
   ],
   "source": [
    "dataset, labels = load_mnist(return_X_y=True)\n",
    "autoencoder = FeedforwardAutoencoder([dataset.shape[1], 500, 500, 2000, 10])\n",
    "autoencoder.load_state_dict(torch.load(\"practical/DeepClustering/DipECT/pretrained_AE_MNIST_seed15.pth\"))\n",
    "autoencoder.fitted = True\n",
    "dipect_test_s13 = DipECT(autoencoder=autoencoder, use_pvalue=False, grow_interval=2, max_epochs=45, unimodal_treshhold=1.0, random_state=np.random.RandomState(15), reconstruction_loss_weight=25)\n",
    "dipect_test_s13 = dipect_test_s13.fit_predict(dataset/255)"
   ]
  },
  {
   "cell_type": "code",
   "execution_count": 25,
   "metadata": {},
   "outputs": [
    {
     "name": "stdout",
     "output_type": "stream",
     "text": [
      "0.8385285714285714\n",
      "0.8455612127738171\n"
     ]
    }
   ],
   "source": [
    "print(dipect_test_s13.tree_.flat_accuracy(labels, 10))\n",
    "print(dipect_test_s13.tree_.flat_nmi(labels, 10))"
   ]
  },
  {
   "cell_type": "code",
   "execution_count": 22,
   "metadata": {},
   "outputs": [
    {
     "name": "stdout",
     "output_type": "stream",
     "text": [
      "cpu\n"
     ]
    },
    {
     "name": "stderr",
     "output_type": "stream",
     "text": [
      "Epoch 1/45:   1%|          | 2/274 [00:00<00:29,  9.18batch/s]"
     ]
    },
    {
     "name": "stdout",
     "output_type": "stream",
     "text": [
      "inside!!!\n"
     ]
    },
    {
     "name": "stderr",
     "output_type": "stream",
     "text": [
      "Epoch 1/45: 100%|██████████| 274/274 [00:28<00:00,  9.49batch/s]\n",
      "Epoch 2/45: 100%|██████████| 274/274 [00:30<00:00,  9.05batch/s]\n",
      "  0%|          | 0/274 [00:00<?, ?batch/s]"
     ]
    },
    {
     "name": "stdout",
     "output_type": "stream",
     "text": [
      "#assignments:  40493\n",
      "#assignments:  29507\n"
     ]
    },
    {
     "name": "stderr",
     "output_type": "stream",
     "text": [
      "Epoch 3/45:   0%|          | 1/274 [00:07<32:13,  7.08s/batch]"
     ]
    },
    {
     "name": "stdout",
     "output_type": "stream",
     "text": [
      "#assignments best node:  40493\n"
     ]
    },
    {
     "name": "stderr",
     "output_type": "stream",
     "text": [
      "Epoch 3/45: 100%|██████████| 274/274 [00:34<00:00,  7.91batch/s]\n",
      "Epoch 4/45: 100%|██████████| 274/274 [00:27<00:00,  9.88batch/s]\n",
      "  0%|          | 0/274 [00:00<?, ?batch/s]"
     ]
    },
    {
     "name": "stdout",
     "output_type": "stream",
     "text": [
      "#assignments:  18772\n",
      "#assignments:  22003\n",
      "#assignments:  29225\n"
     ]
    },
    {
     "name": "stderr",
     "output_type": "stream",
     "text": [
      "Epoch 5/45:   0%|          | 0/274 [00:06<?, ?batch/s]"
     ]
    },
    {
     "name": "stdout",
     "output_type": "stream",
     "text": [
      "#assignments best node:  29225\n"
     ]
    },
    {
     "name": "stderr",
     "output_type": "stream",
     "text": [
      "Epoch 5/45: 100%|██████████| 274/274 [01:05<00:00,  4.16batch/s]\n",
      "Epoch 6/45: 100%|██████████| 274/274 [00:38<00:00,  7.03batch/s]\n",
      "  0%|          | 0/274 [00:00<?, ?batch/s]"
     ]
    },
    {
     "name": "stdout",
     "output_type": "stream",
     "text": [
      "#assignments:  18714\n",
      "#assignments:  22101\n",
      "#assignments:  8028\n",
      "#assignments:  21157\n"
     ]
    },
    {
     "name": "stderr",
     "output_type": "stream",
     "text": [
      "Epoch 7/45:   0%|          | 0/274 [00:13<?, ?batch/s]"
     ]
    },
    {
     "name": "stdout",
     "output_type": "stream",
     "text": [
      "#assignments best node:  18714\n"
     ]
    },
    {
     "name": "stderr",
     "output_type": "stream",
     "text": [
      "Epoch 7/45: 100%|██████████| 274/274 [00:45<00:00,  5.98batch/s]\n",
      "Epoch 8/45: 100%|██████████| 274/274 [00:32<00:00,  8.33batch/s]\n",
      "  0%|          | 0/274 [00:00<?, ?batch/s]"
     ]
    },
    {
     "name": "stdout",
     "output_type": "stream",
     "text": [
      "#assignments:  4733\n",
      "#assignments:  13982\n",
      "#assignments:  22152\n",
      "#assignments:  8016\n",
      "#assignments:  21117\n"
     ]
    },
    {
     "name": "stderr",
     "output_type": "stream",
     "text": [
      "Epoch 9/45:   0%|          | 0/274 [00:12<?, ?batch/s]"
     ]
    },
    {
     "name": "stdout",
     "output_type": "stream",
     "text": [
      "#assignments best node:  13982\n"
     ]
    },
    {
     "name": "stderr",
     "output_type": "stream",
     "text": [
      "Epoch 9/45: 100%|██████████| 274/274 [00:46<00:00,  5.84batch/s]\n",
      "Epoch 10/45: 100%|██████████| 274/274 [00:32<00:00,  8.34batch/s]\n",
      "  0%|          | 0/274 [00:00<?, ?batch/s]"
     ]
    },
    {
     "name": "stdout",
     "output_type": "stream",
     "text": [
      "#assignments:  4774\n",
      "#assignments:  6913\n",
      "#assignments:  7069\n",
      "#assignments:  22112\n",
      "#assignments:  8012\n",
      "#assignments:  21120\n"
     ]
    },
    {
     "name": "stderr",
     "output_type": "stream",
     "text": [
      "Epoch 11/45:   0%|          | 0/274 [00:13<?, ?batch/s]"
     ]
    },
    {
     "name": "stdout",
     "output_type": "stream",
     "text": [
      "#assignments best node:  22112\n"
     ]
    },
    {
     "name": "stderr",
     "output_type": "stream",
     "text": [
      "Epoch 11/45: 100%|██████████| 274/274 [00:49<00:00,  5.58batch/s]\n",
      "Epoch 12/45: 100%|██████████| 274/274 [00:34<00:00,  7.83batch/s]\n",
      "  0%|          | 0/274 [00:00<?, ?batch/s]"
     ]
    },
    {
     "name": "stdout",
     "output_type": "stream",
     "text": [
      "#assignments:  4817\n",
      "#assignments:  6898\n",
      "#assignments:  7064\n",
      "#assignments:  9739\n",
      "#assignments:  12445\n",
      "#assignments:  7981\n",
      "#assignments:  21056\n"
     ]
    },
    {
     "name": "stderr",
     "output_type": "stream",
     "text": [
      "Epoch 13/45:   0%|          | 0/274 [00:16<?, ?batch/s]"
     ]
    },
    {
     "name": "stdout",
     "output_type": "stream",
     "text": [
      "#assignments best node:  12445\n"
     ]
    },
    {
     "name": "stderr",
     "output_type": "stream",
     "text": [
      "Epoch 13/45: 100%|██████████| 274/274 [00:56<00:00,  4.85batch/s]\n",
      "Epoch 14/45: 100%|██████████| 274/274 [00:43<00:00,  6.33batch/s]\n",
      "  0%|          | 0/274 [00:00<?, ?batch/s]"
     ]
    },
    {
     "name": "stdout",
     "output_type": "stream",
     "text": [
      "#assignments:  4823\n",
      "#assignments:  6871\n",
      "#assignments:  7055\n",
      "#assignments:  9637\n",
      "#assignments:  6343\n",
      "#assignments:  6257\n",
      "#assignments:  7976\n",
      "#assignments:  21038\n"
     ]
    },
    {
     "name": "stderr",
     "output_type": "stream",
     "text": [
      "Epoch 15/45:   0%|          | 0/274 [00:18<?, ?batch/s]"
     ]
    },
    {
     "name": "stdout",
     "output_type": "stream",
     "text": [
      "#assignments best node:  9637\n"
     ]
    },
    {
     "name": "stderr",
     "output_type": "stream",
     "text": [
      "Epoch 15/45: 100%|██████████| 274/274 [01:08<00:00,  3.98batch/s]\n",
      "Epoch 16/45: 100%|██████████| 274/274 [00:44<00:00,  6.13batch/s]\n",
      "  0%|          | 0/274 [00:00<?, ?batch/s]"
     ]
    },
    {
     "name": "stdout",
     "output_type": "stream",
     "text": [
      "#assignments:  4788\n",
      "#assignments:  6876\n",
      "#assignments:  7035\n",
      "#assignments:  7373\n",
      "#assignments:  2310\n",
      "#assignments:  6349\n",
      "#assignments:  6226\n",
      "#assignments:  7966\n",
      "#assignments:  21077\n"
     ]
    },
    {
     "name": "stderr",
     "output_type": "stream",
     "text": [
      "Epoch 17/45:   0%|          | 0/274 [00:15<?, ?batch/s]"
     ]
    },
    {
     "name": "stdout",
     "output_type": "stream",
     "text": [
      "#assignments best node:  21077\n"
     ]
    },
    {
     "name": "stderr",
     "output_type": "stream",
     "text": [
      "Epoch 17/45: 100%|██████████| 274/274 [01:00<00:00,  4.50batch/s]\n",
      "Epoch 18/45: 100%|██████████| 274/274 [00:47<00:00,  5.72batch/s]\n",
      "  0%|          | 0/274 [00:00<?, ?batch/s]"
     ]
    },
    {
     "name": "stdout",
     "output_type": "stream",
     "text": [
      "#assignments:  4862\n",
      "#assignments:  6871\n",
      "#assignments:  7014\n",
      "#assignments:  7335\n",
      "#assignments:  2277\n",
      "#assignments:  6363\n",
      "#assignments:  6238\n",
      "#assignments:  7970\n",
      "#assignments:  9571\n",
      "#assignments:  11499\n"
     ]
    },
    {
     "name": "stderr",
     "output_type": "stream",
     "text": [
      "Epoch 19/45:   0%|          | 0/274 [00:16<?, ?batch/s]"
     ]
    },
    {
     "name": "stdout",
     "output_type": "stream",
     "text": [
      "#assignments best node:  11499\n"
     ]
    },
    {
     "name": "stderr",
     "output_type": "stream",
     "text": [
      "Epoch 19/45: 100%|██████████| 274/274 [01:08<00:00,  4.00batch/s]\n",
      "Epoch 20/45: 100%|██████████| 274/274 [00:48<00:00,  5.69batch/s]\n",
      "  0%|          | 0/274 [00:00<?, ?batch/s]"
     ]
    },
    {
     "name": "stdout",
     "output_type": "stream",
     "text": [
      "#assignments:  4867\n",
      "#assignments:  6888\n",
      "#assignments:  7008\n",
      "#assignments:  7300\n",
      "#assignments:  2273\n",
      "#assignments:  6408\n",
      "#assignments:  6254\n",
      "#assignments:  7924\n",
      "#assignments:  9256\n",
      "#assignments:  3902\n",
      "#assignments:  7920\n"
     ]
    },
    {
     "name": "stderr",
     "output_type": "stream",
     "text": [
      "Epoch 21/45:   0%|          | 0/274 [00:17<?, ?batch/s]"
     ]
    },
    {
     "name": "stdout",
     "output_type": "stream",
     "text": [
      "#assignments best node:  7920\n"
     ]
    },
    {
     "name": "stderr",
     "output_type": "stream",
     "text": [
      "Epoch 21/45: 100%|██████████| 274/274 [01:05<00:00,  4.16batch/s]\n",
      "Epoch 22/45: 100%|██████████| 274/274 [00:51<00:00,  5.36batch/s]\n",
      "  0%|          | 0/274 [00:00<?, ?batch/s]"
     ]
    },
    {
     "name": "stdout",
     "output_type": "stream",
     "text": [
      "#assignments:  4854\n",
      "#assignments:  6887\n",
      "#assignments:  7024\n",
      "#assignments:  7319\n",
      "#assignments:  2270\n",
      "#assignments:  6390\n",
      "#assignments:  6244\n",
      "#assignments:  7924\n",
      "#assignments:  9349\n",
      "#assignments:  5771\n",
      "#assignments:  3913\n",
      "#assignments:  2055\n"
     ]
    },
    {
     "name": "stderr",
     "output_type": "stream",
     "text": [
      "Epoch 23/45:   0%|          | 0/274 [00:22<?, ?batch/s]"
     ]
    },
    {
     "name": "stdout",
     "output_type": "stream",
     "text": [
      "#assignments best node:  5771\n"
     ]
    },
    {
     "name": "stderr",
     "output_type": "stream",
     "text": [
      "Epoch 23/45: 100%|██████████| 274/274 [01:14<00:00,  3.67batch/s]\n",
      "Epoch 24/45: 100%|██████████| 274/274 [00:57<00:00,  4.76batch/s]\n",
      "  0%|          | 0/274 [00:00<?, ?batch/s]"
     ]
    },
    {
     "name": "stdout",
     "output_type": "stream",
     "text": [
      "#assignments:  4913\n",
      "#assignments:  6880\n",
      "#assignments:  7013\n",
      "#assignments:  7317\n",
      "#assignments:  2247\n",
      "#assignments:  6412\n",
      "#assignments:  6264\n",
      "#assignments:  7903\n",
      "#assignments:  9129\n",
      "#assignments:  2630\n",
      "#assignments:  546\n",
      "#assignments:  5165\n",
      "#assignments:  3581\n"
     ]
    },
    {
     "name": "stderr",
     "output_type": "stream",
     "text": [
      "Epoch 25/45:   0%|          | 0/274 [00:21<?, ?batch/s]"
     ]
    },
    {
     "name": "stdout",
     "output_type": "stream",
     "text": [
      "#assignments best node:  9129\n"
     ]
    },
    {
     "name": "stderr",
     "output_type": "stream",
     "text": [
      "Epoch 25/45: 100%|██████████| 274/274 [01:20<00:00,  3.42batch/s]\n",
      "Epoch 26/45: 100%|██████████| 274/274 [00:53<00:00,  5.10batch/s]\n",
      "  0%|          | 0/274 [00:00<?, ?batch/s]"
     ]
    },
    {
     "name": "stdout",
     "output_type": "stream",
     "text": [
      "#assignments:  4849\n",
      "#assignments:  6871\n",
      "#assignments:  7010\n",
      "#assignments:  7314\n",
      "#assignments:  2284\n",
      "#assignments:  6401\n",
      "#assignments:  6275\n",
      "#assignments:  7918\n",
      "#assignments:  4882\n",
      "#assignments:  4280\n",
      "#assignments:  5243\n",
      "#assignments:  2601\n",
      "#assignments:  2828\n",
      "#assignments:  1244\n"
     ]
    },
    {
     "name": "stderr",
     "output_type": "stream",
     "text": [
      "Epoch 27/45:   0%|          | 0/274 [00:28<?, ?batch/s]"
     ]
    },
    {
     "name": "stdout",
     "output_type": "stream",
     "text": [
      "#assignments best node:  4882\n"
     ]
    },
    {
     "name": "stderr",
     "output_type": "stream",
     "text": [
      "Epoch 27/45: 100%|██████████| 274/274 [01:21<00:00,  3.35batch/s]\n",
      "Epoch 28/45: 100%|██████████| 274/274 [00:52<00:00,  5.17batch/s]\n",
      "  0%|          | 0/274 [00:00<?, ?batch/s]"
     ]
    },
    {
     "name": "stdout",
     "output_type": "stream",
     "text": [
      "#assignments:  4880\n",
      "#assignments:  6876\n",
      "#assignments:  7028\n",
      "#assignments:  7256\n",
      "#assignments:  2252\n",
      "#assignments:  6458\n",
      "#assignments:  6248\n",
      "#assignments:  7889\n",
      "#assignments:  2622\n",
      "#assignments:  1829\n",
      "#assignments:  4800\n",
      "#assignments:  5368\n",
      "#assignments:  2323\n",
      "#assignments:  3058\n",
      "#assignments:  1113\n"
     ]
    },
    {
     "name": "stderr",
     "output_type": "stream",
     "text": [
      "Epoch 29/45:   0%|          | 0/274 [00:20<?, ?batch/s]"
     ]
    },
    {
     "name": "stdout",
     "output_type": "stream",
     "text": [
      "#assignments best node:  7889\n"
     ]
    },
    {
     "name": "stderr",
     "output_type": "stream",
     "text": [
      "Epoch 29/45: 100%|██████████| 274/274 [01:11<00:00,  3.83batch/s]\n",
      "Epoch 30/45: 100%|██████████| 274/274 [00:54<00:00,  5.01batch/s]\n",
      "  0%|          | 0/274 [00:00<?, ?batch/s]"
     ]
    },
    {
     "name": "stdout",
     "output_type": "stream",
     "text": [
      "#assignments:  4864\n",
      "#assignments:  6875\n",
      "#assignments:  7032\n",
      "#assignments:  7314\n",
      "#assignments:  2264\n",
      "#assignments:  6426\n",
      "#assignments:  6266\n",
      "#assignments:  3963\n",
      "#assignments:  3948\n",
      "#assignments:  2681\n",
      "#assignments:  1862\n",
      "#assignments:  4714\n",
      "#assignments:  5060\n",
      "#assignments:  2243\n",
      "#assignments:  3232\n",
      "#assignments:  1256\n"
     ]
    },
    {
     "name": "stderr",
     "output_type": "stream",
     "text": [
      "Epoch 31/45:   0%|          | 0/274 [00:23<?, ?batch/s]"
     ]
    },
    {
     "name": "stdout",
     "output_type": "stream",
     "text": [
      "#assignments best node:  7314\n"
     ]
    },
    {
     "name": "stderr",
     "output_type": "stream",
     "text": [
      "Epoch 31/45: 100%|██████████| 274/274 [01:17<00:00,  3.56batch/s]\n",
      "Epoch 32/45: 100%|██████████| 274/274 [00:55<00:00,  4.96batch/s]\n",
      "  0%|          | 0/274 [00:00<?, ?batch/s]"
     ]
    },
    {
     "name": "stdout",
     "output_type": "stream",
     "text": [
      "#assignments:  4871\n",
      "#assignments:  6876\n",
      "#assignments:  7004\n",
      "#assignments:  3321\n",
      "#assignments:  3979\n",
      "#assignments:  2276\n",
      "#assignments:  6432\n",
      "#assignments:  6274\n",
      "#assignments:  3952\n",
      "#assignments:  3986\n",
      "#assignments:  2849\n",
      "#assignments:  1831\n",
      "#assignments:  4484\n",
      "#assignments:  5251\n",
      "#assignments:  2226\n",
      "#assignments:  3257\n",
      "#assignments:  1131\n"
     ]
    },
    {
     "name": "stderr",
     "output_type": "stream",
     "text": [
      "Epoch 33/45:   0%|          | 0/274 [00:22<?, ?batch/s]"
     ]
    },
    {
     "name": "stdout",
     "output_type": "stream",
     "text": [
      "#assignments best node:  7004\n"
     ]
    },
    {
     "name": "stderr",
     "output_type": "stream",
     "text": [
      "Epoch 33/45: 100%|██████████| 274/274 [01:21<00:00,  3.34batch/s]\n",
      "Epoch 34/45: 100%|██████████| 274/274 [01:00<00:00,  4.50batch/s]\n",
      "  0%|          | 0/274 [00:00<?, ?batch/s]"
     ]
    },
    {
     "name": "stdout",
     "output_type": "stream",
     "text": [
      "#assignments:  4877\n",
      "#assignments:  6886\n",
      "#assignments:  3692\n",
      "#assignments:  3334\n",
      "#assignments:  3435\n",
      "#assignments:  3869\n",
      "#assignments:  2253\n",
      "#assignments:  6459\n",
      "#assignments:  6265\n",
      "#assignments:  3880\n",
      "#assignments:  3988\n",
      "#assignments:  2845\n",
      "#assignments:  1719\n",
      "#assignments:  4575\n",
      "#assignments:  5492\n",
      "#assignments:  1955\n",
      "#assignments:  3630\n",
      "#assignments:  846\n"
     ]
    },
    {
     "name": "stderr",
     "output_type": "stream",
     "text": [
      "Epoch 35/45:   0%|          | 1/274 [00:25<1:57:00, 25.72s/batch]"
     ]
    },
    {
     "name": "stdout",
     "output_type": "stream",
     "text": [
      "#assignments best node:  6886\n"
     ]
    },
    {
     "name": "stderr",
     "output_type": "stream",
     "text": [
      "Epoch 35/45: 100%|██████████| 274/274 [01:20<00:00,  3.39batch/s]\n",
      "Epoch 36/45: 100%|██████████| 274/274 [00:57<00:00,  4.73batch/s]\n",
      "  0%|          | 0/274 [00:00<?, ?batch/s]"
     ]
    },
    {
     "name": "stdout",
     "output_type": "stream",
     "text": [
      "#assignments:  4821\n",
      "#assignments:  3504\n",
      "#assignments:  3378\n",
      "#assignments:  3101\n",
      "#assignments:  3916\n",
      "#assignments:  3575\n",
      "#assignments:  3725\n",
      "#assignments:  2314\n",
      "#assignments:  6453\n",
      "#assignments:  6264\n",
      "#assignments:  3910\n",
      "#assignments:  3991\n",
      "#assignments:  2794\n",
      "#assignments:  1722\n",
      "#assignments:  4612\n",
      "#assignments:  5385\n",
      "#assignments:  2154\n",
      "#assignments:  3413\n",
      "#assignments:  968\n"
     ]
    },
    {
     "name": "stderr",
     "output_type": "stream",
     "text": [
      "Epoch 37/45:   0%|          | 0/274 [00:26<?, ?batch/s]"
     ]
    },
    {
     "name": "stdout",
     "output_type": "stream",
     "text": [
      "#assignments best node:  6453\n"
     ]
    },
    {
     "name": "stderr",
     "output_type": "stream",
     "text": [
      "Epoch 37/45: 100%|██████████| 274/274 [01:25<00:00,  3.19batch/s]\n",
      "Epoch 38/45: 100%|██████████| 274/274 [00:59<00:00,  4.58batch/s]\n",
      "Epoch 39/45: 100%|██████████| 274/274 [00:58<00:00,  4.68batch/s]\n",
      "Epoch 40/45: 100%|██████████| 274/274 [01:01<00:00,  4.44batch/s]\n",
      "Epoch 41/45: 100%|██████████| 274/274 [00:57<00:00,  4.77batch/s]\n",
      "Epoch 42/45: 100%|██████████| 274/274 [01:00<00:00,  4.51batch/s]\n",
      "Epoch 43/45: 100%|██████████| 274/274 [01:00<00:00,  4.55batch/s]\n",
      "Epoch 44/45: 100%|██████████| 274/274 [00:56<00:00,  4.87batch/s]\n",
      "Epoch 45/45: 100%|██████████| 274/274 [00:48<00:00,  5.65batch/s]\n",
      "Predict: 100%|██████████| 274/274 [00:05<00:00, 46.67it/s]\n"
     ]
    }
   ],
   "source": [
    "dataset, labels = load_mnist(return_X_y=True)\n",
    "autoencoder = FeedforwardAutoencoder([dataset.shape[1], 500, 500, 2000, 10])\n",
    "autoencoder.load_state_dict(torch.load(\"practical/DeepClustering/DipECT/pretrained_AE_MNIST_seed15.pth\"))\n",
    "autoencoder.fitted = True\n",
    "dipect_test_s11 = DipECT(autoencoder=autoencoder, use_pvalue=False, grow_interval=2, max_epochs=45, unimodal_treshhold=1.0, random_state=np.random.RandomState(15))\n",
    "dipect_test_s11 = dipect_test_s11.fit_predict(dataset/255)"
   ]
  },
  {
   "cell_type": "code",
   "execution_count": 17,
   "metadata": {},
   "outputs": [
    {
     "name": "stdout",
     "output_type": "stream",
     "text": [
      "0.8222857142857143\n",
      "0.8119250814622158\n"
     ]
    }
   ],
   "source": [
    "print(dipect_test_s11.tree_.flat_accuracy(labels, 10))\n",
    "print(dipect_test_s11.tree_.flat_nmi(labels, 10))"
   ]
  },
  {
   "cell_type": "code",
   "execution_count": 15,
   "metadata": {},
   "outputs": [
    {
     "name": "stdout",
     "output_type": "stream",
     "text": [
      "cpu\n"
     ]
    },
    {
     "name": "stderr",
     "output_type": "stream",
     "text": [
      "Epoch 1/45: 100%|██████████| 274/274 [00:18<00:00, 14.88batch/s]\n",
      "Epoch 2/45: 100%|██████████| 274/274 [00:18<00:00, 14.75batch/s]\n",
      "  0%|          | 0/274 [00:00<?, ?batch/s]"
     ]
    },
    {
     "name": "stdout",
     "output_type": "stream",
     "text": [
      "#assignments:  40610\n",
      "#assignments:  29390\n"
     ]
    },
    {
     "name": "stderr",
     "output_type": "stream",
     "text": [
      "Epoch 3/45:   0%|          | 1/274 [00:05<25:07,  5.52s/batch]"
     ]
    },
    {
     "name": "stdout",
     "output_type": "stream",
     "text": [
      "#assignments best node:  40610\n"
     ]
    },
    {
     "name": "stderr",
     "output_type": "stream",
     "text": [
      "Epoch 3/45: 100%|██████████| 274/274 [00:25<00:00, 10.85batch/s]\n",
      "Epoch 4/45: 100%|██████████| 274/274 [00:19<00:00, 13.93batch/s]\n",
      "  0%|          | 0/274 [00:00<?, ?batch/s]"
     ]
    },
    {
     "name": "stdout",
     "output_type": "stream",
     "text": [
      "#assignments:  21600\n",
      "#assignments:  19087\n",
      "#assignments:  29313\n"
     ]
    },
    {
     "name": "stderr",
     "output_type": "stream",
     "text": [
      "Epoch 5/45:   0%|          | 1/274 [00:05<25:52,  5.69s/batch]"
     ]
    },
    {
     "name": "stdout",
     "output_type": "stream",
     "text": [
      "#assignments best node:  29313\n"
     ]
    },
    {
     "name": "stderr",
     "output_type": "stream",
     "text": [
      "Epoch 5/45: 100%|██████████| 274/274 [00:25<00:00, 10.66batch/s]\n",
      "Epoch 6/45: 100%|██████████| 274/274 [00:19<00:00, 13.72batch/s]\n",
      "  0%|          | 0/274 [00:00<?, ?batch/s]"
     ]
    },
    {
     "name": "stdout",
     "output_type": "stream",
     "text": [
      "#assignments:  21618\n",
      "#assignments:  19058\n",
      "#assignments:  8065\n",
      "#assignments:  21259\n"
     ]
    },
    {
     "name": "stderr",
     "output_type": "stream",
     "text": [
      "Epoch 7/45:   0%|          | 0/274 [00:09<?, ?batch/s]"
     ]
    },
    {
     "name": "stdout",
     "output_type": "stream",
     "text": [
      "#assignments best node:  21618\n"
     ]
    },
    {
     "name": "stderr",
     "output_type": "stream",
     "text": [
      "Epoch 7/45: 100%|██████████| 274/274 [00:33<00:00,  8.20batch/s]\n",
      "Epoch 8/45: 100%|██████████| 274/274 [00:21<00:00, 12.76batch/s]\n",
      "  0%|          | 0/274 [00:00<?, ?batch/s]"
     ]
    },
    {
     "name": "stdout",
     "output_type": "stream",
     "text": [
      "#assignments:  10019\n",
      "#assignments:  11693\n",
      "#assignments:  19061\n",
      "#assignments:  8037\n",
      "#assignments:  21190\n"
     ]
    },
    {
     "name": "stderr",
     "output_type": "stream",
     "text": [
      "Epoch 9/45:   0%|          | 1/274 [00:07<34:31,  7.59s/batch]"
     ]
    },
    {
     "name": "stdout",
     "output_type": "stream",
     "text": [
      "#assignments best node:  11693\n"
     ]
    },
    {
     "name": "stderr",
     "output_type": "stream",
     "text": [
      "Epoch 9/45: 100%|██████████| 274/274 [00:29<00:00,  9.35batch/s]\n",
      "Epoch 10/45: 100%|██████████| 274/274 [00:22<00:00, 12.26batch/s]\n",
      "  0%|          | 0/274 [00:00<?, ?batch/s]"
     ]
    },
    {
     "name": "stdout",
     "output_type": "stream",
     "text": [
      "#assignments:  9961\n",
      "#assignments:  5700\n",
      "#assignments:  6203\n",
      "#assignments:  18913\n",
      "#assignments:  7996\n",
      "#assignments:  21227\n"
     ]
    },
    {
     "name": "stderr",
     "output_type": "stream",
     "text": [
      "Epoch 11/45:   0%|          | 0/274 [00:06<?, ?batch/s]"
     ]
    },
    {
     "name": "stdout",
     "output_type": "stream",
     "text": [
      "#assignments best node:  18913\n"
     ]
    },
    {
     "name": "stderr",
     "output_type": "stream",
     "text": [
      "Epoch 11/45: 100%|██████████| 274/274 [00:29<00:00,  9.14batch/s]\n",
      "Epoch 12/45: 100%|██████████| 274/274 [00:22<00:00, 12.03batch/s]\n",
      "  0%|          | 0/274 [00:00<?, ?batch/s]"
     ]
    },
    {
     "name": "stdout",
     "output_type": "stream",
     "text": [
      "#assignments:  9913\n",
      "#assignments:  5827\n",
      "#assignments:  6186\n",
      "#assignments:  14074\n",
      "#assignments:  4848\n",
      "#assignments:  7974\n",
      "#assignments:  21178\n"
     ]
    },
    {
     "name": "stderr",
     "output_type": "stream",
     "text": [
      "Epoch 13/45:   0%|          | 0/274 [00:08<?, ?batch/s]"
     ]
    },
    {
     "name": "stdout",
     "output_type": "stream",
     "text": [
      "#assignments best node:  14074\n"
     ]
    },
    {
     "name": "stderr",
     "output_type": "stream",
     "text": [
      "Epoch 13/45: 100%|██████████| 274/274 [00:31<00:00,  8.61batch/s]\n",
      "Epoch 14/45: 100%|██████████| 274/274 [00:24<00:00, 11.32batch/s]\n",
      "  0%|          | 0/274 [00:00<?, ?batch/s]"
     ]
    },
    {
     "name": "stdout",
     "output_type": "stream",
     "text": [
      "#assignments:  9903\n",
      "#assignments:  5870\n",
      "#assignments:  6219\n",
      "#assignments:  7244\n",
      "#assignments:  6933\n",
      "#assignments:  4716\n",
      "#assignments:  7986\n",
      "#assignments:  21129\n"
     ]
    },
    {
     "name": "stderr",
     "output_type": "stream",
     "text": [
      "Epoch 15/45:   0%|          | 0/274 [00:10<?, ?batch/s]"
     ]
    },
    {
     "name": "stdout",
     "output_type": "stream",
     "text": [
      "#assignments best node:  9903\n"
     ]
    },
    {
     "name": "stderr",
     "output_type": "stream",
     "text": [
      "Epoch 15/45: 100%|██████████| 274/274 [00:35<00:00,  7.79batch/s]\n",
      "Epoch 16/45: 100%|██████████| 274/274 [00:24<00:00, 11.40batch/s]\n",
      "  0%|          | 0/274 [00:00<?, ?batch/s]"
     ]
    },
    {
     "name": "stdout",
     "output_type": "stream",
     "text": [
      "#assignments:  7546\n",
      "#assignments:  2373\n",
      "#assignments:  5979\n",
      "#assignments:  6260\n",
      "#assignments:  7231\n",
      "#assignments:  6896\n",
      "#assignments:  4656\n",
      "#assignments:  7915\n",
      "#assignments:  21144\n"
     ]
    },
    {
     "name": "stderr",
     "output_type": "stream",
     "text": [
      "Epoch 17/45:   0%|          | 1/274 [00:11<50:20, 11.06s/batch]"
     ]
    },
    {
     "name": "stdout",
     "output_type": "stream",
     "text": [
      "#assignments best node:  21144\n"
     ]
    },
    {
     "name": "stderr",
     "output_type": "stream",
     "text": [
      "Epoch 17/45: 100%|██████████| 274/274 [00:36<00:00,  7.55batch/s]\n",
      "Epoch 18/45: 100%|██████████| 274/274 [00:24<00:00, 11.03batch/s]\n",
      "  0%|          | 0/274 [00:00<?, ?batch/s]"
     ]
    },
    {
     "name": "stdout",
     "output_type": "stream",
     "text": [
      "#assignments:  7535\n",
      "#assignments:  2343\n",
      "#assignments:  5983\n",
      "#assignments:  6262\n",
      "#assignments:  7254\n",
      "#assignments:  6882\n",
      "#assignments:  4692\n",
      "#assignments:  7921\n",
      "#assignments:  9143\n",
      "#assignments:  11985\n"
     ]
    },
    {
     "name": "stderr",
     "output_type": "stream",
     "text": [
      "Epoch 19/45:   0%|          | 0/274 [00:12<?, ?batch/s]"
     ]
    },
    {
     "name": "stdout",
     "output_type": "stream",
     "text": [
      "#assignments best node:  11985\n"
     ]
    },
    {
     "name": "stderr",
     "output_type": "stream",
     "text": [
      "Epoch 19/45: 100%|██████████| 274/274 [00:42<00:00,  6.49batch/s]\n",
      "Epoch 20/45: 100%|██████████| 274/274 [00:26<00:00, 10.20batch/s]\n",
      "  0%|          | 0/274 [00:00<?, ?batch/s]"
     ]
    },
    {
     "name": "stdout",
     "output_type": "stream",
     "text": [
      "#assignments:  7570\n",
      "#assignments:  2337\n",
      "#assignments:  5960\n",
      "#assignments:  6267\n",
      "#assignments:  7193\n",
      "#assignments:  6954\n",
      "#assignments:  4714\n",
      "#assignments:  7893\n",
      "#assignments:  9196\n",
      "#assignments:  5997\n",
      "#assignments:  5919\n"
     ]
    },
    {
     "name": "stderr",
     "output_type": "stream",
     "text": [
      "Epoch 21/45:   0%|          | 1/274 [00:13<1:01:22, 13.49s/batch]"
     ]
    },
    {
     "name": "stdout",
     "output_type": "stream",
     "text": [
      "#assignments best node:  5919\n"
     ]
    },
    {
     "name": "stderr",
     "output_type": "stream",
     "text": [
      "Epoch 21/45: 100%|██████████| 274/274 [00:40<00:00,  6.81batch/s]\n",
      "Epoch 22/45: 100%|██████████| 274/274 [00:27<00:00, 10.04batch/s]\n",
      "  0%|          | 0/274 [00:00<?, ?batch/s]"
     ]
    },
    {
     "name": "stdout",
     "output_type": "stream",
     "text": [
      "#assignments:  7545\n",
      "#assignments:  2351\n",
      "#assignments:  5976\n",
      "#assignments:  6293\n",
      "#assignments:  7213\n",
      "#assignments:  6912\n",
      "#assignments:  4682\n",
      "#assignments:  7931\n",
      "#assignments:  10437\n",
      "#assignments:  5385\n",
      "#assignments:  1222\n",
      "#assignments:  4053\n"
     ]
    },
    {
     "name": "stderr",
     "output_type": "stream",
     "text": [
      "Epoch 23/45:   0%|          | 0/274 [00:13<?, ?batch/s]"
     ]
    },
    {
     "name": "stdout",
     "output_type": "stream",
     "text": [
      "#assignments best node:  10437\n"
     ]
    },
    {
     "name": "stderr",
     "output_type": "stream",
     "text": [
      "Epoch 23/45: 100%|██████████| 274/274 [00:41<00:00,  6.59batch/s]\n",
      "Epoch 24/45: 100%|██████████| 274/274 [00:27<00:00,  9.94batch/s]\n",
      "  0%|          | 0/274 [00:00<?, ?batch/s]"
     ]
    },
    {
     "name": "stdout",
     "output_type": "stream",
     "text": [
      "#assignments:  7522\n",
      "#assignments:  2330\n",
      "#assignments:  5985\n",
      "#assignments:  6274\n",
      "#assignments:  7207\n",
      "#assignments:  6944\n",
      "#assignments:  4733\n",
      "#assignments:  7878\n",
      "#assignments:  3419\n",
      "#assignments:  5940\n",
      "#assignments:  5881\n",
      "#assignments:  1684\n",
      "#assignments:  4203\n"
     ]
    },
    {
     "name": "stderr",
     "output_type": "stream",
     "text": [
      "Epoch 25/45:   0%|          | 0/274 [00:13<?, ?batch/s]"
     ]
    },
    {
     "name": "stdout",
     "output_type": "stream",
     "text": [
      "#assignments best node:  5940\n"
     ]
    },
    {
     "name": "stderr",
     "output_type": "stream",
     "text": [
      "Epoch 25/45: 100%|██████████| 274/274 [00:42<00:00,  6.49batch/s]\n",
      "Epoch 26/45: 100%|██████████| 274/274 [00:28<00:00,  9.67batch/s]\n",
      "  0%|          | 0/274 [00:00<?, ?batch/s]"
     ]
    },
    {
     "name": "stdout",
     "output_type": "stream",
     "text": [
      "#assignments:  7545\n",
      "#assignments:  2366\n",
      "#assignments:  5989\n",
      "#assignments:  6288\n",
      "#assignments:  7162\n",
      "#assignments:  6942\n",
      "#assignments:  4702\n",
      "#assignments:  7874\n",
      "#assignments:  3832\n",
      "#assignments:  3298\n",
      "#assignments:  2951\n",
      "#assignments:  3769\n",
      "#assignments:  2244\n",
      "#assignments:  5038\n"
     ]
    },
    {
     "name": "stderr",
     "output_type": "stream",
     "text": [
      "Epoch 27/45:   0%|          | 0/274 [00:18<?, ?batch/s]"
     ]
    },
    {
     "name": "stdout",
     "output_type": "stream",
     "text": [
      "#assignments best node:  7874\n"
     ]
    },
    {
     "name": "stderr",
     "output_type": "stream",
     "text": [
      "Epoch 27/45: 100%|██████████| 274/274 [00:47<00:00,  5.77batch/s]\n",
      "Epoch 28/45: 100%|██████████| 274/274 [00:31<00:00,  8.74batch/s]\n",
      "  0%|          | 0/274 [00:00<?, ?batch/s]"
     ]
    },
    {
     "name": "stdout",
     "output_type": "stream",
     "text": [
      "#assignments:  7522\n",
      "#assignments:  2346\n",
      "#assignments:  6037\n",
      "#assignments:  6296\n",
      "#assignments:  7155\n",
      "#assignments:  6940\n",
      "#assignments:  4717\n",
      "#assignments:  4234\n",
      "#assignments:  3615\n",
      "#assignments:  3465\n",
      "#assignments:  2983\n",
      "#assignments:  3187\n",
      "#assignments:  5773\n",
      "#assignments:  1498\n",
      "#assignments:  4232\n"
     ]
    },
    {
     "name": "stderr",
     "output_type": "stream",
     "text": [
      "Epoch 29/45:   0%|          | 0/274 [00:20<?, ?batch/s]"
     ]
    },
    {
     "name": "stdout",
     "output_type": "stream",
     "text": [
      "#assignments best node:  5773\n"
     ]
    },
    {
     "name": "stderr",
     "output_type": "stream",
     "text": [
      "Epoch 29/45: 100%|██████████| 274/274 [00:52<00:00,  5.27batch/s]\n",
      "Epoch 30/45: 100%|██████████| 274/274 [00:30<00:00,  9.10batch/s]\n",
      "  0%|          | 0/274 [00:00<?, ?batch/s]"
     ]
    },
    {
     "name": "stdout",
     "output_type": "stream",
     "text": [
      "#assignments:  7529\n",
      "#assignments:  2354\n",
      "#assignments:  6034\n",
      "#assignments:  6287\n",
      "#assignments:  7161\n",
      "#assignments:  6926\n",
      "#assignments:  4706\n",
      "#assignments:  4161\n",
      "#assignments:  3707\n",
      "#assignments:  3511\n",
      "#assignments:  2857\n",
      "#assignments:  3359\n",
      "#assignments:  3558\n",
      "#assignments:  2235\n",
      "#assignments:  1569\n",
      "#assignments:  4046\n"
     ]
    },
    {
     "name": "stderr",
     "output_type": "stream",
     "text": [
      "Epoch 31/45:   0%|          | 0/274 [00:18<?, ?batch/s]"
     ]
    },
    {
     "name": "stdout",
     "output_type": "stream",
     "text": [
      "#assignments best node:  7529\n"
     ]
    },
    {
     "name": "stderr",
     "output_type": "stream",
     "text": [
      "Epoch 31/45: 100%|██████████| 274/274 [00:50<00:00,  5.43batch/s]\n",
      "Epoch 32/45: 100%|██████████| 274/274 [00:31<00:00,  8.59batch/s]\n",
      "  0%|          | 0/274 [00:00<?, ?batch/s]"
     ]
    },
    {
     "name": "stdout",
     "output_type": "stream",
     "text": [
      "#assignments:  4704\n",
      "#assignments:  2818\n",
      "#assignments:  2345\n",
      "#assignments:  6039\n",
      "#assignments:  6300\n",
      "#assignments:  7130\n",
      "#assignments:  6922\n",
      "#assignments:  4725\n",
      "#assignments:  4056\n",
      "#assignments:  3814\n",
      "#assignments:  3669\n",
      "#assignments:  3024\n",
      "#assignments:  3322\n",
      "#assignments:  2461\n",
      "#assignments:  1224\n",
      "#assignments:  2359\n",
      "#assignments:  5088\n"
     ]
    },
    {
     "name": "stderr",
     "output_type": "stream",
     "text": [
      "Epoch 33/45:   0%|          | 0/274 [00:17<?, ?batch/s]"
     ]
    },
    {
     "name": "stdout",
     "output_type": "stream",
     "text": [
      "#assignments best node:  7130\n"
     ]
    },
    {
     "name": "stderr",
     "output_type": "stream",
     "text": [
      "Epoch 33/45: 100%|██████████| 274/274 [00:49<00:00,  5.54batch/s]\n",
      "Epoch 34/45: 100%|██████████| 274/274 [00:31<00:00,  8.65batch/s]\n",
      "  0%|          | 0/274 [00:00<?, ?batch/s]"
     ]
    },
    {
     "name": "stdout",
     "output_type": "stream",
     "text": [
      "#assignments:  4440\n",
      "#assignments:  3079\n",
      "#assignments:  2341\n",
      "#assignments:  6031\n",
      "#assignments:  6287\n",
      "#assignments:  2461\n",
      "#assignments:  4689\n",
      "#assignments:  6910\n",
      "#assignments:  4735\n",
      "#assignments:  4216\n",
      "#assignments:  3650\n",
      "#assignments:  3726\n",
      "#assignments:  3008\n",
      "#assignments:  3281\n",
      "#assignments:  3675\n",
      "#assignments:  2358\n",
      "#assignments:  1199\n",
      "#assignments:  3914\n"
     ]
    },
    {
     "name": "stderr",
     "output_type": "stream",
     "text": [
      "Epoch 35/45:   0%|          | 0/274 [00:20<?, ?batch/s]"
     ]
    },
    {
     "name": "stdout",
     "output_type": "stream",
     "text": [
      "#assignments best node:  6287\n"
     ]
    },
    {
     "name": "stderr",
     "output_type": "stream",
     "text": [
      "Epoch 35/45: 100%|██████████| 274/274 [00:53<00:00,  5.10batch/s]\n",
      "Epoch 36/45: 100%|██████████| 274/274 [00:33<00:00,  8.25batch/s]\n",
      "  0%|          | 0/274 [00:00<?, ?batch/s]"
     ]
    },
    {
     "name": "stdout",
     "output_type": "stream",
     "text": [
      "#assignments:  2059\n",
      "#assignments:  5470\n",
      "#assignments:  2349\n",
      "#assignments:  6044\n",
      "#assignments:  3691\n",
      "#assignments:  2589\n",
      "#assignments:  2362\n",
      "#assignments:  4786\n",
      "#assignments:  6934\n",
      "#assignments:  4726\n",
      "#assignments:  4113\n",
      "#assignments:  3742\n",
      "#assignments:  3750\n",
      "#assignments:  2907\n",
      "#assignments:  3346\n",
      "#assignments:  2460\n",
      "#assignments:  1414\n",
      "#assignments:  2293\n",
      "#assignments:  4965\n"
     ]
    },
    {
     "name": "stderr",
     "output_type": "stream",
     "text": [
      "Epoch 37/45:   0%|          | 0/274 [00:26<?, ?batch/s]"
     ]
    },
    {
     "name": "stdout",
     "output_type": "stream",
     "text": [
      "#assignments best node:  6934\n"
     ]
    },
    {
     "name": "stderr",
     "output_type": "stream",
     "text": [
      "Epoch 37/45: 100%|██████████| 274/274 [01:02<00:00,  4.40batch/s]\n",
      "Epoch 38/45: 100%|██████████| 274/274 [00:33<00:00,  8.12batch/s]\n",
      "Epoch 39/45: 100%|██████████| 274/274 [00:33<00:00,  8.16batch/s]\n",
      "Epoch 40/45: 100%|██████████| 274/274 [00:33<00:00,  8.11batch/s]\n",
      "Epoch 41/45: 100%|██████████| 274/274 [00:33<00:00,  8.11batch/s]\n",
      "Epoch 42/45: 100%|██████████| 274/274 [00:35<00:00,  7.81batch/s]\n",
      "Epoch 43/45: 100%|██████████| 274/274 [00:34<00:00,  8.00batch/s]\n",
      "Epoch 44/45: 100%|██████████| 274/274 [00:33<00:00,  8.11batch/s]\n",
      "Epoch 45/45: 100%|██████████| 274/274 [00:33<00:00,  8.15batch/s]\n",
      "Predict: 100%|██████████| 274/274 [00:03<00:00, 71.84it/s]\n"
     ]
    }
   ],
   "source": [
    "dataset, labels = load_mnist(return_X_y=True)\n",
    "autoencoder = FeedforwardAutoencoder([dataset.shape[1], 500, 500, 2000, 10])\n",
    "autoencoder.load_state_dict(torch.load(\"practical/DeepClustering/DipECT/pretrained_AE_MNIST_seed15.pth\"))\n",
    "autoencoder.fitted = True\n",
    "dipect_test_s12 = DipECT(autoencoder=autoencoder, use_pvalue=False, grow_interval=2, max_epochs=45, unimodal_treshhold=1.0, random_state=np.random.RandomState(15), reconstruction_loss_weight=150)\n",
    "dipect_test_s12 = dipect_test_s12.fit_predict(dataset/255)"
   ]
  },
  {
   "cell_type": "code",
   "execution_count": 16,
   "metadata": {},
   "outputs": [
    {
     "name": "stdout",
     "output_type": "stream",
     "text": [
      "0.8138428571428571\n",
      "0.8050793199573075\n"
     ]
    }
   ],
   "source": [
    "print(dipect_test_s12.tree_.flat_accuracy(labels, 10))\n",
    "print(dipect_test_s12.tree_.flat_nmi(labels, 10))"
   ]
  },
  {
   "cell_type": "code",
   "execution_count": null,
   "metadata": {},
   "outputs": [],
   "source": [
    "dataset, labels = load_mnist(return_X_y=True)\n",
    "autoencoder = FeedforwardAutoencoder([dataset.shape[1], 500, 500, 2000, 10])\n",
    "autoencoder.load_state_dict(torch.load(\"practical/DeepClustering/DipECT/pretrained_AE_MNIST_seed15.pth\"))\n",
    "autoencoder.fitted = True\n",
    "dipect_test_s10 = DipECT(autoencoder=autoencoder, use_pvalue=False, grow_interval=2, max_epochs=45, unimodal_treshhold=1.0, random_state=np.random.RandomState(15), reconstruction_loss_weight=150)\n",
    "dipect_test_s10 = dipect_test_s10.fit_predict(dataset/255)"
   ]
  },
  {
   "cell_type": "code",
   "execution_count": 5,
   "metadata": {},
   "outputs": [
    {
     "name": "stdout",
     "output_type": "stream",
     "text": [
      "cpu\n"
     ]
    },
    {
     "name": "stderr",
     "output_type": "stream",
     "text": [
      "Epoch 1/45: 100%|██████████| 274/274 [00:18<00:00, 14.69batch/s]\n",
      "Epoch 2/45: 100%|██████████| 274/274 [00:18<00:00, 14.66batch/s]\n",
      "  0%|          | 0/274 [00:00<?, ?batch/s]"
     ]
    },
    {
     "name": "stdout",
     "output_type": "stream",
     "text": [
      "#assignments:  39800\n",
      "#assignments:  30200\n"
     ]
    },
    {
     "name": "stderr",
     "output_type": "stream",
     "text": [
      "Epoch 3/45:   0%|          | 1/274 [00:04<21:05,  4.63s/batch]"
     ]
    },
    {
     "name": "stdout",
     "output_type": "stream",
     "text": [
      "#assignments best node:  39800\n"
     ]
    },
    {
     "name": "stderr",
     "output_type": "stream",
     "text": [
      "Epoch 3/45: 100%|██████████| 274/274 [00:23<00:00, 11.49batch/s]\n",
      "Epoch 4/45: 100%|██████████| 274/274 [00:19<00:00, 14.18batch/s]\n",
      "  0%|          | 0/274 [00:00<?, ?batch/s]"
     ]
    },
    {
     "name": "stdout",
     "output_type": "stream",
     "text": [
      "#assignments:  20818\n",
      "#assignments:  19432\n",
      "#assignments:  29750\n"
     ]
    },
    {
     "name": "stderr",
     "output_type": "stream",
     "text": [
      "Epoch 5/45:   0%|          | 1/274 [00:06<28:13,  6.20s/batch]"
     ]
    },
    {
     "name": "stdout",
     "output_type": "stream",
     "text": [
      "#assignments best node:  29750\n"
     ]
    },
    {
     "name": "stderr",
     "output_type": "stream",
     "text": [
      "Epoch 5/45: 100%|██████████| 274/274 [00:27<00:00,  9.83batch/s]\n",
      "Epoch 6/45: 100%|██████████| 274/274 [00:22<00:00, 12.37batch/s]\n",
      "  0%|          | 0/274 [00:00<?, ?batch/s]"
     ]
    },
    {
     "name": "stdout",
     "output_type": "stream",
     "text": [
      "#assignments:  21047\n",
      "#assignments:  19365\n",
      "#assignments:  21091\n",
      "#assignments:  8497\n"
     ]
    },
    {
     "name": "stderr",
     "output_type": "stream",
     "text": [
      "Epoch 7/45:   0%|          | 0/274 [00:07<?, ?batch/s]"
     ]
    },
    {
     "name": "stdout",
     "output_type": "stream",
     "text": [
      "#assignments best node:  19365\n"
     ]
    },
    {
     "name": "stderr",
     "output_type": "stream",
     "text": [
      "Epoch 7/45: 100%|██████████| 274/274 [00:28<00:00,  9.48batch/s]\n",
      "Epoch 8/45: 100%|██████████| 274/274 [00:20<00:00, 13.26batch/s]\n",
      "  0%|          | 0/274 [00:00<?, ?batch/s]"
     ]
    },
    {
     "name": "stdout",
     "output_type": "stream",
     "text": [
      "#assignments:  21491\n",
      "#assignments:  4944\n",
      "#assignments:  14268\n",
      "#assignments:  20940\n",
      "#assignments:  8357\n"
     ]
    },
    {
     "name": "stderr",
     "output_type": "stream",
     "text": [
      "Epoch 9/45:   0%|          | 0/274 [00:07<?, ?batch/s]"
     ]
    },
    {
     "name": "stdout",
     "output_type": "stream",
     "text": [
      "#assignments best node:  14268\n"
     ]
    },
    {
     "name": "stderr",
     "output_type": "stream",
     "text": [
      "Epoch 9/45: 100%|██████████| 274/274 [00:28<00:00,  9.46batch/s]\n",
      "Epoch 10/45: 100%|██████████| 274/274 [00:21<00:00, 12.90batch/s]\n",
      "  0%|          | 0/274 [00:00<?, ?batch/s]"
     ]
    },
    {
     "name": "stdout",
     "output_type": "stream",
     "text": [
      "#assignments:  21472\n",
      "#assignments:  5031\n",
      "#assignments:  6855\n",
      "#assignments:  7415\n",
      "#assignments:  20911\n"
     ]
    },
    {
     "name": "stderr",
     "output_type": "stream",
     "text": [
      "Epoch 11/45:   0%|          | 0/274 [00:07<?, ?batch/s]"
     ]
    },
    {
     "name": "stdout",
     "output_type": "stream",
     "text": [
      "#assignments:  8316\n",
      "#assignments best node:  21472\n"
     ]
    },
    {
     "name": "stderr",
     "output_type": "stream",
     "text": [
      "Epoch 11/45: 100%|██████████| 274/274 [00:30<00:00,  8.91batch/s]\n",
      "Epoch 12/45: 100%|██████████| 274/274 [00:22<00:00, 12.13batch/s]\n",
      "  0%|          | 0/274 [00:00<?, ?batch/s]"
     ]
    },
    {
     "name": "stdout",
     "output_type": "stream",
     "text": [
      "#assignments:  13894\n",
      "#assignments:  7853\n",
      "#assignments:  4936\n",
      "#assignments:  6764\n",
      "#assignments:  7400\n",
      "#assignments:  20939\n",
      "#assignments:  8214\n"
     ]
    },
    {
     "name": "stderr",
     "output_type": "stream",
     "text": [
      "Epoch 13/45:   0%|          | 0/274 [00:09<?, ?batch/s]"
     ]
    },
    {
     "name": "stdout",
     "output_type": "stream",
     "text": [
      "#assignments best node:  13894\n"
     ]
    },
    {
     "name": "stderr",
     "output_type": "stream",
     "text": [
      "Epoch 13/45: 100%|██████████| 274/274 [00:33<00:00,  8.19batch/s]\n",
      "Epoch 14/45: 100%|██████████| 274/274 [00:23<00:00, 11.90batch/s]\n",
      "  0%|          | 0/274 [00:00<?, ?batch/s]"
     ]
    },
    {
     "name": "stdout",
     "output_type": "stream",
     "text": [
      "#assignments:  7329\n",
      "#assignments:  6450\n",
      "#assignments:  7957\n",
      "#assignments:  5051\n",
      "#assignments:  6795\n",
      "#assignments:  7380\n",
      "#assignments:  20840\n",
      "#assignments:  8198\n"
     ]
    },
    {
     "name": "stderr",
     "output_type": "stream",
     "text": [
      "Epoch 15/45:   0%|          | 0/274 [00:10<?, ?batch/s]"
     ]
    },
    {
     "name": "stdout",
     "output_type": "stream",
     "text": [
      "#assignments best node:  20840\n"
     ]
    },
    {
     "name": "stderr",
     "output_type": "stream",
     "text": [
      "Epoch 15/45: 100%|██████████| 274/274 [00:34<00:00,  7.87batch/s]\n",
      "Epoch 16/45: 100%|██████████| 274/274 [00:24<00:00, 11.37batch/s]\n",
      "  0%|          | 0/274 [00:00<?, ?batch/s]"
     ]
    },
    {
     "name": "stdout",
     "output_type": "stream",
     "text": [
      "#assignments:  7348\n",
      "#assignments:  6413\n",
      "#assignments:  8108\n",
      "#assignments:  4952\n",
      "#assignments:  6803\n",
      "#assignments:  7328\n",
      "#assignments:  12925\n",
      "#assignments:  7959\n",
      "#assignments:  8164\n"
     ]
    },
    {
     "name": "stderr",
     "output_type": "stream",
     "text": [
      "Epoch 17/45:   0%|          | 0/274 [00:09<?, ?batch/s]"
     ]
    },
    {
     "name": "stdout",
     "output_type": "stream",
     "text": [
      "#assignments best node:  12925\n"
     ]
    },
    {
     "name": "stderr",
     "output_type": "stream",
     "text": [
      "Epoch 17/45: 100%|██████████| 274/274 [00:35<00:00,  7.78batch/s]\n",
      "Epoch 18/45: 100%|██████████| 274/274 [00:28<00:00,  9.53batch/s]\n",
      "  0%|          | 0/274 [00:00<?, ?batch/s]"
     ]
    },
    {
     "name": "stdout",
     "output_type": "stream",
     "text": [
      "#assignments:  7319\n",
      "#assignments:  6419\n",
      "#assignments:  8206\n",
      "#assignments:  4974\n",
      "#assignments:  6790\n",
      "#assignments:  7314\n",
      "#assignments:  5835\n",
      "#assignments:  6743\n",
      "#assignments:  8318\n",
      "#assignments:  8082\n"
     ]
    },
    {
     "name": "stderr",
     "output_type": "stream",
     "text": [
      "Epoch 19/45:   0%|          | 0/274 [00:14<?, ?batch/s]"
     ]
    },
    {
     "name": "stdout",
     "output_type": "stream",
     "text": [
      "#assignments best node:  8206\n"
     ]
    },
    {
     "name": "stderr",
     "output_type": "stream",
     "text": [
      "Epoch 19/45: 100%|██████████| 274/274 [00:40<00:00,  6.77batch/s]\n",
      "Epoch 20/45: 100%|██████████| 274/274 [00:25<00:00, 10.63batch/s]\n",
      "  0%|          | 0/274 [00:00<?, ?batch/s]"
     ]
    },
    {
     "name": "stdout",
     "output_type": "stream",
     "text": [
      "#assignments:  7349\n",
      "#assignments:  6437\n",
      "#assignments:  6130\n",
      "#assignments:  2045\n",
      "#assignments:  4967\n",
      "#assignments:  6765\n",
      "#assignments:  7324\n",
      "#assignments:  5657\n",
      "#assignments:  6731\n",
      "#assignments:  8499\n",
      "#assignments:  8096\n"
     ]
    },
    {
     "name": "stderr",
     "output_type": "stream",
     "text": [
      "Epoch 21/45:   0%|          | 0/274 [00:12<?, ?batch/s]"
     ]
    },
    {
     "name": "stdout",
     "output_type": "stream",
     "text": [
      "#assignments best node:  8096\n"
     ]
    },
    {
     "name": "stderr",
     "output_type": "stream",
     "text": [
      "Epoch 21/45: 100%|██████████| 274/274 [00:39<00:00,  6.88batch/s]\n",
      "Epoch 22/45: 100%|██████████| 274/274 [00:26<00:00, 10.26batch/s]\n",
      "  0%|          | 0/274 [00:00<?, ?batch/s]"
     ]
    },
    {
     "name": "stdout",
     "output_type": "stream",
     "text": [
      "#assignments:  7247\n",
      "#assignments:  6493\n",
      "#assignments:  6247\n",
      "#assignments:  2025\n",
      "#assignments:  4953\n",
      "#assignments:  6728\n",
      "#assignments:  7335\n",
      "#assignments:  5869\n",
      "#assignments:  6756\n",
      "#assignments:  8254\n",
      "#assignments:  3940\n",
      "#assignments:  4153\n"
     ]
    },
    {
     "name": "stderr",
     "output_type": "stream",
     "text": [
      "Epoch 23/45:   0%|          | 0/274 [00:12<?, ?batch/s]"
     ]
    },
    {
     "name": "stdout",
     "output_type": "stream",
     "text": [
      "#assignments best node:  5869\n"
     ]
    },
    {
     "name": "stderr",
     "output_type": "stream",
     "text": [
      "Epoch 23/45: 100%|██████████| 274/274 [00:40<00:00,  6.84batch/s]\n",
      "Epoch 24/45: 100%|██████████| 274/274 [00:27<00:00, 10.05batch/s]\n",
      "  0%|          | 0/274 [00:00<?, ?batch/s]"
     ]
    },
    {
     "name": "stdout",
     "output_type": "stream",
     "text": [
      "#assignments:  7317\n",
      "#assignments:  6512\n",
      "#assignments:  6240\n",
      "#assignments:  2035\n",
      "#assignments:  4955\n",
      "#assignments:  6728\n",
      "#assignments:  7318\n",
      "#assignments:  2627\n",
      "#assignments:  3048\n",
      "#assignments:  6758\n",
      "#assignments:  8414\n",
      "#assignments:  3759\n",
      "#assignments:  4289\n"
     ]
    },
    {
     "name": "stderr",
     "output_type": "stream",
     "text": [
      "Epoch 25/45:   0%|          | 0/274 [00:14<?, ?batch/s]"
     ]
    },
    {
     "name": "stdout",
     "output_type": "stream",
     "text": [
      "#assignments best node:  7318\n"
     ]
    },
    {
     "name": "stderr",
     "output_type": "stream",
     "text": [
      "Epoch 25/45: 100%|██████████| 274/274 [00:43<00:00,  6.36batch/s]\n",
      "Epoch 26/45: 100%|██████████| 274/274 [00:28<00:00,  9.76batch/s]\n",
      "  0%|          | 0/274 [00:00<?, ?batch/s]"
     ]
    },
    {
     "name": "stdout",
     "output_type": "stream",
     "text": [
      "#assignments:  7229\n",
      "#assignments:  6559\n",
      "#assignments:  6223\n",
      "#assignments:  2019\n",
      "#assignments:  5013\n",
      "#assignments:  6739\n",
      "#assignments:  2243\n",
      "#assignments:  5042\n",
      "#assignments:  3097\n",
      "#assignments:  2814\n",
      "#assignments:  6756\n",
      "#assignments:  8234\n",
      "#assignments:  3787\n",
      "#assignments:  4245\n"
     ]
    },
    {
     "name": "stderr",
     "output_type": "stream",
     "text": [
      "Epoch 27/45:   0%|          | 0/274 [00:15<?, ?batch/s]"
     ]
    },
    {
     "name": "stdout",
     "output_type": "stream",
     "text": [
      "#assignments best node:  7229\n"
     ]
    },
    {
     "name": "stderr",
     "output_type": "stream",
     "text": [
      "Epoch 27/45: 100%|██████████| 274/274 [00:45<00:00,  6.04batch/s]\n",
      "Epoch 28/45: 100%|██████████| 274/274 [00:33<00:00,  8.24batch/s]\n",
      "  0%|          | 0/274 [00:00<?, ?batch/s]"
     ]
    },
    {
     "name": "stdout",
     "output_type": "stream",
     "text": [
      "#assignments:  3149\n",
      "#assignments:  4085\n",
      "#assignments:  6541\n",
      "#assignments:  6350\n",
      "#assignments:  1983\n",
      "#assignments:  4961\n",
      "#assignments:  6732\n",
      "#assignments:  2285\n",
      "#assignments:  5019\n",
      "#assignments:  2957\n",
      "#assignments:  2981\n",
      "#assignments:  6787\n",
      "#assignments:  8140\n",
      "#assignments:  3801\n",
      "#assignments:  4229\n"
     ]
    },
    {
     "name": "stderr",
     "output_type": "stream",
     "text": [
      "Epoch 29/45:   0%|          | 0/274 [00:18<?, ?batch/s]"
     ]
    },
    {
     "name": "stdout",
     "output_type": "stream",
     "text": [
      "#assignments best node:  8140\n"
     ]
    },
    {
     "name": "stderr",
     "output_type": "stream",
     "text": [
      "Epoch 29/45: 100%|██████████| 274/274 [00:48<00:00,  5.68batch/s]\n",
      "Epoch 30/45: 100%|██████████| 274/274 [00:36<00:00,  7.58batch/s]\n",
      "  0%|          | 0/274 [00:00<?, ?batch/s]"
     ]
    },
    {
     "name": "stdout",
     "output_type": "stream",
     "text": [
      "#assignments:  3058\n",
      "#assignments:  4194\n",
      "#assignments:  6561\n",
      "#assignments:  6387\n",
      "#assignments:  1919\n",
      "#assignments:  5002\n",
      "#assignments:  6722\n",
      "#assignments:  3753\n",
      "#assignments:  3511\n",
      "#assignments:  2633\n",
      "#assignments:  3471\n",
      "#assignments:  6808\n",
      "#assignments:  4393\n",
      "#assignments:  3560\n",
      "#assignments:  3805\n",
      "#assignments:  4223\n"
     ]
    },
    {
     "name": "stderr",
     "output_type": "stream",
     "text": [
      "Epoch 31/45:   0%|          | 0/274 [00:19<?, ?batch/s]"
     ]
    },
    {
     "name": "stdout",
     "output_type": "stream",
     "text": [
      "#assignments best node:  6808\n"
     ]
    },
    {
     "name": "stderr",
     "output_type": "stream",
     "text": [
      "Epoch 31/45: 100%|██████████| 274/274 [00:49<00:00,  5.53batch/s]\n",
      "Epoch 32/45: 100%|██████████| 274/274 [00:29<00:00,  9.15batch/s]\n",
      "  0%|          | 0/274 [00:00<?, ?batch/s]"
     ]
    },
    {
     "name": "stdout",
     "output_type": "stream",
     "text": [
      "#assignments:  2773\n",
      "#assignments:  4492\n",
      "#assignments:  6533\n",
      "#assignments:  6332\n",
      "#assignments:  1987\n",
      "#assignments:  4992\n",
      "#assignments:  6743\n",
      "#assignments:  3525\n",
      "#assignments:  3766\n",
      "#assignments:  3046\n",
      "#assignments:  3081\n",
      "#assignments:  2974\n",
      "#assignments:  3805\n",
      "#assignments:  3364\n",
      "#assignments:  4565\n",
      "#assignments:  3779\n",
      "#assignments:  4243\n"
     ]
    },
    {
     "name": "stderr",
     "output_type": "stream",
     "text": [
      "Epoch 33/45:   0%|          | 0/274 [00:20<?, ?batch/s]"
     ]
    },
    {
     "name": "stdout",
     "output_type": "stream",
     "text": [
      "#assignments best node:  6533\n"
     ]
    },
    {
     "name": "stderr",
     "output_type": "stream",
     "text": [
      "Epoch 33/45: 100%|██████████| 274/274 [00:51<00:00,  5.33batch/s]\n",
      "Epoch 34/45: 100%|██████████| 274/274 [00:30<00:00,  8.85batch/s]\n",
      "  0%|          | 0/274 [00:00<?, ?batch/s]"
     ]
    },
    {
     "name": "stdout",
     "output_type": "stream",
     "text": [
      "#assignments:  4340\n",
      "#assignments:  2897\n",
      "#assignments:  3074\n",
      "#assignments:  3485\n",
      "#assignments:  6367\n",
      "#assignments:  2010\n",
      "#assignments:  4945\n",
      "#assignments:  6735\n",
      "#assignments:  3824\n",
      "#assignments:  3464\n",
      "#assignments:  2631\n",
      "#assignments:  3534\n",
      "#assignments:  2998\n",
      "#assignments:  3780\n",
      "#assignments:  5126\n",
      "#assignments:  2761\n",
      "#assignments:  3792\n",
      "#assignments:  4237\n"
     ]
    },
    {
     "name": "stderr",
     "output_type": "stream",
     "text": [
      "Epoch 35/45:   0%|          | 0/274 [00:20<?, ?batch/s]"
     ]
    },
    {
     "name": "stdout",
     "output_type": "stream",
     "text": [
      "#assignments best node:  6735\n"
     ]
    },
    {
     "name": "stderr",
     "output_type": "stream",
     "text": [
      "Epoch 35/45: 100%|██████████| 274/274 [18:12<00:00,  3.99s/batch]   \n",
      "Epoch 36/45: 100%|██████████| 274/274 [00:33<00:00,  8.18batch/s]\n",
      "  0%|          | 0/274 [00:00<?, ?batch/s]"
     ]
    },
    {
     "name": "stdout",
     "output_type": "stream",
     "text": [
      "#assignments:  4946\n",
      "#assignments:  2293\n",
      "#assignments:  3486\n",
      "#assignments:  3051\n",
      "#assignments:  6445\n",
      "#assignments:  2034\n",
      "#assignments:  4936\n",
      "#assignments:  3765\n",
      "#assignments:  2981\n",
      "#assignments:  3339\n",
      "#assignments:  3895\n",
      "#assignments:  3002\n",
      "#assignments:  3137\n",
      "#assignments:  3525\n",
      "#assignments:  3258\n",
      "#assignments:  4988\n",
      "#assignments:  2919\n",
      "#assignments:  3760\n",
      "#assignments:  4240\n"
     ]
    },
    {
     "name": "stderr",
     "output_type": "stream",
     "text": [
      "Epoch 37/45:   0%|          | 0/274 [00:20<?, ?batch/s]"
     ]
    },
    {
     "name": "stdout",
     "output_type": "stream",
     "text": [
      "#assignments best node:  6445\n"
     ]
    },
    {
     "name": "stderr",
     "output_type": "stream",
     "text": [
      "Epoch 37/45: 100%|██████████| 274/274 [00:52<00:00,  5.27batch/s]\n",
      "Epoch 38/45: 100%|██████████| 274/274 [00:34<00:00,  7.92batch/s]\n",
      "Epoch 39/45: 100%|██████████| 274/274 [00:31<00:00,  8.70batch/s]\n",
      "Epoch 40/45: 100%|██████████| 274/274 [00:31<00:00,  8.83batch/s]\n",
      "Epoch 41/45: 100%|██████████| 274/274 [00:30<00:00,  8.94batch/s]\n",
      "Epoch 42/45: 100%|██████████| 274/274 [00:31<00:00,  8.68batch/s]\n",
      "Epoch 43/45: 100%|██████████| 274/274 [00:30<00:00,  8.93batch/s]\n",
      "Epoch 44/45: 100%|██████████| 274/274 [00:31<00:00,  8.75batch/s]\n",
      "Epoch 45/45: 100%|██████████| 274/274 [00:34<00:00,  7.98batch/s]\n",
      "Predict: 100%|██████████| 274/274 [00:03<00:00, 70.92it/s]\n"
     ]
    }
   ],
   "source": [
    "dataset, labels = load_mnist(return_X_y=True)\n",
    "autoencoder = FeedforwardAutoencoder([dataset.shape[1], 500, 500, 2000, 10])\n",
    "autoencoder.load_state_dict(torch.load(\"practical/DeepClustering/DipECT/pretrained_AE.pth\"))\n",
    "autoencoder.fitted = True\n",
    "dipect_test_s8 = DipECT(autoencoder=autoencoder, use_pvalue=False, grow_interval=2, max_epochs=45, unimodal_treshhold=1.0)\n",
    "dipect_test_s8 = dipect_test_s8.fit_predict(dataset)"
   ]
  },
  {
   "cell_type": "code",
   "execution_count": 6,
   "metadata": {},
   "outputs": [
    {
     "name": "stdout",
     "output_type": "stream",
     "text": [
      "0.9192142857142858\n",
      "0.8506510416495522\n"
     ]
    }
   ],
   "source": [
    "print(dipect_test_s8.tree_.flat_accuracy(labels, 10))\n",
    "print(dipect_test_s8.tree_.flat_nmi(labels, 10))"
   ]
  },
  {
   "cell_type": "code",
   "execution_count": 17,
   "metadata": {},
   "outputs": [
    {
     "name": "stdout",
     "output_type": "stream",
     "text": [
      "cpu\n",
      "new loss\n"
     ]
    },
    {
     "name": "stderr",
     "output_type": "stream",
     "text": [
      "Epoch 0/45: 100%|██████████| 274/274 [00:21<00:00, 12.68batch/s]\n",
      "Epoch 1/45: 100%|██████████| 274/274 [00:20<00:00, 13.38batch/s]\n",
      "  0%|          | 0/274 [00:00<?, ?batch/s]"
     ]
    },
    {
     "name": "stdout",
     "output_type": "stream",
     "text": [
      "#assignments:  31387\n",
      "#assignments:  38613\n"
     ]
    },
    {
     "name": "stderr",
     "output_type": "stream",
     "text": [
      "Epoch 2/45:   0%|          | 1/274 [00:06<27:31,  6.05s/batch]"
     ]
    },
    {
     "name": "stdout",
     "output_type": "stream",
     "text": [
      "#assignments best node:  38613\n"
     ]
    },
    {
     "name": "stderr",
     "output_type": "stream",
     "text": [
      "Epoch 2/45: 100%|██████████| 274/274 [00:28<00:00,  9.59batch/s]\n",
      "Epoch 3/45: 100%|██████████| 274/274 [00:22<00:00, 12.31batch/s]\n",
      "  0%|          | 0/274 [00:00<?, ?batch/s]"
     ]
    },
    {
     "name": "stdout",
     "output_type": "stream",
     "text": [
      "#assignments:  30132\n",
      "#assignments:  21294\n",
      "#assignments:  18574\n"
     ]
    },
    {
     "name": "stderr",
     "output_type": "stream",
     "text": [
      "Epoch 4/45:   0%|          | 1/274 [00:08<40:52,  8.98s/batch]"
     ]
    },
    {
     "name": "stdout",
     "output_type": "stream",
     "text": [
      "#assignments best node:  30132\n"
     ]
    },
    {
     "name": "stderr",
     "output_type": "stream",
     "text": [
      "Epoch 4/45: 100%|██████████| 274/274 [00:32<00:00,  8.35batch/s]\n",
      "Epoch 5/45: 100%|██████████| 274/274 [00:23<00:00, 11.75batch/s]\n",
      "  0%|          | 0/274 [00:00<?, ?batch/s]"
     ]
    },
    {
     "name": "stdout",
     "output_type": "stream",
     "text": [
      "#assignments:  8447\n",
      "#assignments:  21554\n",
      "#assignments:  21659\n",
      "#assignments:  18340\n"
     ]
    },
    {
     "name": "stderr",
     "output_type": "stream",
     "text": [
      "Epoch 6/45:   0%|          | 0/274 [00:10<?, ?batch/s]"
     ]
    },
    {
     "name": "stdout",
     "output_type": "stream",
     "text": [
      "#assignments best node:  18340\n"
     ]
    },
    {
     "name": "stderr",
     "output_type": "stream",
     "text": [
      "Epoch 6/45: 100%|██████████| 274/274 [00:41<00:00,  6.62batch/s]\n",
      "Epoch 7/45: 100%|██████████| 274/274 [00:30<00:00,  9.06batch/s]\n",
      "  0%|          | 0/274 [00:00<?, ?batch/s]"
     ]
    },
    {
     "name": "stdout",
     "output_type": "stream",
     "text": [
      "#assignments:  8342\n",
      "#assignments:  21361\n",
      "#assignments:  21700\n",
      "#assignments:  4875\n",
      "#assignments:  13722\n"
     ]
    },
    {
     "name": "stderr",
     "output_type": "stream",
     "text": [
      "Epoch 8/45:   0%|          | 0/274 [00:09<?, ?batch/s]"
     ]
    },
    {
     "name": "stdout",
     "output_type": "stream",
     "text": [
      "#assignments best node:  13722\n"
     ]
    },
    {
     "name": "stderr",
     "output_type": "stream",
     "text": [
      "Epoch 8/45: 100%|██████████| 274/274 [00:37<00:00,  7.32batch/s]\n",
      "Epoch 9/45: 100%|██████████| 274/274 [00:28<00:00,  9.56batch/s]\n",
      "  0%|          | 0/274 [00:00<?, ?batch/s]"
     ]
    },
    {
     "name": "stdout",
     "output_type": "stream",
     "text": [
      "#assignments:  8300\n",
      "#assignments:  21167\n",
      "#assignments:  21741\n",
      "#assignments:  4949\n",
      "#assignments:  7169\n",
      "#assignments:  6674\n"
     ]
    },
    {
     "name": "stderr",
     "output_type": "stream",
     "text": [
      "Epoch 10/45:   0%|          | 0/274 [00:10<?, ?batch/s]"
     ]
    },
    {
     "name": "stdout",
     "output_type": "stream",
     "text": [
      "#assignments best node:  21741\n"
     ]
    },
    {
     "name": "stderr",
     "output_type": "stream",
     "text": [
      "Epoch 10/45: 100%|██████████| 274/274 [00:40<00:00,  6.75batch/s]\n",
      "Epoch 11/45: 100%|██████████| 274/274 [00:33<00:00,  8.27batch/s]\n",
      "  0%|          | 0/274 [00:00<?, ?batch/s]"
     ]
    },
    {
     "name": "stdout",
     "output_type": "stream",
     "text": [
      "#assignments:  8232\n",
      "#assignments:  21157\n",
      "#assignments:  15932\n",
      "#assignments:  5956\n",
      "#assignments:  4988\n",
      "#assignments:  7081\n",
      "#assignments:  6654\n"
     ]
    },
    {
     "name": "stderr",
     "output_type": "stream",
     "text": [
      "Epoch 12/45:   0%|          | 0/274 [00:09<?, ?batch/s]"
     ]
    },
    {
     "name": "stdout",
     "output_type": "stream",
     "text": [
      "#assignments best node:  21157\n"
     ]
    },
    {
     "name": "stderr",
     "output_type": "stream",
     "text": [
      "Epoch 12/45: 100%|██████████| 274/274 [00:40<00:00,  6.82batch/s]\n",
      "Epoch 13/45: 100%|██████████| 274/274 [00:31<00:00,  8.68batch/s]\n",
      "  0%|          | 0/274 [00:00<?, ?batch/s]"
     ]
    },
    {
     "name": "stdout",
     "output_type": "stream",
     "text": [
      "#assignments:  8182\n",
      "#assignments:  11306\n",
      "#assignments:  9920\n",
      "#assignments:  15750\n",
      "#assignments:  6158\n",
      "#assignments:  4977\n",
      "#assignments:  7024\n",
      "#assignments:  6683\n"
     ]
    },
    {
     "name": "stderr",
     "output_type": "stream",
     "text": [
      "Epoch 14/45:   0%|          | 0/274 [00:10<?, ?batch/s]"
     ]
    },
    {
     "name": "stdout",
     "output_type": "stream",
     "text": [
      "#assignments best node:  15750\n"
     ]
    },
    {
     "name": "stderr",
     "output_type": "stream",
     "text": [
      "Epoch 14/45: 100%|██████████| 274/274 [00:43<00:00,  6.36batch/s]\n",
      "Epoch 15/45: 100%|██████████| 274/274 [00:32<00:00,  8.52batch/s]\n",
      "  0%|          | 0/274 [00:00<?, ?batch/s]"
     ]
    },
    {
     "name": "stdout",
     "output_type": "stream",
     "text": [
      "#assignments:  8172\n",
      "#assignments:  11294\n",
      "#assignments:  9909\n",
      "#assignments:  9183\n",
      "#assignments:  6436\n",
      "#assignments:  6280\n",
      "#assignments:  4982\n",
      "#assignments:  7055\n",
      "#assignments:  6689\n"
     ]
    },
    {
     "name": "stderr",
     "output_type": "stream",
     "text": [
      "Epoch 16/45:   0%|          | 0/274 [00:10<?, ?batch/s]"
     ]
    },
    {
     "name": "stdout",
     "output_type": "stream",
     "text": [
      "#assignments best node:  11294\n"
     ]
    },
    {
     "name": "stderr",
     "output_type": "stream",
     "text": [
      "Epoch 16/45: 100%|██████████| 274/274 [00:47<00:00,  5.83batch/s]\n",
      "Epoch 17/45: 100%|██████████| 274/274 [00:37<00:00,  7.40batch/s]\n",
      "  0%|          | 0/274 [00:00<?, ?batch/s]"
     ]
    },
    {
     "name": "stdout",
     "output_type": "stream",
     "text": [
      "#assignments:  8132\n",
      "#assignments:  7170\n",
      "#assignments:  4179\n",
      "#assignments:  9878\n",
      "#assignments:  9135\n",
      "#assignments:  6438\n",
      "#assignments:  6317\n",
      "#assignments:  5012\n",
      "#assignments:  7042\n",
      "#assignments:  6697\n"
     ]
    },
    {
     "name": "stderr",
     "output_type": "stream",
     "text": [
      "Epoch 18/45:   0%|          | 0/274 [00:12<?, ?batch/s]"
     ]
    },
    {
     "name": "stdout",
     "output_type": "stream",
     "text": [
      "#assignments best node:  9135\n"
     ]
    },
    {
     "name": "stderr",
     "output_type": "stream",
     "text": [
      "Epoch 18/45: 100%|██████████| 274/274 [00:49<00:00,  5.56batch/s]\n",
      "Epoch 19/45: 100%|██████████| 274/274 [00:36<00:00,  7.55batch/s]\n",
      "  0%|          | 0/274 [00:00<?, ?batch/s]"
     ]
    },
    {
     "name": "stdout",
     "output_type": "stream",
     "text": [
      "#assignments:  8139\n",
      "#assignments:  7168\n",
      "#assignments:  4124\n",
      "#assignments:  9768\n",
      "#assignments:  7008\n",
      "#assignments:  2087\n",
      "#assignments:  6484\n",
      "#assignments:  6423\n",
      "#assignments:  5055\n",
      "#assignments:  7002\n",
      "#assignments:  6742\n"
     ]
    },
    {
     "name": "stderr",
     "output_type": "stream",
     "text": [
      "Epoch 20/45:   0%|          | 0/274 [00:14<?, ?batch/s]"
     ]
    },
    {
     "name": "stdout",
     "output_type": "stream",
     "text": [
      "#assignments best node:  9768\n"
     ]
    },
    {
     "name": "stderr",
     "output_type": "stream",
     "text": [
      "Epoch 20/45: 100%|██████████| 274/274 [00:57<00:00,  4.74batch/s]\n",
      "Epoch 21/45: 100%|██████████| 274/274 [00:40<00:00,  6.84batch/s]\n",
      "  0%|          | 0/274 [00:00<?, ?batch/s]"
     ]
    },
    {
     "name": "stdout",
     "output_type": "stream",
     "text": [
      "#assignments:  8146\n",
      "#assignments:  7164\n",
      "#assignments:  4113\n",
      "#assignments:  6745\n",
      "#assignments:  3075\n",
      "#assignments:  6936\n",
      "#assignments:  2204\n",
      "#assignments:  6606\n",
      "#assignments:  6459\n",
      "#assignments:  4876\n",
      "#assignments:  6997\n",
      "#assignments:  6679\n"
     ]
    },
    {
     "name": "stderr",
     "output_type": "stream",
     "text": [
      "Epoch 22/45:   0%|          | 0/274 [00:16<?, ?batch/s]"
     ]
    },
    {
     "name": "stdout",
     "output_type": "stream",
     "text": [
      "#assignments best node:  8146\n"
     ]
    },
    {
     "name": "stderr",
     "output_type": "stream",
     "text": [
      "Epoch 22/45: 100%|██████████| 274/274 [00:55<00:00,  4.92batch/s]\n",
      "Epoch 23/45: 100%|██████████| 274/274 [00:38<00:00,  7.11batch/s]\n",
      "  0%|          | 0/274 [00:00<?, ?batch/s]"
     ]
    },
    {
     "name": "stdout",
     "output_type": "stream",
     "text": [
      "#assignments:  3786\n",
      "#assignments:  4324\n",
      "#assignments:  7182\n",
      "#assignments:  4044\n",
      "#assignments:  6655\n",
      "#assignments:  3225\n",
      "#assignments:  6864\n",
      "#assignments:  2090\n",
      "#assignments:  6536\n",
      "#assignments:  6498\n",
      "#assignments:  5101\n",
      "#assignments:  7003\n",
      "#assignments:  6692\n"
     ]
    },
    {
     "name": "stderr",
     "output_type": "stream",
     "text": [
      "Epoch 24/45:   0%|          | 0/274 [00:20<?, ?batch/s]"
     ]
    },
    {
     "name": "stdout",
     "output_type": "stream",
     "text": [
      "#assignments best node:  6536\n"
     ]
    },
    {
     "name": "stderr",
     "output_type": "stream",
     "text": [
      "Epoch 24/45: 100%|██████████| 274/274 [01:02<00:00,  4.36batch/s]\n",
      "Epoch 25/45: 100%|██████████| 274/274 [00:40<00:00,  6.73batch/s]\n",
      "  0%|          | 0/274 [00:00<?, ?batch/s]"
     ]
    },
    {
     "name": "stdout",
     "output_type": "stream",
     "text": [
      "#assignments:  3792\n",
      "#assignments:  4340\n",
      "#assignments:  7125\n",
      "#assignments:  4128\n",
      "#assignments:  6546\n",
      "#assignments:  3270\n",
      "#assignments:  6814\n",
      "#assignments:  2105\n",
      "#assignments:  3319\n",
      "#assignments:  3242\n",
      "#assignments:  6579\n",
      "#assignments:  5062\n",
      "#assignments:  6983\n",
      "#assignments:  6695\n"
     ]
    },
    {
     "name": "stderr",
     "output_type": "stream",
     "text": [
      "Epoch 26/45:   0%|          | 0/274 [00:16<?, ?batch/s]"
     ]
    },
    {
     "name": "stdout",
     "output_type": "stream",
     "text": [
      "#assignments best node:  6814\n"
     ]
    },
    {
     "name": "stderr",
     "output_type": "stream",
     "text": [
      "Epoch 26/45: 100%|██████████| 274/274 [00:57<00:00,  4.77batch/s]\n",
      "Epoch 27/45: 100%|██████████| 274/274 [00:44<00:00,  6.10batch/s]\n",
      "  0%|          | 0/274 [00:00<?, ?batch/s]"
     ]
    },
    {
     "name": "stdout",
     "output_type": "stream",
     "text": [
      "#assignments:  3824\n",
      "#assignments:  4278\n",
      "#assignments:  7221\n",
      "#assignments:  3953\n",
      "#assignments:  6629\n",
      "#assignments:  3380\n",
      "#assignments:  2018\n",
      "#assignments:  4813\n",
      "#assignments:  2043\n",
      "#assignments:  3288\n",
      "#assignments:  3258\n",
      "#assignments:  6565\n",
      "#assignments:  5011\n",
      "#assignments:  6966\n",
      "#assignments:  6753\n"
     ]
    },
    {
     "name": "stderr",
     "output_type": "stream",
     "text": [
      "Epoch 28/45:   0%|          | 0/274 [05:59<?, ?batch/s]"
     ]
    },
    {
     "name": "stdout",
     "output_type": "stream",
     "text": [
      "#assignments best node:  6629\n"
     ]
    },
    {
     "name": "stderr",
     "output_type": "stream",
     "text": [
      "Epoch 28/45: 100%|██████████| 274/274 [07:19<00:00,  1.60s/batch]  \n",
      "Epoch 29/45: 100%|██████████| 274/274 [00:50<00:00,  5.40batch/s]\n",
      "  0%|          | 0/274 [00:00<?, ?batch/s]"
     ]
    },
    {
     "name": "stdout",
     "output_type": "stream",
     "text": [
      "#assignments:  3895\n",
      "#assignments:  4219\n",
      "#assignments:  7089\n",
      "#assignments:  4134\n",
      "#assignments:  3624\n",
      "#assignments:  2837\n",
      "#assignments:  3337\n",
      "#assignments:  3949\n",
      "#assignments:  2874\n",
      "#assignments:  2112\n",
      "#assignments:  3195\n",
      "#assignments:  3368\n",
      "#assignments:  6591\n",
      "#assignments:  5048\n",
      "#assignments:  6989\n",
      "#assignments:  6739\n"
     ]
    },
    {
     "name": "stderr",
     "output_type": "stream",
     "text": [
      "Epoch 30/45:   0%|          | 0/274 [00:21<?, ?batch/s]"
     ]
    },
    {
     "name": "stdout",
     "output_type": "stream",
     "text": [
      "#assignments best node:  7089\n"
     ]
    },
    {
     "name": "stderr",
     "output_type": "stream",
     "text": [
      "Epoch 30/45: 100%|██████████| 274/274 [01:16<00:00,  3.60batch/s]\n",
      "Epoch 31/45: 100%|██████████| 274/274 [00:50<00:00,  5.39batch/s]\n",
      "  0%|          | 0/274 [00:00<?, ?batch/s]"
     ]
    },
    {
     "name": "stdout",
     "output_type": "stream",
     "text": [
      "#assignments:  3914\n",
      "#assignments:  4201\n",
      "#assignments:  3001\n",
      "#assignments:  4107\n",
      "#assignments:  4052\n",
      "#assignments:  3391\n",
      "#assignments:  3220\n",
      "#assignments:  3437\n",
      "#assignments:  3858\n",
      "#assignments:  2972\n",
      "#assignments:  2086\n",
      "#assignments:  3176\n",
      "#assignments:  3395\n",
      "#assignments:  6525\n",
      "#assignments:  4980\n",
      "#assignments:  6979\n",
      "#assignments:  6706\n"
     ]
    },
    {
     "name": "stderr",
     "output_type": "stream",
     "text": [
      "Epoch 32/45:   0%|          | 0/274 [00:20<?, ?batch/s]"
     ]
    },
    {
     "name": "stdout",
     "output_type": "stream",
     "text": [
      "#assignments best node:  6979\n"
     ]
    },
    {
     "name": "stderr",
     "output_type": "stream",
     "text": [
      "Epoch 32/45: 100%|██████████| 274/274 [01:11<00:00,  3.83batch/s]\n",
      "Epoch 33/45: 100%|██████████| 274/274 [00:53<00:00,  5.09batch/s]\n",
      "  0%|          | 0/274 [00:00<?, ?batch/s]"
     ]
    },
    {
     "name": "stdout",
     "output_type": "stream",
     "text": [
      "#assignments:  3813\n",
      "#assignments:  4256\n",
      "#assignments:  4449\n",
      "#assignments:  2593\n",
      "#assignments:  4094\n",
      "#assignments:  3356\n",
      "#assignments:  3112\n",
      "#assignments:  3466\n",
      "#assignments:  3980\n",
      "#assignments:  2847\n",
      "#assignments:  2056\n",
      "#assignments:  3142\n",
      "#assignments:  3430\n",
      "#assignments:  6598\n",
      "#assignments:  5088\n",
      "#assignments:  3347\n",
      "#assignments:  3647\n",
      "#assignments:  6726\n"
     ]
    },
    {
     "name": "stderr",
     "output_type": "stream",
     "text": [
      "Epoch 34/45:   0%|          | 0/274 [00:28<?, ?batch/s]"
     ]
    },
    {
     "name": "stdout",
     "output_type": "stream",
     "text": [
      "#assignments best node:  6726\n"
     ]
    },
    {
     "name": "stderr",
     "output_type": "stream",
     "text": [
      "Epoch 34/45: 100%|██████████| 274/274 [01:22<00:00,  3.32batch/s]\n",
      "Epoch 35/45: 100%|██████████| 274/274 [00:51<00:00,  5.29batch/s]\n",
      "  0%|          | 0/274 [00:00<?, ?batch/s]"
     ]
    },
    {
     "name": "stdout",
     "output_type": "stream",
     "text": [
      "#assignments:  3818\n",
      "#assignments:  4241\n",
      "#assignments:  3334\n",
      "#assignments:  3787\n",
      "#assignments:  3965\n",
      "#assignments:  3161\n",
      "#assignments:  3285\n",
      "#assignments:  3566\n",
      "#assignments:  1576\n",
      "#assignments:  5160\n",
      "#assignments:  2043\n",
      "#assignments:  3131\n",
      "#assignments:  3470\n",
      "#assignments:  6698\n",
      "#assignments:  5093\n",
      "#assignments:  3188\n",
      "#assignments:  3782\n",
      "#assignments:  4558\n",
      "#assignments:  2144\n"
     ]
    },
    {
     "name": "stderr",
     "output_type": "stream",
     "text": [
      "Epoch 36/45:   0%|          | 0/274 [00:25<?, ?batch/s]"
     ]
    },
    {
     "name": "stdout",
     "output_type": "stream",
     "text": [
      "#assignments best node:  6698\n"
     ]
    },
    {
     "name": "stderr",
     "output_type": "stream",
     "text": [
      "Epoch 36/45: 100%|██████████| 274/274 [01:19<00:00,  3.46batch/s]\n",
      "Epoch 37/45: 100%|██████████| 274/274 [00:56<00:00,  4.85batch/s]\n",
      "Epoch 38/45: 100%|██████████| 274/274 [00:53<00:00,  5.14batch/s]\n",
      "Epoch 39/45: 100%|██████████| 274/274 [00:58<00:00,  4.69batch/s]\n",
      "Epoch 40/45: 100%|██████████| 274/274 [00:53<00:00,  5.11batch/s]\n",
      "Epoch 41/45: 100%|██████████| 274/274 [00:53<00:00,  5.16batch/s]\n",
      "Epoch 42/45: 100%|██████████| 274/274 [00:53<00:00,  5.08batch/s]\n",
      "Epoch 43/45: 100%|██████████| 274/274 [00:54<00:00,  5.04batch/s]\n",
      "Epoch 44/45: 100%|██████████| 274/274 [00:54<00:00,  4.99batch/s]\n",
      "Predict: 100%|██████████| 274/274 [00:07<00:00, 38.71it/s]\n"
     ]
    }
   ],
   "source": [
    "dataset, labels = load_mnist(return_X_y=True)\n",
    "autoencoder = FeedforwardAutoencoder([dataset.shape[1], 500, 500, 2000, 10])\n",
    "autoencoder.load_state_dict(torch.load(\"practical/DeepClustering/DipECT/pretrained_AE_MNIST_seed15_unscaled.pth\"))\n",
    "autoencoder.fitted = True\n",
    "dipect_test_s8 = DipECT(autoencoder=autoencoder, use_pvalue=False, grow_interval=2, max_epochs=45, unimodal_treshhold=1.0, random_state=np.random.RandomState(15), reconstruction_loss_weight=0.001)\n",
    "dipect_test_s8 = dipect_test_s8.fit_predict(dataset)"
   ]
  },
  {
   "cell_type": "code",
   "execution_count": 18,
   "metadata": {},
   "outputs": [
    {
     "name": "stdout",
     "output_type": "stream",
     "text": [
      "0.891\n",
      "0.8462159118431997\n"
     ]
    }
   ],
   "source": [
    "print(dipect_test_s8.tree_.flat_accuracy(labels, 10))\n",
    "print(dipect_test_s8.tree_.flat_nmi(labels, 10))"
   ]
  }
 ],
 "metadata": {
  "kernelspec": {
   "display_name": "deepClustEnv",
   "language": "python",
   "name": "python3"
  },
  "language_info": {
   "codemirror_mode": {
    "name": "ipython",
    "version": 3
   },
   "file_extension": ".py",
   "mimetype": "text/x-python",
   "name": "python",
   "nbconvert_exporter": "python",
   "pygments_lexer": "ipython3",
   "version": "3.10.12"
  }
 },
 "nbformat": 4,
 "nbformat_minor": 2
}
