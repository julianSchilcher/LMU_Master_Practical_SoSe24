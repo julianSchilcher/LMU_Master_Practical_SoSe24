{
 "cells": [
  {
   "cell_type": "code",
   "execution_count": 4,
   "metadata": {},
   "outputs": [
    {
     "name": "stdout",
     "output_type": "stream",
     "text": [
      "/home/schilcherj/master/deepClustering/LMU_Master_Practical_SoSe24\n"
     ]
    }
   ],
   "source": [
    "%cd ../"
   ]
  },
  {
   "cell_type": "code",
   "execution_count": 11,
   "metadata": {},
   "outputs": [],
   "source": [
    "%load_ext autoreload\n",
    "%autoreload 2"
   ]
  },
  {
   "cell_type": "code",
   "execution_count": 30,
   "metadata": {},
   "outputs": [],
   "source": [
    "from clustpy.data.real_torchvision_data import load_fmnist, load_mnist\n",
    "from practical.DeepClustering.DipECT.dipect import DipECT\n",
    "from clustpy.deep.autoencoders import FeedforwardAutoencoder\n",
    "import numpy as np\n",
    "import torch\n",
    "from practical.DeepClustering.DeepECT.deepect_paper import DeepECT"
   ]
  },
  {
   "cell_type": "code",
   "execution_count": 16,
   "metadata": {},
   "outputs": [
    {
     "name": "stderr",
     "output_type": "stream",
     "text": [
      "Epoch 1/60:   0%|          | 0/274 [00:00<?, ?batch/s]/home/schilcherj/master/deepClustering/deepClustEnv/lib/python3.10/site-packages/ray/train/_internal/session.py:651: UserWarning: `report` is meant to only be called inside a function that is executed by a Tuner or Trainer. Returning `None`.\n",
      "  warnings.warn(\n",
      "Epoch 1/60: 100%|██████████| 274/274 [00:23<00:00, 11.50batch/s]\n",
      "Epoch 2/60: 100%|██████████| 274/274 [00:24<00:00, 11.32batch/s]\n",
      "Predict: 100%|██████████| 274/274 [00:04<00:00, 66.96it/s]\n",
      "Epoch 3/60: 100%|██████████| 274/274 [00:45<00:00,  6.04batch/s]\n",
      "Epoch 4/60: 100%|██████████| 274/274 [00:27<00:00,  9.93batch/s]\n",
      "Predict: 100%|██████████| 274/274 [00:04<00:00, 63.69it/s]\n",
      "Epoch 5/60: 100%|██████████| 274/274 [00:53<00:00,  5.14batch/s]\n",
      "Epoch 6/60: 100%|██████████| 274/274 [00:36<00:00,  7.56batch/s]\n",
      "Predict: 100%|██████████| 274/274 [00:04<00:00, 56.29it/s]\n",
      "Epoch 7/60: 100%|██████████| 274/274 [01:09<00:00,  3.93batch/s]\n",
      "Epoch 8/60: 100%|██████████| 274/274 [00:35<00:00,  7.64batch/s]\n",
      "Predict: 100%|██████████| 274/274 [00:04<00:00, 56.47it/s]\n",
      "Epoch 9/60: 100%|██████████| 274/274 [01:16<00:00,  3.60batch/s]\n",
      "Epoch 10/60: 100%|██████████| 274/274 [00:39<00:00,  6.90batch/s]\n",
      "Predict: 100%|██████████| 274/274 [00:05<00:00, 53.66it/s]\n",
      "Epoch 11/60: 100%|██████████| 274/274 [01:19<00:00,  3.46batch/s]\n",
      "Epoch 12/60: 100%|██████████| 274/274 [00:43<00:00,  6.35batch/s]\n",
      "Predict: 100%|██████████| 274/274 [00:05<00:00, 46.76it/s]\n",
      "Epoch 13/60: 100%|██████████| 274/274 [01:27<00:00,  3.13batch/s]\n",
      "Epoch 14/60: 100%|██████████| 274/274 [00:42<00:00,  6.44batch/s]\n",
      "Predict: 100%|██████████| 274/274 [00:05<00:00, 51.82it/s]\n",
      "Epoch 15/60: 100%|██████████| 274/274 [01:29<00:00,  3.04batch/s]\n",
      "Epoch 16/60: 100%|██████████| 274/274 [00:44<00:00,  6.14batch/s]\n",
      "Predict: 100%|██████████| 274/274 [00:05<00:00, 47.70it/s]\n",
      "Epoch 17/60: 100%|██████████| 274/274 [01:29<00:00,  3.05batch/s]\n",
      "Epoch 18/60: 100%|██████████| 274/274 [00:44<00:00,  6.20batch/s]\n",
      "Predict: 100%|██████████| 274/274 [00:05<00:00, 47.45it/s]\n",
      "Epoch 19/60: 100%|██████████| 274/274 [01:31<00:00,  2.98batch/s]\n",
      "Epoch 20/60: 100%|██████████| 274/274 [00:47<00:00,  5.77batch/s]\n",
      "Predict: 100%|██████████| 274/274 [00:05<00:00, 45.72it/s]\n",
      "Epoch 21/60: 100%|██████████| 274/274 [01:36<00:00,  2.85batch/s]\n",
      "Epoch 22/60: 100%|██████████| 274/274 [00:52<00:00,  5.23batch/s]\n",
      "Predict: 100%|██████████| 274/274 [00:05<00:00, 46.81it/s]\n",
      "Epoch 23/60: 100%|██████████| 274/274 [01:33<00:00,  2.94batch/s]\n",
      "Epoch 24/60: 100%|██████████| 274/274 [00:46<00:00,  5.85batch/s]\n",
      "Predict: 100%|██████████| 274/274 [00:05<00:00, 48.57it/s]\n",
      "Epoch 25/60: 100%|██████████| 274/274 [01:34<00:00,  2.91batch/s]\n",
      "Epoch 26/60: 100%|██████████| 274/274 [00:50<00:00,  5.48batch/s]\n",
      "Predict: 100%|██████████| 274/274 [00:06<00:00, 42.77it/s]\n",
      "Epoch 27/60: 100%|██████████| 274/274 [01:52<00:00,  2.43batch/s]\n",
      "Epoch 28/60: 100%|██████████| 274/274 [00:44<00:00,  6.17batch/s]\n",
      "Predict: 100%|██████████| 274/274 [00:05<00:00, 50.26it/s]\n",
      "Epoch 29/60: 100%|██████████| 274/274 [02:04<00:00,  2.20batch/s]\n",
      "Epoch 30/60: 100%|██████████| 274/274 [00:58<00:00,  4.68batch/s]\n",
      "Predict: 100%|██████████| 274/274 [00:06<00:00, 44.85it/s]\n",
      "Epoch 31/60: 100%|██████████| 274/274 [01:53<00:00,  2.41batch/s]\n",
      "Epoch 32/60: 100%|██████████| 274/274 [00:47<00:00,  5.80batch/s]\n",
      "Predict: 100%|██████████| 274/274 [00:05<00:00, 48.78it/s]\n",
      "Epoch 33/60: 100%|██████████| 274/274 [01:31<00:00,  3.01batch/s]\n",
      "Epoch 34/60: 100%|██████████| 274/274 [00:44<00:00,  6.21batch/s]\n",
      "Predict: 100%|██████████| 274/274 [00:06<00:00, 40.23it/s]\n",
      "Epoch 35/60: 100%|██████████| 274/274 [01:42<00:00,  2.69batch/s]\n",
      "Epoch 36/60: 100%|██████████| 274/274 [00:45<00:00,  6.08batch/s]\n",
      "Predict: 100%|██████████| 274/274 [00:05<00:00, 48.05it/s]\n",
      "Epoch 37/60: 100%|██████████| 274/274 [01:40<00:00,  2.72batch/s]\n",
      "Epoch 38/60: 100%|██████████| 274/274 [00:46<00:00,  5.93batch/s]\n",
      "Predict: 100%|██████████| 274/274 [00:05<00:00, 46.02it/s]\n",
      "Epoch 39/60: 100%|██████████| 274/274 [01:48<00:00,  2.52batch/s]\n",
      "Epoch 40/60: 100%|██████████| 274/274 [00:51<00:00,  5.37batch/s]\n",
      "Predict: 100%|██████████| 274/274 [00:06<00:00, 43.19it/s]\n",
      "Epoch 41/60: 100%|██████████| 274/274 [01:35<00:00,  2.88batch/s]\n",
      "Epoch 42/60: 100%|██████████| 274/274 [00:46<00:00,  5.92batch/s]\n",
      "Predict: 100%|██████████| 274/274 [00:05<00:00, 46.24it/s]\n",
      "Epoch 43/60: 100%|██████████| 274/274 [01:42<00:00,  2.67batch/s]\n",
      "Epoch 44/60: 100%|██████████| 274/274 [00:53<00:00,  5.08batch/s]\n",
      "Predict: 100%|██████████| 274/274 [00:06<00:00, 44.99it/s]\n",
      "Epoch 45/60: 100%|██████████| 274/274 [01:43<00:00,  2.66batch/s]\n",
      "Epoch 46/60: 100%|██████████| 274/274 [00:48<00:00,  5.63batch/s]\n",
      "Predict: 100%|██████████| 274/274 [00:06<00:00, 45.30it/s]\n",
      "Epoch 47/60: 100%|██████████| 274/274 [01:18<00:00,  3.51batch/s]\n",
      "Epoch 48/60: 100%|██████████| 274/274 [00:31<00:00,  8.79batch/s]\n",
      "Predict: 100%|██████████| 274/274 [00:03<00:00, 76.10it/s]\n",
      "Epoch 49/60: 100%|██████████| 274/274 [01:24<00:00,  3.24batch/s]\n",
      "Epoch 50/60: 100%|██████████| 274/274 [00:33<00:00,  8.10batch/s]\n",
      "Predict: 100%|██████████| 274/274 [00:04<00:00, 65.86it/s]\n",
      "Epoch 51/60: 100%|██████████| 274/274 [01:16<00:00,  3.60batch/s]\n",
      "Epoch 52/60: 100%|██████████| 274/274 [00:31<00:00,  8.67batch/s]\n",
      "Predict: 100%|██████████| 274/274 [00:03<00:00, 77.85it/s]\n",
      "Epoch 53/60: 100%|██████████| 274/274 [01:17<00:00,  3.52batch/s]\n",
      "Epoch 54/60: 100%|██████████| 274/274 [00:33<00:00,  8.28batch/s]\n",
      "Predict: 100%|██████████| 274/274 [00:03<00:00, 74.49it/s]\n",
      "Epoch 55/60: 100%|██████████| 274/274 [01:33<00:00,  2.92batch/s]\n",
      "Epoch 56/60: 100%|██████████| 274/274 [00:34<00:00,  8.00batch/s]\n",
      "Predict: 100%|██████████| 274/274 [00:03<00:00, 69.52it/s]\n",
      "Epoch 57/60: 100%|██████████| 274/274 [01:25<00:00,  3.21batch/s]\n",
      "Epoch 58/60: 100%|██████████| 274/274 [00:34<00:00,  7.98batch/s]\n",
      "Predict: 100%|██████████| 274/274 [00:03<00:00, 71.68it/s]\n",
      "Epoch 59/60: 100%|██████████| 274/274 [01:24<00:00,  3.24batch/s]\n",
      "Epoch 60/60: 100%|██████████| 274/274 [00:36<00:00,  7.55batch/s]\n",
      "Predict: 100%|██████████| 274/274 [00:04<00:00, 55.71it/s]\n"
     ]
    }
   ],
   "source": [
    "dataset, labels = load_fmnist(return_X_y=True)\n",
    "\n",
    "autoencoder = FeedforwardAutoencoder([dataset.shape[1], 500, 500, 2000, 10])\n",
    "autoencoder.load_state_dict(torch.load(\"practical/DeepClustering/DipECT/feedforward_fmnist.pth\"))\n",
    "autoencoder.fitted = True\n",
    "\n",
    "dipect_test_s2 = DipECT(\n",
    "    autoencoder=autoencoder,\n",
    "    clustering_n_epochs =  60,\n",
    "    clustering_optimizer_params =  {\"lr\": 0.0001},\n",
    "    early_stopping =  False,\n",
    "    loss_weight_function_normalization = -1,\n",
    "    mulitmodal_loss_application = \"leaf_nodes\",\n",
    "    mulitmodal_loss_node_criteria_method = \"tree_depth\",\n",
    "    mulitmodal_loss_weight_direction =  \"descending\",\n",
    "    mulitmodal_loss_weight_function =  \"linear\",\n",
    "    multimodal_loss_weight =  1.0,\n",
    "    projection_axis_learning =  \"partial_leaf_nodes\",\n",
    "    projection_axis_learning_rate =  0.001,\n",
    "    pruning_factor =  1.0,\n",
    "    pruning_strategy =  \"epoch_assessment\",\n",
    "    pruning_threshold =  2000,\n",
    "    reconstruction_loss_weight =  None,\n",
    "    refinement_epochs =  0,\n",
    "    tree_growth_amount =  3,\n",
    "    tree_growth_frequency =  2.0,\n",
    "    tree_growth_unimodality_treshold =  1.0,\n",
    "    tree_growth_upper_bound_leaf_nodes =  100,\n",
    "    tree_growth_use_unimodality_pvalue =  False,\n",
    "    unimodal_loss_application = None,\n",
    "    unimodal_loss_node_criteria_method =  \"time_of_split\",\n",
    "    unimodal_loss_weight =  0.2,\n",
    "    unimodal_loss_weight_direction =  \"ascending\",\n",
    "    unimodal_loss_weight_function =  \"linear\"\n",
    ")\n",
    "dipect_test_s2 = dipect_test_s2.fit_predict(dataset, labels)"
   ]
  },
  {
   "cell_type": "code",
   "execution_count": 17,
   "metadata": {},
   "outputs": [
    {
     "name": "stdout",
     "output_type": "stream",
     "text": [
      "0.48145714285714286\n",
      "0.5367149833553537\n",
      "0.4328737123692899\n"
     ]
    }
   ],
   "source": [
    "print(dipect_test_s2.tree_.flat_accuracy(labels, 10))\n",
    "print(dipect_test_s2.tree_.flat_nmi(labels, 10))\n",
    "print(dipect_test_s2.tree_.dendrogram_purity(labels))"
   ]
  },
  {
   "cell_type": "code",
   "execution_count": 20,
   "metadata": {},
   "outputs": [
    {
     "name": "stderr",
     "output_type": "stream",
     "text": [
      "Epoch 1/40: 100%|██████████| 274/274 [01:21<00:00,  3.37batch/s]\n",
      "Epoch 2/40: 100%|██████████| 274/274 [00:23<00:00, 11.55batch/s]\n",
      "Predict: 100%|██████████| 274/274 [00:04<00:00, 66.68it/s]\n",
      "Epoch 3/40: 100%|██████████| 274/274 [00:32<00:00,  8.38batch/s]\n",
      "Epoch 4/40: 100%|██████████| 274/274 [00:24<00:00, 10.98batch/s]\n",
      "Predict: 100%|██████████| 274/274 [00:03<00:00, 81.33it/s]\n",
      "Epoch 5/40: 100%|██████████| 274/274 [00:32<00:00,  8.46batch/s]\n",
      "Epoch 6/40: 100%|██████████| 274/274 [00:26<00:00, 10.44batch/s]\n",
      "Predict: 100%|██████████| 274/274 [00:03<00:00, 79.28it/s]\n",
      "Epoch 7/40: 100%|██████████| 274/274 [00:30<00:00,  8.84batch/s]\n",
      "Epoch 8/40: 100%|██████████| 274/274 [00:24<00:00, 11.05batch/s]\n",
      "Predict: 100%|██████████| 274/274 [00:03<00:00, 78.80it/s]\n",
      "Epoch 9/40: 100%|██████████| 274/274 [00:34<00:00,  7.85batch/s]\n",
      "Epoch 10/40: 100%|██████████| 274/274 [00:27<00:00, 10.10batch/s]\n",
      "Predict: 100%|██████████| 274/274 [00:04<00:00, 61.77it/s]\n",
      "Epoch 11/40: 100%|██████████| 274/274 [00:37<00:00,  7.31batch/s]\n",
      "Epoch 12/40: 100%|██████████| 274/274 [00:28<00:00,  9.64batch/s]\n",
      "Predict: 100%|██████████| 274/274 [00:04<00:00, 68.23it/s]\n",
      "Epoch 13/40: 100%|██████████| 274/274 [00:39<00:00,  6.98batch/s]\n",
      "Epoch 14/40: 100%|██████████| 274/274 [00:29<00:00,  9.28batch/s]\n",
      "Predict: 100%|██████████| 274/274 [00:03<00:00, 70.61it/s]\n",
      "Epoch 15/40: 100%|██████████| 274/274 [00:44<00:00,  6.09batch/s]\n",
      "Epoch 16/40: 100%|██████████| 274/274 [00:34<00:00,  8.05batch/s]\n",
      "Predict: 100%|██████████| 274/274 [00:04<00:00, 63.73it/s]\n",
      "Epoch 17/40: 100%|██████████| 274/274 [00:45<00:00,  6.00batch/s]\n",
      "Epoch 18/40: 100%|██████████| 274/274 [00:33<00:00,  8.25batch/s]\n",
      "Predict: 100%|██████████| 274/274 [00:04<00:00, 63.77it/s]\n",
      "Epoch 19/40: 100%|██████████| 274/274 [00:47<00:00,  5.76batch/s]\n",
      "Epoch 20/40: 100%|██████████| 274/274 [00:35<00:00,  7.70batch/s]\n",
      "Predict: 100%|██████████| 274/274 [00:04<00:00, 61.67it/s]\n",
      "Epoch 21/40: 100%|██████████| 274/274 [00:48<00:00,  5.66batch/s]\n",
      "Epoch 22/40: 100%|██████████| 274/274 [00:35<00:00,  7.66batch/s]\n",
      "Predict: 100%|██████████| 274/274 [00:04<00:00, 62.34it/s]\n",
      "Epoch 23/40: 100%|██████████| 274/274 [00:54<00:00,  5.03batch/s]\n",
      "Epoch 24/40: 100%|██████████| 274/274 [00:39<00:00,  6.97batch/s]\n",
      "Predict: 100%|██████████| 274/274 [00:04<00:00, 61.06it/s]\n",
      "Epoch 25/40: 100%|██████████| 274/274 [00:52<00:00,  5.27batch/s]\n",
      "Epoch 26/40: 100%|██████████| 274/274 [00:37<00:00,  7.23batch/s]\n",
      "Predict: 100%|██████████| 274/274 [00:04<00:00, 56.85it/s]\n",
      "Epoch 27/40: 100%|██████████| 274/274 [00:54<00:00,  5.05batch/s]\n",
      "Epoch 28/40: 100%|██████████| 274/274 [00:40<00:00,  6.81batch/s]\n",
      "Predict: 100%|██████████| 274/274 [00:04<00:00, 57.85it/s]\n",
      "Epoch 29/40: 100%|██████████| 274/274 [00:58<00:00,  4.71batch/s]\n",
      "Epoch 30/40: 100%|██████████| 274/274 [00:43<00:00,  6.31batch/s]\n",
      "Predict: 100%|██████████| 274/274 [00:05<00:00, 48.55it/s]\n",
      "Epoch 31/40: 100%|██████████| 274/274 [01:02<00:00,  4.41batch/s]\n",
      "Epoch 32/40: 100%|██████████| 274/274 [00:41<00:00,  6.66batch/s]\n",
      "Predict: 100%|██████████| 274/274 [00:05<00:00, 50.08it/s]\n",
      "Epoch 33/40: 100%|██████████| 274/274 [00:59<00:00,  4.63batch/s]\n",
      "Epoch 34/40: 100%|██████████| 274/274 [00:42<00:00,  6.41batch/s]\n",
      "Predict: 100%|██████████| 274/274 [00:05<00:00, 52.74it/s]\n",
      "Epoch 35/40: 100%|██████████| 274/274 [01:03<00:00,  4.31batch/s]\n",
      "Epoch 36/40: 100%|██████████| 274/274 [00:45<00:00,  6.06batch/s]\n",
      "Predict: 100%|██████████| 274/274 [00:05<00:00, 47.26it/s]\n",
      "Epoch 37/40: 100%|██████████| 274/274 [01:08<00:00,  4.03batch/s]\n",
      "Epoch 38/40: 100%|██████████| 274/274 [00:44<00:00,  6.18batch/s]\n",
      "Predict: 100%|██████████| 274/274 [00:05<00:00, 51.76it/s]\n",
      "Epoch 39/40: 100%|██████████| 274/274 [00:44<00:00,  6.20batch/s]\n",
      "Epoch 40/40: 100%|██████████| 274/274 [00:44<00:00,  6.23batch/s]\n",
      "Predict: 100%|██████████| 274/274 [00:05<00:00, 52.87it/s]\n"
     ]
    }
   ],
   "source": [
    "dataset, labels = load_fmnist(return_X_y=True)\n",
    "\n",
    "autoencoder = FeedforwardAutoencoder([dataset.shape[1], 500, 500, 2000, 10])\n",
    "autoencoder.load_state_dict(torch.load(\"practical/DeepClustering/DipECT/feedforward_fmnist.pth\"))\n",
    "autoencoder.fitted = True\n",
    "\n",
    "dipect_test_s2 = DipECT(\n",
    "    autoencoder=autoencoder,\n",
    "    tree_growth_unimodality_treshold=1.0,\n",
    ")\n",
    "dipect_test_s2 = dipect_test_s2.fit_predict(dataset, labels)"
   ]
  },
  {
   "cell_type": "code",
   "execution_count": 21,
   "metadata": {},
   "outputs": [
    {
     "name": "stdout",
     "output_type": "stream",
     "text": [
      "0.5872\n",
      "0.5792236342737986\n",
      "0.4619534823398952\n"
     ]
    }
   ],
   "source": [
    "print(dipect_test_s2.tree_.flat_accuracy(labels, 10))\n",
    "print(dipect_test_s2.tree_.flat_nmi(labels, 10))\n",
    "print(dipect_test_s2.tree_.dendrogram_purity(labels))"
   ]
  },
  {
   "cell_type": "code",
   "execution_count": 27,
   "metadata": {},
   "outputs": [
    {
     "name": "stderr",
     "output_type": "stream",
     "text": [
      "Epoch 1/60: 100%|██████████| 274/274 [00:13<00:00, 20.76batch/s]\n",
      "Epoch 2/60: 100%|██████████| 274/274 [00:16<00:00, 16.87batch/s]\n",
      "Predict: 100%|██████████| 274/274 [00:02<00:00, 119.34it/s]\n",
      "Epoch 3/60: 100%|██████████| 274/274 [00:20<00:00, 13.44batch/s]\n",
      "Epoch 4/60: 100%|██████████| 274/274 [00:16<00:00, 17.03batch/s]\n",
      "Predict: 100%|██████████| 274/274 [00:02<00:00, 106.13it/s]\n",
      "Epoch 5/60: 100%|██████████| 274/274 [00:22<00:00, 12.13batch/s]\n",
      "Epoch 6/60: 100%|██████████| 274/274 [00:16<00:00, 16.28batch/s]\n",
      "Predict: 100%|██████████| 274/274 [00:02<00:00, 114.42it/s]\n",
      "Epoch 7/60: 100%|██████████| 274/274 [00:30<00:00,  8.87batch/s]\n",
      "Epoch 8/60: 100%|██████████| 274/274 [00:23<00:00, 11.71batch/s]\n",
      "Predict: 100%|██████████| 274/274 [00:02<00:00, 101.79it/s]\n",
      "Epoch 9/60: 100%|██████████| 274/274 [00:28<00:00,  9.51batch/s]\n",
      "Epoch 10/60: 100%|██████████| 274/274 [00:18<00:00, 14.97batch/s]\n",
      "Predict: 100%|██████████| 274/274 [00:02<00:00, 109.89it/s]\n",
      "Epoch 11/60: 100%|██████████| 274/274 [00:28<00:00,  9.50batch/s]\n",
      "Epoch 12/60: 100%|██████████| 274/274 [00:21<00:00, 12.46batch/s]\n",
      "Predict: 100%|██████████| 274/274 [00:02<00:00, 107.61it/s]\n",
      "Epoch 13/60: 100%|██████████| 274/274 [00:26<00:00, 10.39batch/s]\n",
      "Epoch 14/60: 100%|██████████| 274/274 [00:20<00:00, 13.59batch/s]\n",
      "Predict: 100%|██████████| 274/274 [00:02<00:00, 101.21it/s]\n",
      "Epoch 15/60: 100%|██████████| 274/274 [00:28<00:00,  9.52batch/s]\n",
      "Epoch 16/60: 100%|██████████| 274/274 [00:21<00:00, 12.50batch/s]\n",
      "Predict: 100%|██████████| 274/274 [00:02<00:00, 95.08it/s]\n",
      "Epoch 17/60: 100%|██████████| 274/274 [00:31<00:00,  8.67batch/s]\n",
      "Epoch 18/60: 100%|██████████| 274/274 [00:22<00:00, 12.11batch/s]\n",
      "Predict: 100%|██████████| 274/274 [00:02<00:00, 91.44it/s]\n",
      "Epoch 19/60: 100%|██████████| 274/274 [00:31<00:00,  8.66batch/s]\n",
      "Epoch 20/60: 100%|██████████| 274/274 [00:27<00:00,  9.89batch/s]\n",
      "Predict: 100%|██████████| 274/274 [00:03<00:00, 82.79it/s]\n",
      "Epoch 21/60: 100%|██████████| 274/274 [00:34<00:00,  7.88batch/s]\n",
      "Epoch 22/60: 100%|██████████| 274/274 [00:23<00:00, 11.50batch/s]\n",
      "Predict: 100%|██████████| 274/274 [00:03<00:00, 90.58it/s]\n",
      "Epoch 23/60: 100%|██████████| 274/274 [00:34<00:00,  7.99batch/s]\n",
      "Epoch 24/60: 100%|██████████| 274/274 [00:24<00:00, 11.03batch/s]\n",
      "Predict: 100%|██████████| 274/274 [00:03<00:00, 84.36it/s]\n",
      "Epoch 25/60: 100%|██████████| 274/274 [00:34<00:00,  7.98batch/s]\n",
      "Epoch 26/60: 100%|██████████| 274/274 [00:25<00:00, 10.73batch/s]\n",
      "Predict: 100%|██████████| 274/274 [00:03<00:00, 86.60it/s]\n",
      "Epoch 27/60: 100%|██████████| 274/274 [00:36<00:00,  7.51batch/s]\n",
      "Epoch 28/60: 100%|██████████| 274/274 [00:26<00:00, 10.38batch/s]\n",
      "Predict: 100%|██████████| 274/274 [00:03<00:00, 83.83it/s]\n",
      "Epoch 29/60: 100%|██████████| 274/274 [00:38<00:00,  7.06batch/s]\n",
      "Epoch 30/60: 100%|██████████| 274/274 [00:30<00:00,  9.01batch/s]\n",
      "Predict: 100%|██████████| 274/274 [00:03<00:00, 70.25it/s]\n",
      "Epoch 31/60: 100%|██████████| 274/274 [00:42<00:00,  6.38batch/s]\n",
      "Epoch 32/60: 100%|██████████| 274/274 [00:28<00:00,  9.58batch/s]\n",
      "Predict: 100%|██████████| 274/274 [00:03<00:00, 80.47it/s]\n",
      "Epoch 33/60: 100%|██████████| 274/274 [00:41<00:00,  6.65batch/s]\n",
      "Epoch 34/60: 100%|██████████| 274/274 [00:29<00:00,  9.27batch/s]\n",
      "Predict: 100%|██████████| 274/274 [00:03<00:00, 80.09it/s]\n",
      "Epoch 35/60: 100%|██████████| 274/274 [00:42<00:00,  6.46batch/s]\n",
      "Epoch 36/60: 100%|██████████| 274/274 [00:30<00:00,  9.00batch/s]\n",
      "Predict: 100%|██████████| 274/274 [00:03<00:00, 79.19it/s]\n",
      "Epoch 37/60: 100%|██████████| 274/274 [00:42<00:00,  6.44batch/s]\n",
      "Epoch 38/60: 100%|██████████| 274/274 [00:30<00:00,  8.88batch/s]\n",
      "Predict: 100%|██████████| 274/274 [00:03<00:00, 78.71it/s]\n",
      "Epoch 39/60: 100%|██████████| 274/274 [00:34<00:00,  7.95batch/s]\n",
      "Epoch 40/60: 100%|██████████| 274/274 [00:32<00:00,  8.49batch/s]\n",
      "Predict: 100%|██████████| 274/274 [00:03<00:00, 77.34it/s]\n",
      "Epoch 41/60: 100%|██████████| 274/274 [00:30<00:00,  8.86batch/s]\n",
      "Epoch 42/60: 100%|██████████| 274/274 [00:31<00:00,  8.77batch/s]\n",
      "Predict: 100%|██████████| 274/274 [00:03<00:00, 78.46it/s]\n",
      "Epoch 43/60: 100%|██████████| 274/274 [00:31<00:00,  8.66batch/s]\n",
      "Epoch 44/60: 100%|██████████| 274/274 [00:31<00:00,  8.80batch/s]\n",
      "Predict: 100%|██████████| 274/274 [00:03<00:00, 76.32it/s]\n",
      "Epoch 45/60: 100%|██████████| 274/274 [00:31<00:00,  8.82batch/s]\n",
      "Epoch 46/60: 100%|██████████| 274/274 [00:31<00:00,  8.82batch/s]\n",
      "Predict: 100%|██████████| 274/274 [00:03<00:00, 68.98it/s]\n",
      "Epoch 47/60: 100%|██████████| 274/274 [00:31<00:00,  8.69batch/s]\n",
      "Epoch 48/60: 100%|██████████| 274/274 [00:30<00:00,  8.89batch/s]\n",
      "Predict: 100%|██████████| 274/274 [00:03<00:00, 76.52it/s]\n",
      "Epoch 49/60: 100%|██████████| 274/274 [00:34<00:00,  7.92batch/s]\n",
      "Epoch 50/60: 100%|██████████| 274/274 [00:32<00:00,  8.44batch/s]\n",
      "Predict: 100%|██████████| 274/274 [00:03<00:00, 76.86it/s]\n",
      "Epoch 51/60: 100%|██████████| 274/274 [00:31<00:00,  8.78batch/s]\n",
      "Epoch 52/60: 100%|██████████| 274/274 [00:31<00:00,  8.78batch/s]\n",
      "Predict: 100%|██████████| 274/274 [00:03<00:00, 76.52it/s]\n",
      "Epoch 53/60: 100%|██████████| 274/274 [00:31<00:00,  8.82batch/s]\n",
      "Epoch 54/60: 100%|██████████| 274/274 [00:31<00:00,  8.71batch/s]\n",
      "Predict: 100%|██████████| 274/274 [00:03<00:00, 77.17it/s]\n",
      "Epoch 55/60: 100%|██████████| 274/274 [00:31<00:00,  8.66batch/s]\n",
      "Epoch 56/60: 100%|██████████| 274/274 [00:31<00:00,  8.79batch/s]\n",
      "Predict: 100%|██████████| 274/274 [00:03<00:00, 79.25it/s]\n",
      "Epoch 57/60: 100%|██████████| 274/274 [00:30<00:00,  8.89batch/s]\n",
      "Epoch 58/60: 100%|██████████| 274/274 [00:31<00:00,  8.72batch/s]\n",
      "Predict: 100%|██████████| 274/274 [00:03<00:00, 76.91it/s]\n",
      "Epoch 59/60: 100%|██████████| 274/274 [00:35<00:00,  7.82batch/s]\n",
      "Epoch 60/60: 100%|██████████| 274/274 [00:32<00:00,  8.56batch/s]\n",
      "Predict: 100%|██████████| 274/274 [00:03<00:00, 78.93it/s]\n"
     ]
    }
   ],
   "source": [
    "dataset, labels = load_fmnist(return_X_y=True)\n",
    "\n",
    "autoencoder = FeedforwardAutoencoder([dataset.shape[1], 500, 500, 2000, 10])\n",
    "autoencoder.load_state_dict(torch.load(\"practical/DeepClustering/DipECT/feedforward_fmnist.pth\"))\n",
    "autoencoder.fitted = True\n",
    "\n",
    "dipect_test_s3 = DipECT(\n",
    "    autoencoder=autoencoder,\n",
    "    tree_growth_unimodality_treshold=1.0,\n",
    "    clustering_n_epochs=60\n",
    ")\n",
    "dipect_test_s3 = dipect_test_s3.fit_predict(dataset, labels)"
   ]
  },
  {
   "cell_type": "code",
   "execution_count": 28,
   "metadata": {},
   "outputs": [
    {
     "name": "stdout",
     "output_type": "stream",
     "text": [
      "0.5215285714285715\n",
      "0.573857729382078\n",
      "0.4276341483047421\n"
     ]
    }
   ],
   "source": [
    "print(dipect_test_s3.tree_.flat_accuracy(labels, 10))\n",
    "print(dipect_test_s3.tree_.flat_nmi(labels, 10))\n",
    "print(dipect_test_s3.tree_.dendrogram_purity(labels))"
   ]
  },
  {
   "cell_type": "code",
   "execution_count": 33,
   "metadata": {},
   "outputs": [
    {
     "name": "stdout",
     "output_type": "stream",
     "text": [
      "cpu\n"
     ]
    },
    {
     "name": "stderr",
     "output_type": "stream",
     "text": [
      "Fit:   1%|▏         | 501/40000 [00:51<21:44:11,  1.98s/it]"
     ]
    },
    {
     "name": "stdout",
     "output_type": "stream",
     "text": [
      "Leaf assignments: 37259\n",
      "Tree size after growing: 5, leaf nodes: 3\n"
     ]
    },
    {
     "name": "stderr",
     "output_type": "stream",
     "text": [
      "Fit:   3%|▎         | 1001/40000 [01:41<17:03:32,  1.57s/it]"
     ]
    },
    {
     "name": "stdout",
     "output_type": "stream",
     "text": [
      "Leaf assignments: 29578\n",
      "Tree size after growing: 7, leaf nodes: 4\n"
     ]
    },
    {
     "name": "stderr",
     "output_type": "stream",
     "text": [
      "Fit:   4%|▍         | 1501/40000 [02:38<39:19:47,  3.68s/it]"
     ]
    },
    {
     "name": "stdout",
     "output_type": "stream",
     "text": [
      "Leaf assignments: 18348\n",
      "Tree size after growing: 9, leaf nodes: 5\n"
     ]
    },
    {
     "name": "stderr",
     "output_type": "stream",
     "text": [
      "Fit:   5%|▌         | 2001/40000 [03:41<14:03:14,  1.33s/it]"
     ]
    },
    {
     "name": "stdout",
     "output_type": "stream",
     "text": [
      "Leaf assignments: 19809\n",
      "Tree size after growing: 11, leaf nodes: 6\n"
     ]
    },
    {
     "name": "stderr",
     "output_type": "stream",
     "text": [
      "Fit:   6%|▋         | 2501/40000 [04:27<14:07:51,  1.36s/it]"
     ]
    },
    {
     "name": "stdout",
     "output_type": "stream",
     "text": [
      "Leaf assignments: 16691\n",
      "Tree size after growing: 13, leaf nodes: 7\n"
     ]
    },
    {
     "name": "stderr",
     "output_type": "stream",
     "text": [
      "Fit:   8%|▊         | 3001/40000 [05:07<12:46:23,  1.24s/it]"
     ]
    },
    {
     "name": "stdout",
     "output_type": "stream",
     "text": [
      "Leaf assignments: 12313\n",
      "Tree size after growing: 15, leaf nodes: 8\n"
     ]
    },
    {
     "name": "stderr",
     "output_type": "stream",
     "text": [
      "Fit:   9%|▉         | 3502/40000 [05:47<10:42:38,  1.06s/it]"
     ]
    },
    {
     "name": "stdout",
     "output_type": "stream",
     "text": [
      "Leaf assignments: 10358\n",
      "Tree size after growing: 17, leaf nodes: 9\n"
     ]
    },
    {
     "name": "stderr",
     "output_type": "stream",
     "text": [
      "Fit:  10%|█         | 4002/40000 [06:21<9:24:05,  1.06it/s] "
     ]
    },
    {
     "name": "stdout",
     "output_type": "stream",
     "text": [
      "Leaf assignments: 11154\n",
      "Tree size after growing: 19, leaf nodes: 10\n"
     ]
    },
    {
     "name": "stderr",
     "output_type": "stream",
     "text": [
      "Fit:  11%|█▏        | 4503/40000 [06:57<7:22:35,  1.34it/s] "
     ]
    },
    {
     "name": "stdout",
     "output_type": "stream",
     "text": [
      "Leaf assignments: 6538\n",
      "Tree size after growing: 21, leaf nodes: 11\n"
     ]
    },
    {
     "name": "stderr",
     "output_type": "stream",
     "text": [
      "Fit:  13%|█▎        | 5001/40000 [07:31<9:44:04,  1.00s/it]"
     ]
    },
    {
     "name": "stdout",
     "output_type": "stream",
     "text": [
      "Leaf assignments: 10392\n",
      "Tree size after growing: 23, leaf nodes: 12\n"
     ]
    },
    {
     "name": "stderr",
     "output_type": "stream",
     "text": [
      "Fit:  14%|█▍        | 5502/40000 [08:09<11:55:57,  1.25s/it]"
     ]
    },
    {
     "name": "stdout",
     "output_type": "stream",
     "text": [
      "Leaf assignments: 8144\n",
      "Tree size after growing: 25, leaf nodes: 13\n"
     ]
    },
    {
     "name": "stderr",
     "output_type": "stream",
     "text": [
      "Fit:  15%|█▌        | 6002/40000 [08:48<10:38:13,  1.13s/it]"
     ]
    },
    {
     "name": "stdout",
     "output_type": "stream",
     "text": [
      "Leaf assignments: 6984\n",
      "Tree size after growing: 27, leaf nodes: 14\n"
     ]
    },
    {
     "name": "stderr",
     "output_type": "stream",
     "text": [
      "Fit:  16%|█▋        | 6501/40000 [09:25<9:34:49,  1.03s/it] "
     ]
    },
    {
     "name": "stdout",
     "output_type": "stream",
     "text": [
      "Leaf assignments: 6651\n",
      "Tree size after growing: 29, leaf nodes: 15\n"
     ]
    },
    {
     "name": "stderr",
     "output_type": "stream",
     "text": [
      "Fit:  18%|█▊        | 7000/40000 [10:00<33:41, 16.33it/s]  "
     ]
    },
    {
     "name": "stdout",
     "output_type": "stream",
     "text": [
      "Leaf assignments: 5642\n",
      "Tree size after growing: 31, leaf nodes: 16\n"
     ]
    },
    {
     "name": "stderr",
     "output_type": "stream",
     "text": [
      "Fit:  19%|█▉        | 7502/40000 [10:46<10:05:38,  1.12s/it]"
     ]
    },
    {
     "name": "stdout",
     "output_type": "stream",
     "text": [
      "Leaf assignments: 5921\n",
      "Tree size after growing: 33, leaf nodes: 17\n"
     ]
    },
    {
     "name": "stderr",
     "output_type": "stream",
     "text": [
      "Fit:  20%|██        | 8002/40000 [11:23<9:09:44,  1.03s/it] "
     ]
    },
    {
     "name": "stdout",
     "output_type": "stream",
     "text": [
      "Leaf assignments: 4582\n",
      "Tree size after growing: 35, leaf nodes: 18\n"
     ]
    },
    {
     "name": "stderr",
     "output_type": "stream",
     "text": [
      "Fit:  21%|██▏       | 8503/40000 [12:03<7:45:36,  1.13it/s] "
     ]
    },
    {
     "name": "stdout",
     "output_type": "stream",
     "text": [
      "Leaf assignments: 6952\n",
      "Tree size after growing: 37, leaf nodes: 19\n"
     ]
    },
    {
     "name": "stderr",
     "output_type": "stream",
     "text": [
      "Fit:  23%|██▎       | 9003/40000 [12:42<6:57:21,  1.24it/s]"
     ]
    },
    {
     "name": "stdout",
     "output_type": "stream",
     "text": [
      "Leaf assignments: 3836\n",
      "Tree size after growing: 39, leaf nodes: 20\n"
     ]
    },
    {
     "name": "stderr",
     "output_type": "stream",
     "text": [
      "Fit: 40001it [46:31, 14.33it/s]                            \n",
      "Predict: 100%|██████████| 274/274 [00:02<00:00, 95.49it/s] \n"
     ]
    }
   ],
   "source": [
    "dataset, labels = load_mnist(return_X_y=True)\n",
    "autoencoder = FeedforwardAutoencoder([dataset.shape[1], 500, 500, 2000, 10])\n",
    "autoencoder.load_state_dict(torch.load(\"practical/DeepClustering/DipECT/pretrained_AE.pth\"))\n",
    "autoencoder.fitted = True\n",
    "deepect = DeepECT(autoencoder=autoencoder)\n",
    "deepect = deepect.fit_predict(dataset)\n"
   ]
  },
  {
   "cell_type": "code",
   "execution_count": 35,
   "metadata": {},
   "outputs": [
    {
     "name": "stdout",
     "output_type": "stream",
     "text": [
      "0.8554714285714285\n",
      "0.7993066745053141\n",
      "0.777080086906922\n"
     ]
    }
   ],
   "source": [
    "print(deepect.tree_.flat_accuracy(labels, 10))\n",
    "print(deepect.tree_.flat_nmi(labels, 10))\n",
    "print(deepect.tree_.dendrogram_purity(labels))"
   ]
  }
 ],
 "metadata": {
  "kernelspec": {
   "display_name": "deepClustEnv",
   "language": "python",
   "name": "python3"
  },
  "language_info": {
   "codemirror_mode": {
    "name": "ipython",
    "version": 3
   },
   "file_extension": ".py",
   "mimetype": "text/x-python",
   "name": "python",
   "nbconvert_exporter": "python",
   "pygments_lexer": "ipython3",
   "version": "3.10.12"
  }
 },
 "nbformat": 4,
 "nbformat_minor": 2
}
