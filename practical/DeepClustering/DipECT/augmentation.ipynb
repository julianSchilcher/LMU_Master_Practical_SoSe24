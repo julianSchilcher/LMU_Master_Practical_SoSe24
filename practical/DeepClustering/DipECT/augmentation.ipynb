{
 "cells": [
  {
   "cell_type": "code",
   "execution_count": 1,
   "metadata": {},
   "outputs": [
    {
     "name": "stdout",
     "output_type": "stream",
     "text": [
      "/home/schilcherj/master/deepClustering/LMU_Master_Practical_SoSe24\n"
     ]
    },
    {
     "name": "stderr",
     "output_type": "stream",
     "text": [
      "/home/schilcherj/master/deepClustering/deepClustEnv/lib/python3.10/site-packages/IPython/core/magics/osm.py:417: UserWarning: This is now an optional IPython functionality, setting dhist requires you to install the `pickleshare` library.\n",
      "  self.shell.db['dhist'] = compress_dhist(dhist)[-100:]\n"
     ]
    }
   ],
   "source": [
    "%cd ../../.."
   ]
  },
  {
   "cell_type": "code",
   "execution_count": 2,
   "metadata": {},
   "outputs": [],
   "source": [
    "%load_ext autoreload\n",
    "%autoreload 2"
   ]
  },
  {
   "cell_type": "code",
   "execution_count": 39,
   "metadata": {},
   "outputs": [],
   "source": [
    "from clustpy.data.real_torchvision_data import load_mnist\n",
    "from practical.DeepClustering.DipECT.dipect import DipECT\n",
    "from practical.DeepClustering.DipECT.evaluation_pipeline import  DatasetType, get_custom_dataloader_augmentations\n",
    "from clustpy.deep.autoencoders import FeedforwardAutoencoder\n",
    "import torch\n",
    "import numpy as np"
   ]
  },
  {
   "cell_type": "code",
   "execution_count": 35,
   "metadata": {},
   "outputs": [],
   "source": [
    "dataset, labels = load_mnist(return_X_y=True)\n",
    "dataloaders_with_augmentation = get_custom_dataloader_augmentations(dataset/255, DatasetType.MNIST)"
   ]
  },
  {
   "cell_type": "code",
   "execution_count": 37,
   "metadata": {},
   "outputs": [
    {
     "name": "stdout",
     "output_type": "stream",
     "text": [
      "Neural network is not fitted yet, will be pretrained.\n"
     ]
    },
    {
     "name": "stderr",
     "output_type": "stream",
     "text": [
      "Epoch 1/60: 100%|██████████| 274/274 [01:04<00:00,  4.26batch/s]\n",
      "Epoch 2/60: 100%|██████████| 274/274 [01:07<00:00,  4.08batch/s]\n",
      "Predict: 100%|██████████| 274/274 [00:03<00:00, 70.80it/s]\n",
      "Epoch 3/60: 100%|██████████| 274/274 [01:19<00:00,  3.45batch/s]\n",
      "Epoch 4/60: 100%|██████████| 274/274 [01:08<00:00,  3.99batch/s]\n",
      "Predict: 100%|██████████| 274/274 [00:04<00:00, 64.91it/s]\n",
      "Epoch 5/60: 100%|██████████| 274/274 [01:29<00:00,  3.06batch/s]\n",
      "Epoch 6/60: 100%|██████████| 274/274 [01:16<00:00,  3.60batch/s]\n",
      "Predict: 100%|██████████| 274/274 [00:04<00:00, 57.46it/s]\n",
      "Epoch 7/60: 100%|██████████| 274/274 [01:32<00:00,  2.98batch/s]\n",
      "Epoch 8/60: 100%|██████████| 274/274 [01:17<00:00,  3.55batch/s]\n",
      "Predict: 100%|██████████| 274/274 [00:04<00:00, 55.06it/s]\n",
      "Epoch 9/60: 100%|██████████| 274/274 [01:34<00:00,  2.91batch/s]\n",
      "Epoch 10/60: 100%|██████████| 274/274 [01:24<00:00,  3.23batch/s]\n",
      "Predict: 100%|██████████| 274/274 [00:05<00:00, 53.85it/s]\n",
      "Epoch 11/60: 100%|██████████| 274/274 [01:29<00:00,  3.07batch/s]\n",
      "Epoch 12/60: 100%|██████████| 274/274 [01:22<00:00,  3.32batch/s]\n",
      "Predict: 100%|██████████| 274/274 [00:05<00:00, 53.90it/s]\n",
      "Epoch 13/60: 100%|██████████| 274/274 [01:27<00:00,  3.13batch/s]\n",
      "Epoch 14/60: 100%|██████████| 274/274 [01:29<00:00,  3.07batch/s]\n",
      "Predict: 100%|██████████| 274/274 [00:06<00:00, 45.14it/s]\n",
      "Epoch 15/60: 100%|██████████| 274/274 [01:28<00:00,  3.11batch/s]\n",
      "Epoch 16/60: 100%|██████████| 274/274 [01:21<00:00,  3.37batch/s]\n",
      "Predict: 100%|██████████| 274/274 [00:05<00:00, 52.15it/s]\n",
      "Epoch 17/60: 100%|██████████| 274/274 [01:32<00:00,  2.96batch/s]\n",
      "Epoch 18/60: 100%|██████████| 274/274 [01:22<00:00,  3.32batch/s]\n",
      "Predict: 100%|██████████| 274/274 [00:05<00:00, 53.10it/s]\n",
      "Epoch 19/60: 100%|██████████| 274/274 [01:26<00:00,  3.15batch/s]\n",
      "Epoch 20/60: 100%|██████████| 274/274 [01:21<00:00,  3.35batch/s]\n",
      "Predict: 100%|██████████| 274/274 [00:05<00:00, 53.59it/s]\n",
      "Epoch 21/60: 100%|██████████| 274/274 [01:30<00:00,  3.03batch/s]\n",
      "Epoch 22/60: 100%|██████████| 274/274 [01:20<00:00,  3.40batch/s]\n",
      "Predict: 100%|██████████| 274/274 [00:05<00:00, 53.84it/s]\n",
      "Epoch 23/60: 100%|██████████| 274/274 [01:29<00:00,  3.05batch/s]\n",
      "Epoch 24/60: 100%|██████████| 274/274 [01:22<00:00,  3.32batch/s]\n",
      "Predict: 100%|██████████| 274/274 [00:06<00:00, 39.31it/s]\n",
      "Epoch 25/60: 100%|██████████| 274/274 [01:30<00:00,  3.04batch/s]\n",
      "Epoch 26/60: 100%|██████████| 274/274 [01:19<00:00,  3.43batch/s]\n",
      "Predict: 100%|██████████| 274/274 [00:05<00:00, 53.24it/s]\n",
      "Epoch 27/60: 100%|██████████| 274/274 [01:26<00:00,  3.18batch/s]\n",
      "Epoch 28/60: 100%|██████████| 274/274 [01:24<00:00,  3.25batch/s]\n",
      "Predict: 100%|██████████| 274/274 [00:05<00:00, 48.97it/s]\n",
      "Epoch 29/60: 100%|██████████| 274/274 [01:25<00:00,  3.19batch/s]\n",
      "Epoch 30/60: 100%|██████████| 274/274 [01:21<00:00,  3.38batch/s]\n",
      "Predict: 100%|██████████| 274/274 [00:05<00:00, 52.48it/s]\n",
      "Epoch 31/60: 100%|██████████| 274/274 [01:25<00:00,  3.22batch/s]\n",
      "Epoch 32/60: 100%|██████████| 274/274 [01:24<00:00,  3.25batch/s]\n",
      "Predict: 100%|██████████| 274/274 [00:05<00:00, 53.71it/s]\n",
      "Epoch 33/60: 100%|██████████| 274/274 [01:24<00:00,  3.24batch/s]\n",
      "Epoch 34/60: 100%|██████████| 274/274 [01:20<00:00,  3.40batch/s]\n",
      "Predict: 100%|██████████| 274/274 [00:05<00:00, 52.79it/s]\n",
      "Epoch 35/60: 100%|██████████| 274/274 [01:24<00:00,  3.25batch/s]\n",
      "Epoch 36/60: 100%|██████████| 274/274 [01:23<00:00,  3.28batch/s]\n",
      "Predict: 100%|██████████| 274/274 [00:05<00:00, 54.36it/s]\n",
      "Epoch 37/60: 100%|██████████| 274/274 [01:24<00:00,  3.24batch/s]\n",
      "Epoch 38/60: 100%|██████████| 274/274 [01:20<00:00,  3.38batch/s]\n",
      "Predict: 100%|██████████| 274/274 [00:05<00:00, 53.10it/s]\n",
      "Epoch 39/60: 100%|██████████| 274/274 [01:24<00:00,  3.26batch/s]\n",
      "Epoch 40/60: 100%|██████████| 274/274 [01:23<00:00,  3.30batch/s]\n",
      "Predict: 100%|██████████| 274/274 [00:05<00:00, 54.43it/s]\n",
      "Epoch 41/60: 100%|██████████| 274/274 [01:25<00:00,  3.19batch/s]\n",
      "Epoch 42/60: 100%|██████████| 274/274 [01:20<00:00,  3.39batch/s]\n",
      "Predict: 100%|██████████| 274/274 [00:05<00:00, 53.19it/s]\n",
      "Epoch 43/60: 100%|██████████| 274/274 [01:24<00:00,  3.23batch/s]\n",
      "Epoch 44/60: 100%|██████████| 274/274 [01:23<00:00,  3.29batch/s]\n",
      "Predict: 100%|██████████| 274/274 [00:05<00:00, 53.98it/s]\n",
      "Epoch 45/60: 100%|██████████| 274/274 [01:24<00:00,  3.26batch/s]\n",
      "Epoch 46/60: 100%|██████████| 274/274 [01:19<00:00,  3.43batch/s]\n",
      "Predict: 100%|██████████| 274/274 [00:05<00:00, 53.77it/s]\n",
      "Epoch 47/60: 100%|██████████| 274/274 [01:28<00:00,  3.10batch/s]\n",
      "Epoch 48/60: 100%|██████████| 274/274 [01:21<00:00,  3.35batch/s]\n",
      "Predict: 100%|██████████| 274/274 [00:05<00:00, 49.58it/s]\n",
      "Epoch 49/60: 100%|██████████| 274/274 [01:25<00:00,  3.22batch/s]\n",
      "Epoch 50/60: 100%|██████████| 274/274 [01:21<00:00,  3.37batch/s]\n",
      "Predict: 100%|██████████| 274/274 [00:05<00:00, 53.44it/s]\n",
      "Epoch 51/60: 100%|██████████| 274/274 [01:28<00:00,  3.09batch/s]\n",
      "Epoch 52/60: 100%|██████████| 274/274 [01:20<00:00,  3.41batch/s]\n",
      "Predict: 100%|██████████| 274/274 [00:05<00:00, 54.07it/s]\n",
      "Epoch 53/60: 100%|██████████| 274/274 [01:25<00:00,  3.20batch/s]\n",
      "Epoch 54/60: 100%|██████████| 274/274 [01:22<00:00,  3.32batch/s]\n",
      "Predict: 100%|██████████| 274/274 [00:05<00:00, 53.51it/s]\n",
      "Epoch 55/60: 100%|██████████| 274/274 [01:27<00:00,  3.11batch/s]\n",
      "Epoch 56/60: 100%|██████████| 274/274 [01:20<00:00,  3.41batch/s]\n",
      "Predict: 100%|██████████| 274/274 [00:05<00:00, 54.35it/s]\n",
      "Epoch 57/60: 100%|██████████| 274/274 [01:25<00:00,  3.19batch/s]\n",
      "Epoch 58/60: 100%|██████████| 274/274 [01:20<00:00,  3.41batch/s]\n",
      "Predict: 100%|██████████| 274/274 [00:05<00:00, 52.89it/s]\n",
      "Epoch 59/60: 100%|██████████| 274/274 [01:27<00:00,  3.12batch/s]\n",
      "Epoch 60/60: 100%|██████████| 274/274 [01:26<00:00,  3.17batch/s]\n",
      "Predict: 100%|██████████| 274/274 [00:05<00:00, 49.32it/s]\n"
     ]
    },
    {
     "data": {
      "text/plain": [
       "<practical.DeepClustering.DipECT.dipect.DipECT at 0x7fa3e42ae080>"
      ]
     },
     "execution_count": 37,
     "metadata": {},
     "output_type": "execute_result"
    }
   ],
   "source": [
    "dipect4 = DipECT(\n",
    "        batch_size=256,\n",
    "        autoencoder_param_path=\"practical/DeepClustering/DipECT/feedforward_mnist_100_21_scaled.pth\",\n",
    "        random_state=np.random.RandomState(21),\n",
    "        autoencoder_pretrain_n_epochs=100,\n",
    "        logging_active=True,\n",
    "        clustering_n_epochs=60,\n",
    "        clustering_optimizer_params={\"lr\": 1e-4},\n",
    "        early_stopping=False,\n",
    "        loss_weight_function_normalization=-1,\n",
    "        mulitmodal_loss_application=\"all\",\n",
    "        mulitmodal_loss_node_criteria_method=\"equal\",  # \"time_of_split\",\n",
    "        mulitmodal_loss_weight_direction=\"ascending\",\n",
    "        mulitmodal_loss_weight_function=\"linear\",  # \"linear\",\n",
    "        multimodal_loss_weight=836.5918099811238,\n",
    "        projection_axis_learning=\"all\",\n",
    "        projection_axis_learning_rate=1e-05,\n",
    "        projection_axis_init=\"kmeansk\",\n",
    "        projection_axis_n_init=7,\n",
    "        pruning_factor=1.0,\n",
    "        pruning_strategy=\"epoch_assessment\",\n",
    "        pruning_threshold=dataset.shape[0] // 35,\n",
    "        tree_growth_min_cluster_size=dataset.shape[0] // 35,\n",
    "        reconstruction_loss_weight=737.0094829591326,\n",
    "        refinement_epochs=0,\n",
    "        tree_growth_amount=5,\n",
    "        tree_growth_frequency=2.0,\n",
    "        tree_growth_unimodality_treshold=0.975,\n",
    "        tree_growth_upper_bound_leaf_nodes=100,\n",
    "        tree_growth_use_unimodality_pvalue=True,\n",
    "        unimodal_loss_application=\"all\",\n",
    "        unimodal_loss_node_criteria_method=\"equal\",\n",
    "        unimodal_loss_weight=653.6111443720175,\n",
    "        unimodal_loss_weight_direction=\"ascending\",\n",
    "        unimodal_loss_weight_function=\"log\",\n",
    "        augmentation_invariance=True,\n",
    "        custom_dataloaders=dataloaders_with_augmentation\n",
    "    )\n",
    "\n",
    "dipect4.fit_predict(None, labels)\n",
    "# evaluation"
   ]
  },
  {
   "cell_type": "code",
   "execution_count": 49,
   "metadata": {},
   "outputs": [
    {
     "name": "stdout",
     "output_type": "stream",
     "text": [
      "0.9382714285714285\n",
      "0.8738656696454543\n",
      "0.8569806798502851\n"
     ]
    }
   ],
   "source": [
    "print(dipect4.tree_.flat_accuracy(labels, 10))\n",
    "print(dipect4.tree_.flat_nmi(labels, 10))\n",
    "print(dipect4.tree_.dendrogram_purity(labels))"
   ]
  }
 ],
 "metadata": {
  "kernelspec": {
   "display_name": "deepClustEnv",
   "language": "python",
   "name": "python3"
  },
  "language_info": {
   "codemirror_mode": {
    "name": "ipython",
    "version": 3
   },
   "file_extension": ".py",
   "mimetype": "text/x-python",
   "name": "python",
   "nbconvert_exporter": "python",
   "pygments_lexer": "ipython3",
   "version": "3.10.12"
  }
 },
 "nbformat": 4,
 "nbformat_minor": 2
}
