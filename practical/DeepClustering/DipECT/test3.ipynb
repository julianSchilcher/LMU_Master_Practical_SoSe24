{
 "cells": [
  {
   "cell_type": "code",
   "execution_count": 2,
   "metadata": {},
   "outputs": [
    {
     "name": "stdout",
     "output_type": "stream",
     "text": [
      "/home/schilcherj/master/deepClustering/LMU_Master_Practical_SoSe24\n"
     ]
    },
    {
     "name": "stderr",
     "output_type": "stream",
     "text": [
      "/home/schilcherj/master/deepClustering/deepClustEnv/lib/python3.10/site-packages/IPython/core/magics/osm.py:417: UserWarning: This is now an optional IPython functionality, setting dhist requires you to install the `pickleshare` library.\n",
      "  self.shell.db['dhist'] = compress_dhist(dhist)[-100:]\n"
     ]
    }
   ],
   "source": [
    "%cd ../../../"
   ]
  },
  {
   "cell_type": "code",
   "execution_count": 3,
   "metadata": {},
   "outputs": [
    {
     "name": "stderr",
     "output_type": "stream",
     "text": [
      "/home/schilcherj/master/deepClustering/deepClustEnv/lib/python3.10/site-packages/tqdm/auto.py:21: TqdmWarning: IProgress not found. Please update jupyter and ipywidgets. See https://ipywidgets.readthedocs.io/en/stable/user_install.html\n",
      "  from .autonotebook import tqdm as notebook_tqdm\n"
     ]
    }
   ],
   "source": [
    "%load_ext autoreload\n",
    "%autoreload 2\n",
    "from practical.DeepClustering.DipECT.dipect import Cluster_Tree, DipECT\n",
    "from clustpy.deep._data_utils import get_dataloader\n",
    "from clustpy.data.real_torchvision_data import load_mnist\n",
    "from clustpy.deep.dipencoder import _Dip_Gradient, dip_test\n",
    "from clustpy.deep.autoencoders import FeedforwardAutoencoder\n",
    "import numpy as np\n",
    "from sklearn.cluster import KMeans\n",
    "import torch\n",
    "import matplotlib.pyplot as plt\n",
    "from sklearn.datasets import make_blobs\n",
    "from clustpy.metrics import unsupervised_clustering_accuracy\n",
    "import random\n",
    "import umap\n",
    "from sklearn.decomposition import PCA\n",
    "from practical.DeepClustering.DeepECT.evaluation_pipeline import get_custom_dataloader_augmentations, DatasetType"
   ]
  },
  {
   "cell_type": "code",
   "execution_count": 4,
   "metadata": {},
   "outputs": [],
   "source": [
    "dataset, labels = load_mnist(return_X_y=True)"
   ]
  },
  {
   "cell_type": "code",
   "execution_count": 7,
   "metadata": {},
   "outputs": [
    {
     "name": "stdout",
     "output_type": "stream",
     "text": [
      "cpu\n"
     ]
    },
    {
     "name": "stderr",
     "output_type": "stream",
     "text": [
      "Epoch 1/45:   1%|          | 2/274 [00:00<00:21, 12.63batch/s]"
     ]
    },
    {
     "name": "stdout",
     "output_type": "stream",
     "text": [
      "inside!!!\n"
     ]
    },
    {
     "name": "stderr",
     "output_type": "stream",
     "text": [
      "Epoch 1/45: 100%|██████████| 274/274 [00:18<00:00, 14.87batch/s]\n",
      "Epoch 2/45: 100%|██████████| 274/274 [00:16<00:00, 16.25batch/s]\n",
      "  0%|          | 0/274 [00:00<?, ?batch/s]"
     ]
    },
    {
     "name": "stdout",
     "output_type": "stream",
     "text": [
      "#assignments:  40706\n",
      "#assignments:  29294\n"
     ]
    },
    {
     "name": "stderr",
     "output_type": "stream",
     "text": [
      "Epoch 3/45:   0%|          | 1/274 [00:04<21:33,  4.74s/batch]"
     ]
    },
    {
     "name": "stdout",
     "output_type": "stream",
     "text": [
      "#assignments best node:  40706\n"
     ]
    },
    {
     "name": "stderr",
     "output_type": "stream",
     "text": [
      "Epoch 3/45: 100%|██████████| 274/274 [00:22<00:00, 12.17batch/s]\n",
      "Epoch 4/45: 100%|██████████| 274/274 [00:17<00:00, 15.45batch/s]\n",
      "  0%|          | 0/274 [00:00<?, ?batch/s]"
     ]
    },
    {
     "name": "stdout",
     "output_type": "stream",
     "text": [
      "#assignments:  19213\n",
      "#assignments:  21396\n",
      "#assignments:  29391\n"
     ]
    },
    {
     "name": "stderr",
     "output_type": "stream",
     "text": [
      "Epoch 5/45:   0%|          | 1/274 [00:05<24:21,  5.35s/batch]"
     ]
    },
    {
     "name": "stdout",
     "output_type": "stream",
     "text": [
      "#assignments best node:  29391\n"
     ]
    },
    {
     "name": "stderr",
     "output_type": "stream",
     "text": [
      "Epoch 5/45: 100%|██████████| 274/274 [00:23<00:00, 11.43batch/s]\n",
      "Epoch 6/45: 100%|██████████| 274/274 [00:18<00:00, 14.66batch/s]\n",
      "  0%|          | 0/274 [00:00<?, ?batch/s]"
     ]
    },
    {
     "name": "stdout",
     "output_type": "stream",
     "text": [
      "#assignments:  19249\n",
      "#assignments:  21518\n",
      "#assignments:  8136\n",
      "#assignments:  21097\n"
     ]
    },
    {
     "name": "stderr",
     "output_type": "stream",
     "text": [
      "Epoch 7/45:   0%|          | 1/274 [00:05<23:39,  5.20s/batch]"
     ]
    },
    {
     "name": "stdout",
     "output_type": "stream",
     "text": [
      "#assignments best node:  19249\n"
     ]
    },
    {
     "name": "stderr",
     "output_type": "stream",
     "text": [
      "Epoch 7/45: 100%|██████████| 274/274 [00:24<00:00, 11.03batch/s]\n",
      "Epoch 8/45: 100%|██████████| 274/274 [00:19<00:00, 13.95batch/s]\n",
      "  0%|          | 0/274 [00:00<?, ?batch/s]"
     ]
    },
    {
     "name": "stdout",
     "output_type": "stream",
     "text": [
      "#assignments:  5427\n",
      "#assignments:  13840\n",
      "#assignments:  21415\n",
      "#assignments:  8132\n",
      "#assignments:  21186\n"
     ]
    },
    {
     "name": "stderr",
     "output_type": "stream",
     "text": [
      "Epoch 9/45:   0%|          | 1/274 [00:05<24:00,  5.28s/batch]"
     ]
    },
    {
     "name": "stdout",
     "output_type": "stream",
     "text": [
      "#assignments best node:  13840\n"
     ]
    },
    {
     "name": "stderr",
     "output_type": "stream",
     "text": [
      "Epoch 9/45: 100%|██████████| 274/274 [00:25<00:00, 10.79batch/s]\n",
      "Epoch 10/45: 100%|██████████| 274/274 [00:20<00:00, 13.23batch/s]\n",
      "  0%|          | 0/274 [00:00<?, ?batch/s]"
     ]
    },
    {
     "name": "stdout",
     "output_type": "stream",
     "text": [
      "#assignments:  5465\n",
      "#assignments:  7062\n",
      "#assignments:  6749\n",
      "#assignments:  21542\n",
      "#assignments:  8221\n",
      "#assignments:  20961\n"
     ]
    },
    {
     "name": "stderr",
     "output_type": "stream",
     "text": [
      "Epoch 11/45:   0%|          | 0/274 [00:06<?, ?batch/s]"
     ]
    },
    {
     "name": "stdout",
     "output_type": "stream",
     "text": [
      "#assignments best node:  21542\n"
     ]
    },
    {
     "name": "stderr",
     "output_type": "stream",
     "text": [
      "Epoch 11/45: 100%|██████████| 274/274 [00:27<00:00,  9.93batch/s]\n",
      "Epoch 12/45: 100%|██████████| 274/274 [00:21<00:00, 13.00batch/s]\n",
      "  0%|          | 0/274 [00:00<?, ?batch/s]"
     ]
    },
    {
     "name": "stdout",
     "output_type": "stream",
     "text": [
      "#assignments:  5278\n",
      "#assignments:  7034\n",
      "#assignments:  6731\n",
      "#assignments:  9102\n",
      "#assignments:  12622\n",
      "#assignments:  8236\n",
      "#assignments:  20997\n"
     ]
    },
    {
     "name": "stderr",
     "output_type": "stream",
     "text": [
      "Epoch 13/45:   0%|          | 1/274 [00:07<33:04,  7.27s/batch]"
     ]
    },
    {
     "name": "stdout",
     "output_type": "stream",
     "text": [
      "#assignments best node:  12622\n"
     ]
    },
    {
     "name": "stderr",
     "output_type": "stream",
     "text": [
      "Epoch 13/45: 100%|██████████| 274/274 [00:28<00:00,  9.48batch/s]\n",
      "Epoch 14/45: 100%|██████████| 274/274 [00:21<00:00, 12.58batch/s]\n",
      "  0%|          | 0/274 [00:00<?, ?batch/s]"
     ]
    },
    {
     "name": "stdout",
     "output_type": "stream",
     "text": [
      "#assignments:  5452\n",
      "#assignments:  6928\n",
      "#assignments:  6789\n",
      "#assignments:  8961\n",
      "#assignments:  6340\n",
      "#assignments:  6489\n",
      "#assignments:  8190\n",
      "#assignments:  20851\n"
     ]
    },
    {
     "name": "stderr",
     "output_type": "stream",
     "text": [
      "Epoch 15/45:   0%|          | 0/274 [00:09<?, ?batch/s]"
     ]
    },
    {
     "name": "stdout",
     "output_type": "stream",
     "text": [
      "#assignments best node:  20851\n"
     ]
    },
    {
     "name": "stderr",
     "output_type": "stream",
     "text": [
      "Epoch 15/45: 100%|██████████| 274/274 [00:36<00:00,  7.60batch/s]\n",
      "Epoch 16/45: 100%|██████████| 274/274 [00:24<00:00, 11.38batch/s]\n",
      "  0%|          | 0/274 [00:00<?, ?batch/s]"
     ]
    },
    {
     "name": "stdout",
     "output_type": "stream",
     "text": [
      "#assignments:  5414\n",
      "#assignments:  6960\n",
      "#assignments:  6803\n",
      "#assignments:  9036\n",
      "#assignments:  6246\n",
      "#assignments:  6368\n",
      "#assignments:  8220\n",
      "#assignments:  8927\n",
      "#assignments:  12026\n"
     ]
    },
    {
     "name": "stderr",
     "output_type": "stream",
     "text": [
      "Epoch 17/45:   0%|          | 0/274 [00:11<?, ?batch/s]"
     ]
    },
    {
     "name": "stdout",
     "output_type": "stream",
     "text": [
      "#assignments best node:  9036\n"
     ]
    },
    {
     "name": "stderr",
     "output_type": "stream",
     "text": [
      "Epoch 17/45: 100%|██████████| 274/274 [00:36<00:00,  7.60batch/s]\n",
      "Epoch 18/45: 100%|██████████| 274/274 [00:23<00:00, 11.67batch/s]\n",
      "  0%|          | 0/274 [00:00<?, ?batch/s]"
     ]
    },
    {
     "name": "stdout",
     "output_type": "stream",
     "text": [
      "#assignments:  5457\n",
      "#assignments:  6972\n",
      "#assignments:  6796\n",
      "#assignments:  7184\n",
      "#assignments:  1834\n",
      "#assignments:  6299\n",
      "#assignments:  6412\n",
      "#assignments:  8198\n",
      "#assignments:  9090\n",
      "#assignments:  11758\n"
     ]
    },
    {
     "name": "stderr",
     "output_type": "stream",
     "text": [
      "Epoch 19/45:   0%|          | 0/274 [00:12<?, ?batch/s]"
     ]
    },
    {
     "name": "stdout",
     "output_type": "stream",
     "text": [
      "#assignments best node:  11758\n"
     ]
    },
    {
     "name": "stderr",
     "output_type": "stream",
     "text": [
      "Epoch 19/45: 100%|██████████| 274/274 [00:37<00:00,  7.37batch/s]\n",
      "Epoch 20/45: 100%|██████████| 274/274 [00:25<00:00, 10.94batch/s]\n",
      "  0%|          | 0/274 [00:00<?, ?batch/s]"
     ]
    },
    {
     "name": "stdout",
     "output_type": "stream",
     "text": [
      "#assignments:  5461\n",
      "#assignments:  6965\n",
      "#assignments:  6748\n",
      "#assignments:  7232\n",
      "#assignments:  1775\n",
      "#assignments:  6318\n",
      "#assignments:  6374\n",
      "#assignments:  8200\n",
      "#assignments:  9614\n",
      "#assignments:  6679\n",
      "#assignments:  4634\n"
     ]
    },
    {
     "name": "stderr",
     "output_type": "stream",
     "text": [
      "Epoch 21/45:   0%|          | 0/274 [00:12<?, ?batch/s]"
     ]
    },
    {
     "name": "stdout",
     "output_type": "stream",
     "text": [
      "#assignments best node:  9614\n"
     ]
    },
    {
     "name": "stderr",
     "output_type": "stream",
     "text": [
      "Epoch 21/45: 100%|██████████| 274/274 [00:38<00:00,  7.21batch/s]\n",
      "Epoch 22/45: 100%|██████████| 274/274 [00:25<00:00, 10.82batch/s]\n",
      "  0%|          | 0/274 [00:00<?, ?batch/s]"
     ]
    },
    {
     "name": "stdout",
     "output_type": "stream",
     "text": [
      "#assignments:  5540\n",
      "#assignments:  6975\n",
      "#assignments:  6769\n",
      "#assignments:  7135\n",
      "#assignments:  1743\n",
      "#assignments:  6277\n",
      "#assignments:  6509\n",
      "#assignments:  8162\n",
      "#assignments:  5558\n",
      "#assignments:  3893\n",
      "#assignments:  5077\n",
      "#assignments:  6362\n"
     ]
    },
    {
     "name": "stderr",
     "output_type": "stream",
     "text": [
      "Epoch 23/45:   0%|          | 1/274 [00:14<1:05:26, 14.38s/batch]"
     ]
    },
    {
     "name": "stdout",
     "output_type": "stream",
     "text": [
      "#assignments best node:  3893\n"
     ]
    },
    {
     "name": "stderr",
     "output_type": "stream",
     "text": [
      "Epoch 23/45: 100%|██████████| 274/274 [00:40<00:00,  6.82batch/s]\n",
      "Epoch 24/45: 100%|██████████| 274/274 [00:26<00:00, 10.42batch/s]\n",
      "  0%|          | 0/274 [00:00<?, ?batch/s]"
     ]
    },
    {
     "name": "stdout",
     "output_type": "stream",
     "text": [
      "#assignments:  5587\n",
      "#assignments:  6945\n",
      "#assignments:  6794\n",
      "#assignments:  7115\n",
      "#assignments:  1805\n",
      "#assignments:  6194\n",
      "#assignments:  6519\n",
      "#assignments:  8212\n",
      "#assignments:  5687\n",
      "#assignments:  2121\n",
      "#assignments:  1505\n",
      "#assignments:  5054\n",
      "#assignments:  6462\n"
     ]
    },
    {
     "name": "stderr",
     "output_type": "stream",
     "text": [
      "Epoch 25/45:   0%|          | 0/274 [00:13<?, ?batch/s]"
     ]
    },
    {
     "name": "stdout",
     "output_type": "stream",
     "text": [
      "#assignments best node:  8212\n"
     ]
    },
    {
     "name": "stderr",
     "output_type": "stream",
     "text": [
      "Epoch 25/45: 100%|██████████| 274/274 [00:43<00:00,  6.36batch/s]\n",
      "Epoch 26/45: 100%|██████████| 274/274 [00:29<00:00,  9.44batch/s]\n",
      "  0%|          | 0/274 [00:00<?, ?batch/s]"
     ]
    },
    {
     "name": "stdout",
     "output_type": "stream",
     "text": [
      "#assignments:  5545\n",
      "#assignments:  6922\n",
      "#assignments:  6764\n",
      "#assignments:  7069\n",
      "#assignments:  1771\n",
      "#assignments:  6274\n",
      "#assignments:  6449\n",
      "#assignments:  4191\n",
      "#assignments:  4176\n",
      "#assignments:  5498\n",
      "#assignments:  2195\n",
      "#assignments:  1638\n",
      "#assignments:  6099\n",
      "#assignments:  5409\n"
     ]
    },
    {
     "name": "stderr",
     "output_type": "stream",
     "text": [
      "Epoch 27/45:   0%|          | 1/274 [00:15<1:10:46, 15.55s/batch]"
     ]
    },
    {
     "name": "stdout",
     "output_type": "stream",
     "text": [
      "#assignments best node:  6922\n"
     ]
    },
    {
     "name": "stderr",
     "output_type": "stream",
     "text": [
      "Epoch 27/45: 100%|██████████| 274/274 [00:43<00:00,  6.35batch/s]\n",
      "Epoch 28/45: 100%|██████████| 274/274 [00:27<00:00,  9.90batch/s]\n",
      "  0%|          | 0/274 [00:00<?, ?batch/s]"
     ]
    },
    {
     "name": "stdout",
     "output_type": "stream",
     "text": [
      "#assignments:  5485\n",
      "#assignments:  3707\n",
      "#assignments:  3207\n",
      "#assignments:  6762\n",
      "#assignments:  7050\n",
      "#assignments:  1748\n",
      "#assignments:  6345\n",
      "#assignments:  6448\n",
      "#assignments:  4122\n",
      "#assignments:  4275\n",
      "#assignments:  5571\n",
      "#assignments:  2063\n",
      "#assignments:  1498\n",
      "#assignments:  6581\n",
      "#assignments:  5138\n"
     ]
    },
    {
     "name": "stderr",
     "output_type": "stream",
     "text": [
      "Epoch 29/45:   0%|          | 0/274 [00:16<?, ?batch/s]"
     ]
    },
    {
     "name": "stdout",
     "output_type": "stream",
     "text": [
      "#assignments best node:  7050\n"
     ]
    },
    {
     "name": "stderr",
     "output_type": "stream",
     "text": [
      "Epoch 29/45: 100%|██████████| 274/274 [00:44<00:00,  6.10batch/s]\n",
      "Epoch 30/45: 100%|██████████| 274/274 [00:28<00:00,  9.69batch/s]\n",
      "  0%|          | 0/274 [00:00<?, ?batch/s]"
     ]
    },
    {
     "name": "stdout",
     "output_type": "stream",
     "text": [
      "#assignments:  5452\n",
      "#assignments:  3795\n",
      "#assignments:  3136\n",
      "#assignments:  6730\n",
      "#assignments:  3641\n",
      "#assignments:  3399\n",
      "#assignments:  1857\n",
      "#assignments:  6316\n",
      "#assignments:  6494\n",
      "#assignments:  4235\n",
      "#assignments:  4233\n",
      "#assignments:  5571\n",
      "#assignments:  2192\n",
      "#assignments:  1511\n",
      "#assignments:  6498\n",
      "#assignments:  4940\n"
     ]
    },
    {
     "name": "stderr",
     "output_type": "stream",
     "text": [
      "Epoch 31/45:   0%|          | 0/274 [00:15<?, ?batch/s]"
     ]
    },
    {
     "name": "stdout",
     "output_type": "stream",
     "text": [
      "#assignments best node:  6494\n"
     ]
    },
    {
     "name": "stderr",
     "output_type": "stream",
     "text": [
      "Epoch 31/45: 100%|██████████| 274/274 [00:45<00:00,  6.01batch/s]\n",
      "Epoch 32/45: 100%|██████████| 274/274 [00:29<00:00,  9.31batch/s]\n",
      "  0%|          | 0/274 [00:00<?, ?batch/s]"
     ]
    },
    {
     "name": "stdout",
     "output_type": "stream",
     "text": [
      "#assignments:  5505\n",
      "#assignments:  3544\n",
      "#assignments:  3352\n",
      "#assignments:  6786\n",
      "#assignments:  3586\n",
      "#assignments:  3501\n",
      "#assignments:  1798\n",
      "#assignments:  6288\n",
      "#assignments:  3316\n",
      "#assignments:  3140\n",
      "#assignments:  4180\n",
      "#assignments:  4245\n",
      "#assignments:  5541\n",
      "#assignments:  2212\n",
      "#assignments:  1498\n",
      "#assignments:  6589\n",
      "#assignments:  4919\n"
     ]
    },
    {
     "name": "stderr",
     "output_type": "stream",
     "text": [
      "Epoch 33/45:   0%|          | 0/274 [00:15<?, ?batch/s]"
     ]
    },
    {
     "name": "stdout",
     "output_type": "stream",
     "text": [
      "#assignments best node:  6786\n"
     ]
    },
    {
     "name": "stderr",
     "output_type": "stream",
     "text": [
      "Epoch 33/45: 100%|██████████| 274/274 [00:45<00:00,  5.99batch/s]\n",
      "Epoch 34/45: 100%|██████████| 274/274 [00:31<00:00,  8.83batch/s]\n",
      "  0%|          | 0/274 [00:00<?, ?batch/s]"
     ]
    },
    {
     "name": "stdout",
     "output_type": "stream",
     "text": [
      "#assignments:  5504\n",
      "#assignments:  3460\n",
      "#assignments:  3479\n",
      "#assignments:  3206\n",
      "#assignments:  3544\n",
      "#assignments:  3634\n",
      "#assignments:  3507\n",
      "#assignments:  1747\n",
      "#assignments:  6295\n",
      "#assignments:  4071\n",
      "#assignments:  2353\n",
      "#assignments:  4197\n",
      "#assignments:  4308\n",
      "#assignments:  5489\n",
      "#assignments:  2468\n",
      "#assignments:  1538\n",
      "#assignments:  6567\n",
      "#assignments:  4633\n"
     ]
    },
    {
     "name": "stderr",
     "output_type": "stream",
     "text": [
      "Epoch 35/45:   0%|          | 0/274 [00:23<?, ?batch/s]"
     ]
    },
    {
     "name": "stdout",
     "output_type": "stream",
     "text": [
      "#assignments best node:  6567\n"
     ]
    },
    {
     "name": "stderr",
     "output_type": "stream",
     "text": [
      "Epoch 35/45: 100%|██████████| 274/274 [00:56<00:00,  4.88batch/s]\n",
      "Epoch 36/45: 100%|██████████| 274/274 [00:31<00:00,  8.81batch/s]\n",
      "  0%|          | 0/274 [00:00<?, ?batch/s]"
     ]
    },
    {
     "name": "stdout",
     "output_type": "stream",
     "text": [
      "#assignments:  5583\n",
      "#assignments:  3514\n",
      "#assignments:  3385\n",
      "#assignments:  3348\n",
      "#assignments:  3450\n",
      "#assignments:  4062\n",
      "#assignments:  3072\n",
      "#assignments:  1731\n",
      "#assignments:  6270\n",
      "#assignments:  2292\n",
      "#assignments:  4164\n",
      "#assignments:  4213\n",
      "#assignments:  4210\n",
      "#assignments:  5410\n",
      "#assignments:  2357\n",
      "#assignments:  1621\n",
      "#assignments:  3067\n",
      "#assignments:  3545\n",
      "#assignments:  4706\n"
     ]
    },
    {
     "name": "stderr",
     "output_type": "stream",
     "text": [
      "Epoch 37/45:   0%|          | 0/274 [00:18<?, ?batch/s]"
     ]
    },
    {
     "name": "stdout",
     "output_type": "stream",
     "text": [
      "#assignments best node:  5583\n"
     ]
    },
    {
     "name": "stderr",
     "output_type": "stream",
     "text": [
      "Epoch 37/45: 100%|██████████| 274/274 [00:51<00:00,  5.32batch/s]\n",
      "Epoch 38/45: 100%|██████████| 274/274 [00:31<00:00,  8.62batch/s]\n",
      "Epoch 39/45: 100%|██████████| 274/274 [00:31<00:00,  8.57batch/s]\n",
      "Epoch 40/45: 100%|██████████| 274/274 [00:31<00:00,  8.64batch/s]\n",
      "Epoch 41/45: 100%|██████████| 274/274 [00:32<00:00,  8.54batch/s]\n",
      "Epoch 42/45: 100%|██████████| 274/274 [00:32<00:00,  8.30batch/s]\n",
      "Epoch 43/45: 100%|██████████| 274/274 [00:32<00:00,  8.51batch/s]\n",
      "Epoch 44/45: 100%|██████████| 274/274 [00:35<00:00,  7.63batch/s]\n",
      "Epoch 45/45: 100%|██████████| 274/274 [00:32<00:00,  8.33batch/s]\n",
      "Predict: 100%|██████████| 274/274 [00:03<00:00, 74.27it/s]\n"
     ]
    }
   ],
   "source": [
    "# reconstruction loss weight = 1\n",
    "dataset, labels = load_mnist(return_X_y=True)\n",
    "autoencoder = FeedforwardAutoencoder([dataset.shape[1], 500, 500, 2000, 10])\n",
    "autoencoder.load_state_dict(torch.load(\"practical/DeepClustering/DipECT/pretrained_AE_MNIST_seed15.pth\"))\n",
    "autoencoder.fitted = True\n",
    "dipect_test_s7 = DipECT(autoencoder=autoencoder, use_pvalue=False, grow_interval=2, max_epochs=45, unimodal_treshhold=1.0, random_state=np.random.RandomState(15))\n",
    "dipect_test_s7 = dipect_test_s7.fit_predict(dataset/255)"
   ]
  },
  {
   "cell_type": "code",
   "execution_count": 8,
   "metadata": {},
   "outputs": [
    {
     "name": "stdout",
     "output_type": "stream",
     "text": [
      "0.8253571428571429\n",
      "0.8160471686532379\n"
     ]
    }
   ],
   "source": [
    "print(dipect_test_s7.tree_.flat_accuracy(labels, 10))\n",
    "print(dipect_test_s7.tree_.flat_nmi(labels, 10))"
   ]
  },
  {
   "cell_type": "code",
   "execution_count": null,
   "metadata": {},
   "outputs": [],
   "source": []
  },
  {
   "cell_type": "code",
   "execution_count": 13,
   "metadata": {},
   "outputs": [
    {
     "name": "stdout",
     "output_type": "stream",
     "text": [
      "cpu\n"
     ]
    },
    {
     "name": "stderr",
     "output_type": "stream",
     "text": [
      "Epoch 1/45:   0%|          | 1/274 [00:00<00:41,  6.65batch/s]"
     ]
    },
    {
     "name": "stdout",
     "output_type": "stream",
     "text": [
      "inside!!!\n"
     ]
    },
    {
     "name": "stderr",
     "output_type": "stream",
     "text": [
      "Epoch 1/45: 100%|██████████| 274/274 [00:27<00:00, 10.03batch/s]\n",
      "Epoch 2/45: 100%|██████████| 274/274 [00:27<00:00,  9.98batch/s]\n",
      "  0%|          | 0/274 [00:00<?, ?batch/s]"
     ]
    },
    {
     "name": "stdout",
     "output_type": "stream",
     "text": [
      "#assignments:  39513\n",
      "#assignments:  30487\n"
     ]
    },
    {
     "name": "stderr",
     "output_type": "stream",
     "text": [
      "Epoch 3/45:   0%|          | 1/274 [00:08<37:07,  8.16s/batch]"
     ]
    },
    {
     "name": "stdout",
     "output_type": "stream",
     "text": [
      "#assignments best node:  39513\n"
     ]
    },
    {
     "name": "stderr",
     "output_type": "stream",
     "text": [
      "Epoch 3/45: 100%|██████████| 274/274 [00:38<00:00,  7.12batch/s]\n",
      "Epoch 4/45: 100%|██████████| 274/274 [00:32<00:00,  8.36batch/s]\n",
      "  0%|          | 0/274 [00:00<?, ?batch/s]"
     ]
    },
    {
     "name": "stdout",
     "output_type": "stream",
     "text": [
      "#assignments:  18492\n",
      "#assignments:  21479\n",
      "#assignments:  30029\n"
     ]
    },
    {
     "name": "stderr",
     "output_type": "stream",
     "text": [
      "Epoch 5/45:   0%|          | 0/274 [00:07<?, ?batch/s]"
     ]
    },
    {
     "name": "stdout",
     "output_type": "stream",
     "text": [
      "#assignments best node:  18492\n"
     ]
    },
    {
     "name": "stderr",
     "output_type": "stream",
     "text": [
      "Epoch 5/45: 100%|██████████| 274/274 [00:35<00:00,  7.69batch/s]\n",
      "Epoch 6/45: 100%|██████████| 274/274 [00:28<00:00,  9.67batch/s]\n",
      "  0%|          | 0/274 [00:00<?, ?batch/s]"
     ]
    },
    {
     "name": "stdout",
     "output_type": "stream",
     "text": [
      "#assignments:  4348\n",
      "#assignments:  13989\n",
      "#assignments:  21755\n",
      "#assignments:  29908\n"
     ]
    },
    {
     "name": "stderr",
     "output_type": "stream",
     "text": [
      "Epoch 7/45:   0%|          | 1/274 [00:09<43:16,  9.51s/batch]"
     ]
    },
    {
     "name": "stdout",
     "output_type": "stream",
     "text": [
      "#assignments best node:  13989\n"
     ]
    },
    {
     "name": "stderr",
     "output_type": "stream",
     "text": [
      "Epoch 7/45: 100%|██████████| 274/274 [00:39<00:00,  7.02batch/s]\n",
      "Epoch 8/45: 100%|██████████| 274/274 [00:42<00:00,  6.44batch/s]\n",
      "  0%|          | 0/274 [00:00<?, ?batch/s]"
     ]
    },
    {
     "name": "stdout",
     "output_type": "stream",
     "text": [
      "#assignments:  4534\n",
      "#assignments:  7228\n",
      "#assignments:  6751\n",
      "#assignments:  21804\n",
      "#assignments:  29683\n"
     ]
    },
    {
     "name": "stderr",
     "output_type": "stream",
     "text": [
      "Epoch 9/45:   0%|          | 0/274 [00:12<?, ?batch/s]"
     ]
    },
    {
     "name": "stdout",
     "output_type": "stream",
     "text": [
      "#assignments best node:  29683\n"
     ]
    },
    {
     "name": "stderr",
     "output_type": "stream",
     "text": [
      "Epoch 9/45: 100%|██████████| 274/274 [00:52<00:00,  5.18batch/s]\n",
      "Epoch 10/45: 100%|██████████| 274/274 [00:45<00:00,  5.97batch/s]\n",
      "  0%|          | 0/274 [00:00<?, ?batch/s]"
     ]
    },
    {
     "name": "stdout",
     "output_type": "stream",
     "text": [
      "#assignments:  4551\n",
      "#assignments:  7198\n",
      "#assignments:  6768\n",
      "#assignments:  21879\n",
      "#assignments:  8232\n",
      "#assignments:  21372\n"
     ]
    },
    {
     "name": "stderr",
     "output_type": "stream",
     "text": [
      "Epoch 11/45:   0%|          | 0/274 [00:12<?, ?batch/s]"
     ]
    },
    {
     "name": "stdout",
     "output_type": "stream",
     "text": [
      "#assignments best node:  21879\n"
     ]
    },
    {
     "name": "stderr",
     "output_type": "stream",
     "text": [
      "Epoch 11/45: 100%|██████████| 274/274 [01:01<00:00,  4.45batch/s]\n",
      "Epoch 12/45: 100%|██████████| 274/274 [01:06<00:00,  4.11batch/s]\n",
      "  0%|          | 0/274 [00:00<?, ?batch/s]"
     ]
    },
    {
     "name": "stdout",
     "output_type": "stream",
     "text": [
      "#assignments:  4540\n",
      "#assignments:  7184\n",
      "#assignments:  6747\n",
      "#assignments:  10297\n",
      "#assignments:  11592\n",
      "#assignments:  8121\n",
      "#assignments:  21519\n"
     ]
    },
    {
     "name": "stderr",
     "output_type": "stream",
     "text": [
      "Epoch 13/45:   0%|          | 0/274 [00:13<?, ?batch/s]"
     ]
    },
    {
     "name": "stdout",
     "output_type": "stream",
     "text": [
      "#assignments best node:  10297\n"
     ]
    },
    {
     "name": "stderr",
     "output_type": "stream",
     "text": [
      "Epoch 13/45: 100%|██████████| 274/274 [00:52<00:00,  5.26batch/s]\n",
      "Epoch 14/45: 100%|██████████| 274/274 [00:37<00:00,  7.39batch/s]\n",
      "  0%|          | 0/274 [00:00<?, ?batch/s]"
     ]
    },
    {
     "name": "stdout",
     "output_type": "stream",
     "text": [
      "#assignments:  4540\n",
      "#assignments:  7195\n",
      "#assignments:  6748\n",
      "#assignments:  5359\n",
      "#assignments:  5206\n",
      "#assignments:  11429\n",
      "#assignments:  8102\n",
      "#assignments:  21421\n"
     ]
    },
    {
     "name": "stderr",
     "output_type": "stream",
     "text": [
      "Epoch 15/45:   0%|          | 0/274 [00:15<?, ?batch/s]"
     ]
    },
    {
     "name": "stdout",
     "output_type": "stream",
     "text": [
      "#assignments best node:  21421\n"
     ]
    },
    {
     "name": "stderr",
     "output_type": "stream",
     "text": [
      "Epoch 15/45: 100%|██████████| 274/274 [01:01<00:00,  4.45batch/s]\n",
      "Epoch 16/45: 100%|██████████| 274/274 [01:00<00:00,  4.53batch/s]\n",
      "  0%|          | 0/274 [00:00<?, ?batch/s]"
     ]
    },
    {
     "name": "stdout",
     "output_type": "stream",
     "text": [
      "#assignments:  4623\n",
      "#assignments:  7160\n",
      "#assignments:  6756\n",
      "#assignments:  5472\n",
      "#assignments:  5223\n",
      "#assignments:  11339\n",
      "#assignments:  8023\n",
      "#assignments:  7524\n",
      "#assignments:  13880\n"
     ]
    },
    {
     "name": "stderr",
     "output_type": "stream",
     "text": [
      "Epoch 17/45:   0%|          | 0/274 [00:19<?, ?batch/s]"
     ]
    },
    {
     "name": "stdout",
     "output_type": "stream",
     "text": [
      "#assignments best node:  11339\n"
     ]
    },
    {
     "name": "stderr",
     "output_type": "stream",
     "text": [
      "Epoch 17/45: 100%|██████████| 274/274 [01:03<00:00,  4.31batch/s]\n",
      "Epoch 18/45: 100%|██████████| 274/274 [00:44<00:00,  6.20batch/s]\n",
      "  0%|          | 0/274 [00:00<?, ?batch/s]"
     ]
    },
    {
     "name": "stdout",
     "output_type": "stream",
     "text": [
      "#assignments:  4609\n",
      "#assignments:  7170\n",
      "#assignments:  6726\n",
      "#assignments:  5550\n",
      "#assignments:  5305\n",
      "#assignments:  8953\n",
      "#assignments:  2280\n",
      "#assignments:  8011\n",
      "#assignments:  7540\n",
      "#assignments:  13856\n"
     ]
    },
    {
     "name": "stderr",
     "output_type": "stream",
     "text": [
      "Epoch 19/45:   0%|          | 0/274 [00:16<?, ?batch/s]"
     ]
    },
    {
     "name": "stdout",
     "output_type": "stream",
     "text": [
      "#assignments best node:  13856\n"
     ]
    },
    {
     "name": "stderr",
     "output_type": "stream",
     "text": [
      "Epoch 19/45: 100%|██████████| 274/274 [01:01<00:00,  4.47batch/s]\n",
      "Epoch 20/45: 100%|██████████| 274/274 [00:43<00:00,  6.27batch/s]\n",
      "  0%|          | 0/274 [00:00<?, ?batch/s]"
     ]
    },
    {
     "name": "stdout",
     "output_type": "stream",
     "text": [
      "#assignments:  4576\n",
      "#assignments:  7148\n",
      "#assignments:  6721\n",
      "#assignments:  5554\n",
      "#assignments:  5410\n",
      "#assignments:  8840\n",
      "#assignments:  2343\n",
      "#assignments:  8023\n",
      "#assignments:  7472\n",
      "#assignments:  6015\n",
      "#assignments:  7898\n"
     ]
    },
    {
     "name": "stderr",
     "output_type": "stream",
     "text": [
      "Epoch 21/45:   0%|          | 0/274 [00:16<?, ?batch/s]"
     ]
    },
    {
     "name": "stdout",
     "output_type": "stream",
     "text": [
      "#assignments best node:  7898\n"
     ]
    },
    {
     "name": "stderr",
     "output_type": "stream",
     "text": [
      "Epoch 21/45: 100%|██████████| 274/274 [01:03<00:00,  4.31batch/s]\n",
      "Epoch 22/45: 100%|██████████| 274/274 [00:45<00:00,  6.01batch/s]\n",
      "  0%|          | 0/274 [00:00<?, ?batch/s]"
     ]
    },
    {
     "name": "stdout",
     "output_type": "stream",
     "text": [
      "#assignments:  4610\n",
      "#assignments:  7168\n",
      "#assignments:  6728\n",
      "#assignments:  5561\n",
      "#assignments:  5437\n",
      "#assignments:  8820\n",
      "#assignments:  2297\n",
      "#assignments:  8044\n",
      "#assignments:  7482\n",
      "#assignments:  6052\n",
      "#assignments:  3517\n",
      "#assignments:  4284\n"
     ]
    },
    {
     "name": "stderr",
     "output_type": "stream",
     "text": [
      "Epoch 23/45:   0%|          | 0/274 [00:21<?, ?batch/s]"
     ]
    },
    {
     "name": "stdout",
     "output_type": "stream",
     "text": [
      "#assignments best node:  6052\n"
     ]
    },
    {
     "name": "stderr",
     "output_type": "stream",
     "text": [
      "Epoch 23/45: 100%|██████████| 274/274 [01:19<00:00,  3.45batch/s]\n",
      "Epoch 24/45: 100%|██████████| 274/274 [00:55<00:00,  4.95batch/s]\n",
      "  0%|          | 0/274 [00:00<?, ?batch/s]"
     ]
    },
    {
     "name": "stdout",
     "output_type": "stream",
     "text": [
      "#assignments:  4624\n",
      "#assignments:  7155\n",
      "#assignments:  6719\n",
      "#assignments:  5589\n",
      "#assignments:  5477\n",
      "#assignments:  8794\n",
      "#assignments:  2313\n",
      "#assignments:  8011\n",
      "#assignments:  7511\n",
      "#assignments:  3242\n",
      "#assignments:  3101\n",
      "#assignments:  3287\n",
      "#assignments:  4177\n"
     ]
    },
    {
     "name": "stderr",
     "output_type": "stream",
     "text": [
      "Epoch 25/45:   0%|          | 0/274 [00:19<?, ?batch/s]"
     ]
    },
    {
     "name": "stdout",
     "output_type": "stream",
     "text": [
      "#assignments best node:  8011\n"
     ]
    },
    {
     "name": "stderr",
     "output_type": "stream",
     "text": [
      "Epoch 25/45: 100%|██████████| 274/274 [01:10<00:00,  3.89batch/s]\n",
      "Epoch 26/45: 100%|██████████| 274/274 [00:50<00:00,  5.44batch/s]\n",
      "  0%|          | 0/274 [00:00<?, ?batch/s]"
     ]
    },
    {
     "name": "stdout",
     "output_type": "stream",
     "text": [
      "#assignments:  4609\n",
      "#assignments:  7156\n",
      "#assignments:  6710\n",
      "#assignments:  5608\n",
      "#assignments:  5533\n",
      "#assignments:  8751\n",
      "#assignments:  2313\n",
      "#assignments:  3957\n",
      "#assignments:  4000\n",
      "#assignments:  7552\n",
      "#assignments:  3106\n",
      "#assignments:  2858\n",
      "#assignments:  3532\n",
      "#assignments:  4315\n"
     ]
    },
    {
     "name": "stderr",
     "output_type": "stream",
     "text": [
      "Epoch 27/45:   0%|          | 0/274 [00:19<?, ?batch/s]"
     ]
    },
    {
     "name": "stdout",
     "output_type": "stream",
     "text": [
      "#assignments best node:  8751\n"
     ]
    },
    {
     "name": "stderr",
     "output_type": "stream",
     "text": [
      "Epoch 27/45: 100%|██████████| 274/274 [01:06<00:00,  4.12batch/s]\n",
      "Epoch 28/45: 100%|██████████| 274/274 [00:49<00:00,  5.51batch/s]\n",
      "  0%|          | 0/274 [00:00<?, ?batch/s]"
     ]
    },
    {
     "name": "stdout",
     "output_type": "stream",
     "text": [
      "#assignments:  4598\n",
      "#assignments:  7162\n",
      "#assignments:  6703\n",
      "#assignments:  5630\n",
      "#assignments:  5530\n",
      "#assignments:  4423\n",
      "#assignments:  4289\n",
      "#assignments:  2366\n",
      "#assignments:  4094\n",
      "#assignments:  3916\n",
      "#assignments:  7511\n",
      "#assignments:  3414\n",
      "#assignments:  2930\n",
      "#assignments:  3254\n",
      "#assignments:  4180\n"
     ]
    },
    {
     "name": "stderr",
     "output_type": "stream",
     "text": [
      "Epoch 29/45:   0%|          | 0/274 [00:26<?, ?batch/s]"
     ]
    },
    {
     "name": "stdout",
     "output_type": "stream",
     "text": [
      "#assignments best node:  7162\n"
     ]
    },
    {
     "name": "stderr",
     "output_type": "stream",
     "text": [
      "Epoch 29/45: 100%|██████████| 274/274 [01:15<00:00,  3.62batch/s]\n",
      "Epoch 30/45: 100%|██████████| 274/274 [00:51<00:00,  5.34batch/s]\n",
      "  0%|          | 0/274 [00:00<?, ?batch/s]"
     ]
    },
    {
     "name": "stdout",
     "output_type": "stream",
     "text": [
      "#assignments:  4625\n",
      "#assignments:  3954\n",
      "#assignments:  3186\n",
      "#assignments:  6719\n",
      "#assignments:  5677\n",
      "#assignments:  5651\n",
      "#assignments:  4340\n",
      "#assignments:  4244\n",
      "#assignments:  2295\n",
      "#assignments:  3998\n",
      "#assignments:  3958\n",
      "#assignments:  7558\n",
      "#assignments:  3302\n",
      "#assignments:  2972\n",
      "#assignments:  3362\n",
      "#assignments:  4159\n"
     ]
    },
    {
     "name": "stderr",
     "output_type": "stream",
     "text": [
      "Epoch 31/45:   0%|          | 0/274 [00:24<?, ?batch/s]"
     ]
    },
    {
     "name": "stdout",
     "output_type": "stream",
     "text": [
      "#assignments best node:  6719\n"
     ]
    },
    {
     "name": "stderr",
     "output_type": "stream",
     "text": [
      "Epoch 31/45: 100%|██████████| 274/274 [01:21<00:00,  3.37batch/s]\n",
      "Epoch 32/45: 100%|██████████| 274/274 [00:57<00:00,  4.78batch/s]\n",
      "  0%|          | 0/274 [00:00<?, ?batch/s]"
     ]
    },
    {
     "name": "stdout",
     "output_type": "stream",
     "text": [
      "#assignments:  4617\n",
      "#assignments:  3891\n",
      "#assignments:  3253\n",
      "#assignments:  2594\n",
      "#assignments:  4116\n",
      "#assignments:  5723\n",
      "#assignments:  5637\n",
      "#assignments:  4325\n",
      "#assignments:  4246\n",
      "#assignments:  2350\n",
      "#assignments:  3960\n",
      "#assignments:  4009\n",
      "#assignments:  7479\n",
      "#assignments:  3166\n",
      "#assignments:  2920\n",
      "#assignments:  3485\n",
      "#assignments:  4229\n"
     ]
    },
    {
     "name": "stderr",
     "output_type": "stream",
     "text": [
      "Epoch 33/45:   0%|          | 0/274 [00:23<?, ?batch/s]"
     ]
    },
    {
     "name": "stdout",
     "output_type": "stream",
     "text": [
      "#assignments best node:  7479\n"
     ]
    },
    {
     "name": "stderr",
     "output_type": "stream",
     "text": [
      "Epoch 33/45: 100%|██████████| 274/274 [01:17<00:00,  3.53batch/s]\n",
      "Epoch 34/45: 100%|██████████| 274/274 [00:55<00:00,  4.94batch/s]\n",
      "  0%|          | 0/274 [00:00<?, ?batch/s]"
     ]
    },
    {
     "name": "stdout",
     "output_type": "stream",
     "text": [
      "#assignments:  4617\n",
      "#assignments:  3720\n",
      "#assignments:  3431\n",
      "#assignments:  2652\n",
      "#assignments:  4062\n",
      "#assignments:  5725\n",
      "#assignments:  5744\n",
      "#assignments:  2835\n",
      "#assignments:  5645\n",
      "#assignments:  2311\n",
      "#assignments:  3970\n",
      "#assignments:  3959\n",
      "#assignments:  3078\n",
      "#assignments:  4500\n",
      "#assignments:  3197\n",
      "#assignments:  2907\n",
      "#assignments:  3423\n",
      "#assignments:  4224\n"
     ]
    },
    {
     "name": "stderr",
     "output_type": "stream",
     "text": [
      "Epoch 35/45:   0%|          | 0/274 [00:26<?, ?batch/s]"
     ]
    },
    {
     "name": "stdout",
     "output_type": "stream",
     "text": [
      "#assignments best node:  5744\n"
     ]
    },
    {
     "name": "stderr",
     "output_type": "stream",
     "text": [
      "Epoch 35/45: 100%|██████████| 274/274 [01:19<00:00,  3.43batch/s]\n",
      "Epoch 36/45: 100%|██████████| 274/274 [00:56<00:00,  4.87batch/s]\n",
      "  0%|          | 0/274 [00:00<?, ?batch/s]"
     ]
    },
    {
     "name": "stdout",
     "output_type": "stream",
     "text": [
      "#assignments:  4595\n",
      "#assignments:  3769\n",
      "#assignments:  3392\n",
      "#assignments:  2642\n",
      "#assignments:  4047\n",
      "#assignments:  5753\n",
      "#assignments:  2425\n",
      "#assignments:  3372\n",
      "#assignments:  4343\n",
      "#assignments:  4058\n",
      "#assignments:  2331\n",
      "#assignments:  3985\n",
      "#assignments:  3950\n",
      "#assignments:  3114\n",
      "#assignments:  4466\n",
      "#assignments:  3225\n",
      "#assignments:  2925\n",
      "#assignments:  3382\n",
      "#assignments:  4226\n"
     ]
    },
    {
     "name": "stderr",
     "output_type": "stream",
     "text": [
      "Epoch 37/45:   0%|          | 0/274 [00:28<?, ?batch/s]"
     ]
    },
    {
     "name": "stdout",
     "output_type": "stream",
     "text": [
      "#assignments best node:  5753\n"
     ]
    },
    {
     "name": "stderr",
     "output_type": "stream",
     "text": [
      "Epoch 37/45: 100%|██████████| 274/274 [01:25<00:00,  3.20batch/s]\n",
      "Epoch 38/45: 100%|██████████| 274/274 [01:04<00:00,  4.28batch/s]\n",
      "Epoch 39/45: 100%|██████████| 274/274 [01:08<00:00,  3.99batch/s]\n",
      "Epoch 40/45: 100%|██████████| 274/274 [01:03<00:00,  4.29batch/s]\n",
      "Epoch 41/45: 100%|██████████| 274/274 [00:53<00:00,  5.11batch/s]\n",
      "Epoch 42/45: 100%|██████████| 274/274 [00:45<00:00,  5.98batch/s]\n",
      "Epoch 43/45: 100%|██████████| 274/274 [00:47<00:00,  5.83batch/s]\n",
      "Epoch 44/45: 100%|██████████| 274/274 [00:46<00:00,  5.87batch/s]\n",
      "Epoch 45/45: 100%|██████████| 274/274 [00:47<00:00,  5.82batch/s]\n",
      "Predict: 100%|██████████| 274/274 [00:06<00:00, 41.84it/s]\n"
     ]
    }
   ],
   "source": [
    "dataset, labels = load_mnist(return_X_y=True)\n",
    "autoencoder = FeedforwardAutoencoder([dataset.shape[1], 500, 500, 2000, 10])\n",
    "autoencoder.load_state_dict(torch.load(\"practical/DeepClustering/DipECT/pretrained_AE_MNIST_seed6_unscaled.pth\"))\n",
    "autoencoder.fitted = True\n",
    "dipect_test_s1 = DipECT(autoencoder=autoencoder, use_pvalue=False, grow_interval=2, max_epochs=45, unimodal_treshhold=1.0, random_state=np.random.RandomState(6))\n",
    "dipect_test_s1 = dipect_test_s1.fit_predict(dataset)"
   ]
  },
  {
   "cell_type": "code",
   "execution_count": 14,
   "metadata": {},
   "outputs": [
    {
     "name": "stdout",
     "output_type": "stream",
     "text": [
      "0.8106\n",
      "0.8265057072959676\n"
     ]
    }
   ],
   "source": [
    "print(dipect_test_s1.tree_.flat_accuracy(labels, 10))\n",
    "print(dipect_test_s1.tree_.flat_nmi(labels, 10))"
   ]
  },
  {
   "cell_type": "code",
   "execution_count": 16,
   "metadata": {},
   "outputs": [
    {
     "name": "stdout",
     "output_type": "stream",
     "text": [
      "Autoencoder is not fitted yet, will be pretrained.\n",
      "cpu\n"
     ]
    },
    {
     "name": "stderr",
     "output_type": "stream",
     "text": [
      "Epoch 1/45: 100%|██████████| 274/274 [00:19<00:00, 13.98batch/s]\n",
      "Epoch 2/45: 100%|██████████| 274/274 [00:20<00:00, 13.54batch/s]\n",
      "  0%|          | 0/274 [00:00<?, ?batch/s]"
     ]
    },
    {
     "name": "stdout",
     "output_type": "stream",
     "text": [
      "#assignments:  48937\n",
      "#assignments:  21063\n"
     ]
    },
    {
     "name": "stderr",
     "output_type": "stream",
     "text": [
      "Epoch 3/45:   0%|          | 0/274 [00:05<?, ?batch/s]"
     ]
    },
    {
     "name": "stdout",
     "output_type": "stream",
     "text": [
      "#assignments best node:  48937\n"
     ]
    },
    {
     "name": "stderr",
     "output_type": "stream",
     "text": [
      "Epoch 3/45: 100%|██████████| 274/274 [00:27<00:00, 10.10batch/s]\n",
      "Epoch 4/45: 100%|██████████| 274/274 [00:22<00:00, 12.18batch/s]\n",
      "  0%|          | 0/274 [00:00<?, ?batch/s]"
     ]
    },
    {
     "name": "stdout",
     "output_type": "stream",
     "text": [
      "#assignments:  14513\n",
      "#assignments:  34238\n",
      "#assignments:  21249\n"
     ]
    },
    {
     "name": "stderr",
     "output_type": "stream",
     "text": [
      "Epoch 5/45:   0%|          | 1/274 [00:06<30:14,  6.65s/batch]"
     ]
    },
    {
     "name": "stdout",
     "output_type": "stream",
     "text": [
      "#assignments best node:  34238\n"
     ]
    },
    {
     "name": "stderr",
     "output_type": "stream",
     "text": [
      "Epoch 5/45: 100%|██████████| 274/274 [00:29<00:00,  9.14batch/s]\n",
      "Epoch 6/45: 100%|██████████| 274/274 [00:22<00:00, 12.18batch/s]\n",
      "  0%|          | 0/274 [00:00<?, ?batch/s]"
     ]
    },
    {
     "name": "stdout",
     "output_type": "stream",
     "text": [
      "#assignments:  14876\n",
      "#assignments:  11909\n",
      "#assignments:  22042\n",
      "#assignments:  21173\n"
     ]
    },
    {
     "name": "stderr",
     "output_type": "stream",
     "text": [
      "Epoch 7/45:   0%|          | 0/274 [00:10<?, ?batch/s]"
     ]
    },
    {
     "name": "stdout",
     "output_type": "stream",
     "text": [
      "#assignments best node:  22042\n"
     ]
    },
    {
     "name": "stderr",
     "output_type": "stream",
     "text": [
      "Epoch 7/45: 100%|██████████| 274/274 [00:38<00:00,  7.11batch/s]\n",
      "Epoch 8/45: 100%|██████████| 274/274 [00:25<00:00, 10.60batch/s]\n",
      "  0%|          | 0/274 [00:00<?, ?batch/s]"
     ]
    },
    {
     "name": "stdout",
     "output_type": "stream",
     "text": [
      "#assignments:  14977\n",
      "#assignments:  12209\n",
      "#assignments:  7322\n",
      "#assignments:  14303\n",
      "#assignments:  21189\n"
     ]
    },
    {
     "name": "stderr",
     "output_type": "stream",
     "text": [
      "Epoch 9/45:   0%|          | 0/274 [00:06<?, ?batch/s]"
     ]
    },
    {
     "name": "stdout",
     "output_type": "stream",
     "text": [
      "#assignments best node:  12209\n"
     ]
    },
    {
     "name": "stderr",
     "output_type": "stream",
     "text": [
      "Epoch 9/45: 100%|██████████| 274/274 [00:32<00:00,  8.46batch/s]\n",
      "Epoch 10/45: 100%|██████████| 274/274 [00:26<00:00, 10.43batch/s]\n",
      "  0%|          | 0/274 [00:00<?, ?batch/s]"
     ]
    },
    {
     "name": "stdout",
     "output_type": "stream",
     "text": [
      "#assignments:  15076\n",
      "#assignments:  5800\n",
      "#assignments:  6490\n",
      "#assignments:  7234\n",
      "#assignments:  14186\n",
      "#assignments:  21214\n"
     ]
    },
    {
     "name": "stderr",
     "output_type": "stream",
     "text": [
      "Epoch 11/45:   0%|          | 1/274 [00:08<36:30,  8.02s/batch]"
     ]
    },
    {
     "name": "stdout",
     "output_type": "stream",
     "text": [
      "#assignments best node:  14186\n"
     ]
    },
    {
     "name": "stderr",
     "output_type": "stream",
     "text": [
      "Epoch 11/45: 100%|██████████| 274/274 [00:35<00:00,  7.69batch/s]\n",
      "Epoch 12/45: 100%|██████████| 274/274 [00:28<00:00,  9.60batch/s]\n",
      "  0%|          | 0/274 [00:00<?, ?batch/s]"
     ]
    },
    {
     "name": "stdout",
     "output_type": "stream",
     "text": [
      "#assignments:  14942\n",
      "#assignments:  5878\n",
      "#assignments:  6528\n",
      "#assignments:  7226\n",
      "#assignments:  5749\n",
      "#assignments:  8437\n",
      "#assignments:  21240\n"
     ]
    },
    {
     "name": "stderr",
     "output_type": "stream",
     "text": [
      "Epoch 13/45:   0%|          | 0/274 [00:14<?, ?batch/s]"
     ]
    },
    {
     "name": "stdout",
     "output_type": "stream",
     "text": [
      "#assignments best node:  14942\n"
     ]
    },
    {
     "name": "stderr",
     "output_type": "stream",
     "text": [
      "Epoch 13/45: 100%|██████████| 274/274 [00:49<00:00,  5.49batch/s]\n",
      "Epoch 14/45: 100%|██████████| 274/274 [00:30<00:00,  9.05batch/s]\n",
      "  0%|          | 0/274 [00:00<?, ?batch/s]"
     ]
    },
    {
     "name": "stdout",
     "output_type": "stream",
     "text": [
      "#assignments:  8426\n",
      "#assignments:  6455\n",
      "#assignments:  5870\n",
      "#assignments:  6481\n",
      "#assignments:  7257\n",
      "#assignments:  5849\n",
      "#assignments:  8425\n",
      "#assignments:  21237\n"
     ]
    },
    {
     "name": "stderr",
     "output_type": "stream",
     "text": [
      "Epoch 15/45:   0%|          | 0/274 [00:11<?, ?batch/s]"
     ]
    },
    {
     "name": "stdout",
     "output_type": "stream",
     "text": [
      "#assignments best node:  21237\n"
     ]
    },
    {
     "name": "stderr",
     "output_type": "stream",
     "text": [
      "Epoch 15/45: 100%|██████████| 274/274 [00:43<00:00,  6.24batch/s]\n",
      "Epoch 16/45: 100%|██████████| 274/274 [00:32<00:00,  8.45batch/s]\n",
      "  0%|          | 0/274 [00:00<?, ?batch/s]"
     ]
    },
    {
     "name": "stdout",
     "output_type": "stream",
     "text": [
      "#assignments:  8263\n",
      "#assignments:  6516\n",
      "#assignments:  5893\n",
      "#assignments:  6513\n",
      "#assignments:  7228\n",
      "#assignments:  5984\n",
      "#assignments:  8395\n",
      "#assignments:  10749\n",
      "#assignments:  10459\n"
     ]
    },
    {
     "name": "stderr",
     "output_type": "stream",
     "text": [
      "Epoch 17/45:   0%|          | 0/274 [00:16<?, ?batch/s]"
     ]
    },
    {
     "name": "stdout",
     "output_type": "stream",
     "text": [
      "#assignments best node:  10459\n"
     ]
    },
    {
     "name": "stderr",
     "output_type": "stream",
     "text": [
      "Epoch 17/45: 100%|██████████| 274/274 [00:53<00:00,  5.11batch/s]\n",
      "Epoch 18/45: 100%|██████████| 274/274 [00:34<00:00,  8.02batch/s]\n",
      "  0%|          | 0/274 [00:00<?, ?batch/s]"
     ]
    },
    {
     "name": "stdout",
     "output_type": "stream",
     "text": [
      "#assignments:  8260\n",
      "#assignments:  6509\n",
      "#assignments:  5938\n",
      "#assignments:  6446\n",
      "#assignments:  7241\n",
      "#assignments:  6002\n",
      "#assignments:  8347\n",
      "#assignments:  10901\n",
      "#assignments:  3397\n",
      "#assignments:  6959\n"
     ]
    },
    {
     "name": "stderr",
     "output_type": "stream",
     "text": [
      "Epoch 19/45:   0%|          | 0/274 [00:11<?, ?batch/s]"
     ]
    },
    {
     "name": "stdout",
     "output_type": "stream",
     "text": [
      "#assignments best node:  8347\n"
     ]
    },
    {
     "name": "stderr",
     "output_type": "stream",
     "text": [
      "Epoch 19/45: 100%|██████████| 274/274 [00:46<00:00,  5.88batch/s]\n",
      "Epoch 20/45: 100%|██████████| 274/274 [00:35<00:00,  7.80batch/s]\n",
      "  0%|          | 0/274 [00:00<?, ?batch/s]"
     ]
    },
    {
     "name": "stdout",
     "output_type": "stream",
     "text": [
      "#assignments:  8210\n",
      "#assignments:  6551\n",
      "#assignments:  5957\n",
      "#assignments:  6489\n",
      "#assignments:  7261\n",
      "#assignments:  6021\n",
      "#assignments:  3972\n",
      "#assignments:  4344\n",
      "#assignments:  10671\n",
      "#assignments:  3606\n",
      "#assignments:  6918\n"
     ]
    },
    {
     "name": "stderr",
     "output_type": "stream",
     "text": [
      "Epoch 21/45:   0%|          | 0/274 [00:14<?, ?batch/s]"
     ]
    },
    {
     "name": "stdout",
     "output_type": "stream",
     "text": [
      "#assignments best node:  8210\n"
     ]
    },
    {
     "name": "stderr",
     "output_type": "stream",
     "text": [
      "Epoch 21/45: 100%|██████████| 274/274 [00:54<00:00,  5.07batch/s]\n",
      "Epoch 22/45: 100%|██████████| 274/274 [00:47<00:00,  5.79batch/s]\n",
      "  0%|          | 0/274 [00:00<?, ?batch/s]"
     ]
    },
    {
     "name": "stdout",
     "output_type": "stream",
     "text": [
      "#assignments:  4186\n",
      "#assignments:  4018\n",
      "#assignments:  6583\n",
      "#assignments:  5955\n",
      "#assignments:  6511\n",
      "#assignments:  7240\n",
      "#assignments:  6006\n",
      "#assignments:  4022\n",
      "#assignments:  4275\n",
      "#assignments:  10977\n",
      "#assignments:  3414\n",
      "#assignments:  6813\n"
     ]
    },
    {
     "name": "stderr",
     "output_type": "stream",
     "text": [
      "Epoch 23/45:   0%|          | 0/274 [00:17<?, ?batch/s]"
     ]
    },
    {
     "name": "stdout",
     "output_type": "stream",
     "text": [
      "#assignments best node:  4018\n"
     ]
    },
    {
     "name": "stderr",
     "output_type": "stream",
     "text": [
      "Epoch 23/45: 100%|██████████| 274/274 [01:07<00:00,  4.08batch/s]\n",
      "Epoch 24/45: 100%|██████████| 274/274 [00:48<00:00,  5.62batch/s]\n",
      "  0%|          | 0/274 [00:00<?, ?batch/s]"
     ]
    },
    {
     "name": "stdout",
     "output_type": "stream",
     "text": [
      "#assignments:  4212\n",
      "#assignments:  3157\n",
      "#assignments:  728\n",
      "#assignments:  6639\n",
      "#assignments:  5931\n",
      "#assignments:  6507\n",
      "#assignments:  7260\n",
      "#assignments:  6091\n",
      "#assignments:  3978\n",
      "#assignments:  4305\n",
      "#assignments:  11104\n",
      "#assignments:  3179\n",
      "#assignments:  6909\n"
     ]
    },
    {
     "name": "stderr",
     "output_type": "stream",
     "text": [
      "Epoch 25/45:   0%|          | 0/274 [00:17<?, ?batch/s]"
     ]
    },
    {
     "name": "stdout",
     "output_type": "stream",
     "text": [
      "#assignments best node:  11104\n"
     ]
    },
    {
     "name": "stderr",
     "output_type": "stream",
     "text": [
      "Epoch 25/45: 100%|██████████| 274/274 [01:08<00:00,  4.01batch/s]\n",
      "Epoch 26/45: 100%|██████████| 274/274 [00:50<00:00,  5.42batch/s]\n",
      "  0%|          | 0/274 [00:00<?, ?batch/s]"
     ]
    },
    {
     "name": "stdout",
     "output_type": "stream",
     "text": [
      "#assignments:  4161\n",
      "#assignments:  3184\n",
      "#assignments:  688\n",
      "#assignments:  6613\n",
      "#assignments:  5969\n",
      "#assignments:  6480\n",
      "#assignments:  7293\n",
      "#assignments:  6156\n",
      "#assignments:  3967\n",
      "#assignments:  4281\n",
      "#assignments:  5609\n",
      "#assignments:  5333\n",
      "#assignments:  3240\n",
      "#assignments:  7026\n"
     ]
    },
    {
     "name": "stderr",
     "output_type": "stream",
     "text": [
      "Epoch 27/45:   0%|          | 0/274 [00:17<?, ?batch/s]"
     ]
    },
    {
     "name": "stdout",
     "output_type": "stream",
     "text": [
      "#assignments best node:  3967\n"
     ]
    },
    {
     "name": "stderr",
     "output_type": "stream",
     "text": [
      "Epoch 27/45: 100%|██████████| 274/274 [01:12<00:00,  3.79batch/s]\n",
      "Epoch 28/45: 100%|██████████| 274/274 [00:57<00:00,  4.75batch/s]\n",
      "  0%|          | 0/274 [00:00<?, ?batch/s]"
     ]
    },
    {
     "name": "stdout",
     "output_type": "stream",
     "text": [
      "#assignments:  4211\n",
      "#assignments:  3135\n",
      "#assignments:  738\n",
      "#assignments:  6647\n",
      "#assignments:  5984\n",
      "#assignments:  6541\n",
      "#assignments:  7232\n",
      "#assignments:  6123\n",
      "#assignments:  3550\n",
      "#assignments:  286\n",
      "#assignments:  4337\n",
      "#assignments:  5304\n",
      "#assignments:  5544\n",
      "#assignments:  3380\n",
      "#assignments:  6988\n"
     ]
    },
    {
     "name": "stderr",
     "output_type": "stream",
     "text": [
      "Epoch 29/45:   0%|          | 0/274 [00:15<?, ?batch/s]"
     ]
    },
    {
     "name": "stdout",
     "output_type": "stream",
     "text": [
      "#assignments best node:  286\n"
     ]
    },
    {
     "name": "stderr",
     "output_type": "stream",
     "text": [
      "Epoch 29/45: 100%|██████████| 274/274 [01:02<00:00,  4.36batch/s]\n",
      "Epoch 30/45: 100%|██████████| 274/274 [00:54<00:00,  5.03batch/s]\n",
      "  0%|          | 0/274 [00:00<?, ?batch/s]"
     ]
    },
    {
     "name": "stdout",
     "output_type": "stream",
     "text": [
      "#assignments:  4213\n",
      "#assignments:  3097\n",
      "#assignments:  727\n",
      "#assignments:  6645\n",
      "#assignments:  5980\n",
      "#assignments:  6542\n",
      "#assignments:  7214\n",
      "#assignments:  6142\n",
      "#assignments:  3644\n",
      "#assignments:  130\n",
      "#assignments:  197\n",
      "#assignments:  4222\n",
      "#assignments:  5392\n",
      "#assignments:  5588\n",
      "#assignments:  3216\n",
      "#assignments:  7051\n"
     ]
    },
    {
     "name": "stderr",
     "output_type": "stream",
     "text": [
      "Epoch 31/45:   0%|          | 0/274 [00:17<?, ?batch/s]"
     ]
    },
    {
     "name": "stdout",
     "output_type": "stream",
     "text": [
      "#assignments best node:  130\n"
     ]
    },
    {
     "name": "stderr",
     "output_type": "stream",
     "text": [
      "Epoch 31/45: 100%|██████████| 274/274 [01:08<00:00,  3.99batch/s]\n",
      "Epoch 32/45: 100%|██████████| 274/274 [00:49<00:00,  5.52batch/s]\n",
      "  0%|          | 0/274 [00:00<?, ?batch/s]"
     ]
    },
    {
     "name": "stdout",
     "output_type": "stream",
     "text": [
      "#assignments:  3938\n",
      "#assignments:  3326\n",
      "#assignments:  638\n",
      "#assignments:  6632\n",
      "#assignments:  6010\n",
      "#assignments:  6465\n",
      "#assignments:  7241\n",
      "#assignments:  6286\n",
      "#assignments:  2013\n",
      "#assignments:  718\n",
      "#assignments:  516\n",
      "#assignments:  744\n",
      "#assignments:  4238\n",
      "#assignments:  3520\n",
      "#assignments:  7303\n",
      "#assignments:  3333\n",
      "#assignments:  7079\n"
     ]
    },
    {
     "name": "stderr",
     "output_type": "stream",
     "text": [
      "Epoch 33/45:   0%|          | 0/274 [00:15<?, ?batch/s]"
     ]
    },
    {
     "name": "stdout",
     "output_type": "stream",
     "text": [
      "#assignments best node:  744\n"
     ]
    },
    {
     "name": "stderr",
     "output_type": "stream",
     "text": [
      "Epoch 33/45: 100%|██████████| 274/274 [00:47<00:00,  5.81batch/s]\n",
      "Epoch 34/45: 100%|██████████| 274/274 [00:57<00:00,  4.78batch/s]\n",
      "  0%|          | 0/274 [00:00<?, ?batch/s]"
     ]
    },
    {
     "name": "stdout",
     "output_type": "stream",
     "text": [
      "#assignments:  4166\n",
      "#assignments:  3121\n",
      "#assignments:  645\n",
      "#assignments:  6643\n",
      "#assignments:  6049\n",
      "#assignments:  6551\n",
      "#assignments:  7249\n",
      "#assignments:  6232\n",
      "#assignments:  3587\n",
      "#assignments:  98\n",
      "#assignments:  80\n",
      "#assignments:  25\n",
      "#assignments:  80\n",
      "#assignments:  4251\n",
      "#assignments:  5490\n",
      "#assignments:  5293\n",
      "#assignments:  3311\n",
      "#assignments:  7129\n"
     ]
    },
    {
     "name": "stderr",
     "output_type": "stream",
     "text": [
      "Epoch 35/45:   0%|          | 0/274 [00:11<?, ?batch/s]"
     ]
    },
    {
     "name": "stdout",
     "output_type": "stream",
     "text": [
      "#assignments best node:  25\n"
     ]
    },
    {
     "name": "stderr",
     "output_type": "stream",
     "text": [
      "Epoch 35/45: 100%|██████████| 274/274 [00:41<00:00,  6.68batch/s]\n",
      "Epoch 36/45: 100%|██████████| 274/274 [00:48<00:00,  5.62batch/s]\n",
      "  0%|          | 0/274 [00:00<?, ?batch/s]"
     ]
    },
    {
     "name": "stdout",
     "output_type": "stream",
     "text": [
      "#assignments:  3989\n",
      "#assignments:  3285\n",
      "#assignments:  672\n",
      "#assignments:  6682\n",
      "#assignments:  6025\n",
      "#assignments:  6538\n",
      "#assignments:  7223\n",
      "#assignments:  6237\n",
      "#assignments:  1925\n",
      "#assignments:  416\n",
      "#assignments:  389\n",
      "#assignments:  140\n",
      "#assignments:  79\n",
      "#assignments:  893\n",
      "#assignments:  4293\n",
      "#assignments:  3685\n",
      "#assignments:  7062\n",
      "#assignments:  3318\n",
      "#assignments:  7149\n"
     ]
    },
    {
     "name": "stderr",
     "output_type": "stream",
     "text": [
      "Epoch 37/45:   0%|          | 0/274 [00:17<?, ?batch/s]"
     ]
    },
    {
     "name": "stdout",
     "output_type": "stream",
     "text": [
      "#assignments best node:  79\n"
     ]
    },
    {
     "name": "stderr",
     "output_type": "stream",
     "text": [
      "Epoch 37/45: 100%|██████████| 274/274 [00:57<00:00,  4.81batch/s]\n",
      "Epoch 38/45: 100%|██████████| 274/274 [00:44<00:00,  6.11batch/s]\n",
      "  0%|          | 0/274 [00:00<?, ?batch/s]"
     ]
    },
    {
     "name": "stdout",
     "output_type": "stream",
     "text": [
      "Tree size after pruning: 37, leaf nodes: 19\n",
      "Tree size after pruning: 35, leaf nodes: 18\n",
      "#assignments:  4281\n",
      "#assignments:  3008\n",
      "#assignments:  606\n",
      "#assignments:  6673\n",
      "#assignments:  6054\n",
      "#assignments:  6490\n",
      "#assignments:  7258\n",
      "#assignments:  6297\n",
      "#assignments:  2153\n",
      "#assignments:  474\n",
      "#assignments:  571\n",
      "#assignments:  176\n",
      "#assignments:  505\n",
      "#assignments:  4238\n",
      "#assignments:  3651\n",
      "#assignments:  7187\n",
      "#assignments:  3284\n",
      "#assignments:  7094\n"
     ]
    },
    {
     "name": "stderr",
     "output_type": "stream",
     "text": [
      "Epoch 39/45:   0%|          | 0/274 [00:21<?, ?batch/s]"
     ]
    },
    {
     "name": "stdout",
     "output_type": "stream",
     "text": [
      "#assignments best node:  176\n"
     ]
    },
    {
     "name": "stderr",
     "output_type": "stream",
     "text": [
      "Epoch 39/45: 100%|██████████| 274/274 [01:08<00:00,  3.99batch/s]\n",
      "Epoch 40/45:   0%|          | 0/274 [00:00<?, ?batch/s]"
     ]
    },
    {
     "name": "stdout",
     "output_type": "stream",
     "text": [
      "Tree size after pruning: 35, leaf nodes: 18\n"
     ]
    },
    {
     "name": "stderr",
     "output_type": "stream",
     "text": [
      "Epoch 40/45: 100%|██████████| 274/274 [00:54<00:00,  5.03batch/s]\n",
      "  0%|          | 0/274 [00:00<?, ?batch/s]"
     ]
    },
    {
     "name": "stdout",
     "output_type": "stream",
     "text": [
      "#assignments:  4048\n",
      "#assignments:  3211\n",
      "#assignments:  633\n",
      "#assignments:  6661\n",
      "#assignments:  6007\n",
      "#assignments:  6556\n",
      "#assignments:  7285\n",
      "#assignments:  6250\n",
      "#assignments:  2074\n",
      "#assignments:  481\n",
      "#assignments:  380\n",
      "#assignments:  190\n",
      "#assignments:  704\n",
      "#assignments:  4309\n",
      "#assignments:  3652\n",
      "#assignments:  7203\n",
      "#assignments:  3177\n",
      "#assignments:  7179\n"
     ]
    },
    {
     "name": "stderr",
     "output_type": "stream",
     "text": [
      "Epoch 41/45:   0%|          | 0/274 [00:17<?, ?batch/s]"
     ]
    },
    {
     "name": "stdout",
     "output_type": "stream",
     "text": [
      "#assignments best node:  190\n"
     ]
    },
    {
     "name": "stderr",
     "output_type": "stream",
     "text": [
      "Epoch 41/45: 100%|██████████| 274/274 [00:55<00:00,  4.97batch/s]\n",
      "Epoch 42/45:   0%|          | 1/274 [00:00<00:36,  7.57batch/s]"
     ]
    },
    {
     "name": "stdout",
     "output_type": "stream",
     "text": [
      "Tree size after pruning: 35, leaf nodes: 18\n"
     ]
    },
    {
     "name": "stderr",
     "output_type": "stream",
     "text": [
      "Epoch 42/45: 100%|██████████| 274/274 [00:37<00:00,  7.28batch/s]\n",
      "  0%|          | 0/274 [00:00<?, ?batch/s]"
     ]
    },
    {
     "name": "stdout",
     "output_type": "stream",
     "text": [
      "#assignments:  4254\n",
      "#assignments:  3025\n",
      "#assignments:  637\n",
      "#assignments:  6677\n",
      "#assignments:  6032\n",
      "#assignments:  6531\n",
      "#assignments:  7253\n",
      "#assignments:  6268\n",
      "#assignments:  2028\n",
      "#assignments:  438\n",
      "#assignments:  562\n",
      "#assignments:  196\n",
      "#assignments:  623\n",
      "#assignments:  4281\n",
      "#assignments:  3716\n",
      "#assignments:  7147\n",
      "#assignments:  3216\n",
      "#assignments:  7116\n"
     ]
    },
    {
     "name": "stderr",
     "output_type": "stream",
     "text": [
      "Epoch 43/45:   0%|          | 0/274 [00:18<?, ?batch/s]"
     ]
    },
    {
     "name": "stdout",
     "output_type": "stream",
     "text": [
      "#assignments best node:  7147\n"
     ]
    },
    {
     "name": "stderr",
     "output_type": "stream",
     "text": [
      "Epoch 43/45: 100%|██████████| 274/274 [01:16<00:00,  3.58batch/s]\n",
      "Epoch 44/45: 100%|██████████| 274/274 [00:38<00:00,  7.14batch/s]\n",
      "  0%|          | 0/274 [00:00<?, ?batch/s]"
     ]
    },
    {
     "name": "stdout",
     "output_type": "stream",
     "text": [
      "#assignments:  4057\n",
      "#assignments:  3190\n",
      "#assignments:  666\n",
      "#assignments:  6690\n",
      "#assignments:  6000\n",
      "#assignments:  6506\n",
      "#assignments:  7250\n",
      "#assignments:  6255\n",
      "#assignments:  2014\n",
      "#assignments:  471\n",
      "#assignments:  627\n",
      "#assignments:  166\n",
      "#assignments:  591\n",
      "#assignments:  4255\n",
      "#assignments:  3637\n",
      "#assignments:  3363\n",
      "#assignments:  3806\n",
      "#assignments:  3281\n",
      "#assignments:  7175\n"
     ]
    },
    {
     "name": "stderr",
     "output_type": "stream",
     "text": [
      "Epoch 45/45:   0%|          | 0/274 [00:19<?, ?batch/s]"
     ]
    },
    {
     "name": "stdout",
     "output_type": "stream",
     "text": [
      "#assignments best node:  166\n"
     ]
    },
    {
     "name": "stderr",
     "output_type": "stream",
     "text": [
      "Epoch 45/45: 100%|██████████| 274/274 [00:59<00:00,  4.57batch/s]\n",
      "Predict: 100%|██████████| 274/274 [00:04<00:00, 63.96it/s]\n"
     ]
    }
   ],
   "source": [
    "dataset, labels = load_mnist(return_X_y=True)\n",
    "autoencoder = FeedforwardAutoencoder([dataset.shape[1], 500, 500, 2000, 10])\n",
    "autoencoder.load_state_dict(torch.load(\"practical/DeepClustering/DipECT/pretrained_AE_MNIST_seed8_unscaled.pth\"))\n",
    "autoencoder.fitted = True\n",
    "dipect_test_s2 = DipECT(use_pvalue=False, grow_interval=2, max_epochs=45, unimodal_treshhold=1.0, random_state=np.random.RandomState(8))\n",
    "dipect_test_s2 = dipect_test_s2.fit_predict(dataset)"
   ]
  },
  {
   "cell_type": "code",
   "execution_count": 21,
   "metadata": {},
   "outputs": [
    {
     "name": "stderr",
     "output_type": "stream",
     "text": [
      "[autoreload of practical.DeepClustering.DipECT.dipect failed: Traceback (most recent call last):\n",
      "  File \"/home/schilcherj/master/deepClustering/deepClustEnv/lib/python3.10/site-packages/IPython/extensions/autoreload.py\", line 276, in check\n",
      "    superreload(m, reload, self.old_objects)\n",
      "  File \"/home/schilcherj/master/deepClustering/deepClustEnv/lib/python3.10/site-packages/IPython/extensions/autoreload.py\", line 500, in superreload\n",
      "    update_generic(old_obj, new_obj)\n",
      "  File \"/home/schilcherj/master/deepClustering/deepClustEnv/lib/python3.10/site-packages/IPython/extensions/autoreload.py\", line 397, in update_generic\n",
      "    update(a, b)\n",
      "  File \"/home/schilcherj/master/deepClustering/deepClustEnv/lib/python3.10/site-packages/IPython/extensions/autoreload.py\", line 365, in update_class\n",
      "    update_instances(old, new)\n",
      "  File \"/home/schilcherj/master/deepClustering/deepClustEnv/lib/python3.10/site-packages/IPython/extensions/autoreload.py\", line 319, in update_instances\n",
      "    refs = gc.get_referrers(old)\n",
      "KeyboardInterrupt\n",
      "]\n"
     ]
    },
    {
     "ename": "NameError",
     "evalue": "name 'dipect_test_s2' is not defined",
     "output_type": "error",
     "traceback": [
      "\u001b[0;31m---------------------------------------------------------------------------\u001b[0m",
      "\u001b[0;31mNameError\u001b[0m                                 Traceback (most recent call last)",
      "Cell \u001b[0;32mIn[21], line 1\u001b[0m\n\u001b[0;32m----> 1\u001b[0m \u001b[38;5;28mprint\u001b[39m(\u001b[43mdipect_test_s2\u001b[49m\u001b[38;5;241m.\u001b[39mtree_\u001b[38;5;241m.\u001b[39mflat_accuracy(labels, \u001b[38;5;241m10\u001b[39m))\n\u001b[1;32m      2\u001b[0m \u001b[38;5;28mprint\u001b[39m(dipect_test_s2\u001b[38;5;241m.\u001b[39mtree_\u001b[38;5;241m.\u001b[39mflat_nmi(labels, \u001b[38;5;241m10\u001b[39m))\n",
      "\u001b[0;31mNameError\u001b[0m: name 'dipect_test_s2' is not defined"
     ]
    }
   ],
   "source": [
    "print(dipect_test_s2.tree_.flat_accuracy(labels, 10))\n",
    "print(dipect_test_s2.tree_.flat_nmi(labels, 10))"
   ]
  },
  {
   "cell_type": "code",
   "execution_count": 30,
   "metadata": {},
   "outputs": [
    {
     "name": "stdout",
     "output_type": "stream",
     "text": [
      "cpu\n"
     ]
    },
    {
     "name": "stderr",
     "output_type": "stream",
     "text": [
      "Epoch 1/45:  10%|▉         | 27/274 [00:10<00:23, 10.63batch/s]"
     ]
    },
    {
     "name": "stdout",
     "output_type": "stream",
     "text": [
      "split node with #assignments:  37634\n"
     ]
    },
    {
     "name": "stderr",
     "output_type": "stream",
     "text": [
      "Epoch 1/45:  19%|█▉        | 53/274 [00:20<00:20, 10.85batch/s]"
     ]
    },
    {
     "name": "stdout",
     "output_type": "stream",
     "text": [
      "split node with #assignments:  18876\n"
     ]
    },
    {
     "name": "stderr",
     "output_type": "stream",
     "text": [
      "Epoch 1/45:  29%|██▉       | 79/274 [00:22<00:55,  3.49batch/s]\n"
     ]
    },
    {
     "ename": "KeyboardInterrupt",
     "evalue": "",
     "output_type": "error",
     "traceback": [
      "\u001b[0;31m---------------------------------------------------------------------------\u001b[0m",
      "\u001b[0;31mKeyboardInterrupt\u001b[0m                         Traceback (most recent call last)",
      "Cell \u001b[0;32mIn[30], line 6\u001b[0m\n\u001b[1;32m      4\u001b[0m autoencoder\u001b[38;5;241m.\u001b[39mfitted \u001b[38;5;241m=\u001b[39m \u001b[38;5;28;01mTrue\u001b[39;00m\n\u001b[1;32m      5\u001b[0m dipect_test_s3 \u001b[38;5;241m=\u001b[39m DipECT(autoencoder\u001b[38;5;241m=\u001b[39mautoencoder, use_pvalue\u001b[38;5;241m=\u001b[39m\u001b[38;5;28;01mTrue\u001b[39;00m, grow_interval\u001b[38;5;241m=\u001b[39m\u001b[38;5;241m0.1\u001b[39m, max_epochs\u001b[38;5;241m=\u001b[39m\u001b[38;5;241m45\u001b[39m)\n\u001b[0;32m----> 6\u001b[0m dipect_test_s3 \u001b[38;5;241m=\u001b[39m \u001b[43mdipect_test_s3\u001b[49m\u001b[38;5;241;43m.\u001b[39;49m\u001b[43mfit_predict\u001b[49m\u001b[43m(\u001b[49m\u001b[43mdataset\u001b[49m\u001b[43m)\u001b[49m\n",
      "File \u001b[0;32m~/master/deepClustering/LMU_Master_Practical_SoSe24/practical/DeepClustering/DipECT/dipect.py:1272\u001b[0m, in \u001b[0;36mDipECT.fit_predict\u001b[0;34m(self, X)\u001b[0m\n\u001b[1;32m   1255\u001b[0m \u001b[38;5;250m\u001b[39m\u001b[38;5;124;03m\"\"\"\u001b[39;00m\n\u001b[1;32m   1256\u001b[0m \u001b[38;5;124;03mInitiate the actual clustering process on the input data set.\u001b[39;00m\n\u001b[1;32m   1257\u001b[0m \u001b[38;5;124;03mThe resulting cluster labels will be stored in the labels_ attribute.\u001b[39;00m\n\u001b[0;32m   (...)\u001b[0m\n\u001b[1;32m   1267\u001b[0m \u001b[38;5;124;03m    This instance of the DeepECT algorithm\u001b[39;00m\n\u001b[1;32m   1268\u001b[0m \u001b[38;5;124;03m\"\"\"\u001b[39;00m\n\u001b[1;32m   1269\u001b[0m augmentation_invariance_check(\n\u001b[1;32m   1270\u001b[0m     \u001b[38;5;28mself\u001b[39m\u001b[38;5;241m.\u001b[39maugmentation_invariance, \u001b[38;5;28mself\u001b[39m\u001b[38;5;241m.\u001b[39mcustom_dataloaders\n\u001b[1;32m   1271\u001b[0m )\n\u001b[0;32m-> 1272\u001b[0m tree, autoencoder \u001b[38;5;241m=\u001b[39m \u001b[43m_dipect\u001b[49m\u001b[43m(\u001b[49m\n\u001b[1;32m   1273\u001b[0m \u001b[43m    \u001b[49m\u001b[43mX\u001b[49m\u001b[43m,\u001b[49m\n\u001b[1;32m   1274\u001b[0m \u001b[43m    \u001b[49m\u001b[38;5;28;43mself\u001b[39;49m\u001b[38;5;241;43m.\u001b[39;49m\u001b[43mbatch_size\u001b[49m\u001b[43m,\u001b[49m\n\u001b[1;32m   1275\u001b[0m \u001b[43m    \u001b[49m\u001b[38;5;28;43mself\u001b[39;49m\u001b[38;5;241;43m.\u001b[39;49m\u001b[43mpretrain_optimizer_params\u001b[49m\u001b[43m,\u001b[49m\n\u001b[1;32m   1276\u001b[0m \u001b[43m    \u001b[49m\u001b[38;5;28;43mself\u001b[39;49m\u001b[38;5;241;43m.\u001b[39;49m\u001b[43mclustering_optimizer_params\u001b[49m\u001b[43m,\u001b[49m\n\u001b[1;32m   1277\u001b[0m \u001b[43m    \u001b[49m\u001b[38;5;28;43mself\u001b[39;49m\u001b[38;5;241;43m.\u001b[39;49m\u001b[43mprojection_axis_optimizer_params\u001b[49m\u001b[43m,\u001b[49m\n\u001b[1;32m   1278\u001b[0m \u001b[43m    \u001b[49m\u001b[38;5;28;43mself\u001b[39;49m\u001b[38;5;241;43m.\u001b[39;49m\u001b[43mpretrain_epochs\u001b[49m\u001b[43m,\u001b[49m\n\u001b[1;32m   1279\u001b[0m \u001b[43m    \u001b[49m\u001b[38;5;28;43mself\u001b[39;49m\u001b[38;5;241;43m.\u001b[39;49m\u001b[43mmax_epochs\u001b[49m\u001b[43m,\u001b[49m\n\u001b[1;32m   1280\u001b[0m \u001b[43m    \u001b[49m\u001b[38;5;28;43mself\u001b[39;49m\u001b[38;5;241;43m.\u001b[39;49m\u001b[43mpruning_threshold\u001b[49m\u001b[43m,\u001b[49m\n\u001b[1;32m   1281\u001b[0m \u001b[43m    \u001b[49m\u001b[38;5;28;43mself\u001b[39;49m\u001b[38;5;241;43m.\u001b[39;49m\u001b[43mgrow_interval\u001b[49m\u001b[43m,\u001b[49m\n\u001b[1;32m   1282\u001b[0m \u001b[43m    \u001b[49m\u001b[38;5;28;43mself\u001b[39;49m\u001b[38;5;241;43m.\u001b[39;49m\u001b[43muse_pvalue\u001b[49m\u001b[43m,\u001b[49m\n\u001b[1;32m   1283\u001b[0m \u001b[43m    \u001b[49m\u001b[38;5;28;43mself\u001b[39;49m\u001b[38;5;241;43m.\u001b[39;49m\u001b[43moptimizer_class\u001b[49m\u001b[43m,\u001b[49m\n\u001b[1;32m   1284\u001b[0m \u001b[43m    \u001b[49m\u001b[38;5;28;43mself\u001b[39;49m\u001b[38;5;241;43m.\u001b[39;49m\u001b[43mrec_loss_fn\u001b[49m\u001b[43m,\u001b[49m\n\u001b[1;32m   1285\u001b[0m \u001b[43m    \u001b[49m\u001b[38;5;28;43mself\u001b[39;49m\u001b[38;5;241;43m.\u001b[39;49m\u001b[43mautoencoder\u001b[49m\u001b[43m,\u001b[49m\n\u001b[1;32m   1286\u001b[0m \u001b[43m    \u001b[49m\u001b[38;5;28;43mself\u001b[39;49m\u001b[38;5;241;43m.\u001b[39;49m\u001b[43membedding_size\u001b[49m\u001b[43m,\u001b[49m\n\u001b[1;32m   1287\u001b[0m \u001b[43m    \u001b[49m\u001b[38;5;28;43mself\u001b[39;49m\u001b[38;5;241;43m.\u001b[39;49m\u001b[43mmax_leaf_nodes\u001b[49m\u001b[43m,\u001b[49m\n\u001b[1;32m   1288\u001b[0m \u001b[43m    \u001b[49m\u001b[38;5;28;43mself\u001b[39;49m\u001b[38;5;241;43m.\u001b[39;49m\u001b[43mreconstruction_loss_weight\u001b[49m\u001b[43m,\u001b[49m\n\u001b[1;32m   1289\u001b[0m \u001b[43m    \u001b[49m\u001b[38;5;28;43mself\u001b[39;49m\u001b[38;5;241;43m.\u001b[39;49m\u001b[43munimodality_treshhold\u001b[49m\u001b[43m,\u001b[49m\n\u001b[1;32m   1290\u001b[0m \u001b[43m    \u001b[49m\u001b[38;5;28;43mself\u001b[39;49m\u001b[38;5;241;43m.\u001b[39;49m\u001b[43mnumber_of_grow_steps\u001b[49m\u001b[43m,\u001b[49m\n\u001b[1;32m   1291\u001b[0m \u001b[43m    \u001b[49m\u001b[38;5;28;43mself\u001b[39;49m\u001b[38;5;241;43m.\u001b[39;49m\u001b[43mearly_stopping\u001b[49m\u001b[43m,\u001b[49m\n\u001b[1;32m   1292\u001b[0m \u001b[43m    \u001b[49m\u001b[38;5;28;43mself\u001b[39;49m\u001b[38;5;241;43m.\u001b[39;49m\u001b[43mrefinement_epochs\u001b[49m\u001b[43m,\u001b[49m\n\u001b[1;32m   1293\u001b[0m \u001b[43m    \u001b[49m\u001b[38;5;28;43mself\u001b[39;49m\u001b[38;5;241;43m.\u001b[39;49m\u001b[43mcustom_dataloaders\u001b[49m\u001b[43m,\u001b[49m\n\u001b[1;32m   1294\u001b[0m \u001b[43m    \u001b[49m\u001b[38;5;28;43mself\u001b[39;49m\u001b[38;5;241;43m.\u001b[39;49m\u001b[43maugmentation_invariance\u001b[49m\u001b[43m,\u001b[49m\n\u001b[1;32m   1295\u001b[0m \u001b[43m    \u001b[49m\u001b[38;5;28;43mself\u001b[39;49m\u001b[38;5;241;43m.\u001b[39;49m\u001b[43mrandom_state\u001b[49m\u001b[43m,\u001b[49m\n\u001b[1;32m   1296\u001b[0m \u001b[43m    \u001b[49m\u001b[38;5;28;43mself\u001b[39;49m\u001b[38;5;241;43m.\u001b[39;49m\u001b[43mlogging_active\u001b[49m\u001b[43m,\u001b[49m\n\u001b[1;32m   1297\u001b[0m \u001b[43m    \u001b[49m\u001b[38;5;28;43mself\u001b[39;49m\u001b[38;5;241;43m.\u001b[39;49m\u001b[43mautoencoder_param_path\u001b[49m\u001b[43m,\u001b[49m\n\u001b[1;32m   1298\u001b[0m \u001b[43m    \u001b[49m\u001b[38;5;28;43mself\u001b[39;49m\u001b[38;5;241;43m.\u001b[39;49m\u001b[43munimodal_loss_application\u001b[49m\u001b[43m,\u001b[49m\u001b[43m \u001b[49m\n\u001b[1;32m   1299\u001b[0m \u001b[43m    \u001b[49m\u001b[38;5;28;43mself\u001b[39;49m\u001b[38;5;241;43m.\u001b[39;49m\u001b[43munimoal_loss_node_criteria_method\u001b[49m\u001b[43m,\u001b[49m\u001b[43m \u001b[49m\n\u001b[1;32m   1300\u001b[0m \u001b[43m    \u001b[49m\u001b[38;5;28;43mself\u001b[39;49m\u001b[38;5;241;43m.\u001b[39;49m\u001b[43munimodal_loss_weight_function\u001b[49m\u001b[43m,\u001b[49m\u001b[43m \u001b[49m\n\u001b[1;32m   1301\u001b[0m \u001b[43m    \u001b[49m\u001b[38;5;28;43mself\u001b[39;49m\u001b[38;5;241;43m.\u001b[39;49m\u001b[43munimodal_loss_weight_direction\u001b[49m\u001b[43m,\u001b[49m\u001b[43m \u001b[49m\n\u001b[1;32m   1302\u001b[0m \u001b[43m    \u001b[49m\u001b[38;5;28;43mself\u001b[39;49m\u001b[38;5;241;43m.\u001b[39;49m\u001b[43munimodal_loss_weight\u001b[49m\u001b[43m,\u001b[49m\u001b[43m \u001b[49m\n\u001b[1;32m   1303\u001b[0m \u001b[43m    \u001b[49m\u001b[38;5;28;43mself\u001b[39;49m\u001b[38;5;241;43m.\u001b[39;49m\u001b[43mloss_weight_function_normalization\u001b[49m\u001b[43m,\u001b[49m\n\u001b[1;32m   1304\u001b[0m \u001b[43m    \u001b[49m\u001b[38;5;28;43mself\u001b[39;49m\u001b[38;5;241;43m.\u001b[39;49m\u001b[43mmulitmodal_loss_application\u001b[49m\u001b[43m,\u001b[49m\u001b[43m \u001b[49m\n\u001b[1;32m   1305\u001b[0m \u001b[43m    \u001b[49m\u001b[38;5;28;43mself\u001b[39;49m\u001b[38;5;241;43m.\u001b[39;49m\u001b[43mmulitmodal_loss_node_criteria_method\u001b[49m\u001b[43m,\u001b[49m\u001b[43m \u001b[49m\n\u001b[1;32m   1306\u001b[0m \u001b[43m    \u001b[49m\u001b[38;5;28;43mself\u001b[39;49m\u001b[38;5;241;43m.\u001b[39;49m\u001b[43mmulitmodal_loss_weight_function\u001b[49m\u001b[43m,\u001b[49m\u001b[43m \u001b[49m\n\u001b[1;32m   1307\u001b[0m \u001b[43m    \u001b[49m\u001b[38;5;28;43mself\u001b[39;49m\u001b[38;5;241;43m.\u001b[39;49m\u001b[43mmulitmodal_loss_weight_direction\u001b[49m\u001b[43m,\u001b[49m\u001b[43m \u001b[49m\n\u001b[1;32m   1308\u001b[0m \u001b[43m    \u001b[49m\u001b[38;5;28;43mself\u001b[39;49m\u001b[38;5;241;43m.\u001b[39;49m\u001b[43mmultimodal_loss_weight\u001b[49m\u001b[43m,\u001b[49m\u001b[43m \u001b[49m\n\u001b[1;32m   1309\u001b[0m \u001b[43m    \u001b[49m\u001b[38;5;28;43mself\u001b[39;49m\u001b[38;5;241;43m.\u001b[39;49m\u001b[43mprojection_axis_learning\u001b[49m\n\u001b[1;32m   1310\u001b[0m \u001b[43m\u001b[49m\u001b[43m)\u001b[49m\n\u001b[1;32m   1311\u001b[0m \u001b[38;5;28mself\u001b[39m\u001b[38;5;241m.\u001b[39mtree_ \u001b[38;5;241m=\u001b[39m tree\n\u001b[1;32m   1312\u001b[0m \u001b[38;5;28mself\u001b[39m\u001b[38;5;241m.\u001b[39mautoencoder \u001b[38;5;241m=\u001b[39m autoencoder\n",
      "File \u001b[0;32m~/master/deepClustering/LMU_Master_Practical_SoSe24/practical/DeepClustering/DipECT/dipect.py:1075\u001b[0m, in \u001b[0;36m_dipect\u001b[0;34m(X, batch_size, pretrain_optimizer_params, clustering_optimizer_params, projection_axis_optimizer_params, pretrain_epochs, max_epochs, pruning_threshold, grow_interval, use_pvalue, optimizer_class, rec_loss_fn, autoencoder, embedding_size, max_leaf_nodes, reconstruction_loss_weight, unimodality_treshhold, number_of_grow_steps, early_stopping, refinement_epochs, custom_dataloaders, augmentation_invariance, random_state, logging_active, autoencoder_save_param_path, unimodal_loss_application, unimoal_loss_node_criteria_method, unimodal_loss_weight_function, unimodal_loss_weight_direction, unimodal_loss_weight, loss_weight_function_normalization, mulitmodal_loss_application, mulitmodal_loss_node_criteria_method, mulitmodal_loss_weight_function, mulitmodal_loss_weight_direction, multimodal_loss_weight, projection_axis_learning)\u001b[0m\n\u001b[1;32m   1064\u001b[0m dipect_module \u001b[38;5;241m=\u001b[39m _DipECT_Module(\n\u001b[1;32m   1065\u001b[0m     trainloader,\n\u001b[1;32m   1066\u001b[0m     autoencoder,\n\u001b[0;32m   (...)\u001b[0m\n\u001b[1;32m   1071\u001b[0m     augmentation_invariance,\n\u001b[1;32m   1072\u001b[0m )\u001b[38;5;241m.\u001b[39mto(device)\n\u001b[1;32m   1074\u001b[0m \u001b[38;5;66;03m# DeepECT Training loop\u001b[39;00m\n\u001b[0;32m-> 1075\u001b[0m \u001b[43mdipect_module\u001b[49m\u001b[38;5;241;43m.\u001b[39;49m\u001b[43mfit\u001b[49m\u001b[43m(\u001b[49m\n\u001b[1;32m   1076\u001b[0m \u001b[43m    \u001b[49m\u001b[43mautoencoder\u001b[49m\u001b[38;5;241;43m.\u001b[39;49m\u001b[43mto\u001b[49m\u001b[43m(\u001b[49m\u001b[43mdevice\u001b[49m\u001b[43m)\u001b[49m\u001b[43m,\u001b[49m\n\u001b[1;32m   1077\u001b[0m \u001b[43m    \u001b[49m\u001b[43mtrainloader\u001b[49m\u001b[43m,\u001b[49m\n\u001b[1;32m   1078\u001b[0m \u001b[43m    \u001b[49m\u001b[43mtestloader\u001b[49m\u001b[43m,\u001b[49m\n\u001b[1;32m   1079\u001b[0m \u001b[43m    \u001b[49m\u001b[43mmax_epochs\u001b[49m\u001b[43m,\u001b[49m\n\u001b[1;32m   1080\u001b[0m \u001b[43m    \u001b[49m\u001b[43mpruning_threshold\u001b[49m\u001b[43m,\u001b[49m\n\u001b[1;32m   1081\u001b[0m \u001b[43m    \u001b[49m\u001b[43mgrow_interval\u001b[49m\u001b[43m,\u001b[49m\n\u001b[1;32m   1082\u001b[0m \u001b[43m    \u001b[49m\u001b[43muse_pvalue\u001b[49m\u001b[43m,\u001b[49m\n\u001b[1;32m   1083\u001b[0m \u001b[43m    \u001b[49m\u001b[43mmax_leaf_nodes\u001b[49m\u001b[43m,\u001b[49m\n\u001b[1;32m   1084\u001b[0m \u001b[43m    \u001b[49m\u001b[43mreconstruction_loss_weight\u001b[49m\u001b[43m,\u001b[49m\n\u001b[1;32m   1085\u001b[0m \u001b[43m    \u001b[49m\u001b[43munimodality_treshhold\u001b[49m\u001b[43m,\u001b[49m\n\u001b[1;32m   1086\u001b[0m \u001b[43m    \u001b[49m\u001b[43mnumber_of_grow_steps\u001b[49m\u001b[43m,\u001b[49m\n\u001b[1;32m   1087\u001b[0m \u001b[43m    \u001b[49m\u001b[43mearly_stopping\u001b[49m\u001b[43m,\u001b[49m\n\u001b[1;32m   1088\u001b[0m \u001b[43m    \u001b[49m\u001b[43mrefinement_epochs\u001b[49m\u001b[43m,\u001b[49m\n\u001b[1;32m   1089\u001b[0m \u001b[43m    \u001b[49m\u001b[43moptimizer\u001b[49m\u001b[43m,\u001b[49m\n\u001b[1;32m   1090\u001b[0m \u001b[43m    \u001b[49m\u001b[43mprojection_axis_optimizer\u001b[49m\u001b[43m,\u001b[49m\n\u001b[1;32m   1091\u001b[0m \u001b[43m    \u001b[49m\u001b[43mrec_loss_fn\u001b[49m\u001b[43m,\u001b[49m\n\u001b[1;32m   1092\u001b[0m \u001b[43m    \u001b[49m\u001b[43mdevice\u001b[49m\u001b[43m,\u001b[49m\n\u001b[1;32m   1093\u001b[0m \u001b[43m    \u001b[49m\u001b[43mlogging_active\u001b[49m\u001b[43m,\u001b[49m\n\u001b[1;32m   1094\u001b[0m \u001b[43m    \u001b[49m\u001b[43munimodal_loss_application\u001b[49m\u001b[43m,\u001b[49m\u001b[43m \u001b[49m\n\u001b[1;32m   1095\u001b[0m \u001b[43m    \u001b[49m\u001b[43munimoal_loss_node_criteria_method\u001b[49m\u001b[43m,\u001b[49m\u001b[43m \u001b[49m\n\u001b[1;32m   1096\u001b[0m \u001b[43m    \u001b[49m\u001b[43munimodal_loss_weight_function\u001b[49m\u001b[43m,\u001b[49m\u001b[43m \u001b[49m\n\u001b[1;32m   1097\u001b[0m \u001b[43m    \u001b[49m\u001b[43munimodal_loss_weight_direction\u001b[49m\u001b[43m,\u001b[49m\u001b[43m \u001b[49m\n\u001b[1;32m   1098\u001b[0m \u001b[43m    \u001b[49m\u001b[43munimodal_loss_weight\u001b[49m\u001b[43m,\u001b[49m\u001b[43m \u001b[49m\n\u001b[1;32m   1099\u001b[0m \u001b[43m    \u001b[49m\u001b[43mloss_weight_function_normalization\u001b[49m\u001b[43m,\u001b[49m\n\u001b[1;32m   1100\u001b[0m \u001b[43m    \u001b[49m\u001b[43mmulitmodal_loss_application\u001b[49m\u001b[43m,\u001b[49m\u001b[43m \u001b[49m\n\u001b[1;32m   1101\u001b[0m \u001b[43m    \u001b[49m\u001b[43mmulitmodal_loss_node_criteria_method\u001b[49m\u001b[43m,\u001b[49m\u001b[43m \u001b[49m\n\u001b[1;32m   1102\u001b[0m \u001b[43m    \u001b[49m\u001b[43mmulitmodal_loss_weight_function\u001b[49m\u001b[43m,\u001b[49m\u001b[43m \u001b[49m\n\u001b[1;32m   1103\u001b[0m \u001b[43m    \u001b[49m\u001b[43mmulitmodal_loss_weight_direction\u001b[49m\u001b[43m,\u001b[49m\u001b[43m \u001b[49m\n\u001b[1;32m   1104\u001b[0m \u001b[43m    \u001b[49m\u001b[43mmultimodal_loss_weight\u001b[49m\u001b[43m,\u001b[49m\n\u001b[1;32m   1105\u001b[0m \u001b[43m    \u001b[49m\u001b[43mprojection_axis_learning\u001b[49m\n\u001b[1;32m   1106\u001b[0m \u001b[43m\u001b[49m\u001b[43m)\u001b[49m\n\u001b[1;32m   1107\u001b[0m \u001b[38;5;66;03m# Get labels\u001b[39;00m\n\u001b[1;32m   1108\u001b[0m deepect_tree: PredictionClusterTree \u001b[38;5;241m=\u001b[39m dipect_module\u001b[38;5;241m.\u001b[39mpredict(\n\u001b[1;32m   1109\u001b[0m     testloader, autoencoder\n\u001b[1;32m   1110\u001b[0m )\n",
      "File \u001b[0;32m~/master/deepClustering/LMU_Master_Practical_SoSe24/practical/DeepClustering/DipECT/dipect.py:890\u001b[0m, in \u001b[0;36m_DipECT_Module.fit\u001b[0;34m(self, autoencoder, trainloader, testloader, max_epochs, pruning_threshold, grow_interval, use_pvalue, max_leaf_nodes, reconstruction_loss_weight, unimodality_treshhold, number_of_grow_steps, early_stopping, refinement_epochs, optimizer, projection_axis_optimizer, rec_loss_fn, device, logging_active, unimodal_loss_application, unimoal_loss_node_criteria_method, unimodal_loss_weight_function, unimodal_loss_weight_direction, unimodal_loss_weight, loss_weight_function_normalization, mulitmodal_loss_application, mulitmodal_loss_node_criteria_method, mulitmodal_loss_weight_function, mulitmodal_loss_weight_direction, multimodal_loss_weight, projection_axis_learning)\u001b[0m\n\u001b[1;32m    887\u001b[0m mov_rec_loss \u001b[38;5;241m+\u001b[39m\u001b[38;5;241m=\u001b[39m rec_loss\u001b[38;5;241m.\u001b[39mitem()\n\u001b[1;32m    888\u001b[0m mov_loss \u001b[38;5;241m+\u001b[39m\u001b[38;5;241m=\u001b[39m loss\u001b[38;5;241m.\u001b[39mitem()\n\u001b[0;32m--> 890\u001b[0m \u001b[43mloss\u001b[49m\u001b[38;5;241;43m.\u001b[39;49m\u001b[43mbackward\u001b[49m\u001b[43m(\u001b[49m\u001b[43m)\u001b[49m\n\u001b[1;32m    891\u001b[0m optimizer\u001b[38;5;241m.\u001b[39mstep()\n\u001b[1;32m    892\u001b[0m iteration \u001b[38;5;241m+\u001b[39m\u001b[38;5;241m=\u001b[39m \u001b[38;5;241m1\u001b[39m\n",
      "File \u001b[0;32m~/master/deepClustering/deepClustEnv/lib/python3.10/site-packages/torch/_tensor.py:522\u001b[0m, in \u001b[0;36mTensor.backward\u001b[0;34m(self, gradient, retain_graph, create_graph, inputs)\u001b[0m\n\u001b[1;32m    512\u001b[0m \u001b[38;5;28;01mif\u001b[39;00m has_torch_function_unary(\u001b[38;5;28mself\u001b[39m):\n\u001b[1;32m    513\u001b[0m     \u001b[38;5;28;01mreturn\u001b[39;00m handle_torch_function(\n\u001b[1;32m    514\u001b[0m         Tensor\u001b[38;5;241m.\u001b[39mbackward,\n\u001b[1;32m    515\u001b[0m         (\u001b[38;5;28mself\u001b[39m,),\n\u001b[0;32m   (...)\u001b[0m\n\u001b[1;32m    520\u001b[0m         inputs\u001b[38;5;241m=\u001b[39minputs,\n\u001b[1;32m    521\u001b[0m     )\n\u001b[0;32m--> 522\u001b[0m \u001b[43mtorch\u001b[49m\u001b[38;5;241;43m.\u001b[39;49m\u001b[43mautograd\u001b[49m\u001b[38;5;241;43m.\u001b[39;49m\u001b[43mbackward\u001b[49m\u001b[43m(\u001b[49m\n\u001b[1;32m    523\u001b[0m \u001b[43m    \u001b[49m\u001b[38;5;28;43mself\u001b[39;49m\u001b[43m,\u001b[49m\u001b[43m \u001b[49m\u001b[43mgradient\u001b[49m\u001b[43m,\u001b[49m\u001b[43m \u001b[49m\u001b[43mretain_graph\u001b[49m\u001b[43m,\u001b[49m\u001b[43m \u001b[49m\u001b[43mcreate_graph\u001b[49m\u001b[43m,\u001b[49m\u001b[43m \u001b[49m\u001b[43minputs\u001b[49m\u001b[38;5;241;43m=\u001b[39;49m\u001b[43minputs\u001b[49m\n\u001b[1;32m    524\u001b[0m \u001b[43m\u001b[49m\u001b[43m)\u001b[49m\n",
      "File \u001b[0;32m~/master/deepClustering/deepClustEnv/lib/python3.10/site-packages/torch/autograd/__init__.py:266\u001b[0m, in \u001b[0;36mbackward\u001b[0;34m(tensors, grad_tensors, retain_graph, create_graph, grad_variables, inputs)\u001b[0m\n\u001b[1;32m    261\u001b[0m     retain_graph \u001b[38;5;241m=\u001b[39m create_graph\n\u001b[1;32m    263\u001b[0m \u001b[38;5;66;03m# The reason we repeat the same comment below is that\u001b[39;00m\n\u001b[1;32m    264\u001b[0m \u001b[38;5;66;03m# some Python versions print out the first line of a multi-line function\u001b[39;00m\n\u001b[1;32m    265\u001b[0m \u001b[38;5;66;03m# calls in the traceback and some print out the last line\u001b[39;00m\n\u001b[0;32m--> 266\u001b[0m \u001b[43mVariable\u001b[49m\u001b[38;5;241;43m.\u001b[39;49m\u001b[43m_execution_engine\u001b[49m\u001b[38;5;241;43m.\u001b[39;49m\u001b[43mrun_backward\u001b[49m\u001b[43m(\u001b[49m\u001b[43m  \u001b[49m\u001b[38;5;66;43;03m# Calls into the C++ engine to run the backward pass\u001b[39;49;00m\n\u001b[1;32m    267\u001b[0m \u001b[43m    \u001b[49m\u001b[43mtensors\u001b[49m\u001b[43m,\u001b[49m\n\u001b[1;32m    268\u001b[0m \u001b[43m    \u001b[49m\u001b[43mgrad_tensors_\u001b[49m\u001b[43m,\u001b[49m\n\u001b[1;32m    269\u001b[0m \u001b[43m    \u001b[49m\u001b[43mretain_graph\u001b[49m\u001b[43m,\u001b[49m\n\u001b[1;32m    270\u001b[0m \u001b[43m    \u001b[49m\u001b[43mcreate_graph\u001b[49m\u001b[43m,\u001b[49m\n\u001b[1;32m    271\u001b[0m \u001b[43m    \u001b[49m\u001b[43minputs\u001b[49m\u001b[43m,\u001b[49m\n\u001b[1;32m    272\u001b[0m \u001b[43m    \u001b[49m\u001b[43mallow_unreachable\u001b[49m\u001b[38;5;241;43m=\u001b[39;49m\u001b[38;5;28;43;01mTrue\u001b[39;49;00m\u001b[43m,\u001b[49m\n\u001b[1;32m    273\u001b[0m \u001b[43m    \u001b[49m\u001b[43maccumulate_grad\u001b[49m\u001b[38;5;241;43m=\u001b[39;49m\u001b[38;5;28;43;01mTrue\u001b[39;49;00m\u001b[43m,\u001b[49m\n\u001b[1;32m    274\u001b[0m \u001b[43m\u001b[49m\u001b[43m)\u001b[49m\n",
      "\u001b[0;31mKeyboardInterrupt\u001b[0m: "
     ]
    }
   ],
   "source": [
    "dataset, labels = load_mnist(return_X_y=True)\n",
    "autoencoder = FeedforwardAutoencoder([dataset.shape[1], 500, 500, 2000, 10])\n",
    "autoencoder.load_state_dict(torch.load(\"practical/DeepClustering/DipECT/pretrained_AE.pth\"))\n",
    "autoencoder.fitted = True\n",
    "dipect_test_s3 = DipECT(autoencoder=autoencoder, use_pvalue=False, grow_interval=2, max_epochs=45)\n",
    "dipect_test_s3 = dipect_test_s3.fit_predict(dataset)\n"
   ]
  },
  {
   "cell_type": "code",
   "execution_count": 14,
   "metadata": {},
   "outputs": [
    {
     "name": "stdout",
     "output_type": "stream",
     "text": [
      "0.9065857142857143\n",
      "0.8414045157497457\n"
     ]
    }
   ],
   "source": [
    "print(dipect_test_s3.tree_.flat_accuracy(labels, 10))\n",
    "print(dipect_test_s3.tree_.flat_nmi(labels, 10))"
   ]
  }
 ],
 "metadata": {
  "kernelspec": {
   "display_name": "deepClustEnv",
   "language": "python",
   "name": "python3"
  },
  "language_info": {
   "codemirror_mode": {
    "name": "ipython",
    "version": 3
   },
   "file_extension": ".py",
   "mimetype": "text/x-python",
   "name": "python",
   "nbconvert_exporter": "python",
   "pygments_lexer": "ipython3",
   "version": "3.10.12"
  }
 },
 "nbformat": 4,
 "nbformat_minor": 2
}
