{
 "cells": [
  {
   "cell_type": "code",
   "execution_count": 2,
   "metadata": {},
   "outputs": [
    {
     "name": "stdout",
     "output_type": "stream",
     "text": [
      "/home/schilcherj/master/deepClustering/LMU_Master_Practical_SoSe24\n"
     ]
    },
    {
     "name": "stderr",
     "output_type": "stream",
     "text": [
      "/home/schilcherj/master/deepClustering/deepClustEnv/lib/python3.10/site-packages/IPython/core/magics/osm.py:417: UserWarning: This is now an optional IPython functionality, setting dhist requires you to install the `pickleshare` library.\n",
      "  self.shell.db['dhist'] = compress_dhist(dhist)[-100:]\n"
     ]
    }
   ],
   "source": [
    "%cd ../../../"
   ]
  },
  {
   "cell_type": "code",
   "execution_count": 3,
   "metadata": {},
   "outputs": [
    {
     "name": "stderr",
     "output_type": "stream",
     "text": [
      "/home/schilcherj/master/deepClustering/deepClustEnv/lib/python3.10/site-packages/tqdm/auto.py:21: TqdmWarning: IProgress not found. Please update jupyter and ipywidgets. See https://ipywidgets.readthedocs.io/en/stable/user_install.html\n",
      "  from .autonotebook import tqdm as notebook_tqdm\n"
     ]
    }
   ],
   "source": [
    "%load_ext autoreload\n",
    "%autoreload 2\n",
    "from practical.DeepClustering.DipECT.dipect import Cluster_Tree, DipECT\n",
    "from clustpy.deep._data_utils import get_dataloader\n",
    "from clustpy.data.real_torchvision_data import load_mnist\n",
    "from clustpy.deep.dipencoder import _Dip_Gradient, dip_test\n",
    "from clustpy.deep.autoencoders import FeedforwardAutoencoder\n",
    "import numpy as np\n",
    "from sklearn.cluster import KMeans\n",
    "import torch\n",
    "import matplotlib.pyplot as plt\n",
    "from sklearn.datasets import make_blobs\n",
    "from clustpy.metrics import unsupervised_clustering_accuracy\n",
    "import random\n",
    "import umap\n",
    "from sklearn.decomposition import PCA\n",
    "from practical.DeepClustering.DeepECT.evaluation_pipeline import get_custom_dataloader_augmentations, DatasetType"
   ]
  },
  {
   "cell_type": "code",
   "execution_count": 6,
   "metadata": {},
   "outputs": [],
   "source": [
    "dataset, labels = load_mnist(return_X_y=True)\n",
    "autoencoder = FeedforwardAutoencoder([dataset.shape[1], 500, 500, 2000, 10])\n",
    "autoencoder.load_state_dict(torch.load(\"./practical/DeepClustering/DipECT/MNIST_pretrained_autoencoder.pth\"))\n",
    "autoencoder.fitted = True"
   ]
  },
  {
   "cell_type": "code",
   "execution_count": 7,
   "metadata": {},
   "outputs": [],
   "source": [
    "custom_dataloaders = get_custom_dataloader_augmentations(dataset/255, DatasetType.MNIST)"
   ]
  },
  {
   "cell_type": "code",
   "execution_count": 9,
   "metadata": {},
   "outputs": [
    {
     "name": "stdout",
     "output_type": "stream",
     "text": [
      "cpu\n"
     ]
    },
    {
     "name": "stderr",
     "output_type": "stream",
     "text": [
      "Epoch 0/12: 100%|██████████| 274/274 [01:25<00:00,  3.20batch/s]\n",
      "  0%|          | 0/274 [00:00<?, ?batch/s]"
     ]
    },
    {
     "name": "stdout",
     "output_type": "stream",
     "text": [
      "#assignments:  38802\n",
      "#assignments:  31198\n",
      "#assignments best node:  38802\n"
     ]
    },
    {
     "name": "stderr",
     "output_type": "stream",
     "text": [
      "Epoch 1/12: 100%|██████████| 274/274 [01:34<00:00,  2.91batch/s]\n",
      "  0%|          | 0/274 [00:00<?, ?batch/s]"
     ]
    },
    {
     "name": "stdout",
     "output_type": "stream",
     "text": [
      "#assignments:  20509\n",
      "#assignments:  19055\n",
      "#assignments:  30436\n",
      "#assignments best node:  30436\n"
     ]
    },
    {
     "name": "stderr",
     "output_type": "stream",
     "text": [
      "Epoch 2/12: 100%|██████████| 274/274 [01:28<00:00,  3.09batch/s]\n",
      "  0%|          | 0/274 [00:00<?, ?batch/s]"
     ]
    },
    {
     "name": "stdout",
     "output_type": "stream",
     "text": [
      "#assignments:  20553\n",
      "#assignments:  19281\n",
      "#assignments:  9240\n",
      "#assignments:  20926\n",
      "#assignments best node:  20553\n"
     ]
    },
    {
     "name": "stderr",
     "output_type": "stream",
     "text": [
      "Epoch 3/12: 100%|██████████| 274/274 [01:32<00:00,  2.97batch/s]\n",
      "  0%|          | 0/274 [00:00<?, ?batch/s]"
     ]
    },
    {
     "name": "stdout",
     "output_type": "stream",
     "text": [
      "#assignments:  12566\n",
      "#assignments:  7770\n",
      "#assignments:  19038\n",
      "#assignments:  9536\n",
      "#assignments:  21090\n",
      "#assignments best node:  19038\n"
     ]
    },
    {
     "name": "stderr",
     "output_type": "stream",
     "text": [
      "Epoch 4/12: 100%|██████████| 274/274 [01:33<00:00,  2.94batch/s]\n",
      "  0%|          | 0/274 [00:00<?, ?batch/s]"
     ]
    },
    {
     "name": "stdout",
     "output_type": "stream",
     "text": [
      "#assignments:  11738\n",
      "#assignments:  8463\n",
      "#assignments:  10924\n",
      "#assignments:  8154\n",
      "#assignments:  10033\n",
      "#assignments:  20688\n",
      "#assignments best node:  10924\n"
     ]
    },
    {
     "name": "stderr",
     "output_type": "stream",
     "text": [
      "Epoch 5/12: 100%|██████████| 274/274 [01:40<00:00,  2.73batch/s]\n",
      "  0%|          | 0/274 [00:00<?, ?batch/s]"
     ]
    },
    {
     "name": "stdout",
     "output_type": "stream",
     "text": [
      "#assignments:  12261\n",
      "#assignments:  8444\n",
      "#assignments:  6940\n",
      "#assignments:  4140\n",
      "#assignments:  8089\n",
      "#assignments:  9608\n",
      "#assignments:  20518\n",
      "#assignments best node:  20518\n"
     ]
    },
    {
     "name": "stderr",
     "output_type": "stream",
     "text": [
      "Epoch 6/12: 100%|██████████| 274/274 [01:38<00:00,  2.78batch/s]\n",
      "  0%|          | 0/274 [00:00<?, ?batch/s]"
     ]
    },
    {
     "name": "stdout",
     "output_type": "stream",
     "text": [
      "#assignments:  11781\n",
      "#assignments:  8818\n",
      "#assignments:  6962\n",
      "#assignments:  4343\n",
      "#assignments:  8139\n",
      "#assignments:  9492\n",
      "#assignments:  9842\n",
      "#assignments:  10623\n",
      "#assignments best node:  11781\n"
     ]
    },
    {
     "name": "stderr",
     "output_type": "stream",
     "text": [
      "Epoch 7/12: 100%|██████████| 274/274 [01:42<00:00,  2.68batch/s]\n",
      "  0%|          | 0/274 [00:00<?, ?batch/s]"
     ]
    },
    {
     "name": "stdout",
     "output_type": "stream",
     "text": [
      "#assignments:  5851\n",
      "#assignments:  6400\n",
      "#assignments:  8683\n",
      "#assignments:  6954\n",
      "#assignments:  4426\n",
      "#assignments:  7727\n",
      "#assignments:  9522\n",
      "#assignments:  10026\n",
      "#assignments:  10411\n",
      "#assignments best node:  10411\n"
     ]
    },
    {
     "name": "stderr",
     "output_type": "stream",
     "text": [
      "Epoch 8/12: 100%|██████████| 274/274 [01:47<00:00,  2.54batch/s]\n",
      "  0%|          | 0/274 [00:00<?, ?batch/s]"
     ]
    },
    {
     "name": "stdout",
     "output_type": "stream",
     "text": [
      "#assignments:  5927\n",
      "#assignments:  6116\n",
      "#assignments:  8595\n",
      "#assignments:  7029\n",
      "#assignments:  4449\n",
      "#assignments:  7855\n",
      "#assignments:  9594\n",
      "#assignments:  10100\n",
      "#assignments:  5999\n",
      "#assignments:  4336\n",
      "#assignments best node:  9594\n"
     ]
    },
    {
     "name": "stderr",
     "output_type": "stream",
     "text": [
      "Epoch 9/12: 100%|██████████| 274/274 [01:44<00:00,  2.63batch/s]\n",
      "  0%|          | 0/274 [00:00<?, ?batch/s]"
     ]
    },
    {
     "name": "stdout",
     "output_type": "stream",
     "text": [
      "#assignments:  5724\n",
      "#assignments:  6433\n",
      "#assignments:  8732\n",
      "#assignments:  7037\n",
      "#assignments:  4456\n",
      "#assignments:  7667\n",
      "#assignments:  4790\n",
      "#assignments:  4704\n",
      "#assignments:  10195\n",
      "#assignments:  7281\n",
      "#assignments:  2981\n",
      "#assignments best node:  10195\n"
     ]
    },
    {
     "name": "stderr",
     "output_type": "stream",
     "text": [
      "Epoch 10/12: 100%|██████████| 274/274 [01:51<00:00,  2.45batch/s]\n",
      "  0%|          | 0/274 [00:00<?, ?batch/s]"
     ]
    },
    {
     "name": "stdout",
     "output_type": "stream",
     "text": [
      "#assignments:  5883\n",
      "#assignments:  6318\n",
      "#assignments:  8863\n",
      "#assignments:  6874\n",
      "#assignments:  4337\n",
      "#assignments:  7829\n",
      "#assignments:  4760\n",
      "#assignments:  4828\n",
      "#assignments:  6537\n",
      "#assignments:  3519\n",
      "#assignments:  4228\n",
      "#assignments:  6024\n",
      "#assignments best node:  7829\n"
     ]
    },
    {
     "name": "stderr",
     "output_type": "stream",
     "text": [
      "Epoch 11/12: 100%|██████████| 274/274 [01:55<00:00,  2.37batch/s]\n",
      "Predict: 100%|██████████| 274/274 [00:05<00:00, 46.92it/s]\n"
     ]
    }
   ],
   "source": [
    "dipect_test = DipECT(autoencoder=autoencoder, use_pvalue=False, grow_interval=1, max_epochs=12, unimodal_treshhold=1.0, augmentation_invariance=True, custom_dataloaders=custom_dataloaders)\n",
    "dipect_test = dipect_test.fit_predict(dataset/255)"
   ]
  },
  {
   "cell_type": "code",
   "execution_count": 10,
   "metadata": {},
   "outputs": [
    {
     "name": "stdout",
     "output_type": "stream",
     "text": [
      "0.8027714285714286\n",
      "0.734963657327708\n"
     ]
    }
   ],
   "source": [
    "print(dipect_test.tree_.flat_accuracy(labels, 10))\n",
    "print(dipect_test.tree_.flat_nmi(labels, 10))"
   ]
  },
  {
   "cell_type": "code",
   "execution_count": 13,
   "metadata": {},
   "outputs": [
    {
     "name": "stdout",
     "output_type": "stream",
     "text": [
      "cpu\n"
     ]
    },
    {
     "name": "stderr",
     "output_type": "stream",
     "text": [
      "Epoch 0/12: 100%|██████████| 274/274 [01:31<00:00,  2.98batch/s]\n",
      "  0%|          | 0/274 [00:00<?, ?batch/s]"
     ]
    },
    {
     "name": "stdout",
     "output_type": "stream",
     "text": [
      "#assignments:  39218\n",
      "#assignments:  30782\n",
      "#assignments best node:  39218\n"
     ]
    },
    {
     "name": "stderr",
     "output_type": "stream",
     "text": [
      "Epoch 1/12: 100%|██████████| 274/274 [02:02<00:00,  2.25batch/s]\n",
      "  0%|          | 0/274 [00:00<?, ?batch/s]"
     ]
    },
    {
     "name": "stdout",
     "output_type": "stream",
     "text": [
      "#assignments:  18631\n",
      "#assignments:  20784\n",
      "#assignments:  30585\n",
      "#assignments best node:  30585\n"
     ]
    },
    {
     "name": "stderr",
     "output_type": "stream",
     "text": [
      "Epoch 2/12: 100%|██████████| 274/274 [02:02<00:00,  2.23batch/s]\n",
      "  0%|          | 0/274 [00:00<?, ?batch/s]"
     ]
    },
    {
     "name": "stdout",
     "output_type": "stream",
     "text": [
      "#assignments:  18879\n",
      "#assignments:  20936\n",
      "#assignments:  21836\n",
      "#assignments:  8349\n",
      "#assignments best node:  18879\n"
     ]
    },
    {
     "name": "stderr",
     "output_type": "stream",
     "text": [
      "Epoch 3/12: 100%|██████████| 274/274 [01:13<00:00,  3.73batch/s]\n",
      "  0%|          | 0/274 [00:00<?, ?batch/s]"
     ]
    },
    {
     "name": "stdout",
     "output_type": "stream",
     "text": [
      "#assignments:  12115\n",
      "#assignments:  6975\n",
      "#assignments:  20384\n",
      "#assignments:  21748\n",
      "#assignments:  8778\n"
     ]
    },
    {
     "name": "stderr",
     "output_type": "stream",
     "text": [
      "Epoch 4/12:   0%|          | 0/274 [00:07<?, ?batch/s]"
     ]
    },
    {
     "name": "stdout",
     "output_type": "stream",
     "text": [
      "#assignments best node:  12115\n"
     ]
    },
    {
     "name": "stderr",
     "output_type": "stream",
     "text": [
      "Epoch 4/12: 100%|██████████| 274/274 [01:01<00:00,  4.42batch/s]\n",
      "  0%|          | 0/274 [00:00<?, ?batch/s]"
     ]
    },
    {
     "name": "stdout",
     "output_type": "stream",
     "text": [
      "#assignments:  5291\n",
      "#assignments:  6669\n",
      "#assignments:  7126\n",
      "#assignments:  20688\n",
      "#assignments:  21191\n",
      "#assignments:  9035\n"
     ]
    },
    {
     "name": "stderr",
     "output_type": "stream",
     "text": [
      "Epoch 5/12:   0%|          | 0/274 [00:08<?, ?batch/s]"
     ]
    },
    {
     "name": "stdout",
     "output_type": "stream",
     "text": [
      "#assignments best node:  20688\n"
     ]
    },
    {
     "name": "stderr",
     "output_type": "stream",
     "text": [
      "Epoch 5/12: 100%|██████████| 274/274 [01:04<00:00,  4.25batch/s]\n",
      "  0%|          | 0/274 [00:00<?, ?batch/s]"
     ]
    },
    {
     "name": "stdout",
     "output_type": "stream",
     "text": [
      "#assignments:  5339\n",
      "#assignments:  6545\n",
      "#assignments:  7230\n",
      "#assignments:  12343\n",
      "#assignments:  8204\n",
      "#assignments:  21147\n",
      "#assignments:  9192\n"
     ]
    },
    {
     "name": "stderr",
     "output_type": "stream",
     "text": [
      "Epoch 6/12:   0%|          | 0/274 [00:11<?, ?batch/s]"
     ]
    },
    {
     "name": "stdout",
     "output_type": "stream",
     "text": [
      "#assignments best node:  21147\n"
     ]
    },
    {
     "name": "stderr",
     "output_type": "stream",
     "text": [
      "Epoch 6/12: 100%|██████████| 274/274 [01:38<00:00,  2.77batch/s]\n",
      "  0%|          | 0/274 [00:00<?, ?batch/s]"
     ]
    },
    {
     "name": "stdout",
     "output_type": "stream",
     "text": [
      "#assignments:  5522\n",
      "#assignments:  6504\n",
      "#assignments:  7169\n",
      "#assignments:  12378\n",
      "#assignments:  8425\n",
      "#assignments:  7336\n",
      "#assignments:  13462\n",
      "#assignments:  9204\n"
     ]
    },
    {
     "name": "stderr",
     "output_type": "stream",
     "text": [
      "Epoch 7/12:   0%|          | 0/274 [00:12<?, ?batch/s]"
     ]
    },
    {
     "name": "stdout",
     "output_type": "stream",
     "text": [
      "#assignments best node:  12378\n"
     ]
    },
    {
     "name": "stderr",
     "output_type": "stream",
     "text": [
      "Epoch 7/12: 100%|██████████| 274/274 [01:13<00:00,  3.74batch/s]\n",
      "  0%|          | 0/274 [00:00<?, ?batch/s]"
     ]
    },
    {
     "name": "stdout",
     "output_type": "stream",
     "text": [
      "#assignments:  5530\n",
      "#assignments:  6661\n",
      "#assignments:  7221\n",
      "#assignments:  5126\n",
      "#assignments:  7098\n",
      "#assignments:  8316\n",
      "#assignments:  7345\n",
      "#assignments:  13510\n",
      "#assignments:  9193\n"
     ]
    },
    {
     "name": "stderr",
     "output_type": "stream",
     "text": [
      "Epoch 8/12:   0%|          | 0/274 [00:10<?, ?batch/s]"
     ]
    },
    {
     "name": "stdout",
     "output_type": "stream",
     "text": [
      "#assignments best node:  13510\n"
     ]
    },
    {
     "name": "stderr",
     "output_type": "stream",
     "text": [
      "Epoch 8/12: 100%|██████████| 274/274 [01:10<00:00,  3.86batch/s]\n",
      "  0%|          | 0/274 [00:00<?, ?batch/s]"
     ]
    },
    {
     "name": "stdout",
     "output_type": "stream",
     "text": [
      "#assignments:  5315\n",
      "#assignments:  6588\n",
      "#assignments:  7224\n",
      "#assignments:  5634\n",
      "#assignments:  6569\n",
      "#assignments:  8657\n",
      "#assignments:  6721\n",
      "#assignments:  7058\n",
      "#assignments:  7037\n",
      "#assignments:  9197\n"
     ]
    },
    {
     "name": "stderr",
     "output_type": "stream",
     "text": [
      "Epoch 9/12:   0%|          | 0/274 [00:12<?, ?batch/s]"
     ]
    },
    {
     "name": "stdout",
     "output_type": "stream",
     "text": [
      "#assignments best node:  9197\n"
     ]
    },
    {
     "name": "stderr",
     "output_type": "stream",
     "text": [
      "Epoch 9/12: 100%|██████████| 274/274 [01:14<00:00,  3.66batch/s]\n",
      "  0%|          | 0/274 [00:00<?, ?batch/s]"
     ]
    },
    {
     "name": "stdout",
     "output_type": "stream",
     "text": [
      "#assignments:  5384\n",
      "#assignments:  6572\n",
      "#assignments:  7169\n",
      "#assignments:  5652\n",
      "#assignments:  6647\n",
      "#assignments:  8427\n",
      "#assignments:  6616\n",
      "#assignments:  6611\n",
      "#assignments:  7531\n",
      "#assignments:  5069\n",
      "#assignments:  4322\n"
     ]
    },
    {
     "name": "stderr",
     "output_type": "stream",
     "text": [
      "Epoch 10/12:   0%|          | 0/274 [00:14<?, ?batch/s]"
     ]
    },
    {
     "name": "stdout",
     "output_type": "stream",
     "text": [
      "#assignments best node:  8427\n"
     ]
    },
    {
     "name": "stderr",
     "output_type": "stream",
     "text": [
      "Epoch 10/12: 100%|██████████| 274/274 [01:18<00:00,  3.51batch/s]\n",
      "  0%|          | 0/274 [00:00<?, ?batch/s]"
     ]
    },
    {
     "name": "stdout",
     "output_type": "stream",
     "text": [
      "#assignments:  5486\n",
      "#assignments:  6617\n",
      "#assignments:  7129\n",
      "#assignments:  5677\n",
      "#assignments:  6406\n",
      "#assignments:  3074\n",
      "#assignments:  5453\n",
      "#assignments:  6649\n",
      "#assignments:  6784\n",
      "#assignments:  7247\n",
      "#assignments:  4800\n",
      "#assignments:  4678\n",
      "#assignments best node:  4678\n"
     ]
    },
    {
     "name": "stderr",
     "output_type": "stream",
     "text": [
      "Epoch 11/12: 100%|██████████| 274/274 [01:31<00:00,  3.00batch/s]\n",
      "Predict: 100%|██████████| 274/274 [00:03<00:00, 84.61it/s]\n"
     ]
    }
   ],
   "source": [
    "dipect_test_2 = DipECT(autoencoder=autoencoder, use_pvalue=False, grow_interval=1, max_epochs=12, unimodal_treshhold=1.0, augmentation_invariance=True, custom_dataloaders=custom_dataloaders, unimodal_loss_increase_method=\"exponential\")\n",
    "dipect_test_2 = dipect_test_2.fit_predict(dataset/255)"
   ]
  },
  {
   "cell_type": "code",
   "execution_count": 15,
   "metadata": {},
   "outputs": [
    {
     "name": "stdout",
     "output_type": "stream",
     "text": [
      "0.8038714285714286\n",
      "0.7524601908248149\n"
     ]
    }
   ],
   "source": [
    "print(dipect_test_2.tree_.flat_accuracy(labels, 10))\n",
    "print(dipect_test_2.tree_.flat_nmi(labels, 10))"
   ]
  },
  {
   "cell_type": "code",
   "execution_count": 14,
   "metadata": {},
   "outputs": [
    {
     "name": "stdout",
     "output_type": "stream",
     "text": [
      "cpu\n"
     ]
    },
    {
     "name": "stderr",
     "output_type": "stream",
     "text": [
      "Epoch 0/45: 100%|██████████| 274/274 [00:48<00:00,  5.67batch/s]\n",
      "Epoch 1/45: 100%|██████████| 274/274 [00:56<00:00,  4.84batch/s]\n",
      "  0%|          | 0/274 [00:00<?, ?batch/s]"
     ]
    },
    {
     "name": "stdout",
     "output_type": "stream",
     "text": [
      "#assignments:  39581\n",
      "#assignments:  30419\n"
     ]
    },
    {
     "name": "stderr",
     "output_type": "stream",
     "text": [
      "Epoch 2/45:   0%|          | 0/274 [00:05<?, ?batch/s]"
     ]
    },
    {
     "name": "stdout",
     "output_type": "stream",
     "text": [
      "#assignments best node:  39581\n"
     ]
    },
    {
     "name": "stderr",
     "output_type": "stream",
     "text": [
      "Epoch 2/45: 100%|██████████| 274/274 [01:02<00:00,  4.42batch/s]\n",
      "Epoch 3/45: 100%|██████████| 274/274 [00:53<00:00,  5.13batch/s]\n",
      "  0%|          | 0/274 [00:00<?, ?batch/s]"
     ]
    },
    {
     "name": "stdout",
     "output_type": "stream",
     "text": [
      "#assignments:  18502\n",
      "#assignments:  21631\n",
      "#assignments:  29867\n"
     ]
    },
    {
     "name": "stderr",
     "output_type": "stream",
     "text": [
      "Epoch 4/45:   0%|          | 0/274 [00:05<?, ?batch/s]"
     ]
    },
    {
     "name": "stdout",
     "output_type": "stream",
     "text": [
      "#assignments best node:  29867\n"
     ]
    },
    {
     "name": "stderr",
     "output_type": "stream",
     "text": [
      "Epoch 4/45: 100%|██████████| 274/274 [01:12<00:00,  3.80batch/s]\n",
      "Epoch 5/45: 100%|██████████| 274/274 [01:03<00:00,  4.29batch/s]\n",
      "  0%|          | 0/274 [00:00<?, ?batch/s]"
     ]
    },
    {
     "name": "stdout",
     "output_type": "stream",
     "text": [
      "#assignments:  18497\n",
      "#assignments:  21955\n",
      "#assignments:  21003\n",
      "#assignments:  8545\n",
      "#assignments best node:  18497\n"
     ]
    },
    {
     "name": "stderr",
     "output_type": "stream",
     "text": [
      "Epoch 6/45: 100%|██████████| 274/274 [01:10<00:00,  3.88batch/s]\n",
      "Epoch 7/45: 100%|██████████| 274/274 [00:59<00:00,  4.62batch/s]\n",
      "  0%|          | 0/274 [00:00<?, ?batch/s]"
     ]
    },
    {
     "name": "stdout",
     "output_type": "stream",
     "text": [
      "#assignments:  7521\n",
      "#assignments:  11028\n",
      "#assignments:  22086\n",
      "#assignments:  20585\n",
      "#assignments:  8780\n"
     ]
    },
    {
     "name": "stderr",
     "output_type": "stream",
     "text": [
      "Epoch 8/45:   0%|          | 0/274 [00:09<?, ?batch/s]"
     ]
    },
    {
     "name": "stdout",
     "output_type": "stream",
     "text": [
      "#assignments best node:  11028\n"
     ]
    },
    {
     "name": "stderr",
     "output_type": "stream",
     "text": [
      "Epoch 8/45: 100%|██████████| 274/274 [01:09<00:00,  3.95batch/s]\n",
      "Epoch 9/45: 100%|██████████| 274/274 [01:05<00:00,  4.16batch/s]\n",
      "  0%|          | 0/274 [00:00<?, ?batch/s]"
     ]
    },
    {
     "name": "stdout",
     "output_type": "stream",
     "text": [
      "#assignments:  7478\n",
      "#assignments:  5028\n",
      "#assignments:  6539\n",
      "#assignments:  21586\n",
      "#assignments:  20512\n",
      "#assignments:  8857\n",
      "#assignments best node:  21586\n"
     ]
    },
    {
     "name": "stderr",
     "output_type": "stream",
     "text": [
      "Epoch 10/45: 100%|██████████| 274/274 [01:10<00:00,  3.86batch/s]\n",
      "Epoch 11/45: 100%|██████████| 274/274 [01:02<00:00,  4.37batch/s]\n",
      "  0%|          | 0/274 [00:00<?, ?batch/s]"
     ]
    },
    {
     "name": "stdout",
     "output_type": "stream",
     "text": [
      "#assignments:  7446\n",
      "#assignments:  5081\n",
      "#assignments:  6469\n",
      "#assignments:  8739\n",
      "#assignments:  12967\n",
      "#assignments:  20355\n",
      "#assignments:  8943\n"
     ]
    },
    {
     "name": "stderr",
     "output_type": "stream",
     "text": [
      "Epoch 12/45:   0%|          | 0/274 [00:09<?, ?batch/s]"
     ]
    },
    {
     "name": "stdout",
     "output_type": "stream",
     "text": [
      "#assignments best node:  20355\n"
     ]
    },
    {
     "name": "stderr",
     "output_type": "stream",
     "text": [
      "Epoch 12/45: 100%|██████████| 274/274 [01:12<00:00,  3.76batch/s]\n",
      "Epoch 13/45: 100%|██████████| 274/274 [01:02<00:00,  4.41batch/s]\n",
      "  0%|          | 0/274 [00:00<?, ?batch/s]"
     ]
    },
    {
     "name": "stdout",
     "output_type": "stream",
     "text": [
      "#assignments:  7457\n",
      "#assignments:  4855\n",
      "#assignments:  6452\n",
      "#assignments:  9275\n",
      "#assignments:  12553\n",
      "#assignments:  14051\n",
      "#assignments:  6286\n",
      "#assignments:  9071\n"
     ]
    },
    {
     "name": "stderr",
     "output_type": "stream",
     "text": [
      "Epoch 14/45:   0%|          | 0/274 [00:11<?, ?batch/s]"
     ]
    },
    {
     "name": "stdout",
     "output_type": "stream",
     "text": [
      "#assignments best node:  12553\n"
     ]
    },
    {
     "name": "stderr",
     "output_type": "stream",
     "text": [
      "Epoch 14/45: 100%|██████████| 274/274 [01:18<00:00,  3.48batch/s]\n",
      "Epoch 15/45: 100%|██████████| 274/274 [01:06<00:00,  4.14batch/s]\n",
      "  0%|          | 0/274 [00:00<?, ?batch/s]"
     ]
    },
    {
     "name": "stdout",
     "output_type": "stream",
     "text": [
      "#assignments:  7401\n",
      "#assignments:  4848\n",
      "#assignments:  6554\n",
      "#assignments:  9455\n",
      "#assignments:  6523\n",
      "#assignments:  5931\n",
      "#assignments:  13909\n",
      "#assignments:  6308\n",
      "#assignments:  9071\n",
      "#assignments best node:  13909\n"
     ]
    },
    {
     "name": "stderr",
     "output_type": "stream",
     "text": [
      "Epoch 16/45: 100%|██████████| 274/274 [01:24<00:00,  3.25batch/s]\n",
      "Epoch 17/45: 100%|██████████| 274/274 [01:03<00:00,  4.29batch/s]\n",
      "  0%|          | 0/274 [00:00<?, ?batch/s]"
     ]
    },
    {
     "name": "stdout",
     "output_type": "stream",
     "text": [
      "#assignments:  7500\n",
      "#assignments:  4706\n",
      "#assignments:  6576\n",
      "#assignments:  9274\n",
      "#assignments:  6558\n",
      "#assignments:  6201\n",
      "#assignments:  7365\n",
      "#assignments:  6184\n",
      "#assignments:  6130\n",
      "#assignments:  9506\n"
     ]
    },
    {
     "name": "stderr",
     "output_type": "stream",
     "text": [
      "Epoch 18/45:   0%|          | 0/274 [00:13<?, ?batch/s]"
     ]
    },
    {
     "name": "stdout",
     "output_type": "stream",
     "text": [
      "#assignments best node:  9274\n"
     ]
    },
    {
     "name": "stderr",
     "output_type": "stream",
     "text": [
      "Epoch 18/45: 100%|██████████| 274/274 [01:21<00:00,  3.34batch/s]\n",
      "Epoch 19/45: 100%|██████████| 274/274 [01:07<00:00,  4.08batch/s]\n",
      "  0%|          | 0/274 [00:00<?, ?batch/s]"
     ]
    },
    {
     "name": "stdout",
     "output_type": "stream",
     "text": [
      "#assignments:  7456\n",
      "#assignments:  4890\n",
      "#assignments:  6608\n",
      "#assignments:  6970\n",
      "#assignments:  2199\n",
      "#assignments:  6523\n",
      "#assignments:  6104\n",
      "#assignments:  7878\n",
      "#assignments:  5938\n",
      "#assignments:  5996\n",
      "#assignments:  9438\n"
     ]
    },
    {
     "name": "stderr",
     "output_type": "stream",
     "text": [
      "Epoch 20/45:   0%|          | 0/274 [00:14<?, ?batch/s]"
     ]
    },
    {
     "name": "stdout",
     "output_type": "stream",
     "text": [
      "#assignments best node:  9438\n"
     ]
    },
    {
     "name": "stderr",
     "output_type": "stream",
     "text": [
      "Epoch 20/45: 100%|██████████| 274/274 [01:20<00:00,  3.41batch/s]\n",
      "Epoch 21/45: 100%|██████████| 274/274 [01:07<00:00,  4.03batch/s]\n",
      "  0%|          | 0/274 [00:00<?, ?batch/s]"
     ]
    },
    {
     "name": "stdout",
     "output_type": "stream",
     "text": [
      "#assignments:  7437\n",
      "#assignments:  4799\n",
      "#assignments:  6501\n",
      "#assignments:  7201\n",
      "#assignments:  2040\n",
      "#assignments:  6736\n",
      "#assignments:  5932\n",
      "#assignments:  7672\n",
      "#assignments:  5934\n",
      "#assignments:  5904\n",
      "#assignments:  4716\n",
      "#assignments:  5128\n",
      "#assignments best node:  5904\n"
     ]
    },
    {
     "name": "stderr",
     "output_type": "stream",
     "text": [
      "Epoch 22/45: 100%|██████████| 274/274 [01:22<00:00,  3.33batch/s]\n",
      "Epoch 23/45: 100%|██████████| 274/274 [01:14<00:00,  3.69batch/s]\n",
      "  0%|          | 0/274 [00:00<?, ?batch/s]"
     ]
    },
    {
     "name": "stdout",
     "output_type": "stream",
     "text": [
      "#assignments:  7346\n",
      "#assignments:  4944\n",
      "#assignments:  6520\n",
      "#assignments:  7108\n",
      "#assignments:  2084\n",
      "#assignments:  6613\n",
      "#assignments:  6034\n",
      "#assignments:  7377\n",
      "#assignments:  6102\n",
      "#assignments:  1659\n",
      "#assignments:  4133\n",
      "#assignments:  5011\n",
      "#assignments:  5069\n"
     ]
    },
    {
     "name": "stderr",
     "output_type": "stream",
     "text": [
      "Epoch 24/45:   0%|          | 0/274 [00:16<?, ?batch/s]"
     ]
    },
    {
     "name": "stdout",
     "output_type": "stream",
     "text": [
      "#assignments best node:  7346\n"
     ]
    },
    {
     "name": "stderr",
     "output_type": "stream",
     "text": [
      "Epoch 24/45: 100%|██████████| 274/274 [01:23<00:00,  3.27batch/s]\n",
      "Epoch 25/45: 100%|██████████| 274/274 [01:07<00:00,  4.07batch/s]\n",
      "  0%|          | 0/274 [00:00<?, ?batch/s]"
     ]
    },
    {
     "name": "stdout",
     "output_type": "stream",
     "text": [
      "#assignments:  3779\n",
      "#assignments:  3551\n",
      "#assignments:  4856\n",
      "#assignments:  6550\n",
      "#assignments:  6848\n",
      "#assignments:  2507\n",
      "#assignments:  6639\n",
      "#assignments:  5976\n",
      "#assignments:  7092\n",
      "#assignments:  6404\n",
      "#assignments:  1867\n",
      "#assignments:  3738\n",
      "#assignments:  5165\n",
      "#assignments:  5028\n",
      "#assignments best node:  7092\n"
     ]
    },
    {
     "name": "stderr",
     "output_type": "stream",
     "text": [
      "Epoch 26/45: 100%|██████████| 274/274 [01:29<00:00,  3.06batch/s]\n",
      "Epoch 27/45: 100%|██████████| 274/274 [01:14<00:00,  3.70batch/s]\n",
      "  0%|          | 0/274 [00:00<?, ?batch/s]"
     ]
    },
    {
     "name": "stdout",
     "output_type": "stream",
     "text": [
      "#assignments:  3863\n",
      "#assignments:  3529\n",
      "#assignments:  4846\n",
      "#assignments:  6592\n",
      "#assignments:  6425\n",
      "#assignments:  2582\n",
      "#assignments:  6450\n",
      "#assignments:  6222\n",
      "#assignments:  4832\n",
      "#assignments:  2200\n",
      "#assignments:  6387\n",
      "#assignments:  1933\n",
      "#assignments:  3678\n",
      "#assignments:  5143\n",
      "#assignments:  5318\n"
     ]
    },
    {
     "name": "stderr",
     "output_type": "stream",
     "text": [
      "Epoch 28/45:   0%|          | 0/274 [00:16<?, ?batch/s]"
     ]
    },
    {
     "name": "stdout",
     "output_type": "stream",
     "text": [
      "#assignments best node:  5143\n"
     ]
    },
    {
     "name": "stderr",
     "output_type": "stream",
     "text": [
      "Epoch 28/45: 100%|██████████| 274/274 [01:22<00:00,  3.31batch/s]\n",
      "Epoch 29/45: 100%|██████████| 274/274 [01:15<00:00,  3.65batch/s]\n",
      "  0%|          | 0/274 [00:00<?, ?batch/s]"
     ]
    },
    {
     "name": "stdout",
     "output_type": "stream",
     "text": [
      "#assignments:  3609\n",
      "#assignments:  3804\n",
      "#assignments:  4811\n",
      "#assignments:  6487\n",
      "#assignments:  6411\n",
      "#assignments:  2552\n",
      "#assignments:  6577\n",
      "#assignments:  6329\n",
      "#assignments:  2945\n",
      "#assignments:  3969\n",
      "#assignments:  6209\n",
      "#assignments:  1953\n",
      "#assignments:  3515\n",
      "#assignments:  3249\n",
      "#assignments:  2310\n",
      "#assignments:  5270\n"
     ]
    },
    {
     "name": "stderr",
     "output_type": "stream",
     "text": [
      "Epoch 30/45:   0%|          | 0/274 [00:17<?, ?batch/s]"
     ]
    },
    {
     "name": "stdout",
     "output_type": "stream",
     "text": [
      "#assignments best node:  6487\n"
     ]
    },
    {
     "name": "stderr",
     "output_type": "stream",
     "text": [
      "Epoch 30/45: 100%|██████████| 274/274 [01:26<00:00,  3.17batch/s]\n",
      "Epoch 31/45: 100%|██████████| 274/274 [01:12<00:00,  3.77batch/s]\n",
      "  0%|          | 0/274 [00:00<?, ?batch/s]"
     ]
    },
    {
     "name": "stdout",
     "output_type": "stream",
     "text": [
      "#assignments:  3727\n",
      "#assignments:  3689\n",
      "#assignments:  4950\n",
      "#assignments:  3307\n",
      "#assignments:  3304\n",
      "#assignments:  6497\n",
      "#assignments:  2619\n",
      "#assignments:  6559\n",
      "#assignments:  6081\n",
      "#assignments:  3388\n",
      "#assignments:  3466\n",
      "#assignments:  6371\n",
      "#assignments:  1994\n",
      "#assignments:  3364\n",
      "#assignments:  3135\n",
      "#assignments:  2371\n",
      "#assignments:  5178\n"
     ]
    },
    {
     "name": "stderr",
     "output_type": "stream",
     "text": [
      "Epoch 32/45:   0%|          | 0/274 [00:21<?, ?batch/s]"
     ]
    },
    {
     "name": "stdout",
     "output_type": "stream",
     "text": [
      "#assignments best node:  6371\n"
     ]
    },
    {
     "name": "stderr",
     "output_type": "stream",
     "text": [
      "Epoch 32/45: 100%|██████████| 274/274 [01:30<00:00,  3.01batch/s]\n",
      "Epoch 33/45: 100%|██████████| 274/274 [01:12<00:00,  3.76batch/s]\n",
      "  0%|          | 0/274 [00:00<?, ?batch/s]"
     ]
    },
    {
     "name": "stdout",
     "output_type": "stream",
     "text": [
      "#assignments:  3692\n",
      "#assignments:  3805\n",
      "#assignments:  4734\n",
      "#assignments:  3238\n",
      "#assignments:  3386\n",
      "#assignments:  6456\n",
      "#assignments:  2826\n",
      "#assignments:  6607\n",
      "#assignments:  5880\n",
      "#assignments:  3156\n",
      "#assignments:  3691\n",
      "#assignments:  3405\n",
      "#assignments:  2834\n",
      "#assignments:  1980\n",
      "#assignments:  3316\n",
      "#assignments:  3061\n",
      "#assignments:  2473\n",
      "#assignments:  5460\n"
     ]
    },
    {
     "name": "stderr",
     "output_type": "stream",
     "text": [
      "Epoch 34/45:   0%|          | 0/274 [00:27<?, ?batch/s]"
     ]
    },
    {
     "name": "stdout",
     "output_type": "stream",
     "text": [
      "#assignments best node:  6456\n"
     ]
    },
    {
     "name": "stderr",
     "output_type": "stream",
     "text": [
      "Epoch 34/45: 100%|██████████| 274/274 [01:43<00:00,  2.65batch/s]\n",
      "Epoch 35/45: 100%|██████████| 274/274 [01:19<00:00,  3.46batch/s]\n",
      "  0%|          | 0/274 [00:00<?, ?batch/s]"
     ]
    },
    {
     "name": "stdout",
     "output_type": "stream",
     "text": [
      "#assignments:  3512\n",
      "#assignments:  4017\n",
      "#assignments:  4841\n",
      "#assignments:  3040\n",
      "#assignments:  3561\n",
      "#assignments:  3748\n",
      "#assignments:  2661\n",
      "#assignments:  2812\n",
      "#assignments:  6537\n",
      "#assignments:  5981\n",
      "#assignments:  2860\n",
      "#assignments:  3567\n",
      "#assignments:  3868\n",
      "#assignments:  2368\n",
      "#assignments:  1966\n",
      "#assignments:  3078\n",
      "#assignments:  3102\n",
      "#assignments:  2960\n",
      "#assignments:  5521\n"
     ]
    },
    {
     "name": "stderr",
     "output_type": "stream",
     "text": [
      "Epoch 36/45:   0%|          | 0/274 [00:19<?, ?batch/s]"
     ]
    },
    {
     "name": "stdout",
     "output_type": "stream",
     "text": [
      "#assignments best node:  6537\n"
     ]
    },
    {
     "name": "stderr",
     "output_type": "stream",
     "text": [
      "Epoch 36/45: 100%|██████████| 274/274 [01:30<00:00,  3.04batch/s]\n",
      "Epoch 37/45: 100%|██████████| 274/274 [01:11<00:00,  3.84batch/s]\n",
      "Epoch 38/45: 100%|██████████| 274/274 [01:14<00:00,  3.70batch/s]\n",
      "Epoch 39/45: 100%|██████████| 274/274 [01:12<00:00,  3.80batch/s]\n",
      "Epoch 40/45: 100%|██████████| 274/274 [01:16<00:00,  3.57batch/s]\n",
      "Epoch 41/45: 100%|██████████| 274/274 [01:12<00:00,  3.80batch/s]\n",
      "Epoch 42/45: 100%|██████████| 274/274 [01:13<00:00,  3.73batch/s]\n",
      "Epoch 43/45: 100%|██████████| 274/274 [01:26<00:00,  3.18batch/s]\n",
      "Epoch 44/45: 100%|██████████| 274/274 [01:24<00:00,  3.23batch/s]\n",
      "Predict: 100%|██████████| 274/274 [00:04<00:00, 63.02it/s]\n"
     ]
    }
   ],
   "source": [
    "dipect_test_3 = DipECT(autoencoder=autoencoder, use_pvalue=False, grow_interval=2, max_epochs=45, unimodal_treshhold=1.0, augmentation_invariance=True, custom_dataloaders=custom_dataloaders, unimodal_loss_increase_method=\"linear\")\n",
    "dipect_test_3 = dipect_test_3.fit_predict(dataset/255)"
   ]
  },
  {
   "cell_type": "code",
   "execution_count": 24,
   "metadata": {},
   "outputs": [
    {
     "name": "stdout",
     "output_type": "stream",
     "text": [
      "0.7711\n",
      "0.7245271322760184\n"
     ]
    }
   ],
   "source": [
    "print(dipect_test_3.tree_.flat_accuracy(labels, 10))\n",
    "print(dipect_test_3.tree_.flat_nmi(labels, 10))"
   ]
  },
  {
   "cell_type": "code",
   "execution_count": 11,
   "metadata": {},
   "outputs": [
    {
     "name": "stdout",
     "output_type": "stream",
     "text": [
      "cpu\n"
     ]
    },
    {
     "name": "stderr",
     "output_type": "stream",
     "text": [
      "Epoch 0/12: 100%|██████████| 274/274 [00:30<00:00,  9.04batch/s]\n",
      "  0%|          | 0/274 [00:00<?, ?batch/s]"
     ]
    },
    {
     "name": "stdout",
     "output_type": "stream",
     "text": [
      "#assignments:  32488\n",
      "#assignments:  37512\n"
     ]
    },
    {
     "name": "stderr",
     "output_type": "stream",
     "text": [
      "Epoch 1/12:   0%|          | 0/274 [00:07<?, ?batch/s]"
     ]
    },
    {
     "name": "stdout",
     "output_type": "stream",
     "text": [
      "#assignments best node:  37512\n"
     ]
    },
    {
     "name": "stderr",
     "output_type": "stream",
     "text": [
      "Epoch 1/12: 100%|██████████| 274/274 [00:35<00:00,  7.63batch/s]\n",
      "  0%|          | 0/274 [00:00<?, ?batch/s]"
     ]
    },
    {
     "name": "stdout",
     "output_type": "stream",
     "text": [
      "#assignments:  31525\n",
      "#assignments:  19708\n",
      "#assignments:  18767\n"
     ]
    },
    {
     "name": "stderr",
     "output_type": "stream",
     "text": [
      "Epoch 2/12:   0%|          | 0/274 [00:06<?, ?batch/s]"
     ]
    },
    {
     "name": "stdout",
     "output_type": "stream",
     "text": [
      "#assignments best node:  31525\n"
     ]
    },
    {
     "name": "stderr",
     "output_type": "stream",
     "text": [
      "Epoch 2/12: 100%|██████████| 274/274 [00:36<00:00,  7.46batch/s]\n",
      "  0%|          | 0/274 [00:00<?, ?batch/s]"
     ]
    },
    {
     "name": "stdout",
     "output_type": "stream",
     "text": [
      "#assignments:  21346\n",
      "#assignments:  9291\n",
      "#assignments:  19380\n",
      "#assignments:  19983\n"
     ]
    },
    {
     "name": "stderr",
     "output_type": "stream",
     "text": [
      "Epoch 3/12:   0%|          | 0/274 [00:08<?, ?batch/s]"
     ]
    },
    {
     "name": "stdout",
     "output_type": "stream",
     "text": [
      "#assignments best node:  19380\n"
     ]
    },
    {
     "name": "stderr",
     "output_type": "stream",
     "text": [
      "Epoch 3/12: 100%|██████████| 274/274 [00:40<00:00,  6.78batch/s]\n",
      "  0%|          | 0/274 [00:00<?, ?batch/s]"
     ]
    },
    {
     "name": "stdout",
     "output_type": "stream",
     "text": [
      "#assignments:  21350\n",
      "#assignments:  9108\n",
      "#assignments:  13946\n",
      "#assignments:  5313\n",
      "#assignments:  20283\n"
     ]
    },
    {
     "name": "stderr",
     "output_type": "stream",
     "text": [
      "Epoch 4/12:   0%|          | 0/274 [00:09<?, ?batch/s]"
     ]
    },
    {
     "name": "stdout",
     "output_type": "stream",
     "text": [
      "#assignments best node:  13946\n"
     ]
    },
    {
     "name": "stderr",
     "output_type": "stream",
     "text": [
      "Epoch 4/12: 100%|██████████| 274/274 [00:43<00:00,  6.34batch/s]\n",
      "  0%|          | 0/274 [00:00<?, ?batch/s]"
     ]
    },
    {
     "name": "stdout",
     "output_type": "stream",
     "text": [
      "#assignments:  21188\n",
      "#assignments:  8925\n",
      "#assignments:  6770\n",
      "#assignments:  7146\n",
      "#assignments:  5563\n",
      "#assignments:  20408\n"
     ]
    },
    {
     "name": "stderr",
     "output_type": "stream",
     "text": [
      "Epoch 5/12:   0%|          | 0/274 [00:10<?, ?batch/s]"
     ]
    },
    {
     "name": "stdout",
     "output_type": "stream",
     "text": [
      "#assignments best node:  20408\n"
     ]
    },
    {
     "name": "stderr",
     "output_type": "stream",
     "text": [
      "Epoch 5/12: 100%|██████████| 274/274 [01:00<00:00,  4.52batch/s]\n",
      "  0%|          | 0/274 [00:00<?, ?batch/s]"
     ]
    },
    {
     "name": "stdout",
     "output_type": "stream",
     "text": [
      "#assignments:  21200\n",
      "#assignments:  8836\n",
      "#assignments:  6799\n",
      "#assignments:  7105\n",
      "#assignments:  5499\n",
      "#assignments:  12690\n",
      "#assignments:  7871\n"
     ]
    },
    {
     "name": "stderr",
     "output_type": "stream",
     "text": [
      "Epoch 6/12:   0%|          | 0/274 [00:15<?, ?batch/s]"
     ]
    },
    {
     "name": "stdout",
     "output_type": "stream",
     "text": [
      "#assignments best node:  12690\n"
     ]
    },
    {
     "name": "stderr",
     "output_type": "stream",
     "text": [
      "Epoch 6/12: 100%|██████████| 274/274 [01:07<00:00,  4.08batch/s]\n",
      "  0%|          | 0/274 [00:00<?, ?batch/s]"
     ]
    },
    {
     "name": "stdout",
     "output_type": "stream",
     "text": [
      "#assignments:  21162\n",
      "#assignments:  8784\n",
      "#assignments:  6755\n",
      "#assignments:  7091\n",
      "#assignments:  5514\n",
      "#assignments:  5484\n",
      "#assignments:  7113\n",
      "#assignments:  8097\n"
     ]
    },
    {
     "name": "stderr",
     "output_type": "stream",
     "text": [
      "Epoch 7/12:   0%|          | 0/274 [00:12<?, ?batch/s]"
     ]
    },
    {
     "name": "stdout",
     "output_type": "stream",
     "text": [
      "#assignments best node:  21162\n"
     ]
    },
    {
     "name": "stderr",
     "output_type": "stream",
     "text": [
      "Epoch 7/12: 100%|██████████| 274/274 [00:50<00:00,  5.45batch/s]\n",
      "  0%|          | 0/274 [00:00<?, ?batch/s]"
     ]
    },
    {
     "name": "stdout",
     "output_type": "stream",
     "text": [
      "#assignments:  12512\n",
      "#assignments:  8702\n",
      "#assignments:  8704\n",
      "#assignments:  6755\n",
      "#assignments:  7017\n",
      "#assignments:  5490\n",
      "#assignments:  5569\n",
      "#assignments:  7122\n",
      "#assignments:  8129\n"
     ]
    },
    {
     "name": "stderr",
     "output_type": "stream",
     "text": [
      "Epoch 8/12:   0%|          | 0/274 [00:13<?, ?batch/s]"
     ]
    },
    {
     "name": "stdout",
     "output_type": "stream",
     "text": [
      "#assignments best node:  8129\n"
     ]
    },
    {
     "name": "stderr",
     "output_type": "stream",
     "text": [
      "Epoch 8/12: 100%|██████████| 274/274 [01:00<00:00,  4.57batch/s]\n",
      "  0%|          | 0/274 [00:00<?, ?batch/s]"
     ]
    },
    {
     "name": "stdout",
     "output_type": "stream",
     "text": [
      "#assignments:  12929\n",
      "#assignments:  8187\n",
      "#assignments:  8713\n",
      "#assignments:  6745\n",
      "#assignments:  7051\n",
      "#assignments:  5491\n",
      "#assignments:  5590\n",
      "#assignments:  7131\n",
      "#assignments:  1702\n",
      "#assignments:  6461\n"
     ]
    },
    {
     "name": "stderr",
     "output_type": "stream",
     "text": [
      "Epoch 9/12:   0%|          | 0/274 [00:14<?, ?batch/s]"
     ]
    },
    {
     "name": "stdout",
     "output_type": "stream",
     "text": [
      "#assignments best node:  12929\n"
     ]
    },
    {
     "name": "stderr",
     "output_type": "stream",
     "text": [
      "Epoch 9/12: 100%|██████████| 274/274 [00:57<00:00,  4.74batch/s]\n",
      "  0%|          | 0/274 [00:00<?, ?batch/s]"
     ]
    },
    {
     "name": "stdout",
     "output_type": "stream",
     "text": [
      "#assignments:  6244\n",
      "#assignments:  7008\n",
      "#assignments:  7740\n",
      "#assignments:  8646\n",
      "#assignments:  6765\n",
      "#assignments:  7042\n",
      "#assignments:  5401\n",
      "#assignments:  5737\n",
      "#assignments:  7121\n",
      "#assignments:  1703\n",
      "#assignments:  6593\n"
     ]
    },
    {
     "name": "stderr",
     "output_type": "stream",
     "text": [
      "Epoch 10/12:   0%|          | 0/274 [00:14<?, ?batch/s]"
     ]
    },
    {
     "name": "stdout",
     "output_type": "stream",
     "text": [
      "#assignments best node:  7008\n"
     ]
    },
    {
     "name": "stderr",
     "output_type": "stream",
     "text": [
      "Epoch 10/12: 100%|██████████| 274/274 [00:56<00:00,  4.82batch/s]\n",
      "  0%|          | 0/274 [00:00<?, ?batch/s]"
     ]
    },
    {
     "name": "stdout",
     "output_type": "stream",
     "text": [
      "#assignments:  6462\n",
      "#assignments:  3526\n",
      "#assignments:  3499\n",
      "#assignments:  7491\n",
      "#assignments:  8652\n",
      "#assignments:  6780\n",
      "#assignments:  7046\n",
      "#assignments:  5480\n",
      "#assignments:  5738\n",
      "#assignments:  7073\n",
      "#assignments:  1683\n",
      "#assignments:  6570\n"
     ]
    },
    {
     "name": "stderr",
     "output_type": "stream",
     "text": [
      "Epoch 11/12:   0%|          | 0/274 [00:15<?, ?batch/s]"
     ]
    },
    {
     "name": "stdout",
     "output_type": "stream",
     "text": [
      "#assignments best node:  8652\n"
     ]
    },
    {
     "name": "stderr",
     "output_type": "stream",
     "text": [
      "Epoch 11/12: 100%|██████████| 274/274 [01:05<00:00,  4.21batch/s]\n",
      "Predict: 100%|██████████| 274/274 [00:05<00:00, 46.24it/s]\n"
     ]
    }
   ],
   "source": [
    "dipect_test_1 = DipECT(autoencoder=autoencoder, use_pvalue=False, grow_interval=1, max_epochs=12, unimodal_treshhold=1.0)\n",
    "dipect_test_1 = dipect_test_1.fit_predict(dataset/255)"
   ]
  },
  {
   "cell_type": "code",
   "execution_count": 12,
   "metadata": {},
   "outputs": [
    {
     "name": "stdout",
     "output_type": "stream",
     "text": [
      "0.8221714285714286\n",
      "0.8257070449832975\n"
     ]
    }
   ],
   "source": [
    "print(dipect_test_1.tree_.flat_accuracy(labels, 10))\n",
    "print(dipect_test_1.tree_.flat_nmi(labels, 10))"
   ]
  },
  {
   "cell_type": "code",
   "execution_count": 25,
   "metadata": {},
   "outputs": [
    {
     "name": "stdout",
     "output_type": "stream",
     "text": [
      "cpu\n"
     ]
    },
    {
     "name": "stderr",
     "output_type": "stream",
     "text": [
      "Epoch 0/45: 100%|██████████| 274/274 [00:18<00:00, 14.80batch/s]\n",
      "Epoch 1/45: 100%|██████████| 274/274 [00:27<00:00, 10.03batch/s]\n",
      "  0%|          | 0/274 [00:00<?, ?batch/s]"
     ]
    },
    {
     "name": "stdout",
     "output_type": "stream",
     "text": [
      "#assignments:  38295\n",
      "#assignments:  31705\n"
     ]
    },
    {
     "name": "stderr",
     "output_type": "stream",
     "text": [
      "Epoch 2/45:   0%|          | 1/274 [00:05<23:02,  5.07s/batch]"
     ]
    },
    {
     "name": "stdout",
     "output_type": "stream",
     "text": [
      "#assignments best node:  38295\n"
     ]
    },
    {
     "name": "stderr",
     "output_type": "stream",
     "text": [
      "Epoch 2/45: 100%|██████████| 274/274 [00:23<00:00, 11.44batch/s]\n",
      "Epoch 3/45: 100%|██████████| 274/274 [00:19<00:00, 14.22batch/s]\n",
      "  0%|          | 0/274 [00:00<?, ?batch/s]"
     ]
    },
    {
     "name": "stdout",
     "output_type": "stream",
     "text": [
      "#assignments:  19958\n",
      "#assignments:  19419\n",
      "#assignments:  30623\n"
     ]
    },
    {
     "name": "stderr",
     "output_type": "stream",
     "text": [
      "Epoch 4/45:   0%|          | 1/274 [00:04<22:30,  4.95s/batch]"
     ]
    },
    {
     "name": "stdout",
     "output_type": "stream",
     "text": [
      "#assignments best node:  30623\n"
     ]
    },
    {
     "name": "stderr",
     "output_type": "stream",
     "text": [
      "Epoch 4/45: 100%|██████████| 274/274 [00:25<00:00, 10.91batch/s]\n",
      "Epoch 5/45: 100%|██████████| 274/274 [00:20<00:00, 13.07batch/s]\n",
      "  0%|          | 0/274 [00:00<?, ?batch/s]"
     ]
    },
    {
     "name": "stdout",
     "output_type": "stream",
     "text": [
      "#assignments:  20427\n",
      "#assignments:  19287\n",
      "#assignments:  9063\n",
      "#assignments:  21223\n"
     ]
    },
    {
     "name": "stderr",
     "output_type": "stream",
     "text": [
      "Epoch 6/45:   0%|          | 1/274 [00:06<30:22,  6.68s/batch]"
     ]
    },
    {
     "name": "stdout",
     "output_type": "stream",
     "text": [
      "#assignments best node:  19287\n"
     ]
    },
    {
     "name": "stderr",
     "output_type": "stream",
     "text": [
      "Epoch 6/45: 100%|██████████| 274/274 [00:27<00:00,  9.85batch/s]\n",
      "Epoch 7/45: 100%|██████████| 274/274 [00:20<00:00, 13.18batch/s]\n",
      "  0%|          | 0/274 [00:00<?, ?batch/s]"
     ]
    },
    {
     "name": "stdout",
     "output_type": "stream",
     "text": [
      "#assignments:  20789\n",
      "#assignments:  5254\n",
      "#assignments:  13952\n",
      "#assignments:  8946\n",
      "#assignments:  21059\n"
     ]
    },
    {
     "name": "stderr",
     "output_type": "stream",
     "text": [
      "Epoch 8/45:   0%|          | 0/274 [00:05<?, ?batch/s]"
     ]
    },
    {
     "name": "stdout",
     "output_type": "stream",
     "text": [
      "#assignments best node:  13952\n"
     ]
    },
    {
     "name": "stderr",
     "output_type": "stream",
     "text": [
      "Epoch 8/45: 100%|██████████| 274/274 [00:28<00:00,  9.69batch/s]\n",
      "Epoch 9/45: 100%|██████████| 274/274 [00:22<00:00, 12.37batch/s]\n",
      "  0%|          | 0/274 [00:00<?, ?batch/s]"
     ]
    },
    {
     "name": "stdout",
     "output_type": "stream",
     "text": [
      "#assignments:  20861\n",
      "#assignments:  5385\n",
      "#assignments:  6768\n",
      "#assignments:  7093\n",
      "#assignments:  8792\n",
      "#assignments:  21101\n"
     ]
    },
    {
     "name": "stderr",
     "output_type": "stream",
     "text": [
      "Epoch 10/45:   0%|          | 1/274 [00:08<39:00,  8.57s/batch]"
     ]
    },
    {
     "name": "stdout",
     "output_type": "stream",
     "text": [
      "#assignments best node:  20861\n"
     ]
    },
    {
     "name": "stderr",
     "output_type": "stream",
     "text": [
      "Epoch 10/45: 100%|██████████| 274/274 [00:30<00:00,  8.91batch/s]\n",
      "Epoch 11/45: 100%|██████████| 274/274 [00:27<00:00, 10.06batch/s]\n",
      "  0%|          | 0/274 [00:00<?, ?batch/s]"
     ]
    },
    {
     "name": "stdout",
     "output_type": "stream",
     "text": [
      "#assignments:  8189\n",
      "#assignments:  12773\n",
      "#assignments:  5479\n",
      "#assignments:  6776\n",
      "#assignments:  7015\n",
      "#assignments:  8673\n",
      "#assignments:  21095\n"
     ]
    },
    {
     "name": "stderr",
     "output_type": "stream",
     "text": [
      "Epoch 12/45:   0%|          | 0/274 [00:09<?, ?batch/s]"
     ]
    },
    {
     "name": "stdout",
     "output_type": "stream",
     "text": [
      "#assignments best node:  12773\n"
     ]
    },
    {
     "name": "stderr",
     "output_type": "stream",
     "text": [
      "Epoch 12/45: 100%|██████████| 274/274 [00:33<00:00,  8.30batch/s]\n",
      "Epoch 13/45: 100%|██████████| 274/274 [00:23<00:00, 11.49batch/s]\n",
      "  0%|          | 0/274 [00:00<?, ?batch/s]"
     ]
    },
    {
     "name": "stdout",
     "output_type": "stream",
     "text": [
      "#assignments:  8277\n",
      "#assignments:  5741\n",
      "#assignments:  7126\n",
      "#assignments:  5414\n",
      "#assignments:  6789\n",
      "#assignments:  7036\n",
      "#assignments:  8680\n",
      "#assignments:  20937\n"
     ]
    },
    {
     "name": "stderr",
     "output_type": "stream",
     "text": [
      "Epoch 14/45:   0%|          | 1/274 [00:09<42:53,  9.43s/batch]"
     ]
    },
    {
     "name": "stdout",
     "output_type": "stream",
     "text": [
      "#assignments best node:  20937\n"
     ]
    },
    {
     "name": "stderr",
     "output_type": "stream",
     "text": [
      "Epoch 14/45: 100%|██████████| 274/274 [00:33<00:00,  8.12batch/s]\n",
      "Epoch 15/45: 100%|██████████| 274/274 [00:25<00:00, 10.88batch/s]\n",
      "  0%|          | 0/274 [00:00<?, ?batch/s]"
     ]
    },
    {
     "name": "stdout",
     "output_type": "stream",
     "text": [
      "#assignments:  8331\n",
      "#assignments:  5771\n",
      "#assignments:  7096\n",
      "#assignments:  5374\n",
      "#assignments:  6785\n",
      "#assignments:  6992\n",
      "#assignments:  8573\n",
      "#assignments:  7127\n",
      "#assignments:  13951\n"
     ]
    },
    {
     "name": "stderr",
     "output_type": "stream",
     "text": [
      "Epoch 16/45:   0%|          | 1/274 [00:10<48:10, 10.59s/batch]"
     ]
    },
    {
     "name": "stdout",
     "output_type": "stream",
     "text": [
      "#assignments best node:  8331\n"
     ]
    },
    {
     "name": "stderr",
     "output_type": "stream",
     "text": [
      "Epoch 16/45: 100%|██████████| 274/274 [00:36<00:00,  7.58batch/s]\n",
      "Epoch 17/45: 100%|██████████| 274/274 [00:24<00:00, 11.15batch/s]\n",
      "  0%|          | 0/274 [00:00<?, ?batch/s]"
     ]
    },
    {
     "name": "stdout",
     "output_type": "stream",
     "text": [
      "#assignments:  1715\n",
      "#assignments:  6667\n",
      "#assignments:  5779\n",
      "#assignments:  7012\n",
      "#assignments:  5467\n",
      "#assignments:  6775\n",
      "#assignments:  6994\n",
      "#assignments:  8617\n",
      "#assignments:  7111\n",
      "#assignments:  13863\n"
     ]
    },
    {
     "name": "stderr",
     "output_type": "stream",
     "text": [
      "Epoch 18/45:   0%|          | 0/274 [00:10<?, ?batch/s]"
     ]
    },
    {
     "name": "stdout",
     "output_type": "stream",
     "text": [
      "#assignments best node:  13863\n"
     ]
    },
    {
     "name": "stderr",
     "output_type": "stream",
     "text": [
      "Epoch 18/45: 100%|██████████| 274/274 [00:37<00:00,  7.36batch/s]\n",
      "Epoch 19/45: 100%|██████████| 274/274 [00:25<00:00, 10.69batch/s]\n",
      "  0%|          | 0/274 [00:00<?, ?batch/s]"
     ]
    },
    {
     "name": "stdout",
     "output_type": "stream",
     "text": [
      "#assignments:  1721\n",
      "#assignments:  6691\n",
      "#assignments:  5853\n",
      "#assignments:  6994\n",
      "#assignments:  5433\n",
      "#assignments:  6811\n",
      "#assignments:  7012\n",
      "#assignments:  8530\n",
      "#assignments:  7251\n",
      "#assignments:  6894\n",
      "#assignments:  6810\n"
     ]
    },
    {
     "name": "stderr",
     "output_type": "stream",
     "text": [
      "Epoch 20/45:   0%|          | 0/274 [00:12<?, ?batch/s]"
     ]
    },
    {
     "name": "stdout",
     "output_type": "stream",
     "text": [
      "#assignments best node:  6894\n"
     ]
    },
    {
     "name": "stderr",
     "output_type": "stream",
     "text": [
      "Epoch 20/45: 100%|██████████| 274/274 [00:39<00:00,  6.97batch/s]\n",
      "Epoch 21/45: 100%|██████████| 274/274 [00:26<00:00, 10.21batch/s]\n",
      "  0%|          | 0/274 [00:00<?, ?batch/s]"
     ]
    },
    {
     "name": "stdout",
     "output_type": "stream",
     "text": [
      "#assignments:  1652\n",
      "#assignments:  6725\n",
      "#assignments:  5801\n",
      "#assignments:  7027\n",
      "#assignments:  5523\n",
      "#assignments:  6740\n",
      "#assignments:  7010\n",
      "#assignments:  8589\n",
      "#assignments:  7276\n",
      "#assignments:  3341\n",
      "#assignments:  3559\n",
      "#assignments:  6757\n"
     ]
    },
    {
     "name": "stderr",
     "output_type": "stream",
     "text": [
      "Epoch 22/45:   0%|          | 0/274 [00:16<?, ?batch/s]"
     ]
    },
    {
     "name": "stdout",
     "output_type": "stream",
     "text": [
      "#assignments best node:  8589\n"
     ]
    },
    {
     "name": "stderr",
     "output_type": "stream",
     "text": [
      "Epoch 22/45: 100%|██████████| 274/274 [00:48<00:00,  5.69batch/s]\n",
      "Epoch 23/45: 100%|██████████| 274/274 [00:27<00:00, 10.01batch/s]\n",
      "  0%|          | 0/274 [00:00<?, ?batch/s]"
     ]
    },
    {
     "name": "stdout",
     "output_type": "stream",
     "text": [
      "#assignments:  1704\n",
      "#assignments:  6711\n",
      "#assignments:  5868\n",
      "#assignments:  6955\n",
      "#assignments:  5473\n",
      "#assignments:  6801\n",
      "#assignments:  6997\n",
      "#assignments:  4215\n",
      "#assignments:  4291\n",
      "#assignments:  7391\n",
      "#assignments:  3231\n",
      "#assignments:  3535\n",
      "#assignments:  6828\n"
     ]
    },
    {
     "name": "stderr",
     "output_type": "stream",
     "text": [
      "Epoch 24/45:   0%|          | 0/274 [00:14<?, ?batch/s]"
     ]
    },
    {
     "name": "stdout",
     "output_type": "stream",
     "text": [
      "#assignments best node:  6828\n"
     ]
    },
    {
     "name": "stderr",
     "output_type": "stream",
     "text": [
      "Epoch 24/45: 100%|██████████| 274/274 [00:43<00:00,  6.37batch/s]\n",
      "Epoch 25/45: 100%|██████████| 274/274 [00:28<00:00,  9.62batch/s]\n",
      "  0%|          | 0/274 [00:00<?, ?batch/s]"
     ]
    },
    {
     "name": "stdout",
     "output_type": "stream",
     "text": [
      "#assignments:  1724\n",
      "#assignments:  6796\n",
      "#assignments:  5846\n",
      "#assignments:  6973\n",
      "#assignments:  5465\n",
      "#assignments:  6766\n",
      "#assignments:  6965\n",
      "#assignments:  4183\n",
      "#assignments:  4370\n",
      "#assignments:  7394\n",
      "#assignments:  3374\n",
      "#assignments:  3378\n",
      "#assignments:  3055\n",
      "#assignments:  3711\n"
     ]
    },
    {
     "name": "stderr",
     "output_type": "stream",
     "text": [
      "Epoch 26/45:   0%|          | 0/274 [00:14<?, ?batch/s]"
     ]
    },
    {
     "name": "stdout",
     "output_type": "stream",
     "text": [
      "#assignments best node:  7394\n"
     ]
    },
    {
     "name": "stderr",
     "output_type": "stream",
     "text": [
      "Epoch 26/45: 100%|██████████| 274/274 [00:44<00:00,  6.15batch/s]\n",
      "Epoch 27/45: 100%|██████████| 274/274 [00:29<00:00,  9.34batch/s]\n",
      "  0%|          | 0/274 [00:00<?, ?batch/s]"
     ]
    },
    {
     "name": "stdout",
     "output_type": "stream",
     "text": [
      "#assignments:  1756\n",
      "#assignments:  6724\n",
      "#assignments:  5872\n",
      "#assignments:  6988\n",
      "#assignments:  5433\n",
      "#assignments:  6747\n",
      "#assignments:  7013\n",
      "#assignments:  4231\n",
      "#assignments:  4323\n",
      "#assignments:  5313\n",
      "#assignments:  2100\n",
      "#assignments:  3394\n",
      "#assignments:  3448\n",
      "#assignments:  3130\n",
      "#assignments:  3528\n"
     ]
    },
    {
     "name": "stderr",
     "output_type": "stream",
     "text": [
      "Epoch 28/45:   0%|          | 0/274 [00:14<?, ?batch/s]"
     ]
    },
    {
     "name": "stdout",
     "output_type": "stream",
     "text": [
      "#assignments best node:  6747\n"
     ]
    },
    {
     "name": "stderr",
     "output_type": "stream",
     "text": [
      "Epoch 28/45: 100%|██████████| 274/274 [00:44<00:00,  6.10batch/s]\n",
      "Epoch 29/45: 100%|██████████| 274/274 [00:30<00:00,  9.05batch/s]\n",
      "  0%|          | 0/274 [00:00<?, ?batch/s]"
     ]
    },
    {
     "name": "stdout",
     "output_type": "stream",
     "text": [
      "#assignments:  1764\n",
      "#assignments:  6803\n",
      "#assignments:  5897\n",
      "#assignments:  7002\n",
      "#assignments:  5439\n",
      "#assignments:  3487\n",
      "#assignments:  3254\n",
      "#assignments:  6955\n",
      "#assignments:  4248\n",
      "#assignments:  4265\n",
      "#assignments:  5019\n",
      "#assignments:  2301\n",
      "#assignments:  3412\n",
      "#assignments:  3570\n",
      "#assignments:  3107\n",
      "#assignments:  3477\n"
     ]
    },
    {
     "name": "stderr",
     "output_type": "stream",
     "text": [
      "Epoch 30/45:   0%|          | 0/274 [00:16<?, ?batch/s]"
     ]
    },
    {
     "name": "stdout",
     "output_type": "stream",
     "text": [
      "#assignments best node:  7002\n"
     ]
    },
    {
     "name": "stderr",
     "output_type": "stream",
     "text": [
      "Epoch 30/45: 100%|██████████| 274/274 [00:47<00:00,  5.80batch/s]\n",
      "Epoch 31/45: 100%|██████████| 274/274 [00:35<00:00,  7.76batch/s]\n",
      "  0%|          | 0/274 [00:00<?, ?batch/s]"
     ]
    },
    {
     "name": "stdout",
     "output_type": "stream",
     "text": [
      "#assignments:  1702\n",
      "#assignments:  6775\n",
      "#assignments:  5867\n",
      "#assignments:  3197\n",
      "#assignments:  3760\n",
      "#assignments:  5421\n",
      "#assignments:  3439\n",
      "#assignments:  3301\n",
      "#assignments:  7008\n",
      "#assignments:  4280\n",
      "#assignments:  4222\n",
      "#assignments:  4920\n",
      "#assignments:  2529\n",
      "#assignments:  3572\n",
      "#assignments:  3539\n",
      "#assignments:  3045\n",
      "#assignments:  3423\n"
     ]
    },
    {
     "name": "stderr",
     "output_type": "stream",
     "text": [
      "Epoch 32/45:   0%|          | 0/274 [00:17<?, ?batch/s]"
     ]
    },
    {
     "name": "stdout",
     "output_type": "stream",
     "text": [
      "#assignments best node:  6775\n"
     ]
    },
    {
     "name": "stderr",
     "output_type": "stream",
     "text": [
      "Epoch 32/45: 100%|██████████| 274/274 [00:49<00:00,  5.51batch/s]\n",
      "Epoch 33/45: 100%|██████████| 274/274 [00:32<00:00,  8.31batch/s]\n",
      "  0%|          | 0/274 [00:00<?, ?batch/s]"
     ]
    },
    {
     "name": "stdout",
     "output_type": "stream",
     "text": [
      "#assignments:  1738\n",
      "#assignments:  3437\n",
      "#assignments:  3323\n",
      "#assignments:  5894\n",
      "#assignments:  3539\n",
      "#assignments:  3410\n",
      "#assignments:  5504\n",
      "#assignments:  3332\n",
      "#assignments:  3428\n",
      "#assignments:  6983\n",
      "#assignments:  4253\n",
      "#assignments:  4248\n",
      "#assignments:  4886\n",
      "#assignments:  2521\n",
      "#assignments:  3475\n",
      "#assignments:  3394\n",
      "#assignments:  3203\n",
      "#assignments:  3432\n"
     ]
    },
    {
     "name": "stderr",
     "output_type": "stream",
     "text": [
      "Epoch 34/45:   0%|          | 0/274 [00:18<?, ?batch/s]"
     ]
    },
    {
     "name": "stdout",
     "output_type": "stream",
     "text": [
      "#assignments best node:  6983\n"
     ]
    },
    {
     "name": "stderr",
     "output_type": "stream",
     "text": [
      "Epoch 34/45: 100%|██████████| 274/274 [00:53<00:00,  5.15batch/s]\n",
      "Epoch 35/45: 100%|██████████| 274/274 [00:33<00:00,  8.22batch/s]\n",
      "  0%|          | 0/274 [00:00<?, ?batch/s]"
     ]
    },
    {
     "name": "stdout",
     "output_type": "stream",
     "text": [
      "#assignments:  1696\n",
      "#assignments:  4431\n",
      "#assignments:  2319\n",
      "#assignments:  5967\n",
      "#assignments:  3095\n",
      "#assignments:  3891\n",
      "#assignments:  5467\n",
      "#assignments:  3379\n",
      "#assignments:  3391\n",
      "#assignments:  3208\n",
      "#assignments:  3779\n",
      "#assignments:  4224\n",
      "#assignments:  4222\n",
      "#assignments:  4757\n",
      "#assignments:  2615\n",
      "#assignments:  3492\n",
      "#assignments:  3460\n",
      "#assignments:  3166\n",
      "#assignments:  3441\n"
     ]
    },
    {
     "name": "stderr",
     "output_type": "stream",
     "text": [
      "Epoch 36/45:   0%|          | 0/274 [00:20<?, ?batch/s]"
     ]
    },
    {
     "name": "stdout",
     "output_type": "stream",
     "text": [
      "#assignments best node:  5467\n"
     ]
    },
    {
     "name": "stderr",
     "output_type": "stream",
     "text": [
      "Epoch 36/45: 100%|██████████| 274/274 [00:54<00:00,  5.01batch/s]\n",
      "Epoch 37/45: 100%|██████████| 274/274 [00:34<00:00,  7.94batch/s]\n",
      "Epoch 38/45: 100%|██████████| 274/274 [00:34<00:00,  8.06batch/s]\n",
      "Epoch 39/45: 100%|██████████| 274/274 [00:38<00:00,  7.09batch/s]\n",
      "Epoch 40/45: 100%|██████████| 274/274 [00:34<00:00,  7.85batch/s]\n",
      "Epoch 41/45: 100%|██████████| 274/274 [00:34<00:00,  7.92batch/s]\n",
      "Epoch 42/45: 100%|██████████| 274/274 [00:33<00:00,  8.07batch/s]\n",
      "Epoch 43/45: 100%|██████████| 274/274 [00:34<00:00,  7.94batch/s]\n",
      "Epoch 44/45: 100%|██████████| 274/274 [00:34<00:00,  8.02batch/s]\n",
      "Predict: 100%|██████████| 274/274 [00:04<00:00, 63.58it/s]\n"
     ]
    }
   ],
   "source": [
    "dipect_test_s1 = DipECT(autoencoder=autoencoder, use_pvalue=False, grow_interval=2, max_epochs=45, unimodal_treshhold=1.0, random_state=np.random.RandomState(10))\n",
    "dipect_test_s1 = dipect_test_s1.fit_predict(dataset/255)"
   ]
  },
  {
   "cell_type": "code",
   "execution_count": 28,
   "metadata": {},
   "outputs": [
    {
     "name": "stdout",
     "output_type": "stream",
     "text": [
      "0.8328714285714286\n",
      "0.8448954826715714\n"
     ]
    }
   ],
   "source": [
    "print(dipect_test_s1.tree_.flat_accuracy(labels, 10))\n",
    "print(dipect_test_s1.tree_.flat_nmi(labels, 10))"
   ]
  },
  {
   "cell_type": "code",
   "execution_count": 26,
   "metadata": {},
   "outputs": [
    {
     "name": "stdout",
     "output_type": "stream",
     "text": [
      "cpu\n"
     ]
    },
    {
     "name": "stderr",
     "output_type": "stream",
     "text": [
      "Epoch 0/45: 100%|██████████| 274/274 [00:17<00:00, 15.58batch/s]\n",
      "Epoch 1/45: 100%|██████████| 274/274 [00:17<00:00, 15.71batch/s]\n",
      "  0%|          | 0/274 [00:00<?, ?batch/s]"
     ]
    },
    {
     "name": "stdout",
     "output_type": "stream",
     "text": [
      "#assignments:  38751\n",
      "#assignments:  31249\n"
     ]
    },
    {
     "name": "stderr",
     "output_type": "stream",
     "text": [
      "Epoch 2/45:   0%|          | 1/274 [00:04<21:46,  4.79s/batch]"
     ]
    },
    {
     "name": "stdout",
     "output_type": "stream",
     "text": [
      "#assignments best node:  38751\n"
     ]
    },
    {
     "name": "stderr",
     "output_type": "stream",
     "text": [
      "Epoch 2/45: 100%|██████████| 274/274 [00:22<00:00, 12.22batch/s]\n",
      "Epoch 3/45: 100%|██████████| 274/274 [00:18<00:00, 15.19batch/s]\n",
      "  0%|          | 0/274 [00:00<?, ?batch/s]"
     ]
    },
    {
     "name": "stdout",
     "output_type": "stream",
     "text": [
      "#assignments:  20177\n",
      "#assignments:  19240\n",
      "#assignments:  30583\n"
     ]
    },
    {
     "name": "stderr",
     "output_type": "stream",
     "text": [
      "Epoch 4/45:   0%|          | 1/274 [00:05<24:08,  5.31s/batch]"
     ]
    },
    {
     "name": "stdout",
     "output_type": "stream",
     "text": [
      "#assignments best node:  30583\n"
     ]
    },
    {
     "name": "stderr",
     "output_type": "stream",
     "text": [
      "Epoch 4/45: 100%|██████████| 274/274 [00:24<00:00, 11.41batch/s]\n",
      "Epoch 5/45: 100%|██████████| 274/274 [00:18<00:00, 14.75batch/s]\n",
      "  0%|          | 0/274 [00:00<?, ?batch/s]"
     ]
    },
    {
     "name": "stdout",
     "output_type": "stream",
     "text": [
      "#assignments:  20759\n",
      "#assignments:  19169\n",
      "#assignments:  21258\n",
      "#assignments:  8814\n"
     ]
    },
    {
     "name": "stderr",
     "output_type": "stream",
     "text": [
      "Epoch 6/45:   0%|          | 1/274 [00:06<28:56,  6.36s/batch]"
     ]
    },
    {
     "name": "stdout",
     "output_type": "stream",
     "text": [
      "#assignments best node:  19169\n"
     ]
    },
    {
     "name": "stderr",
     "output_type": "stream",
     "text": [
      "Epoch 6/45: 100%|██████████| 274/274 [00:29<00:00,  9.25batch/s]\n",
      "Epoch 7/45: 100%|██████████| 274/274 [00:21<00:00, 12.94batch/s]\n",
      "  0%|          | 0/274 [00:00<?, ?batch/s]"
     ]
    },
    {
     "name": "stdout",
     "output_type": "stream",
     "text": [
      "#assignments:  20901\n",
      "#assignments:  13952\n",
      "#assignments:  5256\n",
      "#assignments:  21183\n"
     ]
    },
    {
     "name": "stderr",
     "output_type": "stream",
     "text": [
      "Epoch 8/45:   0%|          | 0/274 [00:07<?, ?batch/s]"
     ]
    },
    {
     "name": "stdout",
     "output_type": "stream",
     "text": [
      "#assignments:  8708\n",
      "#assignments best node:  13952\n"
     ]
    },
    {
     "name": "stderr",
     "output_type": "stream",
     "text": [
      "Epoch 8/45: 100%|██████████| 274/274 [00:27<00:00,  9.85batch/s]\n",
      "Epoch 9/45: 100%|██████████| 274/274 [00:20<00:00, 13.38batch/s]\n",
      "  0%|          | 0/274 [00:00<?, ?batch/s]"
     ]
    },
    {
     "name": "stdout",
     "output_type": "stream",
     "text": [
      "#assignments:  21001\n",
      "#assignments:  7095\n",
      "#assignments:  6764\n",
      "#assignments:  5247\n",
      "#assignments:  21109\n",
      "#assignments:  8784\n"
     ]
    },
    {
     "name": "stderr",
     "output_type": "stream",
     "text": [
      "Epoch 10/45:   0%|          | 1/274 [00:08<37:25,  8.23s/batch]"
     ]
    },
    {
     "name": "stdout",
     "output_type": "stream",
     "text": [
      "#assignments best node:  21001\n"
     ]
    },
    {
     "name": "stderr",
     "output_type": "stream",
     "text": [
      "Epoch 10/45: 100%|██████████| 274/274 [00:29<00:00,  9.24batch/s]\n",
      "Epoch 11/45: 100%|██████████| 274/274 [00:21<00:00, 12.83batch/s]\n",
      "  0%|          | 0/274 [00:00<?, ?batch/s]"
     ]
    },
    {
     "name": "stdout",
     "output_type": "stream",
     "text": [
      "#assignments:  12872\n",
      "#assignments:  8288\n",
      "#assignments:  7070\n",
      "#assignments:  6765\n",
      "#assignments:  5420\n",
      "#assignments:  21020\n",
      "#assignments:  8565\n"
     ]
    },
    {
     "name": "stderr",
     "output_type": "stream",
     "text": [
      "Epoch 12/45:   0%|          | 0/274 [00:08<?, ?batch/s]"
     ]
    },
    {
     "name": "stdout",
     "output_type": "stream",
     "text": [
      "#assignments best node:  12872\n"
     ]
    },
    {
     "name": "stderr",
     "output_type": "stream",
     "text": [
      "Epoch 12/45: 100%|██████████| 274/274 [00:31<00:00,  8.56batch/s]\n",
      "Epoch 13/45: 100%|██████████| 274/274 [00:22<00:00, 12.23batch/s]\n",
      "  0%|          | 0/274 [00:00<?, ?batch/s]"
     ]
    },
    {
     "name": "stdout",
     "output_type": "stream",
     "text": [
      "#assignments:  5734\n",
      "#assignments:  7130\n",
      "#assignments:  8296\n",
      "#assignments:  7014\n",
      "#assignments:  6784\n",
      "#assignments:  5452\n",
      "#assignments:  21027\n",
      "#assignments:  8563\n"
     ]
    },
    {
     "name": "stderr",
     "output_type": "stream",
     "text": [
      "Epoch 14/45:   0%|          | 1/274 [00:11<50:12, 11.04s/batch]"
     ]
    },
    {
     "name": "stdout",
     "output_type": "stream",
     "text": [
      "#assignments best node:  21027\n"
     ]
    },
    {
     "name": "stderr",
     "output_type": "stream",
     "text": [
      "Epoch 14/45: 100%|██████████| 274/274 [00:34<00:00,  8.00batch/s]\n",
      "Epoch 15/45: 100%|██████████| 274/274 [00:23<00:00, 11.73batch/s]\n",
      "  0%|          | 0/274 [00:00<?, ?batch/s]"
     ]
    },
    {
     "name": "stdout",
     "output_type": "stream",
     "text": [
      "#assignments:  5826\n",
      "#assignments:  7060\n",
      "#assignments:  8415\n",
      "#assignments:  7034\n",
      "#assignments:  6782\n",
      "#assignments:  5423\n",
      "#assignments:  13679\n",
      "#assignments:  7356\n",
      "#assignments:  8425\n"
     ]
    },
    {
     "name": "stderr",
     "output_type": "stream",
     "text": [
      "Epoch 16/45:   0%|          | 0/274 [00:09<?, ?batch/s]"
     ]
    },
    {
     "name": "stdout",
     "output_type": "stream",
     "text": [
      "#assignments best node:  8415\n"
     ]
    },
    {
     "name": "stderr",
     "output_type": "stream",
     "text": [
      "Epoch 16/45: 100%|██████████| 274/274 [00:33<00:00,  8.23batch/s]\n",
      "Epoch 17/45: 100%|██████████| 274/274 [00:24<00:00, 11.30batch/s]\n",
      "  0%|          | 0/274 [00:00<?, ?batch/s]"
     ]
    },
    {
     "name": "stdout",
     "output_type": "stream",
     "text": [
      "#assignments:  5800\n",
      "#assignments:  7082\n",
      "#assignments:  6629\n",
      "#assignments:  1780\n",
      "#assignments:  7027\n",
      "#assignments:  6775\n",
      "#assignments:  5461\n",
      "#assignments:  13643\n",
      "#assignments:  7325\n",
      "#assignments:  8478\n"
     ]
    },
    {
     "name": "stderr",
     "output_type": "stream",
     "text": [
      "Epoch 18/45:   0%|          | 0/274 [00:10<?, ?batch/s]"
     ]
    },
    {
     "name": "stdout",
     "output_type": "stream",
     "text": [
      "#assignments best node:  13643\n"
     ]
    },
    {
     "name": "stderr",
     "output_type": "stream",
     "text": [
      "Epoch 18/45: 100%|██████████| 274/274 [00:38<00:00,  7.10batch/s]\n",
      "Epoch 19/45: 100%|██████████| 274/274 [00:26<00:00, 10.17batch/s]\n",
      "  0%|          | 0/274 [00:00<?, ?batch/s]"
     ]
    },
    {
     "name": "stdout",
     "output_type": "stream",
     "text": [
      "#assignments:  5828\n",
      "#assignments:  7057\n",
      "#assignments:  6641\n",
      "#assignments:  1818\n",
      "#assignments:  7033\n",
      "#assignments:  6740\n",
      "#assignments:  5375\n",
      "#assignments:  6460\n",
      "#assignments:  7060\n",
      "#assignments:  7418\n",
      "#assignments:  8570\n"
     ]
    },
    {
     "name": "stderr",
     "output_type": "stream",
     "text": [
      "Epoch 20/45:   0%|          | 0/274 [00:11<?, ?batch/s]"
     ]
    },
    {
     "name": "stdout",
     "output_type": "stream",
     "text": [
      "#assignments best node:  7060\n"
     ]
    },
    {
     "name": "stderr",
     "output_type": "stream",
     "text": [
      "Epoch 20/45: 100%|██████████| 274/274 [00:36<00:00,  7.46batch/s]\n",
      "Epoch 21/45: 100%|██████████| 274/274 [00:25<00:00, 10.67batch/s]\n",
      "  0%|          | 0/274 [00:00<?, ?batch/s]"
     ]
    },
    {
     "name": "stdout",
     "output_type": "stream",
     "text": [
      "#assignments:  5859\n",
      "#assignments:  7035\n",
      "#assignments:  6748\n",
      "#assignments:  1787\n",
      "#assignments:  7020\n",
      "#assignments:  6743\n",
      "#assignments:  5393\n",
      "#assignments:  6672\n",
      "#assignments:  3777\n",
      "#assignments:  3038\n",
      "#assignments:  7407\n",
      "#assignments:  8521\n"
     ]
    },
    {
     "name": "stderr",
     "output_type": "stream",
     "text": [
      "Epoch 22/45:   0%|          | 0/274 [00:12<?, ?batch/s]"
     ]
    },
    {
     "name": "stdout",
     "output_type": "stream",
     "text": [
      "#assignments best node:  6672\n"
     ]
    },
    {
     "name": "stderr",
     "output_type": "stream",
     "text": [
      "Epoch 22/45: 100%|██████████| 274/274 [00:39<00:00,  7.00batch/s]\n",
      "Epoch 23/45: 100%|██████████| 274/274 [00:26<00:00, 10.33batch/s]\n",
      "  0%|          | 0/274 [00:00<?, ?batch/s]"
     ]
    },
    {
     "name": "stdout",
     "output_type": "stream",
     "text": [
      "#assignments:  5820\n",
      "#assignments:  7029\n",
      "#assignments:  6701\n",
      "#assignments:  1822\n",
      "#assignments:  7023\n",
      "#assignments:  6773\n",
      "#assignments:  5325\n",
      "#assignments:  3673\n",
      "#assignments:  2958\n",
      "#assignments:  3586\n",
      "#assignments:  3260\n",
      "#assignments:  7503\n",
      "#assignments:  8527\n"
     ]
    },
    {
     "name": "stderr",
     "output_type": "stream",
     "text": [
      "Epoch 24/45:   0%|          | 0/274 [00:12<?, ?batch/s]"
     ]
    },
    {
     "name": "stdout",
     "output_type": "stream",
     "text": [
      "#assignments best node:  7503\n"
     ]
    },
    {
     "name": "stderr",
     "output_type": "stream",
     "text": [
      "Epoch 24/45: 100%|██████████| 274/274 [00:39<00:00,  6.91batch/s]\n",
      "Epoch 25/45: 100%|██████████| 274/274 [00:27<00:00,  9.89batch/s]\n",
      "  0%|          | 0/274 [00:00<?, ?batch/s]"
     ]
    },
    {
     "name": "stdout",
     "output_type": "stream",
     "text": [
      "#assignments:  5828\n",
      "#assignments:  7017\n",
      "#assignments:  6678\n",
      "#assignments:  1818\n",
      "#assignments:  7014\n",
      "#assignments:  6764\n",
      "#assignments:  5376\n",
      "#assignments:  3516\n",
      "#assignments:  3061\n",
      "#assignments:  3607\n",
      "#assignments:  3319\n",
      "#assignments:  5253\n",
      "#assignments:  2195\n",
      "#assignments:  8554\n"
     ]
    },
    {
     "name": "stderr",
     "output_type": "stream",
     "text": [
      "Epoch 26/45:   0%|          | 0/274 [00:13<?, ?batch/s]"
     ]
    },
    {
     "name": "stdout",
     "output_type": "stream",
     "text": [
      "#assignments best node:  8554\n"
     ]
    },
    {
     "name": "stderr",
     "output_type": "stream",
     "text": [
      "Epoch 26/45: 100%|██████████| 274/274 [00:41<00:00,  6.57batch/s]\n",
      "Epoch 27/45: 100%|██████████| 274/274 [00:28<00:00,  9.60batch/s]\n",
      "  0%|          | 0/274 [00:00<?, ?batch/s]"
     ]
    },
    {
     "name": "stdout",
     "output_type": "stream",
     "text": [
      "#assignments:  5846\n",
      "#assignments:  7002\n",
      "#assignments:  6741\n",
      "#assignments:  1766\n",
      "#assignments:  7006\n",
      "#assignments:  6762\n",
      "#assignments:  5400\n",
      "#assignments:  3458\n",
      "#assignments:  3005\n",
      "#assignments:  3750\n",
      "#assignments:  3258\n",
      "#assignments:  5133\n",
      "#assignments:  2343\n",
      "#assignments:  4517\n",
      "#assignments:  4013\n"
     ]
    },
    {
     "name": "stderr",
     "output_type": "stream",
     "text": [
      "Epoch 28/45:   0%|          | 0/274 [00:17<?, ?batch/s]"
     ]
    },
    {
     "name": "stdout",
     "output_type": "stream",
     "text": [
      "#assignments best node:  4013\n"
     ]
    },
    {
     "name": "stderr",
     "output_type": "stream",
     "text": [
      "Epoch 28/45: 100%|██████████| 274/274 [00:51<00:00,  5.37batch/s]\n",
      "Epoch 29/45: 100%|██████████| 274/274 [00:30<00:00,  9.00batch/s]\n",
      "  0%|          | 0/274 [00:00<?, ?batch/s]"
     ]
    },
    {
     "name": "stdout",
     "output_type": "stream",
     "text": [
      "#assignments:  5832\n",
      "#assignments:  7003\n",
      "#assignments:  6667\n",
      "#assignments:  1788\n",
      "#assignments:  7013\n",
      "#assignments:  6757\n",
      "#assignments:  5379\n",
      "#assignments:  3363\n",
      "#assignments:  3032\n",
      "#assignments:  3684\n",
      "#assignments:  3280\n",
      "#assignments:  4976\n",
      "#assignments:  2619\n",
      "#assignments:  4279\n",
      "#assignments:  2119\n",
      "#assignments:  2209\n"
     ]
    },
    {
     "name": "stderr",
     "output_type": "stream",
     "text": [
      "Epoch 30/45:   0%|          | 0/274 [00:17<?, ?batch/s]"
     ]
    },
    {
     "name": "stdout",
     "output_type": "stream",
     "text": [
      "#assignments best node:  2209\n"
     ]
    },
    {
     "name": "stderr",
     "output_type": "stream",
     "text": [
      "Epoch 30/45: 100%|██████████| 274/274 [00:47<00:00,  5.82batch/s]\n",
      "Epoch 31/45: 100%|██████████| 274/274 [00:30<00:00,  8.94batch/s]\n",
      "  0%|          | 0/274 [00:00<?, ?batch/s]"
     ]
    },
    {
     "name": "stdout",
     "output_type": "stream",
     "text": [
      "#assignments:  5804\n",
      "#assignments:  6995\n",
      "#assignments:  6749\n",
      "#assignments:  1873\n",
      "#assignments:  7012\n",
      "#assignments:  6740\n",
      "#assignments:  5335\n",
      "#assignments:  3318\n",
      "#assignments:  2969\n",
      "#assignments:  3771\n",
      "#assignments:  3327\n",
      "#assignments:  4858\n",
      "#assignments:  2699\n",
      "#assignments:  4293\n",
      "#assignments:  3813\n",
      "#assignments:  340\n"
     ]
    },
    {
     "name": "stderr",
     "output_type": "stream",
     "text": [
      "Epoch 32/45:   0%|          | 0/274 [00:16<?, ?batch/s]"
     ]
    },
    {
     "name": "stdout",
     "output_type": "stream",
     "text": [
      "#assignments:  104\n",
      "#assignments best node:  104\n"
     ]
    },
    {
     "name": "stderr",
     "output_type": "stream",
     "text": [
      "Epoch 32/45: 100%|██████████| 274/274 [00:46<00:00,  5.88batch/s]\n",
      "Epoch 33/45: 100%|██████████| 274/274 [00:30<00:00,  8.87batch/s]\n",
      "  0%|          | 0/274 [00:00<?, ?batch/s]"
     ]
    },
    {
     "name": "stdout",
     "output_type": "stream",
     "text": [
      "#assignments:  5830\n",
      "#assignments:  7023\n",
      "#assignments:  6741\n",
      "#assignments:  1815\n",
      "#assignments:  6992\n",
      "#assignments:  6717\n",
      "#assignments:  5367\n",
      "#assignments:  3350\n",
      "#assignments:  3024\n",
      "#assignments:  3692\n",
      "#assignments:  3321\n",
      "#assignments:  4858\n",
      "#assignments:  2695\n",
      "#assignments:  4327\n",
      "#assignments:  1843\n",
      "#assignments:  366\n",
      "#assignments:  1229\n"
     ]
    },
    {
     "name": "stderr",
     "output_type": "stream",
     "text": [
      "Epoch 34/45:   0%|          | 0/274 [00:18<?, ?batch/s]"
     ]
    },
    {
     "name": "stdout",
     "output_type": "stream",
     "text": [
      "#assignments:  810\n",
      "#assignments best node:  6717\n"
     ]
    },
    {
     "name": "stderr",
     "output_type": "stream",
     "text": [
      "Epoch 34/45: 100%|██████████| 274/274 [00:49<00:00,  5.52batch/s]\n",
      "Epoch 35/45: 100%|██████████| 274/274 [00:31<00:00,  8.70batch/s]\n",
      "  0%|          | 0/274 [00:00<?, ?batch/s]"
     ]
    },
    {
     "name": "stdout",
     "output_type": "stream",
     "text": [
      "#assignments:  5805\n",
      "#assignments:  7021\n",
      "#assignments:  6731\n",
      "#assignments:  1824\n",
      "#assignments:  6989\n",
      "#assignments:  3412\n",
      "#assignments:  3359\n",
      "#assignments:  5393\n",
      "#assignments:  3303\n",
      "#assignments:  3006\n",
      "#assignments:  3797\n",
      "#assignments:  3256\n",
      "#assignments:  4709\n",
      "#assignments:  2761\n",
      "#assignments:  4355\n",
      "#assignments:  2102\n",
      "#assignments:  379\n",
      "#assignments:  1068\n"
     ]
    },
    {
     "name": "stderr",
     "output_type": "stream",
     "text": [
      "Epoch 36/45:   0%|          | 0/274 [00:14<?, ?batch/s]"
     ]
    },
    {
     "name": "stdout",
     "output_type": "stream",
     "text": [
      "#assignments:  730\n",
      "#assignments best node:  6989\n"
     ]
    },
    {
     "name": "stderr",
     "output_type": "stream",
     "text": [
      "Epoch 36/45: 100%|██████████| 274/274 [00:48<00:00,  5.66batch/s]\n",
      "Epoch 37/45: 100%|██████████| 274/274 [00:34<00:00,  7.83batch/s]\n",
      "Epoch 38/45: 100%|██████████| 274/274 [00:31<00:00,  8.60batch/s]\n",
      "Epoch 39/45: 100%|██████████| 274/274 [00:32<00:00,  8.51batch/s]\n",
      "Epoch 40/45: 100%|██████████| 274/274 [00:31<00:00,  8.62batch/s]\n",
      "Epoch 41/45: 100%|██████████| 274/274 [00:32<00:00,  8.56batch/s]\n",
      "Epoch 42/45: 100%|██████████| 274/274 [00:32<00:00,  8.55batch/s]\n",
      "Epoch 43/45: 100%|██████████| 274/274 [00:32<00:00,  8.52batch/s]\n",
      "Epoch 44/45: 100%|██████████| 274/274 [00:31<00:00,  8.65batch/s]\n",
      "Predict: 100%|██████████| 274/274 [00:03<00:00, 72.24it/s]\n"
     ]
    }
   ],
   "source": [
    "dipect_test_s2 = DipECT(autoencoder=autoencoder, use_pvalue=False, grow_interval=2, max_epochs=45, unimodal_treshhold=1.0, random_state=np.random.RandomState(2))\n",
    "dipect_test_s2 = dipect_test_s2.fit_predict(dataset/255)"
   ]
  },
  {
   "cell_type": "code",
   "execution_count": 29,
   "metadata": {},
   "outputs": [
    {
     "name": "stdout",
     "output_type": "stream",
     "text": [
      "0.8302857142857143\n",
      "0.8407902691700898\n"
     ]
    }
   ],
   "source": [
    "print(dipect_test_s2.tree_.flat_accuracy(labels, 10))\n",
    "print(dipect_test_s2.tree_.flat_nmi(labels, 10))"
   ]
  },
  {
   "cell_type": "code",
   "execution_count": 27,
   "metadata": {},
   "outputs": [
    {
     "name": "stdout",
     "output_type": "stream",
     "text": [
      "cpu\n"
     ]
    },
    {
     "name": "stderr",
     "output_type": "stream",
     "text": [
      "Epoch 0/45: 100%|██████████| 274/274 [00:17<00:00, 15.95batch/s]\n",
      "Epoch 1/45: 100%|██████████| 274/274 [00:17<00:00, 16.04batch/s]\n",
      "  0%|          | 0/274 [00:00<?, ?batch/s]"
     ]
    },
    {
     "name": "stdout",
     "output_type": "stream",
     "text": [
      "#assignments:  31980\n",
      "#assignments:  38020\n"
     ]
    },
    {
     "name": "stderr",
     "output_type": "stream",
     "text": [
      "Epoch 2/45:   0%|          | 1/274 [00:04<22:01,  4.84s/batch]"
     ]
    },
    {
     "name": "stdout",
     "output_type": "stream",
     "text": [
      "#assignments best node:  38020\n"
     ]
    },
    {
     "name": "stderr",
     "output_type": "stream",
     "text": [
      "Epoch 2/45: 100%|██████████| 274/274 [00:22<00:00, 11.94batch/s]\n",
      "Epoch 3/45: 100%|██████████| 274/274 [00:20<00:00, 13.11batch/s]\n",
      "  0%|          | 0/274 [00:00<?, ?batch/s]"
     ]
    },
    {
     "name": "stdout",
     "output_type": "stream",
     "text": [
      "#assignments:  30590\n",
      "#assignments:  19339\n",
      "#assignments:  20071\n"
     ]
    },
    {
     "name": "stderr",
     "output_type": "stream",
     "text": [
      "Epoch 4/45:   0%|          | 0/274 [00:06<?, ?batch/s]"
     ]
    },
    {
     "name": "stdout",
     "output_type": "stream",
     "text": [
      "#assignments best node:  30590\n"
     ]
    },
    {
     "name": "stderr",
     "output_type": "stream",
     "text": [
      "Epoch 4/45: 100%|██████████| 274/274 [00:26<00:00, 10.26batch/s]\n",
      "Epoch 5/45: 100%|██████████| 274/274 [00:18<00:00, 14.66batch/s]\n",
      "  0%|          | 0/274 [00:00<?, ?batch/s]"
     ]
    },
    {
     "name": "stdout",
     "output_type": "stream",
     "text": [
      "#assignments:  21184\n",
      "#assignments:  9052\n",
      "#assignments:  19317\n",
      "#assignments:  20447\n"
     ]
    },
    {
     "name": "stderr",
     "output_type": "stream",
     "text": [
      "Epoch 6/45:   0%|          | 1/274 [00:05<24:38,  5.42s/batch]"
     ]
    },
    {
     "name": "stdout",
     "output_type": "stream",
     "text": [
      "#assignments best node:  19317\n"
     ]
    },
    {
     "name": "stderr",
     "output_type": "stream",
     "text": [
      "Epoch 6/45: 100%|██████████| 274/274 [00:25<00:00, 10.94batch/s]\n",
      "Epoch 7/45: 100%|██████████| 274/274 [00:19<00:00, 14.12batch/s]\n",
      "  0%|          | 0/274 [00:00<?, ?batch/s]"
     ]
    },
    {
     "name": "stdout",
     "output_type": "stream",
     "text": [
      "#assignments:  21141\n",
      "#assignments:  8926\n",
      "#assignments:  5188\n",
      "#assignments:  13943\n",
      "#assignments:  20802\n"
     ]
    },
    {
     "name": "stderr",
     "output_type": "stream",
     "text": [
      "Epoch 8/45:   0%|          | 1/274 [00:06<28:08,  6.19s/batch]"
     ]
    },
    {
     "name": "stdout",
     "output_type": "stream",
     "text": [
      "#assignments best node:  13943\n"
     ]
    },
    {
     "name": "stderr",
     "output_type": "stream",
     "text": [
      "Epoch 8/45: 100%|██████████| 274/274 [00:27<00:00, 10.01batch/s]\n",
      "Epoch 9/45: 100%|██████████| 274/274 [00:20<00:00, 13.34batch/s]\n",
      "  0%|          | 0/274 [00:00<?, ?batch/s]"
     ]
    },
    {
     "name": "stdout",
     "output_type": "stream",
     "text": [
      "#assignments:  21187\n",
      "#assignments:  8808\n",
      "#assignments:  5273\n",
      "#assignments:  6820\n",
      "#assignments:  7074\n",
      "#assignments:  20838\n"
     ]
    },
    {
     "name": "stderr",
     "output_type": "stream",
     "text": [
      "Epoch 10/45:   0%|          | 1/274 [00:08<36:39,  8.06s/batch]"
     ]
    },
    {
     "name": "stdout",
     "output_type": "stream",
     "text": [
      "#assignments best node:  20838\n"
     ]
    },
    {
     "name": "stderr",
     "output_type": "stream",
     "text": [
      "Epoch 10/45: 100%|██████████| 274/274 [00:29<00:00,  9.27batch/s]\n",
      "Epoch 11/45: 100%|██████████| 274/274 [00:21<00:00, 12.65batch/s]\n",
      "  0%|          | 0/274 [00:00<?, ?batch/s]"
     ]
    },
    {
     "name": "stdout",
     "output_type": "stream",
     "text": [
      "#assignments:  21098\n",
      "#assignments:  8754\n",
      "#assignments:  5181\n",
      "#assignments:  6776\n",
      "#assignments:  7070\n",
      "#assignments:  12776\n",
      "#assignments:  8345\n"
     ]
    },
    {
     "name": "stderr",
     "output_type": "stream",
     "text": [
      "Epoch 12/45:   0%|          | 0/274 [00:07<?, ?batch/s]"
     ]
    },
    {
     "name": "stdout",
     "output_type": "stream",
     "text": [
      "#assignments best node:  12776\n"
     ]
    },
    {
     "name": "stderr",
     "output_type": "stream",
     "text": [
      "Epoch 12/45: 100%|██████████| 274/274 [00:30<00:00,  9.06batch/s]\n",
      "Epoch 13/45: 100%|██████████| 274/274 [00:22<00:00, 12.22batch/s]\n",
      "  0%|          | 0/274 [00:00<?, ?batch/s]"
     ]
    },
    {
     "name": "stdout",
     "output_type": "stream",
     "text": [
      "#assignments:  21101\n",
      "#assignments:  8669\n",
      "#assignments:  5331\n",
      "#assignments:  6800\n",
      "#assignments:  7046\n",
      "#assignments:  7097\n",
      "#assignments:  5643\n",
      "#assignments:  8313\n"
     ]
    },
    {
     "name": "stderr",
     "output_type": "stream",
     "text": [
      "Epoch 14/45:   0%|          | 0/274 [00:09<?, ?batch/s]"
     ]
    },
    {
     "name": "stdout",
     "output_type": "stream",
     "text": [
      "#assignments best node:  21101\n"
     ]
    },
    {
     "name": "stderr",
     "output_type": "stream",
     "text": [
      "Epoch 14/45: 100%|██████████| 274/274 [00:33<00:00,  8.20batch/s]\n",
      "Epoch 15/45: 100%|██████████| 274/274 [00:23<00:00, 11.75batch/s]\n",
      "  0%|          | 0/274 [00:00<?, ?batch/s]"
     ]
    },
    {
     "name": "stdout",
     "output_type": "stream",
     "text": [
      "#assignments:  12814\n",
      "#assignments:  8248\n",
      "#assignments:  8618\n",
      "#assignments:  5269\n",
      "#assignments:  6819\n",
      "#assignments:  7022\n",
      "#assignments:  7071\n",
      "#assignments:  5681\n",
      "#assignments:  8458\n"
     ]
    },
    {
     "name": "stderr",
     "output_type": "stream",
     "text": [
      "Epoch 16/45:   0%|          | 1/274 [00:09<45:11,  9.93s/batch]"
     ]
    },
    {
     "name": "stdout",
     "output_type": "stream",
     "text": [
      "#assignments best node:  8458\n"
     ]
    },
    {
     "name": "stderr",
     "output_type": "stream",
     "text": [
      "Epoch 16/45: 100%|██████████| 274/274 [00:37<00:00,  7.30batch/s]\n",
      "Epoch 17/45: 100%|██████████| 274/274 [00:26<00:00, 10.18batch/s]\n",
      "  0%|          | 0/274 [00:00<?, ?batch/s]"
     ]
    },
    {
     "name": "stdout",
     "output_type": "stream",
     "text": [
      "#assignments:  13440\n",
      "#assignments:  7535\n",
      "#assignments:  8680\n",
      "#assignments:  5281\n",
      "#assignments:  6778\n",
      "#assignments:  6999\n",
      "#assignments:  7086\n",
      "#assignments:  5695\n",
      "#assignments:  6667\n",
      "#assignments:  1839\n"
     ]
    },
    {
     "name": "stderr",
     "output_type": "stream",
     "text": [
      "Epoch 18/45:   0%|          | 0/274 [00:11<?, ?batch/s]"
     ]
    },
    {
     "name": "stdout",
     "output_type": "stream",
     "text": [
      "#assignments best node:  13440\n"
     ]
    },
    {
     "name": "stderr",
     "output_type": "stream",
     "text": [
      "Epoch 18/45: 100%|██████████| 274/274 [00:36<00:00,  7.47batch/s]\n",
      "Epoch 19/45: 100%|██████████| 274/274 [00:24<00:00, 10.97batch/s]\n",
      "  0%|          | 0/274 [00:00<?, ?batch/s]"
     ]
    },
    {
     "name": "stdout",
     "output_type": "stream",
     "text": [
      "#assignments:  6482\n",
      "#assignments:  6977\n",
      "#assignments:  7585\n",
      "#assignments:  8562\n",
      "#assignments:  5260\n",
      "#assignments:  6789\n",
      "#assignments:  7015\n",
      "#assignments:  7045\n",
      "#assignments:  5739\n",
      "#assignments:  6667\n",
      "#assignments:  1879\n"
     ]
    },
    {
     "name": "stderr",
     "output_type": "stream",
     "text": [
      "Epoch 20/45:   0%|          | 0/274 [00:12<?, ?batch/s]"
     ]
    },
    {
     "name": "stdout",
     "output_type": "stream",
     "text": [
      "#assignments best node:  8562\n"
     ]
    },
    {
     "name": "stderr",
     "output_type": "stream",
     "text": [
      "Epoch 20/45: 100%|██████████| 274/274 [00:38<00:00,  7.07batch/s]\n",
      "Epoch 21/45: 100%|██████████| 274/274 [00:26<00:00, 10.46batch/s]\n",
      "  0%|          | 0/274 [00:00<?, ?batch/s]"
     ]
    },
    {
     "name": "stdout",
     "output_type": "stream",
     "text": [
      "#assignments:  6709\n",
      "#assignments:  6709\n",
      "#assignments:  7594\n",
      "#assignments:  4392\n",
      "#assignments:  4219\n",
      "#assignments:  5296\n",
      "#assignments:  6770\n",
      "#assignments:  7030\n",
      "#assignments:  6999\n",
      "#assignments:  5732\n",
      "#assignments:  6672\n",
      "#assignments:  1878\n"
     ]
    },
    {
     "name": "stderr",
     "output_type": "stream",
     "text": [
      "Epoch 22/45:   0%|          | 1/274 [00:13<1:02:57, 13.84s/batch]"
     ]
    },
    {
     "name": "stdout",
     "output_type": "stream",
     "text": [
      "#assignments best node:  6709\n"
     ]
    },
    {
     "name": "stderr",
     "output_type": "stream",
     "text": [
      "Epoch 22/45: 100%|██████████| 274/274 [00:40<00:00,  6.76batch/s]\n",
      "Epoch 23/45: 100%|██████████| 274/274 [00:26<00:00, 10.36batch/s]\n",
      "  0%|          | 0/274 [00:00<?, ?batch/s]"
     ]
    },
    {
     "name": "stdout",
     "output_type": "stream",
     "text": [
      "#assignments:  3597\n",
      "#assignments:  3153\n",
      "#assignments:  6776\n",
      "#assignments:  7546\n",
      "#assignments:  4392\n",
      "#assignments:  4203\n",
      "#assignments:  5280\n",
      "#assignments:  6804\n",
      "#assignments:  7027\n",
      "#assignments:  7040\n",
      "#assignments:  5718\n",
      "#assignments:  6632\n",
      "#assignments:  1832\n"
     ]
    },
    {
     "name": "stderr",
     "output_type": "stream",
     "text": [
      "Epoch 24/45:   0%|          | 0/274 [00:14<?, ?batch/s]"
     ]
    },
    {
     "name": "stdout",
     "output_type": "stream",
     "text": [
      "#assignments best node:  6776\n"
     ]
    },
    {
     "name": "stderr",
     "output_type": "stream",
     "text": [
      "Epoch 24/45: 100%|██████████| 274/274 [00:42<00:00,  6.52batch/s]\n",
      "Epoch 25/45: 100%|██████████| 274/274 [00:28<00:00,  9.66batch/s]\n",
      "  0%|          | 0/274 [00:00<?, ?batch/s]"
     ]
    },
    {
     "name": "stdout",
     "output_type": "stream",
     "text": [
      "#assignments:  3363\n",
      "#assignments:  3303\n",
      "#assignments:  3407\n",
      "#assignments:  3200\n",
      "#assignments:  7722\n",
      "#assignments:  4368\n",
      "#assignments:  4239\n",
      "#assignments:  5234\n",
      "#assignments:  6775\n",
      "#assignments:  7016\n",
      "#assignments:  6981\n",
      "#assignments:  5777\n",
      "#assignments:  6729\n",
      "#assignments:  1886\n"
     ]
    },
    {
     "name": "stderr",
     "output_type": "stream",
     "text": [
      "Epoch 26/45:   0%|          | 0/274 [00:17<?, ?batch/s]"
     ]
    },
    {
     "name": "stdout",
     "output_type": "stream",
     "text": [
      "#assignments best node:  7722\n"
     ]
    },
    {
     "name": "stderr",
     "output_type": "stream",
     "text": [
      "Epoch 26/45: 100%|██████████| 274/274 [00:49<00:00,  5.51batch/s]\n",
      "Epoch 27/45: 100%|██████████| 274/274 [00:30<00:00,  9.12batch/s]\n",
      "  0%|          | 0/274 [00:00<?, ?batch/s]"
     ]
    },
    {
     "name": "stdout",
     "output_type": "stream",
     "text": [
      "#assignments:  3573\n",
      "#assignments:  3256\n",
      "#assignments:  3438\n",
      "#assignments:  3274\n",
      "#assignments:  1999\n",
      "#assignments:  5517\n",
      "#assignments:  4314\n",
      "#assignments:  4229\n",
      "#assignments:  5187\n",
      "#assignments:  6768\n",
      "#assignments:  7027\n",
      "#assignments:  6990\n",
      "#assignments:  5758\n",
      "#assignments:  6771\n",
      "#assignments:  1899\n"
     ]
    },
    {
     "name": "stderr",
     "output_type": "stream",
     "text": [
      "Epoch 28/45:   0%|          | 0/274 [00:17<?, ?batch/s]"
     ]
    },
    {
     "name": "stdout",
     "output_type": "stream",
     "text": [
      "#assignments best node:  4229\n"
     ]
    },
    {
     "name": "stderr",
     "output_type": "stream",
     "text": [
      "Epoch 28/45: 100%|██████████| 274/274 [00:46<00:00,  5.86batch/s]\n",
      "Epoch 29/45: 100%|██████████| 274/274 [00:29<00:00,  9.36batch/s]\n",
      "  0%|          | 0/274 [00:00<?, ?batch/s]"
     ]
    },
    {
     "name": "stdout",
     "output_type": "stream",
     "text": [
      "#assignments:  3488\n",
      "#assignments:  3217\n",
      "#assignments:  3457\n",
      "#assignments:  3341\n",
      "#assignments:  2225\n",
      "#assignments:  5276\n",
      "#assignments:  4436\n",
      "#assignments:  3759\n",
      "#assignments:  385\n",
      "#assignments:  5292\n",
      "#assignments:  6765\n",
      "#assignments:  6993\n",
      "#assignments:  7022\n",
      "#assignments:  5748\n",
      "#assignments:  6743\n",
      "#assignments:  1853\n"
     ]
    },
    {
     "name": "stderr",
     "output_type": "stream",
     "text": [
      "Epoch 30/45:   0%|          | 0/274 [00:16<?, ?batch/s]"
     ]
    },
    {
     "name": "stdout",
     "output_type": "stream",
     "text": [
      "#assignments best node:  385\n"
     ]
    },
    {
     "name": "stderr",
     "output_type": "stream",
     "text": [
      "Epoch 30/45: 100%|██████████| 274/274 [00:46<00:00,  5.87batch/s]\n",
      "Epoch 31/45: 100%|██████████| 274/274 [00:29<00:00,  9.32batch/s]\n",
      "  0%|          | 0/274 [00:00<?, ?batch/s]"
     ]
    },
    {
     "name": "stdout",
     "output_type": "stream",
     "text": [
      "#assignments:  3315\n",
      "#assignments:  3221\n",
      "#assignments:  3485\n",
      "#assignments:  3416\n",
      "#assignments:  2385\n",
      "#assignments:  5205\n",
      "#assignments:  4309\n",
      "#assignments:  3866\n",
      "#assignments:  122\n",
      "#assignments:  261\n",
      "#assignments:  5249\n",
      "#assignments:  6752\n",
      "#assignments:  6978\n",
      "#assignments:  7002\n",
      "#assignments:  5780\n",
      "#assignments:  6735\n",
      "#assignments:  1919\n"
     ]
    },
    {
     "name": "stderr",
     "output_type": "stream",
     "text": [
      "Epoch 32/45:   0%|          | 0/274 [00:15<?, ?batch/s]"
     ]
    },
    {
     "name": "stdout",
     "output_type": "stream",
     "text": [
      "#assignments best node:  122\n"
     ]
    },
    {
     "name": "stderr",
     "output_type": "stream",
     "text": [
      "Epoch 32/45: 100%|██████████| 274/274 [00:46<00:00,  5.92batch/s]\n",
      "Epoch 33/45: 100%|██████████| 274/274 [00:30<00:00,  9.05batch/s]\n",
      "  0%|          | 0/274 [00:00<?, ?batch/s]"
     ]
    },
    {
     "name": "stdout",
     "output_type": "stream",
     "text": [
      "#assignments:  3270\n",
      "#assignments:  3234\n",
      "#assignments:  3478\n",
      "#assignments:  3408\n",
      "#assignments:  2542\n",
      "#assignments:  5011\n",
      "#assignments:  4298\n",
      "#assignments:  3958\n",
      "#assignments:  122\n",
      "#assignments:  125\n",
      "#assignments:  153\n",
      "#assignments:  5244\n",
      "#assignments:  6761\n",
      "#assignments:  6998\n",
      "#assignments:  6985\n",
      "#assignments:  5736\n",
      "#assignments:  6754\n",
      "#assignments:  1923\n"
     ]
    },
    {
     "name": "stderr",
     "output_type": "stream",
     "text": [
      "Epoch 34/45:   0%|          | 0/274 [00:16<?, ?batch/s]"
     ]
    },
    {
     "name": "stdout",
     "output_type": "stream",
     "text": [
      "#assignments best node:  125\n"
     ]
    },
    {
     "name": "stderr",
     "output_type": "stream",
     "text": [
      "Epoch 34/45: 100%|██████████| 274/274 [00:47<00:00,  5.80batch/s]\n",
      "Epoch 35/45: 100%|██████████| 274/274 [00:34<00:00,  7.91batch/s]\n",
      "  0%|          | 0/274 [00:00<?, ?batch/s]"
     ]
    },
    {
     "name": "stdout",
     "output_type": "stream",
     "text": [
      "#assignments:  3239\n",
      "#assignments:  3240\n",
      "#assignments:  3498\n",
      "#assignments:  3459\n",
      "#assignments:  2597\n",
      "#assignments:  4988\n",
      "#assignments:  4248\n",
      "#assignments:  1706\n",
      "#assignments:  746\n",
      "#assignments:  451\n",
      "#assignments:  651\n",
      "#assignments:  845\n",
      "#assignments:  5205\n",
      "#assignments:  6770\n",
      "#assignments:  7002\n",
      "#assignments:  7010\n",
      "#assignments:  5723\n",
      "#assignments:  6702\n",
      "#assignments:  1920\n"
     ]
    },
    {
     "name": "stderr",
     "output_type": "stream",
     "text": [
      "Epoch 36/45:   0%|          | 0/274 [00:16<?, ?batch/s]"
     ]
    },
    {
     "name": "stdout",
     "output_type": "stream",
     "text": [
      "#assignments best node:  746\n"
     ]
    },
    {
     "name": "stderr",
     "output_type": "stream",
     "text": [
      "Epoch 36/45: 100%|██████████| 274/274 [00:47<00:00,  5.74batch/s]\n",
      "Epoch 37/45: 100%|██████████| 274/274 [00:31<00:00,  8.82batch/s]\n",
      "Epoch 38/45: 100%|██████████| 274/274 [00:31<00:00,  8.80batch/s]\n",
      "Epoch 39/45: 100%|██████████| 274/274 [00:31<00:00,  8.70batch/s]\n",
      "  0%|          | 0/274 [00:00<?, ?batch/s]"
     ]
    },
    {
     "name": "stdout",
     "output_type": "stream",
     "text": [
      "Tree size after pruning: 37, leaf nodes: 19\n",
      "#assignments:  3181\n",
      "#assignments:  3192\n",
      "#assignments:  3542\n",
      "#assignments:  3512\n",
      "#assignments:  2783\n",
      "#assignments:  4803\n",
      "#assignments:  4195\n",
      "#assignments:  1885\n",
      "#assignments:  592\n",
      "#assignments:  299\n",
      "#assignments:  279\n",
      "#assignments:  1358\n",
      "#assignments:  5264\n",
      "#assignments:  6737\n",
      "#assignments:  6993\n",
      "#assignments:  7021\n",
      "#assignments:  5779\n",
      "#assignments:  6729\n",
      "#assignments:  1856\n"
     ]
    },
    {
     "name": "stderr",
     "output_type": "stream",
     "text": [
      "Epoch 40/45:   0%|          | 0/274 [00:16<?, ?batch/s]"
     ]
    },
    {
     "name": "stdout",
     "output_type": "stream",
     "text": [
      "#assignments best node:  279\n"
     ]
    },
    {
     "name": "stderr",
     "output_type": "stream",
     "text": [
      "Epoch 40/45: 100%|██████████| 274/274 [00:47<00:00,  5.77batch/s]\n",
      "Epoch 41/45: 100%|██████████| 274/274 [00:31<00:00,  8.62batch/s]\n",
      "Epoch 42/45: 100%|██████████| 274/274 [00:30<00:00,  8.88batch/s]\n",
      "Epoch 43/45: 100%|██████████| 274/274 [00:31<00:00,  8.78batch/s]\n",
      "Epoch 44/45: 100%|██████████| 274/274 [00:32<00:00,  8.49batch/s]\n",
      "Predict: 100%|██████████| 274/274 [00:04<00:00, 60.07it/s]\n"
     ]
    }
   ],
   "source": [
    "dipect_test_s3 = DipECT(autoencoder=autoencoder, use_pvalue=False, grow_interval=2, max_epochs=45, unimodal_treshhold=1.0, random_state=np.random.RandomState(1))\n",
    "dipect_test_s3 = dipect_test_s3.fit_predict(dataset/255)"
   ]
  },
  {
   "cell_type": "code",
   "execution_count": 30,
   "metadata": {},
   "outputs": [
    {
     "name": "stdout",
     "output_type": "stream",
     "text": [
      "0.8274571428571429\n",
      "0.8375376020917329\n"
     ]
    }
   ],
   "source": [
    "print(dipect_test_s3.tree_.flat_accuracy(labels, 10))\n",
    "print(dipect_test_s3.tree_.flat_nmi(labels, 10))"
   ]
  },
  {
   "cell_type": "code",
   "execution_count": 32,
   "metadata": {},
   "outputs": [
    {
     "name": "stdout",
     "output_type": "stream",
     "text": [
      "Autoencoder is not fitted yet, will be pretrained.\n",
      "cpu\n"
     ]
    },
    {
     "name": "stderr",
     "output_type": "stream",
     "text": [
      "Epoch 0/45: 100%|██████████| 274/274 [00:19<00:00, 14.27batch/s]\n",
      "Epoch 1/45: 100%|██████████| 274/274 [00:19<00:00, 14.32batch/s]\n",
      "  0%|          | 0/274 [00:00<?, ?batch/s]"
     ]
    },
    {
     "name": "stdout",
     "output_type": "stream",
     "text": [
      "#assignments:  16741\n",
      "#assignments:  53259\n"
     ]
    },
    {
     "name": "stderr",
     "output_type": "stream",
     "text": [
      "Epoch 2/45:   0%|          | 1/274 [00:05<26:00,  5.72s/batch]"
     ]
    },
    {
     "name": "stdout",
     "output_type": "stream",
     "text": [
      "#assignments best node:  53259\n"
     ]
    },
    {
     "name": "stderr",
     "output_type": "stream",
     "text": [
      "Epoch 2/45: 100%|██████████| 274/274 [00:25<00:00, 10.67batch/s]\n",
      "Epoch 3/45: 100%|██████████| 274/274 [00:20<00:00, 13.48batch/s]\n",
      "  0%|          | 0/274 [00:00<?, ?batch/s]"
     ]
    },
    {
     "name": "stdout",
     "output_type": "stream",
     "text": [
      "#assignments:  42256\n",
      "#assignments:  12117\n",
      "#assignments:  15627\n"
     ]
    },
    {
     "name": "stderr",
     "output_type": "stream",
     "text": [
      "Epoch 4/45:   0%|          | 1/274 [00:04<21:27,  4.72s/batch]"
     ]
    },
    {
     "name": "stdout",
     "output_type": "stream",
     "text": [
      "#assignments best node:  42256\n"
     ]
    },
    {
     "name": "stderr",
     "output_type": "stream",
     "text": [
      "Epoch 4/45: 100%|██████████| 274/274 [00:25<00:00, 10.92batch/s]\n",
      "Epoch 5/45: 100%|██████████| 274/274 [00:20<00:00, 13.23batch/s]\n",
      "  0%|          | 0/274 [00:00<?, ?batch/s]"
     ]
    },
    {
     "name": "stdout",
     "output_type": "stream",
     "text": [
      "#assignments:  21434\n",
      "#assignments:  19565\n",
      "#assignments:  13528\n",
      "#assignments:  15473\n"
     ]
    },
    {
     "name": "stderr",
     "output_type": "stream",
     "text": [
      "Epoch 6/45:   0%|          | 1/274 [00:06<28:03,  6.17s/batch]"
     ]
    },
    {
     "name": "stdout",
     "output_type": "stream",
     "text": [
      "#assignments best node:  15473\n"
     ]
    },
    {
     "name": "stderr",
     "output_type": "stream",
     "text": [
      "Epoch 6/45: 100%|██████████| 274/274 [00:27<00:00,  9.88batch/s]\n",
      "Epoch 7/45: 100%|██████████| 274/274 [00:21<00:00, 13.00batch/s]\n",
      "  0%|          | 0/274 [00:00<?, ?batch/s]"
     ]
    },
    {
     "name": "stdout",
     "output_type": "stream",
     "text": [
      "#assignments:  21125\n",
      "#assignments:  18882\n",
      "#assignments:  14505\n",
      "#assignments:  8640\n",
      "#assignments:  6848\n"
     ]
    },
    {
     "name": "stderr",
     "output_type": "stream",
     "text": [
      "Epoch 8/45:   0%|          | 0/274 [00:06<?, ?batch/s]"
     ]
    },
    {
     "name": "stdout",
     "output_type": "stream",
     "text": [
      "#assignments best node:  18882\n"
     ]
    },
    {
     "name": "stderr",
     "output_type": "stream",
     "text": [
      "Epoch 8/45: 100%|██████████| 274/274 [00:29<00:00,  9.27batch/s]\n",
      "Epoch 9/45: 100%|██████████| 274/274 [00:22<00:00, 12.26batch/s]\n",
      "  0%|          | 0/274 [00:00<?, ?batch/s]"
     ]
    },
    {
     "name": "stdout",
     "output_type": "stream",
     "text": [
      "#assignments:  20813\n",
      "#assignments:  10121\n",
      "#assignments:  8412\n",
      "#assignments:  15062\n",
      "#assignments:  8718\n",
      "#assignments:  6874\n"
     ]
    },
    {
     "name": "stderr",
     "output_type": "stream",
     "text": [
      "Epoch 10/45:   0%|          | 1/274 [00:07<34:35,  7.60s/batch]"
     ]
    },
    {
     "name": "stdout",
     "output_type": "stream",
     "text": [
      "#assignments best node:  10121\n"
     ]
    },
    {
     "name": "stderr",
     "output_type": "stream",
     "text": [
      "Epoch 10/45: 100%|██████████| 274/274 [00:34<00:00,  7.96batch/s]\n",
      "Epoch 11/45: 100%|██████████| 274/274 [00:25<00:00, 10.92batch/s]\n",
      "  0%|          | 0/274 [00:00<?, ?batch/s]"
     ]
    },
    {
     "name": "stdout",
     "output_type": "stream",
     "text": [
      "#assignments:  20714\n",
      "#assignments:  4248\n",
      "#assignments:  5787\n",
      "#assignments:  8325\n",
      "#assignments:  15318\n",
      "#assignments:  8745\n",
      "#assignments:  6863\n"
     ]
    },
    {
     "name": "stderr",
     "output_type": "stream",
     "text": [
      "Epoch 12/45:   0%|          | 1/274 [00:07<36:08,  7.95s/batch]"
     ]
    },
    {
     "name": "stdout",
     "output_type": "stream",
     "text": [
      "#assignments best node:  20714\n"
     ]
    },
    {
     "name": "stderr",
     "output_type": "stream",
     "text": [
      "Epoch 12/45: 100%|██████████| 274/274 [00:32<00:00,  8.49batch/s]\n",
      "Epoch 13/45: 100%|██████████| 274/274 [00:24<00:00, 11.25batch/s]\n",
      "  0%|          | 0/274 [00:00<?, ?batch/s]"
     ]
    },
    {
     "name": "stdout",
     "output_type": "stream",
     "text": [
      "#assignments:  10926\n",
      "#assignments:  9646\n",
      "#assignments:  4339\n",
      "#assignments:  5707\n",
      "#assignments:  8187\n",
      "#assignments:  15370\n",
      "#assignments:  8917\n",
      "#assignments:  6908\n"
     ]
    },
    {
     "name": "stderr",
     "output_type": "stream",
     "text": [
      "Epoch 14/45:   0%|          | 0/274 [00:09<?, ?batch/s]"
     ]
    },
    {
     "name": "stdout",
     "output_type": "stream",
     "text": [
      "#assignments best node:  8917\n"
     ]
    },
    {
     "name": "stderr",
     "output_type": "stream",
     "text": [
      "Epoch 14/45: 100%|██████████| 274/274 [00:34<00:00,  7.85batch/s]\n",
      "Epoch 15/45: 100%|██████████| 274/274 [00:25<00:00, 10.88batch/s]\n",
      "  0%|          | 0/274 [00:00<?, ?batch/s]"
     ]
    },
    {
     "name": "stdout",
     "output_type": "stream",
     "text": [
      "#assignments:  10656\n",
      "#assignments:  9953\n",
      "#assignments:  4044\n",
      "#assignments:  5772\n",
      "#assignments:  8132\n",
      "#assignments:  15773\n",
      "#assignments:  1758\n",
      "#assignments:  7013\n",
      "#assignments:  6899\n"
     ]
    },
    {
     "name": "stderr",
     "output_type": "stream",
     "text": [
      "Epoch 16/45:   0%|          | 0/274 [00:10<?, ?batch/s]"
     ]
    },
    {
     "name": "stdout",
     "output_type": "stream",
     "text": [
      "#assignments best node:  15773\n"
     ]
    },
    {
     "name": "stderr",
     "output_type": "stream",
     "text": [
      "Epoch 16/45: 100%|██████████| 274/274 [00:37<00:00,  7.34batch/s]\n",
      "Epoch 17/45: 100%|██████████| 274/274 [00:26<00:00, 10.49batch/s]\n",
      "  0%|          | 0/274 [00:00<?, ?batch/s]"
     ]
    },
    {
     "name": "stdout",
     "output_type": "stream",
     "text": [
      "#assignments:  10493\n",
      "#assignments:  10042\n",
      "#assignments:  3895\n",
      "#assignments:  5698\n",
      "#assignments:  8001\n",
      "#assignments:  9978\n",
      "#assignments:  6147\n",
      "#assignments:  1816\n",
      "#assignments:  7038\n",
      "#assignments:  6892\n"
     ]
    },
    {
     "name": "stderr",
     "output_type": "stream",
     "text": [
      "Epoch 18/45:   0%|          | 0/274 [00:12<?, ?batch/s]"
     ]
    },
    {
     "name": "stdout",
     "output_type": "stream",
     "text": [
      "#assignments best node:  10042\n"
     ]
    },
    {
     "name": "stderr",
     "output_type": "stream",
     "text": [
      "Epoch 18/45: 100%|██████████| 274/274 [00:39<00:00,  6.87batch/s]\n",
      "Epoch 19/45: 100%|██████████| 274/274 [00:26<00:00, 10.19batch/s]\n",
      "  0%|          | 0/274 [00:00<?, ?batch/s]"
     ]
    },
    {
     "name": "stdout",
     "output_type": "stream",
     "text": [
      "#assignments:  10453\n",
      "#assignments:  3512\n",
      "#assignments:  6570\n",
      "#assignments:  3618\n",
      "#assignments:  5448\n",
      "#assignments:  7973\n",
      "#assignments:  10269\n",
      "#assignments:  6209\n",
      "#assignments:  2053\n",
      "#assignments:  7005\n",
      "#assignments:  6890\n"
     ]
    },
    {
     "name": "stderr",
     "output_type": "stream",
     "text": [
      "Epoch 20/45:   0%|          | 0/274 [00:12<?, ?batch/s]"
     ]
    },
    {
     "name": "stdout",
     "output_type": "stream",
     "text": [
      "#assignments best node:  10269\n"
     ]
    },
    {
     "name": "stderr",
     "output_type": "stream",
     "text": [
      "Epoch 20/45: 100%|██████████| 274/274 [00:40<00:00,  6.73batch/s]\n",
      "Epoch 21/45: 100%|██████████| 274/274 [00:31<00:00,  8.58batch/s]\n",
      "  0%|          | 0/274 [00:00<?, ?batch/s]"
     ]
    },
    {
     "name": "stdout",
     "output_type": "stream",
     "text": [
      "#assignments:  10491\n",
      "#assignments:  3333\n",
      "#assignments:  6738\n",
      "#assignments:  3377\n",
      "#assignments:  5344\n",
      "#assignments:  7934\n",
      "#assignments:  3335\n",
      "#assignments:  7146\n",
      "#assignments:  6290\n",
      "#assignments:  2127\n",
      "#assignments:  7012\n",
      "#assignments:  6873\n"
     ]
    },
    {
     "name": "stderr",
     "output_type": "stream",
     "text": [
      "Epoch 22/45:   0%|          | 1/274 [00:16<1:12:57, 16.04s/batch]"
     ]
    },
    {
     "name": "stdout",
     "output_type": "stream",
     "text": [
      "#assignments best node:  7934\n"
     ]
    },
    {
     "name": "stderr",
     "output_type": "stream",
     "text": [
      "Epoch 22/45: 100%|██████████| 274/274 [00:44<00:00,  6.14batch/s]\n",
      "Epoch 23/45: 100%|██████████| 274/274 [00:28<00:00,  9.54batch/s]\n",
      "  0%|          | 0/274 [00:00<?, ?batch/s]"
     ]
    },
    {
     "name": "stdout",
     "output_type": "stream",
     "text": [
      "#assignments:  10600\n",
      "#assignments:  3261\n",
      "#assignments:  6612\n",
      "#assignments:  3211\n",
      "#assignments:  5503\n",
      "#assignments:  4140\n",
      "#assignments:  3728\n",
      "#assignments:  3638\n",
      "#assignments:  6940\n",
      "#assignments:  6329\n",
      "#assignments:  2131\n",
      "#assignments:  7027\n",
      "#assignments:  6880\n"
     ]
    },
    {
     "name": "stderr",
     "output_type": "stream",
     "text": [
      "Epoch 24/45:   0%|          | 0/274 [00:15<?, ?batch/s]"
     ]
    },
    {
     "name": "stdout",
     "output_type": "stream",
     "text": [
      "#assignments best node:  10600\n"
     ]
    },
    {
     "name": "stderr",
     "output_type": "stream",
     "text": [
      "Epoch 24/45: 100%|██████████| 274/274 [00:45<00:00,  5.97batch/s]\n",
      "Epoch 25/45: 100%|██████████| 274/274 [00:29<00:00,  9.34batch/s]\n",
      "  0%|          | 0/274 [00:00<?, ?batch/s]"
     ]
    },
    {
     "name": "stdout",
     "output_type": "stream",
     "text": [
      "#assignments:  6858\n",
      "#assignments:  3453\n",
      "#assignments:  3468\n",
      "#assignments:  6706\n",
      "#assignments:  3091\n",
      "#assignments:  5364\n",
      "#assignments:  4127\n",
      "#assignments:  3737\n",
      "#assignments:  3814\n",
      "#assignments:  7021\n",
      "#assignments:  6366\n",
      "#assignments:  2156\n",
      "#assignments:  6982\n",
      "#assignments:  6857\n"
     ]
    },
    {
     "name": "stderr",
     "output_type": "stream",
     "text": [
      "Epoch 26/45:   0%|          | 0/274 [00:15<?, ?batch/s]"
     ]
    },
    {
     "name": "stdout",
     "output_type": "stream",
     "text": [
      "#assignments best node:  5364\n"
     ]
    },
    {
     "name": "stderr",
     "output_type": "stream",
     "text": [
      "Epoch 26/45: 100%|██████████| 274/274 [00:46<00:00,  5.91batch/s]\n",
      "Epoch 27/45: 100%|██████████| 274/274 [00:30<00:00,  9.02batch/s]\n",
      "  0%|          | 0/274 [00:00<?, ?batch/s]"
     ]
    },
    {
     "name": "stdout",
     "output_type": "stream",
     "text": [
      "#assignments:  7108\n",
      "#assignments:  3292\n",
      "#assignments:  3475\n",
      "#assignments:  6578\n",
      "#assignments:  2792\n",
      "#assignments:  2998\n",
      "#assignments:  2302\n",
      "#assignments:  4045\n",
      "#assignments:  3776\n",
      "#assignments:  4082\n",
      "#assignments:  7069\n",
      "#assignments:  6363\n",
      "#assignments:  2291\n",
      "#assignments:  6983\n",
      "#assignments:  6846\n"
     ]
    },
    {
     "name": "stderr",
     "output_type": "stream",
     "text": [
      "Epoch 28/45:   0%|          | 0/274 [00:16<?, ?batch/s]"
     ]
    },
    {
     "name": "stdout",
     "output_type": "stream",
     "text": [
      "#assignments best node:  7108\n"
     ]
    },
    {
     "name": "stderr",
     "output_type": "stream",
     "text": [
      "Epoch 28/45: 100%|██████████| 274/274 [00:47<00:00,  5.74batch/s]\n",
      "Epoch 29/45: 100%|██████████| 274/274 [00:30<00:00,  8.85batch/s]\n",
      "  0%|          | 0/274 [00:00<?, ?batch/s]"
     ]
    },
    {
     "name": "stdout",
     "output_type": "stream",
     "text": [
      "#assignments:  3240\n",
      "#assignments:  3665\n",
      "#assignments:  3577\n",
      "#assignments:  3380\n",
      "#assignments:  6670\n",
      "#assignments:  2515\n",
      "#assignments:  2743\n",
      "#assignments:  2312\n",
      "#assignments:  4080\n",
      "#assignments:  3706\n",
      "#assignments:  4449\n",
      "#assignments:  7063\n",
      "#assignments:  6369\n",
      "#assignments:  2420\n",
      "#assignments:  6956\n",
      "#assignments:  6855\n"
     ]
    },
    {
     "name": "stderr",
     "output_type": "stream",
     "text": [
      "Epoch 30/45:   0%|          | 0/274 [00:23<?, ?batch/s]"
     ]
    },
    {
     "name": "stdout",
     "output_type": "stream",
     "text": [
      "#assignments best node:  7063\n"
     ]
    },
    {
     "name": "stderr",
     "output_type": "stream",
     "text": [
      "Epoch 30/45: 100%|██████████| 274/274 [00:58<00:00,  4.71batch/s]\n",
      "Epoch 31/45: 100%|██████████| 274/274 [00:32<00:00,  8.42batch/s]\n",
      "  0%|          | 0/274 [00:00<?, ?batch/s]"
     ]
    },
    {
     "name": "stdout",
     "output_type": "stream",
     "text": [
      "#assignments:  3598\n",
      "#assignments:  2998\n",
      "#assignments:  3679\n",
      "#assignments:  3474\n",
      "#assignments:  6546\n",
      "#assignments:  2704\n",
      "#assignments:  2453\n",
      "#assignments:  2716\n",
      "#assignments:  4160\n",
      "#assignments:  3665\n",
      "#assignments:  4258\n",
      "#assignments:  3526\n",
      "#assignments:  3453\n",
      "#assignments:  6404\n",
      "#assignments:  2532\n",
      "#assignments:  6999\n",
      "#assignments:  6835\n"
     ]
    },
    {
     "name": "stderr",
     "output_type": "stream",
     "text": [
      "Epoch 32/45:   0%|          | 0/274 [00:19<?, ?batch/s]"
     ]
    },
    {
     "name": "stdout",
     "output_type": "stream",
     "text": [
      "#assignments best node:  6546\n"
     ]
    },
    {
     "name": "stderr",
     "output_type": "stream",
     "text": [
      "Epoch 32/45: 100%|██████████| 274/274 [00:53<00:00,  5.13batch/s]\n",
      "Epoch 33/45: 100%|██████████| 274/274 [00:33<00:00,  8.25batch/s]\n",
      "  0%|          | 0/274 [00:00<?, ?batch/s]"
     ]
    },
    {
     "name": "stdout",
     "output_type": "stream",
     "text": [
      "#assignments:  3535\n",
      "#assignments:  2999\n",
      "#assignments:  3709\n",
      "#assignments:  3544\n",
      "#assignments:  4037\n",
      "#assignments:  2629\n",
      "#assignments:  2855\n",
      "#assignments:  2470\n",
      "#assignments:  2559\n",
      "#assignments:  4174\n",
      "#assignments:  3664\n",
      "#assignments:  4131\n",
      "#assignments:  2874\n",
      "#assignments:  4064\n",
      "#assignments:  6416\n",
      "#assignments:  2505\n",
      "#assignments:  6991\n",
      "#assignments:  6844\n"
     ]
    },
    {
     "name": "stderr",
     "output_type": "stream",
     "text": [
      "Epoch 34/45:   0%|          | 0/274 [00:21<?, ?batch/s]"
     ]
    },
    {
     "name": "stdout",
     "output_type": "stream",
     "text": [
      "#assignments best node:  6844\n"
     ]
    },
    {
     "name": "stderr",
     "output_type": "stream",
     "text": [
      "Epoch 34/45: 100%|██████████| 274/274 [00:56<00:00,  4.89batch/s]\n",
      "Epoch 35/45: 100%|██████████| 274/274 [00:34<00:00,  7.97batch/s]\n",
      "  0%|          | 0/274 [00:00<?, ?batch/s]"
     ]
    },
    {
     "name": "stdout",
     "output_type": "stream",
     "text": [
      "#assignments:  3308\n",
      "#assignments:  3068\n",
      "#assignments:  3947\n",
      "#assignments:  3459\n",
      "#assignments:  4040\n",
      "#assignments:  2595\n",
      "#assignments:  2660\n",
      "#assignments:  2520\n",
      "#assignments:  2446\n",
      "#assignments:  4069\n",
      "#assignments:  3769\n",
      "#assignments:  4371\n",
      "#assignments:  2772\n",
      "#assignments:  4123\n",
      "#assignments:  6418\n",
      "#assignments:  2608\n",
      "#assignments:  6966\n",
      "#assignments:  3361\n",
      "#assignments:  3500\n"
     ]
    },
    {
     "name": "stderr",
     "output_type": "stream",
     "text": [
      "Epoch 36/45:   0%|          | 0/274 [00:22<?, ?batch/s]"
     ]
    },
    {
     "name": "stdout",
     "output_type": "stream",
     "text": [
      "#assignments best node:  6966\n"
     ]
    },
    {
     "name": "stderr",
     "output_type": "stream",
     "text": [
      "Epoch 36/45: 100%|██████████| 274/274 [00:57<00:00,  4.73batch/s]\n",
      "Epoch 37/45: 100%|██████████| 274/274 [00:38<00:00,  7.20batch/s]\n",
      "Epoch 38/45: 100%|██████████| 274/274 [00:37<00:00,  7.29batch/s]\n",
      "Epoch 39/45: 100%|██████████| 274/274 [00:35<00:00,  7.74batch/s]\n",
      "Epoch 40/45: 100%|██████████| 274/274 [00:35<00:00,  7.73batch/s]\n",
      "Epoch 41/45: 100%|██████████| 274/274 [00:34<00:00,  7.83batch/s]\n",
      "Epoch 42/45: 100%|██████████| 274/274 [00:35<00:00,  7.70batch/s]\n",
      "Epoch 43/45: 100%|██████████| 274/274 [00:39<00:00,  6.86batch/s]\n",
      "Epoch 44/45: 100%|██████████| 274/274 [00:39<00:00,  7.00batch/s]\n",
      "Predict: 100%|██████████| 274/274 [00:03<00:00, 72.84it/s]\n"
     ]
    }
   ],
   "source": [
    "dipect_test_s4 = DipECT(use_pvalue=False, grow_interval=2, max_epochs=45, unimodal_treshhold=1.0, random_state=np.random.RandomState(50), autoencoder_param_path=\"practical/DeepClustering/DipECT/pretrained_AE_MNIST_seed50.pth\")\n",
    "dipect_test_s4 = dipect_test_s4.fit_predict(dataset/255)"
   ]
  },
  {
   "cell_type": "code",
   "execution_count": 33,
   "metadata": {},
   "outputs": [
    {
     "name": "stdout",
     "output_type": "stream",
     "text": [
      "0.7640571428571429\n",
      "0.7945723351730367\n"
     ]
    }
   ],
   "source": [
    "print(dipect_test_s4.tree_.flat_accuracy(labels, 10))\n",
    "print(dipect_test_s4.tree_.flat_nmi(labels, 10))"
   ]
  },
  {
   "cell_type": "code",
   "execution_count": 36,
   "metadata": {},
   "outputs": [
    {
     "ename": "",
     "evalue": "",
     "output_type": "error",
     "traceback": [
      "\u001b[1;31mThe Kernel crashed while executing code in the current cell or a previous cell. \n",
      "\u001b[1;31mPlease review the code in the cell(s) to identify a possible cause of the failure. \n",
      "\u001b[1;31mClick <a href='https://aka.ms/vscodeJupyterKernelCrash'>here</a> for more info. \n",
      "\u001b[1;31mView Jupyter <a href='command:jupyter.viewOutput'>log</a> for further details."
     ]
    }
   ],
   "source": [
    "build_and_visualize_tree(dipect_test_s4.tree_.root, dipect_test_s4.autoencoder, dataset/255)"
   ]
  },
  {
   "cell_type": "code",
   "execution_count": 6,
   "metadata": {},
   "outputs": [],
   "source": [
    "import networkx as nx\n",
    "from matplotlib.offsetbox import OffsetImage, AnnotationBbox\n",
    "from clustpy.deep._utils import encode_batchwise\n",
    "from clustpy.deep._data_utils import get_dataloader\n",
    "\n",
    "def graphviz_layout_binary_tree(G, root):\n",
    "    A = nx.nx_agraph.to_agraph(G)\n",
    "    A.layout(prog='dot')  # 'dot' is used for hierarchical layouts\n",
    "    pos = {}\n",
    "    for node in G.nodes():\n",
    "        x, y = A.get_node(node).attr['pos'].split(',')\n",
    "        pos[node] = (float(x), float(y))\n",
    "    return pos\n",
    "\n",
    "def build_and_visualize_tree(root, autoencoder, data):\n",
    "    if root is None:\n",
    "        return\n",
    "    testloader = get_dataloader(data, 256, False, False)\n",
    "    embedded_data = encode_batchwise(testloader, autoencoder, \"cpu\")\n",
    "    embedded_data = torch.from_numpy(embedded_data)\n",
    "\n",
    "    # Create a directed graph\n",
    "    G = nx.DiGraph()\n",
    "    \n",
    "    # Helper function to add nodes and edges to the graph\n",
    "    def add_edges(G, node):\n",
    "        if node.left_child:\n",
    "            G.add_edge(node, node.left_child)\n",
    "            add_edges(G, node.left_child)\n",
    "        if node.right_child:\n",
    "            G.add_edge(node, node.right_child)\n",
    "            add_edges(G, node.right_child)\n",
    "    \n",
    "    # Add nodes and edges starting from the root\n",
    "    add_edges(G, root)\n",
    "\n",
    "    # Create a position dictionary for the nodes\n",
    "    pos = graphviz_layout_binary_tree(G, root)\n",
    "    \n",
    "    # Create the plot\n",
    "    fig, ax = plt.subplots(figsize=(15, 15))\n",
    "    nx.draw(G, pos, ax=ax, with_labels=False)\n",
    "    \n",
    "    # Draw the images at the nodes\n",
    "    for node in G.nodes:\n",
    "        image = np.mean(autoencoder.decode(embedded_data[node.assigned_indices]).detach().numpy(), axis=0)\n",
    "        if np.max(image) <= 1:\n",
    "            image = image*255\n",
    "        # image = autoencoder.decode(center).detach().numpy()\n",
    "        image = image.reshape(28,28)\n",
    "        \n",
    "        # if dataset_type == DatasetType.USPS:\n",
    "        #     image = image.reshape(16,16)\n",
    "        # else:\n",
    "        #     image = image.reshape(28,28)\n",
    "        imagebox = OffsetImage(image, zoom=1)\n",
    "        ab = AnnotationBbox(imagebox, pos[node], frameon=False)\n",
    "        ax.add_artist(ab)\n",
    "    \n",
    "    plt.show()\n",
    "\n",
    "from PIL import Image, ImageDraw, ImageFont\n",
    "\n",
    "def integer_to_image(number, font_size=10, image_size=(28, 28), bg_color=(255, 255, 255), text_color=(0, 0, 0)):\n",
    "    image = Image.new('RGB', image_size, bg_color)\n",
    "    \n",
    "    \n",
    "    draw = ImageDraw.Draw(image)\n",
    "\n",
    "    try:\n",
    "        font = ImageFont.truetype(\"arial.ttf\", font_size)\n",
    "    except IOError:\n",
    "        font = ImageFont.load_default()\n",
    "\n",
    "    text = str(number)\n",
    "    bbox = draw.textbbox((0, 0), text, font=font)\n",
    "    text_width = bbox[2] - bbox[0]\n",
    "    text_height = bbox[3] - bbox[1]\n",
    "    \n",
    "  \n",
    "    position = ((image_size[0] - text_width) / 2, (image_size[1] - text_height) / 2)\n",
    "    \n",
    "\n",
    "    draw.text(position, text, fill=text_color, font=font)\n",
    "    \n",
    "    return np.array(image)\n",
    "\n",
    "\n",
    "def build_and_visualize_splitindex_tree(root):\n",
    "    if root is None:\n",
    "        return\n",
    "\n",
    "    # Create a directed graph\n",
    "    G = nx.DiGraph()\n",
    "    \n",
    "    # Helper function to add nodes and edges to the graph\n",
    "    def add_edges(G, node):\n",
    "        if node.left_child:\n",
    "            G.add_edge(node, node.left_child)\n",
    "            add_edges(G, node.left_child)\n",
    "        if node.right_child:\n",
    "            G.add_edge(node, node.right_child)\n",
    "            add_edges(G, node.right_child)\n",
    "    \n",
    "    # Add nodes and edges starting from the root\n",
    "    add_edges(G, root)\n",
    "\n",
    "    # Create a position dictionary for the nodes\n",
    "    pos = graphviz_layout_binary_tree(G, root)\n",
    "    \n",
    "    # Create the plot\n",
    "    fig, ax = plt.subplots(figsize=(15, 15))\n",
    "    nx.draw(G, pos, ax=ax, with_labels=False)\n",
    "    \n",
    "    # Draw the images at the nodes\n",
    "    for node in G.nodes:\n",
    "        image = integer_to_image(node.split_id)\n",
    "        # image = autoencoder.decode(center).detach().numpy()\n",
    "        # image = image.reshape(28,28)\n",
    "        \n",
    "        # if dataset_type == DatasetType.USPS:\n",
    "        #     image = image.reshape(16,16)\n",
    "        # else:\n",
    "        #     image = image.reshape(28,28)\n",
    "        imagebox = OffsetImage(image, zoom=1)\n",
    "        ab = AnnotationBbox(imagebox, pos[node], frameon=False)\n",
    "        ax.add_artist(ab)\n",
    "    \n",
    "    plt.show()\n",
    "# def visualize_cluster_tree(dataset_type: DatasetType, autoencoder_type: AutoencoderType):\n",
    "#     dataset = get_dataset(dataset_type)\n",
    "\n",
    "#     data = dataset[\"data\"]\n",
    "#     labels = dataset[\"target\"]\n",
    "\n",
    "#     autoencoder = pretraining(autoencoder_type, None, dataset, 42, 10)\n",
    "\n",
    "#     deepect = deepect_paper.DeepECT(\n",
    "#         autoencoder=autoencoder,\n",
    "#         clustering_optimizer_params={\"lr\": 1e-4, \"betas\": (0.9, 0.999)},\n",
    "#         max_leaf_nodes=20,\n",
    "#         random_state=np.random.RandomState(42),\n",
    "#     )\n",
    "\n",
    "#     deepect.fit_predict(data)\n",
    "\n",
    "#     print(\"Accuracy: \", deepect.tree_.flat_accuracy(labels, 10))\n",
    "\n",
    "#     build_and_visualize_tree(deepect.tree_.root, autoencoder, dataset_type)"
   ]
  },
  {
   "cell_type": "code",
   "execution_count": 4,
   "metadata": {},
   "outputs": [
    {
     "name": "stdout",
     "output_type": "stream",
     "text": [
      "Autoencoder is not fitted yet, will be pretrained.\n",
      "cpu\n"
     ]
    },
    {
     "name": "stderr",
     "output_type": "stream",
     "text": [
      "Epoch 0/45: 100%|██████████| 274/274 [00:35<00:00,  7.62batch/s]\n",
      "Epoch 1/45: 100%|██████████| 274/274 [00:33<00:00,  8.21batch/s]\n",
      "  0%|          | 0/274 [00:00<?, ?batch/s]"
     ]
    },
    {
     "name": "stdout",
     "output_type": "stream",
     "text": [
      "#assignments:  40317\n",
      "#assignments:  29683\n"
     ]
    },
    {
     "name": "stderr",
     "output_type": "stream",
     "text": [
      "Epoch 2/45:   0%|          | 1/274 [00:08<39:09,  8.61s/batch]"
     ]
    },
    {
     "name": "stdout",
     "output_type": "stream",
     "text": [
      "#assignments best node:  40317\n"
     ]
    },
    {
     "name": "stderr",
     "output_type": "stream",
     "text": [
      "Epoch 2/45: 100%|██████████| 274/274 [00:46<00:00,  5.90batch/s]\n",
      "Epoch 3/45: 100%|██████████| 274/274 [00:33<00:00,  8.21batch/s]\n",
      "  0%|          | 0/274 [00:00<?, ?batch/s]"
     ]
    },
    {
     "name": "stdout",
     "output_type": "stream",
     "text": [
      "#assignments:  18817\n",
      "#assignments:  21780\n",
      "#assignments:  29403\n"
     ]
    },
    {
     "name": "stderr",
     "output_type": "stream",
     "text": [
      "Epoch 4/45:   0%|          | 0/274 [00:10<?, ?batch/s]"
     ]
    },
    {
     "name": "stdout",
     "output_type": "stream",
     "text": [
      "#assignments best node:  29403\n"
     ]
    },
    {
     "name": "stderr",
     "output_type": "stream",
     "text": [
      "Epoch 4/45: 100%|██████████| 274/274 [00:49<00:00,  5.57batch/s]\n",
      "Epoch 5/45: 100%|██████████| 274/274 [00:34<00:00,  7.90batch/s]\n",
      "  0%|          | 0/274 [00:00<?, ?batch/s]"
     ]
    },
    {
     "name": "stdout",
     "output_type": "stream",
     "text": [
      "#assignments:  18815\n",
      "#assignments:  21936\n",
      "#assignments:  21170\n",
      "#assignments:  8079\n"
     ]
    },
    {
     "name": "stderr",
     "output_type": "stream",
     "text": [
      "Epoch 6/45:   0%|          | 0/274 [00:09<?, ?batch/s]"
     ]
    },
    {
     "name": "stdout",
     "output_type": "stream",
     "text": [
      "#assignments best node:  21936\n"
     ]
    },
    {
     "name": "stderr",
     "output_type": "stream",
     "text": [
      "Epoch 6/45: 100%|██████████| 274/274 [00:49<00:00,  5.48batch/s]\n",
      "Epoch 7/45: 100%|██████████| 274/274 [00:42<00:00,  6.41batch/s]\n",
      "  0%|          | 0/274 [00:00<?, ?batch/s]"
     ]
    },
    {
     "name": "stdout",
     "output_type": "stream",
     "text": [
      "#assignments:  18806\n",
      "#assignments:  9677\n",
      "#assignments:  12418\n",
      "#assignments:  21099\n",
      "#assignments:  8000\n"
     ]
    },
    {
     "name": "stderr",
     "output_type": "stream",
     "text": [
      "Epoch 8/45:   0%|          | 0/274 [00:12<?, ?batch/s]"
     ]
    },
    {
     "name": "stdout",
     "output_type": "stream",
     "text": [
      "#assignments best node:  12418\n"
     ]
    },
    {
     "name": "stderr",
     "output_type": "stream",
     "text": [
      "Epoch 8/45: 100%|██████████| 274/274 [00:58<00:00,  4.69batch/s]\n",
      "Epoch 9/45: 100%|██████████| 274/274 [00:37<00:00,  7.30batch/s]\n",
      "  0%|          | 0/274 [00:00<?, ?batch/s]"
     ]
    },
    {
     "name": "stdout",
     "output_type": "stream",
     "text": [
      "#assignments:  18801\n",
      "#assignments:  9621\n",
      "#assignments:  6252\n",
      "#assignments:  6185\n",
      "#assignments:  21152\n",
      "#assignments:  7989\n"
     ]
    },
    {
     "name": "stderr",
     "output_type": "stream",
     "text": [
      "Epoch 10/45:   0%|          | 0/274 [00:11<?, ?batch/s]"
     ]
    },
    {
     "name": "stdout",
     "output_type": "stream",
     "text": [
      "#assignments best node:  18801\n"
     ]
    },
    {
     "name": "stderr",
     "output_type": "stream",
     "text": [
      "Epoch 10/45: 100%|██████████| 274/274 [00:56<00:00,  4.85batch/s]\n",
      "Epoch 11/45: 100%|██████████| 274/274 [00:38<00:00,  7.20batch/s]\n",
      "  0%|          | 0/274 [00:00<?, ?batch/s]"
     ]
    },
    {
     "name": "stdout",
     "output_type": "stream",
     "text": [
      "#assignments:  4804\n",
      "#assignments:  14057\n",
      "#assignments:  9619\n",
      "#assignments:  6305\n",
      "#assignments:  6194\n",
      "#assignments:  21025\n",
      "#assignments:  7996\n"
     ]
    },
    {
     "name": "stderr",
     "output_type": "stream",
     "text": [
      "Epoch 12/45:   0%|          | 1/274 [00:13<1:00:52, 13.38s/batch]"
     ]
    },
    {
     "name": "stdout",
     "output_type": "stream",
     "text": [
      "#assignments best node:  14057\n"
     ]
    },
    {
     "name": "stderr",
     "output_type": "stream",
     "text": [
      "Epoch 12/45: 100%|██████████| 274/274 [00:59<00:00,  4.61batch/s]\n",
      "Epoch 13/45: 100%|██████████| 274/274 [00:39<00:00,  6.96batch/s]\n",
      "  0%|          | 0/274 [00:00<?, ?batch/s]"
     ]
    },
    {
     "name": "stdout",
     "output_type": "stream",
     "text": [
      "#assignments:  4839\n",
      "#assignments:  7111\n",
      "#assignments:  6882\n",
      "#assignments:  9522\n",
      "#assignments:  6389\n",
      "#assignments:  6227\n",
      "#assignments:  21073\n",
      "#assignments:  7957\n"
     ]
    },
    {
     "name": "stderr",
     "output_type": "stream",
     "text": [
      "Epoch 14/45:   0%|          | 0/274 [00:12<?, ?batch/s]"
     ]
    },
    {
     "name": "stdout",
     "output_type": "stream",
     "text": [
      "#assignments best node:  9522\n"
     ]
    },
    {
     "name": "stderr",
     "output_type": "stream",
     "text": [
      "Epoch 14/45: 100%|██████████| 274/274 [01:06<00:00,  4.14batch/s]\n",
      "Epoch 15/45: 100%|██████████| 274/274 [00:42<00:00,  6.52batch/s]\n",
      "  0%|          | 0/274 [00:00<?, ?batch/s]"
     ]
    },
    {
     "name": "stdout",
     "output_type": "stream",
     "text": [
      "#assignments:  4821\n",
      "#assignments:  7089\n",
      "#assignments:  6893\n",
      "#assignments:  7352\n",
      "#assignments:  2306\n",
      "#assignments:  6333\n",
      "#assignments:  6203\n",
      "#assignments:  21039\n",
      "#assignments:  7964\n"
     ]
    },
    {
     "name": "stderr",
     "output_type": "stream",
     "text": [
      "Epoch 16/45:   0%|          | 0/274 [00:14<?, ?batch/s]"
     ]
    },
    {
     "name": "stdout",
     "output_type": "stream",
     "text": [
      "#assignments best node:  21039\n"
     ]
    },
    {
     "name": "stderr",
     "output_type": "stream",
     "text": [
      "Epoch 16/45: 100%|██████████| 274/274 [01:01<00:00,  4.46batch/s]\n",
      "Epoch 17/45: 100%|██████████| 274/274 [00:45<00:00,  6.00batch/s]\n",
      "  0%|          | 0/274 [00:00<?, ?batch/s]"
     ]
    },
    {
     "name": "stdout",
     "output_type": "stream",
     "text": [
      "#assignments:  4820\n",
      "#assignments:  7077\n",
      "#assignments:  6881\n",
      "#assignments:  7336\n",
      "#assignments:  2339\n",
      "#assignments:  6337\n",
      "#assignments:  6219\n",
      "#assignments:  10397\n",
      "#assignments:  10658\n",
      "#assignments:  7936\n"
     ]
    },
    {
     "name": "stderr",
     "output_type": "stream",
     "text": [
      "Epoch 18/45:   0%|          | 0/274 [00:14<?, ?batch/s]"
     ]
    },
    {
     "name": "stdout",
     "output_type": "stream",
     "text": [
      "#assignments best node:  10397\n"
     ]
    },
    {
     "name": "stderr",
     "output_type": "stream",
     "text": [
      "Epoch 18/45: 100%|██████████| 274/274 [01:01<00:00,  4.45batch/s]\n",
      "Epoch 19/45: 100%|██████████| 274/274 [00:48<00:00,  5.71batch/s]\n",
      "  0%|          | 0/274 [00:00<?, ?batch/s]"
     ]
    },
    {
     "name": "stdout",
     "output_type": "stream",
     "text": [
      "#assignments:  4862\n",
      "#assignments:  7050\n",
      "#assignments:  6864\n",
      "#assignments:  7301\n",
      "#assignments:  2321\n",
      "#assignments:  6443\n",
      "#assignments:  6248\n",
      "#assignments:  4923\n",
      "#assignments:  5360\n",
      "#assignments:  10723\n",
      "#assignments:  7905\n"
     ]
    },
    {
     "name": "stderr",
     "output_type": "stream",
     "text": [
      "Epoch 20/45:   0%|          | 0/274 [00:15<?, ?batch/s]"
     ]
    },
    {
     "name": "stdout",
     "output_type": "stream",
     "text": [
      "#assignments best node:  5360\n"
     ]
    },
    {
     "name": "stderr",
     "output_type": "stream",
     "text": [
      "Epoch 20/45: 100%|██████████| 274/274 [01:11<00:00,  3.84batch/s]\n",
      "Epoch 21/45: 100%|██████████| 274/274 [01:02<00:00,  4.39batch/s]\n",
      "  0%|          | 0/274 [00:00<?, ?batch/s]"
     ]
    },
    {
     "name": "stdout",
     "output_type": "stream",
     "text": [
      "#assignments:  4917\n",
      "#assignments:  7041\n",
      "#assignments:  6863\n",
      "#assignments:  7227\n",
      "#assignments:  2251\n",
      "#assignments:  6386\n",
      "#assignments:  6255\n",
      "#assignments:  5880\n",
      "#assignments:  2543\n",
      "#assignments:  1619\n",
      "#assignments:  11079\n",
      "#assignments:  7939\n"
     ]
    },
    {
     "name": "stderr",
     "output_type": "stream",
     "text": [
      "Epoch 22/45:   0%|          | 0/274 [00:20<?, ?batch/s]"
     ]
    },
    {
     "name": "stdout",
     "output_type": "stream",
     "text": [
      "#assignments best node:  11079\n"
     ]
    },
    {
     "name": "stderr",
     "output_type": "stream",
     "text": [
      "Epoch 22/45: 100%|██████████| 274/274 [01:12<00:00,  3.76batch/s]\n",
      "Epoch 23/45: 100%|██████████| 274/274 [00:48<00:00,  5.68batch/s]\n",
      "  0%|          | 0/274 [00:00<?, ?batch/s]"
     ]
    },
    {
     "name": "stdout",
     "output_type": "stream",
     "text": [
      "#assignments:  4842\n",
      "#assignments:  7037\n",
      "#assignments:  6869\n",
      "#assignments:  7216\n",
      "#assignments:  2342\n",
      "#assignments:  6505\n",
      "#assignments:  6263\n",
      "#assignments:  5645\n",
      "#assignments:  2505\n",
      "#assignments:  1850\n",
      "#assignments:  4375\n",
      "#assignments:  6645\n",
      "#assignments:  7906\n"
     ]
    },
    {
     "name": "stderr",
     "output_type": "stream",
     "text": [
      "Epoch 24/45:   0%|          | 0/274 [00:14<?, ?batch/s]"
     ]
    },
    {
     "name": "stdout",
     "output_type": "stream",
     "text": [
      "#assignments best node:  7906\n"
     ]
    },
    {
     "name": "stderr",
     "output_type": "stream",
     "text": [
      "Epoch 24/45: 100%|██████████| 274/274 [00:46<00:00,  5.83batch/s]\n",
      "Epoch 25/45: 100%|██████████| 274/274 [00:30<00:00,  8.98batch/s]\n",
      "  0%|          | 0/274 [00:00<?, ?batch/s]"
     ]
    },
    {
     "name": "stdout",
     "output_type": "stream",
     "text": [
      "#assignments:  4896\n",
      "#assignments:  7019\n",
      "#assignments:  6834\n",
      "#assignments:  7271\n",
      "#assignments:  2272\n",
      "#assignments:  6420\n",
      "#assignments:  6296\n",
      "#assignments:  5595\n",
      "#assignments:  2610\n",
      "#assignments:  1887\n",
      "#assignments:  4209\n",
      "#assignments:  6724\n",
      "#assignments:  3936\n",
      "#assignments:  4031\n"
     ]
    },
    {
     "name": "stderr",
     "output_type": "stream",
     "text": [
      "Epoch 26/45:   0%|          | 0/274 [00:16<?, ?batch/s]"
     ]
    },
    {
     "name": "stdout",
     "output_type": "stream",
     "text": [
      "#assignments best node:  7271\n"
     ]
    },
    {
     "name": "stderr",
     "output_type": "stream",
     "text": [
      "Epoch 26/45: 100%|██████████| 274/274 [00:53<00:00,  5.14batch/s]\n",
      "Epoch 27/45: 100%|██████████| 274/274 [00:32<00:00,  8.41batch/s]\n",
      "  0%|          | 0/274 [00:00<?, ?batch/s]"
     ]
    },
    {
     "name": "stdout",
     "output_type": "stream",
     "text": [
      "#assignments:  4871\n",
      "#assignments:  6998\n",
      "#assignments:  6862\n",
      "#assignments:  4123\n",
      "#assignments:  3136\n",
      "#assignments:  2259\n",
      "#assignments:  6459\n",
      "#assignments:  6287\n",
      "#assignments:  5463\n",
      "#assignments:  2476\n",
      "#assignments:  2113\n",
      "#assignments:  4324\n",
      "#assignments:  6700\n",
      "#assignments:  3888\n",
      "#assignments:  4041\n"
     ]
    },
    {
     "name": "stderr",
     "output_type": "stream",
     "text": [
      "Epoch 28/45:   0%|          | 0/274 [00:24<?, ?batch/s]"
     ]
    },
    {
     "name": "stdout",
     "output_type": "stream",
     "text": [
      "#assignments best node:  6998\n"
     ]
    },
    {
     "name": "stderr",
     "output_type": "stream",
     "text": [
      "Epoch 28/45: 100%|██████████| 274/274 [01:20<00:00,  3.39batch/s]\n",
      "Epoch 29/45: 100%|██████████| 274/274 [01:04<00:00,  4.23batch/s]\n",
      "  0%|          | 0/274 [00:00<?, ?batch/s]"
     ]
    },
    {
     "name": "stdout",
     "output_type": "stream",
     "text": [
      "#assignments:  4896\n",
      "#assignments:  3452\n",
      "#assignments:  3577\n",
      "#assignments:  6862\n",
      "#assignments:  3745\n",
      "#assignments:  3480\n",
      "#assignments:  2320\n",
      "#assignments:  6371\n",
      "#assignments:  6266\n",
      "#assignments:  5532\n",
      "#assignments:  2239\n",
      "#assignments:  2048\n",
      "#assignments:  4561\n",
      "#assignments:  6689\n",
      "#assignments:  3863\n",
      "#assignments:  4099\n"
     ]
    },
    {
     "name": "stderr",
     "output_type": "stream",
     "text": [
      "Epoch 30/45:   0%|          | 0/274 [00:21<?, ?batch/s]"
     ]
    },
    {
     "name": "stdout",
     "output_type": "stream",
     "text": [
      "#assignments best node:  6862\n"
     ]
    },
    {
     "name": "stderr",
     "output_type": "stream",
     "text": [
      "Epoch 30/45: 100%|██████████| 274/274 [01:26<00:00,  3.18batch/s]\n",
      "Epoch 31/45: 100%|██████████| 274/274 [01:04<00:00,  4.27batch/s]\n",
      "  0%|          | 0/274 [00:00<?, ?batch/s]"
     ]
    },
    {
     "name": "stdout",
     "output_type": "stream",
     "text": [
      "#assignments:  4967\n",
      "#assignments:  3740\n",
      "#assignments:  3261\n",
      "#assignments:  3314\n",
      "#assignments:  3551\n",
      "#assignments:  2637\n",
      "#assignments:  4591\n",
      "#assignments:  2204\n",
      "#assignments:  6392\n",
      "#assignments:  6324\n",
      "#assignments:  5494\n",
      "#assignments:  2322\n",
      "#assignments:  2035\n",
      "#assignments:  4443\n",
      "#assignments:  6748\n",
      "#assignments:  3853\n",
      "#assignments:  4124\n"
     ]
    },
    {
     "name": "stderr",
     "output_type": "stream",
     "text": [
      "Epoch 32/45:   0%|          | 0/274 [00:24<?, ?batch/s]"
     ]
    },
    {
     "name": "stdout",
     "output_type": "stream",
     "text": [
      "#assignments best node:  6748\n"
     ]
    },
    {
     "name": "stderr",
     "output_type": "stream",
     "text": [
      "Epoch 32/45: 100%|██████████| 274/274 [01:38<00:00,  2.79batch/s]\n",
      "Epoch 33/45: 100%|██████████| 274/274 [01:04<00:00,  4.25batch/s]\n",
      "  0%|          | 0/274 [00:00<?, ?batch/s]"
     ]
    },
    {
     "name": "stdout",
     "output_type": "stream",
     "text": [
      "#assignments:  4960\n",
      "#assignments:  3594\n",
      "#assignments:  3392\n",
      "#assignments:  3578\n",
      "#assignments:  3278\n",
      "#assignments:  3964\n",
      "#assignments:  3298\n",
      "#assignments:  2276\n",
      "#assignments:  6432\n",
      "#assignments:  6267\n",
      "#assignments:  5486\n",
      "#assignments:  2526\n",
      "#assignments:  1950\n",
      "#assignments:  4425\n",
      "#assignments:  3468\n",
      "#assignments:  3144\n",
      "#assignments:  3935\n",
      "#assignments:  4027\n"
     ]
    },
    {
     "name": "stderr",
     "output_type": "stream",
     "text": [
      "Epoch 34/45:   0%|          | 0/274 [00:24<?, ?batch/s]"
     ]
    },
    {
     "name": "stdout",
     "output_type": "stream",
     "text": [
      "#assignments best node:  6432\n"
     ]
    },
    {
     "name": "stderr",
     "output_type": "stream",
     "text": [
      "Epoch 34/45: 100%|██████████| 274/274 [01:31<00:00,  3.01batch/s]\n",
      "Epoch 35/45: 100%|██████████| 274/274 [01:05<00:00,  4.15batch/s]\n",
      "  0%|          | 0/274 [00:00<?, ?batch/s]"
     ]
    },
    {
     "name": "stdout",
     "output_type": "stream",
     "text": [
      "#assignments:  4925\n",
      "#assignments:  3694\n",
      "#assignments:  3289\n",
      "#assignments:  3775\n",
      "#assignments:  3067\n",
      "#assignments:  2473\n",
      "#assignments:  4788\n",
      "#assignments:  2291\n",
      "#assignments:  3351\n",
      "#assignments:  3054\n",
      "#assignments:  6256\n",
      "#assignments:  5523\n",
      "#assignments:  2485\n",
      "#assignments:  1934\n",
      "#assignments:  4431\n",
      "#assignments:  3725\n",
      "#assignments:  2978\n",
      "#assignments:  3902\n",
      "#assignments:  4059\n"
     ]
    },
    {
     "name": "stderr",
     "output_type": "stream",
     "text": [
      "Epoch 36/45:   0%|          | 0/274 [00:27<?, ?batch/s]"
     ]
    },
    {
     "name": "stdout",
     "output_type": "stream",
     "text": [
      "#assignments best node:  6256\n"
     ]
    },
    {
     "name": "stderr",
     "output_type": "stream",
     "text": [
      "Epoch 36/45: 100%|██████████| 274/274 [01:39<00:00,  2.75batch/s]\n",
      "Epoch 37/45: 100%|██████████| 274/274 [01:00<00:00,  4.56batch/s]\n",
      "Epoch 38/45: 100%|██████████| 274/274 [01:04<00:00,  4.22batch/s]\n",
      "Epoch 39/45: 100%|██████████| 274/274 [01:05<00:00,  4.17batch/s]\n",
      "Epoch 40/45: 100%|██████████| 274/274 [00:57<00:00,  4.76batch/s]\n",
      "Epoch 41/45: 100%|██████████| 274/274 [01:05<00:00,  4.15batch/s]\n",
      "Epoch 42/45: 100%|██████████| 274/274 [01:07<00:00,  4.05batch/s]\n",
      "Epoch 43/45: 100%|██████████| 274/274 [00:57<00:00,  4.76batch/s]\n",
      "Epoch 44/45: 100%|██████████| 274/274 [01:04<00:00,  4.24batch/s]\n",
      "Predict: 100%|██████████| 274/274 [00:05<00:00, 45.71it/s]\n"
     ]
    }
   ],
   "source": [
    "dataset, labels = load_mnist(return_X_y=True)\n",
    "dipect_test_s4 = DipECT(use_pvalue=False, grow_interval=2, max_epochs=45, unimodal_treshhold=1.0, random_state=np.random.RandomState(15), autoencoder_param_path=\"practical/DeepClustering/DipECT/pretrained_AE_MNIST_seed15.pth\")\n",
    "dipect_test_s4 = dipect_test_s4.fit_predict(dataset/255)"
   ]
  },
  {
   "cell_type": "code",
   "execution_count": 5,
   "metadata": {},
   "outputs": [
    {
     "name": "stdout",
     "output_type": "stream",
     "text": [
      "0.8385857142857143\n",
      "0.8439194274215269\n"
     ]
    }
   ],
   "source": [
    "print(dipect_test_s4.tree_.flat_accuracy(labels, 10))\n",
    "print(dipect_test_s4.tree_.flat_nmi(labels, 10))"
   ]
  },
  {
   "cell_type": "code",
   "execution_count": 7,
   "metadata": {},
   "outputs": [
    {
     "data": {
      "image/png": "[encoded data removed]",
      "text/plain": [
       "<Figure size 1500x1500 with 1 Axes>"
      ]
     },
     "metadata": {},
     "output_type": "display_data"
    }
   ],
   "source": [
    "build_and_visualize_tree(dipect_test_s4.tree_.root, dipect_test_s4.autoencoder, dataset/255)"
   ]
  }
 ],
 "metadata": {
  "kernelspec": {
   "display_name": "deepClustEnv",
   "language": "python",
   "name": "python3"
  },
  "language_info": {
   "codemirror_mode": {
    "name": "ipython",
    "version": 3
   },
   "file_extension": ".py",
   "mimetype": "text/x-python",
   "name": "python",
   "nbconvert_exporter": "python",
   "pygments_lexer": "ipython3",
   "version": "3.10.12"
  }
 },
 "nbformat": 4,
 "nbformat_minor": 2
}
