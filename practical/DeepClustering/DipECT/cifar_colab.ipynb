{
  "nbformat": 4,
  "nbformat_minor": 0,
  "metadata": {
    "colab": {
      "provenance": [],
      "gpuType": "T4"
    },
    "kernelspec": {
      "name": "python3",
      "display_name": "Python 3"
    },
    "language_info": {
      "name": "python"
    },
    "accelerator": "GPU"
  },
  "cells": [
    {
      "cell_type": "code",
      "execution_count": 1,
      "metadata": {
        "colab": {
          "base_uri": "https://localhost:8080/"
        },
        "id": "zSEOj3hQfkPs",
        "outputId": "1a10e62c-91bf-44f2-e243-96afaa5641f0"
      },
      "outputs": [
        {
          "output_type": "stream",
          "name": "stdout",
          "text": [
            "Cloning into 'LMU_Master_Practical_SoSe24'...\n",
            "remote: Enumerating objects: 4472, done.\u001b[K\n",
            "remote: Counting objects: 100% (345/345), done.\u001b[K\n",
            "remote: Compressing objects: 100% (167/167), done.\u001b[K\n",
            "remote: Total 4472 (delta 217), reused 289 (delta 177), pack-reused 4127\u001b[K\n",
            "Receiving objects: 100% (4472/4472), 1.23 GiB | 26.90 MiB/s, done.\n",
            "Resolving deltas: 100% (2571/2571), done.\n"
          ]
        }
      ],
      "source": [
        "!git clone \"https://github.com/julianSchilcher/LMU_Master_Practical_SoSe24\""
      ]
    },
    {
      "cell_type": "markdown",
      "source": [],
      "metadata": {
        "id": "r5_IpQjMzIK1"
      }
    },
    {
      "cell_type": "code",
      "source": [
        "pip install \"clustpy[full] @ git+https://github.com/collinleiber/ClustPy.git\""
      ],
      "metadata": {
        "colab": {
          "base_uri": "https://localhost:8080/"
        },
        "id": "T-16HKoxf5o9",
        "outputId": "9bb611a5-9c8d-427c-87eb-fd38bf0c5374"
      },
      "execution_count": 2,
      "outputs": [
        {
          "output_type": "stream",
          "name": "stdout",
          "text": [
            "Collecting clustpy[full]@ git+https://github.com/collinleiber/ClustPy.git\n",
            "  Cloning https://github.com/collinleiber/ClustPy.git to /tmp/pip-install-wo6ope9d/clustpy_b3949410891a42f2a764437a2a5d6dfe\n",
            "  Running command git clone --filter=blob:none --quiet https://github.com/collinleiber/ClustPy.git /tmp/pip-install-wo6ope9d/clustpy_b3949410891a42f2a764437a2a5d6dfe\n",
            "  Resolved https://github.com/collinleiber/ClustPy.git to commit a7cff996b4838e74634d4ebddf00744997a8ecc9\n",
            "  Installing build dependencies ... \u001b[?25l\u001b[?25hdone\n",
            "  Getting requirements to build wheel ... \u001b[?25l\u001b[?25hdone\n",
            "  Preparing metadata (pyproject.toml) ... \u001b[?25l\u001b[?25hdone\n",
            "Requirement already satisfied: numpy in /usr/local/lib/python3.10/dist-packages (from clustpy[full]@ git+https://github.com/collinleiber/ClustPy.git) (1.25.2)\n",
            "Requirement already satisfied: scipy in /usr/local/lib/python3.10/dist-packages (from clustpy[full]@ git+https://github.com/collinleiber/ClustPy.git) (1.11.4)\n",
            "Requirement already satisfied: scikit-learn in /usr/local/lib/python3.10/dist-packages (from clustpy[full]@ git+https://github.com/collinleiber/ClustPy.git) (1.2.2)\n",
            "Requirement already satisfied: matplotlib in /usr/local/lib/python3.10/dist-packages (from clustpy[full]@ git+https://github.com/collinleiber/ClustPy.git) (3.7.1)\n",
            "Requirement already satisfied: torch in /usr/local/lib/python3.10/dist-packages (from clustpy[full]@ git+https://github.com/collinleiber/ClustPy.git) (2.3.0+cu121)\n",
            "Requirement already satisfied: pandas in /usr/local/lib/python3.10/dist-packages (from clustpy[full]@ git+https://github.com/collinleiber/ClustPy.git) (2.0.3)\n",
            "Requirement already satisfied: torchvision in /usr/local/lib/python3.10/dist-packages (from clustpy[full]@ git+https://github.com/collinleiber/ClustPy.git) (0.18.0+cu121)\n",
            "Requirement already satisfied: Pillow in /usr/local/lib/python3.10/dist-packages (from clustpy[full]@ git+https://github.com/collinleiber/ClustPy.git) (9.4.0)\n",
            "Requirement already satisfied: nltk in /usr/local/lib/python3.10/dist-packages (from clustpy[full]@ git+https://github.com/collinleiber/ClustPy.git) (3.8.1)\n",
            "Requirement already satisfied: xlrd in /usr/local/lib/python3.10/dist-packages (from clustpy[full]@ git+https://github.com/collinleiber/ClustPy.git) (2.0.1)\n",
            "Requirement already satisfied: opencv-python in /usr/local/lib/python3.10/dist-packages (from clustpy[full]@ git+https://github.com/collinleiber/ClustPy.git) (4.8.0.76)\n",
            "Requirement already satisfied: requests in /usr/local/lib/python3.10/dist-packages (from clustpy[full]@ git+https://github.com/collinleiber/ClustPy.git) (2.31.0)\n",
            "Requirement already satisfied: contourpy>=1.0.1 in /usr/local/lib/python3.10/dist-packages (from matplotlib->clustpy[full]@ git+https://github.com/collinleiber/ClustPy.git) (1.2.1)\n",
            "Requirement already satisfied: cycler>=0.10 in /usr/local/lib/python3.10/dist-packages (from matplotlib->clustpy[full]@ git+https://github.com/collinleiber/ClustPy.git) (0.12.1)\n",
            "Requirement already satisfied: fonttools>=4.22.0 in /usr/local/lib/python3.10/dist-packages (from matplotlib->clustpy[full]@ git+https://github.com/collinleiber/ClustPy.git) (4.53.1)\n",
            "Requirement already satisfied: kiwisolver>=1.0.1 in /usr/local/lib/python3.10/dist-packages (from matplotlib->clustpy[full]@ git+https://github.com/collinleiber/ClustPy.git) (1.4.5)\n",
            "Requirement already satisfied: packaging>=20.0 in /usr/local/lib/python3.10/dist-packages (from matplotlib->clustpy[full]@ git+https://github.com/collinleiber/ClustPy.git) (24.1)\n",
            "Requirement already satisfied: pyparsing>=2.3.1 in /usr/local/lib/python3.10/dist-packages (from matplotlib->clustpy[full]@ git+https://github.com/collinleiber/ClustPy.git) (3.1.2)\n",
            "Requirement already satisfied: python-dateutil>=2.7 in /usr/local/lib/python3.10/dist-packages (from matplotlib->clustpy[full]@ git+https://github.com/collinleiber/ClustPy.git) (2.8.2)\n",
            "Requirement already satisfied: click in /usr/local/lib/python3.10/dist-packages (from nltk->clustpy[full]@ git+https://github.com/collinleiber/ClustPy.git) (8.1.7)\n",
            "Requirement already satisfied: joblib in /usr/local/lib/python3.10/dist-packages (from nltk->clustpy[full]@ git+https://github.com/collinleiber/ClustPy.git) (1.4.2)\n",
            "Requirement already satisfied: regex>=2021.8.3 in /usr/local/lib/python3.10/dist-packages (from nltk->clustpy[full]@ git+https://github.com/collinleiber/ClustPy.git) (2024.5.15)\n",
            "Requirement already satisfied: tqdm in /usr/local/lib/python3.10/dist-packages (from nltk->clustpy[full]@ git+https://github.com/collinleiber/ClustPy.git) (4.66.4)\n",
            "Requirement already satisfied: pytz>=2020.1 in /usr/local/lib/python3.10/dist-packages (from pandas->clustpy[full]@ git+https://github.com/collinleiber/ClustPy.git) (2023.4)\n",
            "Requirement already satisfied: tzdata>=2022.1 in /usr/local/lib/python3.10/dist-packages (from pandas->clustpy[full]@ git+https://github.com/collinleiber/ClustPy.git) (2024.1)\n",
            "Requirement already satisfied: charset-normalizer<4,>=2 in /usr/local/lib/python3.10/dist-packages (from requests->clustpy[full]@ git+https://github.com/collinleiber/ClustPy.git) (3.3.2)\n",
            "Requirement already satisfied: idna<4,>=2.5 in /usr/local/lib/python3.10/dist-packages (from requests->clustpy[full]@ git+https://github.com/collinleiber/ClustPy.git) (3.7)\n",
            "Requirement already satisfied: urllib3<3,>=1.21.1 in /usr/local/lib/python3.10/dist-packages (from requests->clustpy[full]@ git+https://github.com/collinleiber/ClustPy.git) (2.0.7)\n",
            "Requirement already satisfied: certifi>=2017.4.17 in /usr/local/lib/python3.10/dist-packages (from requests->clustpy[full]@ git+https://github.com/collinleiber/ClustPy.git) (2024.7.4)\n",
            "Requirement already satisfied: threadpoolctl>=2.0.0 in /usr/local/lib/python3.10/dist-packages (from scikit-learn->clustpy[full]@ git+https://github.com/collinleiber/ClustPy.git) (3.5.0)\n",
            "Requirement already satisfied: filelock in /usr/local/lib/python3.10/dist-packages (from torch->clustpy[full]@ git+https://github.com/collinleiber/ClustPy.git) (3.15.4)\n",
            "Requirement already satisfied: typing-extensions>=4.8.0 in /usr/local/lib/python3.10/dist-packages (from torch->clustpy[full]@ git+https://github.com/collinleiber/ClustPy.git) (4.12.2)\n",
            "Requirement already satisfied: sympy in /usr/local/lib/python3.10/dist-packages (from torch->clustpy[full]@ git+https://github.com/collinleiber/ClustPy.git) (1.13.0)\n",
            "Requirement already satisfied: networkx in /usr/local/lib/python3.10/dist-packages (from torch->clustpy[full]@ git+https://github.com/collinleiber/ClustPy.git) (3.3)\n",
            "Requirement already satisfied: jinja2 in /usr/local/lib/python3.10/dist-packages (from torch->clustpy[full]@ git+https://github.com/collinleiber/ClustPy.git) (3.1.4)\n",
            "Requirement already satisfied: fsspec in /usr/local/lib/python3.10/dist-packages (from torch->clustpy[full]@ git+https://github.com/collinleiber/ClustPy.git) (2023.6.0)\n",
            "Collecting nvidia-cuda-nvrtc-cu12==12.1.105 (from torch->clustpy[full]@ git+https://github.com/collinleiber/ClustPy.git)\n",
            "  Using cached nvidia_cuda_nvrtc_cu12-12.1.105-py3-none-manylinux1_x86_64.whl (23.7 MB)\n",
            "Collecting nvidia-cuda-runtime-cu12==12.1.105 (from torch->clustpy[full]@ git+https://github.com/collinleiber/ClustPy.git)\n",
            "  Using cached nvidia_cuda_runtime_cu12-12.1.105-py3-none-manylinux1_x86_64.whl (823 kB)\n",
            "Collecting nvidia-cuda-cupti-cu12==12.1.105 (from torch->clustpy[full]@ git+https://github.com/collinleiber/ClustPy.git)\n",
            "  Using cached nvidia_cuda_cupti_cu12-12.1.105-py3-none-manylinux1_x86_64.whl (14.1 MB)\n",
            "Collecting nvidia-cudnn-cu12==8.9.2.26 (from torch->clustpy[full]@ git+https://github.com/collinleiber/ClustPy.git)\n",
            "  Using cached nvidia_cudnn_cu12-8.9.2.26-py3-none-manylinux1_x86_64.whl (731.7 MB)\n",
            "Collecting nvidia-cublas-cu12==12.1.3.1 (from torch->clustpy[full]@ git+https://github.com/collinleiber/ClustPy.git)\n",
            "  Using cached nvidia_cublas_cu12-12.1.3.1-py3-none-manylinux1_x86_64.whl (410.6 MB)\n",
            "Collecting nvidia-cufft-cu12==11.0.2.54 (from torch->clustpy[full]@ git+https://github.com/collinleiber/ClustPy.git)\n",
            "  Using cached nvidia_cufft_cu12-11.0.2.54-py3-none-manylinux1_x86_64.whl (121.6 MB)\n",
            "Collecting nvidia-curand-cu12==10.3.2.106 (from torch->clustpy[full]@ git+https://github.com/collinleiber/ClustPy.git)\n",
            "  Using cached nvidia_curand_cu12-10.3.2.106-py3-none-manylinux1_x86_64.whl (56.5 MB)\n",
            "Collecting nvidia-cusolver-cu12==11.4.5.107 (from torch->clustpy[full]@ git+https://github.com/collinleiber/ClustPy.git)\n",
            "  Using cached nvidia_cusolver_cu12-11.4.5.107-py3-none-manylinux1_x86_64.whl (124.2 MB)\n",
            "Collecting nvidia-cusparse-cu12==12.1.0.106 (from torch->clustpy[full]@ git+https://github.com/collinleiber/ClustPy.git)\n",
            "  Using cached nvidia_cusparse_cu12-12.1.0.106-py3-none-manylinux1_x86_64.whl (196.0 MB)\n",
            "Collecting nvidia-nccl-cu12==2.20.5 (from torch->clustpy[full]@ git+https://github.com/collinleiber/ClustPy.git)\n",
            "  Using cached nvidia_nccl_cu12-2.20.5-py3-none-manylinux2014_x86_64.whl (176.2 MB)\n",
            "Collecting nvidia-nvtx-cu12==12.1.105 (from torch->clustpy[full]@ git+https://github.com/collinleiber/ClustPy.git)\n",
            "  Using cached nvidia_nvtx_cu12-12.1.105-py3-none-manylinux1_x86_64.whl (99 kB)\n",
            "Requirement already satisfied: triton==2.3.0 in /usr/local/lib/python3.10/dist-packages (from torch->clustpy[full]@ git+https://github.com/collinleiber/ClustPy.git) (2.3.0)\n",
            "Collecting nvidia-nvjitlink-cu12 (from nvidia-cusolver-cu12==11.4.5.107->torch->clustpy[full]@ git+https://github.com/collinleiber/ClustPy.git)\n",
            "  Downloading nvidia_nvjitlink_cu12-12.5.82-py3-none-manylinux2014_x86_64.whl (21.3 MB)\n",
            "\u001b[2K     \u001b[90m━━━━━━━━━━━━━━━━━━━━━━━━━━━━━━━━━━━━━━━━\u001b[0m \u001b[32m21.3/21.3 MB\u001b[0m \u001b[31m48.8 MB/s\u001b[0m eta \u001b[36m0:00:00\u001b[0m\n",
            "\u001b[?25hRequirement already satisfied: six>=1.5 in /usr/local/lib/python3.10/dist-packages (from python-dateutil>=2.7->matplotlib->clustpy[full]@ git+https://github.com/collinleiber/ClustPy.git) (1.16.0)\n",
            "Requirement already satisfied: MarkupSafe>=2.0 in /usr/local/lib/python3.10/dist-packages (from jinja2->torch->clustpy[full]@ git+https://github.com/collinleiber/ClustPy.git) (2.1.5)\n",
            "Requirement already satisfied: mpmath<1.4,>=1.1.0 in /usr/local/lib/python3.10/dist-packages (from sympy->torch->clustpy[full]@ git+https://github.com/collinleiber/ClustPy.git) (1.3.0)\n",
            "Building wheels for collected packages: clustpy\n",
            "  Building wheel for clustpy (pyproject.toml) ... \u001b[?25l\u001b[?25hdone\n",
            "  Created wheel for clustpy: filename=clustpy-0.0.2-cp310-cp310-linux_x86_64.whl size=2486308 sha256=1b25085f1d70443916c1292e69e0cc89b8438f22106e23c9e1c5123db2737eee\n",
            "  Stored in directory: /tmp/pip-ephem-wheel-cache-kxy_fyzo/wheels/06/fb/2d/81a3957ba8aabf3a3db3007fe17bef2aa94bbe3f52834ad195\n",
            "Successfully built clustpy\n",
            "Installing collected packages: nvidia-nvtx-cu12, nvidia-nvjitlink-cu12, nvidia-nccl-cu12, nvidia-curand-cu12, nvidia-cufft-cu12, nvidia-cuda-runtime-cu12, nvidia-cuda-nvrtc-cu12, nvidia-cuda-cupti-cu12, nvidia-cublas-cu12, nvidia-cusparse-cu12, nvidia-cudnn-cu12, nvidia-cusolver-cu12, clustpy\n",
            "Successfully installed clustpy-0.0.2 nvidia-cublas-cu12-12.1.3.1 nvidia-cuda-cupti-cu12-12.1.105 nvidia-cuda-nvrtc-cu12-12.1.105 nvidia-cuda-runtime-cu12-12.1.105 nvidia-cudnn-cu12-8.9.2.26 nvidia-cufft-cu12-11.0.2.54 nvidia-curand-cu12-10.3.2.106 nvidia-cusolver-cu12-11.4.5.107 nvidia-cusparse-cu12-12.1.0.106 nvidia-nccl-cu12-2.20.5 nvidia-nvjitlink-cu12-12.5.82 nvidia-nvtx-cu12-12.1.105\n"
          ]
        }
      ]
    },
    {
      "cell_type": "code",
      "source": [
        "import sys\n",
        "sys.path.insert(1, \"/content/LMU_Master_Practical_SoSe24/practical\")"
      ],
      "metadata": {
        "id": "b1DQ6VTyf9C8"
      },
      "execution_count": 7,
      "outputs": []
    },
    {
      "cell_type": "code",
      "source": [
        "%env PYTHONPATH=\"$/env/python:/content/LMU_Master_Practical_SoSe24/practical\""
      ],
      "metadata": {
        "colab": {
          "base_uri": "https://localhost:8080/"
        },
        "id": "K-_uesHpg_BU",
        "outputId": "08fd6606-0cba-430d-e7ab-ca08fc0bef17"
      },
      "execution_count": 8,
      "outputs": [
        {
          "output_type": "stream",
          "name": "stdout",
          "text": [
            "env: PYTHONPATH=\"$/env/python:/content/LMU_Master_Practical_SoSe24/practical\"\n"
          ]
        }
      ]
    },
    {
      "cell_type": "code",
      "source": [
        "!echo $PYTHONPATH"
      ],
      "metadata": {
        "colab": {
          "base_uri": "https://localhost:8080/"
        },
        "id": "qT9Ram_Ulqxn",
        "outputId": "0d551fd6-8f01-487a-cf3a-38dd12e0860e"
      },
      "execution_count": 11,
      "outputs": [
        {
          "output_type": "stream",
          "name": "stdout",
          "text": [
            "\"$/env/python:/content/LMU_Master_Practical_SoSe24/practical\"\n"
          ]
        }
      ]
    },
    {
      "cell_type": "code",
      "source": [
        "%cd /content/LMU_Master_Practical_SoSe24/"
      ],
      "metadata": {
        "colab": {
          "base_uri": "https://localhost:8080/"
        },
        "id": "WRFAhAQ5lx39",
        "outputId": "daaa6a37-50e3-4365-862e-e549ebda0d0c"
      },
      "execution_count": 12,
      "outputs": [
        {
          "output_type": "stream",
          "name": "stdout",
          "text": [
            "/content/LMU_Master_Practical_SoSe24\n"
          ]
        }
      ]
    },
    {
      "cell_type": "code",
      "source": [
        "!pip install ray[train]\n",
        "!pip install umap"
      ],
      "metadata": {
        "colab": {
          "base_uri": "https://localhost:8080/"
        },
        "id": "eVz-tQVThOdM",
        "outputId": "dd4e5929-8f4a-4aa7-d15e-dab60a7a8c6c"
      },
      "execution_count": 5,
      "outputs": [
        {
          "output_type": "stream",
          "name": "stdout",
          "text": [
            "Collecting ray[train]\n",
            "  Downloading ray-2.32.0-cp310-cp310-manylinux2014_x86_64.whl (65.7 MB)\n",
            "\u001b[2K     \u001b[90m━━━━━━━━━━━━━━━━━━━━━━━━━━━━━━━━━━━━━━━━\u001b[0m \u001b[32m65.7/65.7 MB\u001b[0m \u001b[31m10.0 MB/s\u001b[0m eta \u001b[36m0:00:00\u001b[0m\n",
            "\u001b[?25hRequirement already satisfied: click>=7.0 in /usr/local/lib/python3.10/dist-packages (from ray[train]) (8.1.7)\n",
            "Requirement already satisfied: filelock in /usr/local/lib/python3.10/dist-packages (from ray[train]) (3.15.4)\n",
            "Requirement already satisfied: jsonschema in /usr/local/lib/python3.10/dist-packages (from ray[train]) (4.19.2)\n",
            "Requirement already satisfied: msgpack<2.0.0,>=1.0.0 in /usr/local/lib/python3.10/dist-packages (from ray[train]) (1.0.8)\n",
            "Requirement already satisfied: packaging in /usr/local/lib/python3.10/dist-packages (from ray[train]) (24.1)\n",
            "Requirement already satisfied: protobuf!=3.19.5,>=3.15.3 in /usr/local/lib/python3.10/dist-packages (from ray[train]) (3.20.3)\n",
            "Requirement already satisfied: pyyaml in /usr/local/lib/python3.10/dist-packages (from ray[train]) (6.0.1)\n",
            "Requirement already satisfied: aiosignal in /usr/local/lib/python3.10/dist-packages (from ray[train]) (1.3.1)\n",
            "Requirement already satisfied: frozenlist in /usr/local/lib/python3.10/dist-packages (from ray[train]) (1.4.1)\n",
            "Requirement already satisfied: requests in /usr/local/lib/python3.10/dist-packages (from ray[train]) (2.31.0)\n",
            "Requirement already satisfied: pandas in /usr/local/lib/python3.10/dist-packages (from ray[train]) (2.0.3)\n",
            "Collecting tensorboardX>=1.9 (from ray[train])\n",
            "  Downloading tensorboardX-2.6.2.2-py2.py3-none-any.whl (101 kB)\n",
            "\u001b[2K     \u001b[90m━━━━━━━━━━━━━━━━━━━━━━━━━━━━━━━━━━━━━━━━\u001b[0m \u001b[32m101.7/101.7 kB\u001b[0m \u001b[31m13.3 MB/s\u001b[0m eta \u001b[36m0:00:00\u001b[0m\n",
            "\u001b[?25hRequirement already satisfied: pyarrow>=6.0.1 in /usr/local/lib/python3.10/dist-packages (from ray[train]) (14.0.2)\n",
            "Requirement already satisfied: fsspec in /usr/local/lib/python3.10/dist-packages (from ray[train]) (2023.6.0)\n",
            "Requirement already satisfied: numpy>=1.16.6 in /usr/local/lib/python3.10/dist-packages (from pyarrow>=6.0.1->ray[train]) (1.25.2)\n",
            "Requirement already satisfied: attrs>=22.2.0 in /usr/local/lib/python3.10/dist-packages (from jsonschema->ray[train]) (23.2.0)\n",
            "Requirement already satisfied: jsonschema-specifications>=2023.03.6 in /usr/local/lib/python3.10/dist-packages (from jsonschema->ray[train]) (2023.12.1)\n",
            "Requirement already satisfied: referencing>=0.28.4 in /usr/local/lib/python3.10/dist-packages (from jsonschema->ray[train]) (0.35.1)\n",
            "Requirement already satisfied: rpds-py>=0.7.1 in /usr/local/lib/python3.10/dist-packages (from jsonschema->ray[train]) (0.19.0)\n",
            "Requirement already satisfied: python-dateutil>=2.8.2 in /usr/local/lib/python3.10/dist-packages (from pandas->ray[train]) (2.8.2)\n",
            "Requirement already satisfied: pytz>=2020.1 in /usr/local/lib/python3.10/dist-packages (from pandas->ray[train]) (2023.4)\n",
            "Requirement already satisfied: tzdata>=2022.1 in /usr/local/lib/python3.10/dist-packages (from pandas->ray[train]) (2024.1)\n",
            "Requirement already satisfied: charset-normalizer<4,>=2 in /usr/local/lib/python3.10/dist-packages (from requests->ray[train]) (3.3.2)\n",
            "Requirement already satisfied: idna<4,>=2.5 in /usr/local/lib/python3.10/dist-packages (from requests->ray[train]) (3.7)\n",
            "Requirement already satisfied: urllib3<3,>=1.21.1 in /usr/local/lib/python3.10/dist-packages (from requests->ray[train]) (2.0.7)\n",
            "Requirement already satisfied: certifi>=2017.4.17 in /usr/local/lib/python3.10/dist-packages (from requests->ray[train]) (2024.7.4)\n",
            "Requirement already satisfied: six>=1.5 in /usr/local/lib/python3.10/dist-packages (from python-dateutil>=2.8.2->pandas->ray[train]) (1.16.0)\n",
            "Installing collected packages: tensorboardX, ray\n",
            "Successfully installed ray-2.32.0 tensorboardX-2.6.2.2\n",
            "Collecting umap\n",
            "  Downloading umap-0.1.1.tar.gz (3.2 kB)\n",
            "  Preparing metadata (setup.py) ... \u001b[?25l\u001b[?25hdone\n",
            "Building wheels for collected packages: umap\n",
            "  Building wheel for umap (setup.py) ... \u001b[?25l\u001b[?25hdone\n",
            "  Created wheel for umap: filename=umap-0.1.1-py3-none-any.whl size=3543 sha256=608ed16a3ed2c159f8908f40b0571888f0bb8499036cb0ad14799cd10149fa6c\n",
            "  Stored in directory: /root/.cache/pip/wheels/15/f1/28/53dcf7a309118ed35d810a5f9cb995217800f3f269ab5771cb\n",
            "Successfully built umap\n",
            "Installing collected packages: umap\n",
            "Successfully installed umap-0.1.1\n"
          ]
        }
      ]
    },
    {
      "cell_type": "code",
      "source": [
        "from clustpy.data.real_torchvision_data import load_cifar10, load_mnist\n",
        "from clustpy.deep.autoencoders.convolutional_autoencoder import ConvolutionalAutoencoder\n",
        "from clustpy.deep.autoencoders.feedforward_autoencoder import FeedforwardAutoencoder\n",
        "import numpy as np\n",
        "from practical.DeepClustering.DipECT.dipect import DipECT\n",
        "import random\n",
        "import matplotlib.pyplot as plt\n",
        "import torch\n",
        "from sklearn.decomposition import PCA"
      ],
      "metadata": {
        "id": "ggqkv_8xfxes"
      },
      "execution_count": 13,
      "outputs": []
    },
    {
      "cell_type": "code",
      "source": [
        "dataset, labels = load_cifar10(return_X_y=True)\n",
        "print(dataset.shape)\n",
        "dataset = dataset.reshape(-1,32,32,3).transpose(0,3,1,2)\n",
        "print(dataset.shape)\n",
        "\n",
        "dataset = dataset / np.max(dataset)\n",
        "autoencoder = ConvolutionalAutoencoder(32, [512, 40])\n",
        "\n",
        "dipect = DipECT(\n",
        "        batch_size=256,\n",
        "        autoencoder=autoencoder,\n",
        "        autoencoder_param_path=\"/content/conv_cifar_400_21.pth\",\n",
        "        random_state=np.random.RandomState(21),\n",
        "        autoencoder_pretrain_n_epochs=400,\n",
        "        logging_active=True,\n",
        "        clustering_n_epochs=2,\n",
        "        clustering_optimizer_params={\"lr\": 1e-4},\n",
        "        early_stopping=False,\n",
        "        loss_weight_function_normalization=-1,\n",
        "        multimodal_loss_application=\"all\",\n",
        "        multimodal_loss_node_criteria_method=\"equal\",  # \"time_of_split\",\n",
        "        multimodal_loss_weight_direction=\"ascending\",\n",
        "        multimodal_loss_weight_function=\"linear\",  # \"linear\",\n",
        "        multimodal_loss_weight=836.5918099811238,\n",
        "        projection_axis_learning=\"all\",\n",
        "        projection_axis_learning_rate=1e-05,\n",
        "        projection_axis_init=\"kmeansk\",\n",
        "        projection_axis_n_init=7,\n",
        "        pruning_factor=1.0,\n",
        "        pruning_strategy=\"epoch_assessment\",\n",
        "        pruning_threshold=dataset.shape[0] // 35,\n",
        "        tree_growth_min_cluster_size=dataset.shape[0] // 35,\n",
        "        reconstruction_loss_weight=737.0094829591326,\n",
        "        refinement_epochs=0,\n",
        "        tree_growth_amount=5,\n",
        "        tree_growth_frequency=2.0,\n",
        "        tree_growth_unimodality_treshold=0.975,\n",
        "        tree_growth_upper_bound_leaf_nodes=100,\n",
        "        tree_growth_use_unimodality_pvalue=True,\n",
        "        unimodal_loss_application=\"leaf_nodes\",\n",
        "        unimodal_loss_node_criteria_method=\"equal\",\n",
        "        unimodal_loss_weight=653.6111443720175,\n",
        "        unimodal_loss_weight_direction=\"ascending\",\n",
        "        unimodal_loss_weight_function=\"log\",\n",
        "    )\n",
        "dipect.fit_predict(dataset, labels)"
      ],
      "metadata": {
        "colab": {
          "base_uri": "https://localhost:8080/"
        },
        "id": "Gwt2y5qmhlan",
        "outputId": "1a44a3ec-e027-4d6b-a754-241ca366b557"
      },
      "execution_count": null,
      "outputs": [
        {
          "output_type": "stream",
          "name": "stdout",
          "text": [
            "Downloading https://www.cs.toronto.edu/~kriz/cifar-10-python.tar.gz to /root/Downloads/clustpy_datafiles/cifar-10-python.tar.gz\n"
          ]
        },
        {
          "output_type": "stream",
          "name": "stderr",
          "text": [
            "100%|██████████| 170498071/170498071 [00:03<00:00, 48981486.63it/s]\n"
          ]
        },
        {
          "output_type": "stream",
          "name": "stdout",
          "text": [
            "Extracting /root/Downloads/clustpy_datafiles/cifar-10-python.tar.gz to /root/Downloads/clustpy_datafiles\n",
            "Files already downloaded and verified\n",
            "(60000, 3072)\n",
            "(60000, 3, 32, 32)\n",
            "cuda:0 was automatically chosen as device for the computation.\n",
            "Neural network is not fitted yet, will be pretrained.\n"
          ]
        },
        {
          "output_type": "stream",
          "name": "stderr",
          "text": [
            "/usr/local/lib/python3.10/dist-packages/torch/nn/modules/conv.py:456: UserWarning: Plan failed with a cudnnException: CUDNN_BACKEND_EXECUTION_PLAN_DESCRIPTOR: cudnnFinalize Descriptor Failed cudnn_status: CUDNN_STATUS_NOT_SUPPORTED (Triggered internally at ../aten/src/ATen/native/cudnn/Conv_v8.cpp:919.)\n",
            "  return F.conv2d(input, weight, bias, self.stride,\n",
            "/usr/local/lib/python3.10/dist-packages/torch/autograd/graph.py:744: UserWarning: Plan failed with a cudnnException: CUDNN_BACKEND_EXECUTION_PLAN_DESCRIPTOR: cudnnFinalize Descriptor Failed cudnn_status: CUDNN_STATUS_NOT_SUPPORTED (Triggered internally at ../aten/src/ATen/native/cudnn/Conv_v8.cpp:919.)\n",
            "  return Variable._execution_engine.run_backward(  # Calls into the C++ engine to run the backward pass\n"
          ]
        }
      ]
    }
  ]
}